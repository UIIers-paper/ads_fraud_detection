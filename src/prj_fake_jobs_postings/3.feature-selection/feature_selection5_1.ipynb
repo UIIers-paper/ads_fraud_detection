{
 "cells": [
  {
   "cell_type": "code",
   "execution_count": 5,
   "id": "11ce7667",
   "metadata": {},
   "outputs": [
    {
     "name": "stdout",
     "output_type": "stream",
     "text": [
      "c:\\Users\\PC\\Data\\ads_fraud_detection\n"
     ]
    }
   ],
   "source": [
    "import sys,os\n",
    "__script_path=os.path.abspath(globals().get('__file__','.'))\n",
    "__script_dir = os.path.dirname(__script_path)\n",
    "root_dir = os.path.abspath(f'{__script_dir}/../..')\n",
    "print(root_dir)\n",
    "for lib in [root_dir][::-1]:\n",
    "    if lib in sys.path:\n",
    "        sys.path.remove(lib)\n",
    "    sys.path.insert(0,lib)\n",
    "from libs.common import *\n",
    "from config.config import *"
   ]
  },
  {
   "cell_type": "code",
   "execution_count": null,
   "id": "25ee8ed0",
   "metadata": {},
   "outputs": [],
   "source": []
  },
  {
   "cell_type": "markdown",
   "id": "b9dc0d8e",
   "metadata": {},
   "source": [
    "# Lựa chọn đặc trưng"
   ]
  },
  {
   "cell_type": "markdown",
   "id": "3d746872",
   "metadata": {},
   "source": [
    "### (1) Tạo thư mục lưu trữ (nếu chưa có)"
   ]
  },
  {
   "cell_type": "code",
   "execution_count": 6,
   "id": "4a49b98e",
   "metadata": {},
   "outputs": [],
   "source": [
    "save_dir=f\"{exps_dir}/exp_prj_fake_jobs_postings\"\n",
    "\n",
    "os.makedirs(save_dir, exist_ok=True)\n",
    "test_size=0.33\n",
    "seed=42"
   ]
  },
  {
   "cell_type": "code",
   "execution_count": 10,
   "id": "34b55f2f",
   "metadata": {},
   "outputs": [
    {
     "name": "stdout",
     "output_type": "stream",
     "text": [
      "(22318, 1667122) (22318, 1) (5575, 1667122) (0, 1)\n"
     ]
    }
   ],
   "source": [
    "from scipy import sparse\n",
    "x_train= sparse.load_npz(f'{save_dir}/x_train.npz')\n",
    "y_train=pd.read_csv(f'{save_dir}/y_train.csv')\n",
    "x_test= sparse.load_npz(f'{save_dir}/x_test.npz')\n",
    "y_test=pd.read_clipboard(f'{save_dir}/y_test.csv')\n",
    "print(x_train.shape, y_train.shape, x_test.shape, y_test.shape)"
   ]
  },
  {
   "cell_type": "markdown",
   "id": "c7908582",
   "metadata": {},
   "source": [
    "### (2) Lựa chọn các đặc trưng"
   ]
  },
  {
   "cell_type": "code",
   "execution_count": 11,
   "id": "19df0c86",
   "metadata": {},
   "outputs": [
    {
     "data": {
      "text/plain": [
       "<22318x1667122 sparse matrix of type '<class 'numpy.int64'>'\n",
       "\twith 10386286 stored elements in Compressed Sparse Row format>"
      ]
     },
     "execution_count": 11,
     "metadata": {},
     "output_type": "execute_result"
    }
   ],
   "source": [
    "x_train"
   ]
  },
  {
   "cell_type": "code",
   "execution_count": 12,
   "id": "b46e9a3f",
   "metadata": {},
   "outputs": [],
   "source": [
    "def modelcheck_info(model,name):\n",
    "    print(name)\n",
    "    try:\n",
    "        coefficients = model.coef_.flatten()\n",
    "    except:\n",
    "        coefficients = model.feature_importances_.flatten()\n",
    "    feature_importance = pd.DataFrame({\n",
    "        'Feature': x_train.columns,\n",
    "        'Coefficient': coefficients\n",
    "    })\n",
    "\n",
    "    print('bi loai bo',feature_importance[feature_importance['Coefficient'] == 0])\n",
    "    feature_importance = feature_importance[feature_importance['Coefficient'] != 0]\n",
    "    feature_importance['Absolute Coefficient'] = feature_importance['Coefficient'].abs()\n",
    "    feature_importance.sort_values(by='Absolute Coefficient', ascending=False, inplace=True)\n",
    "\n",
    "    print(\"Xếp hạng các đặc trưng theo mức độ quan trọng:\")\n",
    "    print(feature_importance[['Feature', 'Coefficient']])"
   ]
  },
  {
   "cell_type": "code",
   "execution_count": 13,
   "id": "29f93bea",
   "metadata": {},
   "outputs": [
    {
     "ename": "AttributeError",
     "evalue": "columns not found",
     "output_type": "error",
     "traceback": [
      "\u001b[1;31m---------------------------------------------------------------------------\u001b[0m",
      "\u001b[1;31mAttributeError\u001b[0m                            Traceback (most recent call last)",
      "Cell \u001b[1;32mIn[13], line 11\u001b[0m\n\u001b[0;32m      8\u001b[0m check \u001b[38;5;241m=\u001b[39m model\u001b[38;5;241m.\u001b[39mfit(x_train, y_train)\n\u001b[0;32m      9\u001b[0m selector \u001b[38;5;241m=\u001b[39m SelectFromModel(check, prefit\u001b[38;5;241m=\u001b[39m\u001b[38;5;28;01mTrue\u001b[39;00m)\n\u001b[1;32m---> 11\u001b[0m selected_features \u001b[38;5;241m=\u001b[39m \u001b[43mx_train\u001b[49m\u001b[38;5;241;43m.\u001b[39;49m\u001b[43mcolumns\u001b[49m[(selector\u001b[38;5;241m.\u001b[39mget_support())]\n\u001b[0;32m     12\u001b[0m modelcheck_info(model,name)\n\u001b[0;32m     13\u001b[0m \u001b[38;5;28mprint\u001b[39m(\u001b[38;5;124m\"\u001b[39m\u001b[38;5;124mCác đặc trưng được chọn:\u001b[39m\u001b[38;5;124m\"\u001b[39m)\n",
      "File \u001b[1;32mc:\\Users\\PC\\Data\\ads_fraud_detection\\.conda\\lib\\site-packages\\scipy\\sparse\\_base.py:771\u001b[0m, in \u001b[0;36mspmatrix.__getattr__\u001b[1;34m(self, attr)\u001b[0m\n\u001b[0;32m    769\u001b[0m     \u001b[38;5;28;01mreturn\u001b[39;00m \u001b[38;5;28mself\u001b[39m\u001b[38;5;241m.\u001b[39mgetnnz()\n\u001b[0;32m    770\u001b[0m \u001b[38;5;28;01melse\u001b[39;00m:\n\u001b[1;32m--> 771\u001b[0m     \u001b[38;5;28;01mraise\u001b[39;00m \u001b[38;5;167;01mAttributeError\u001b[39;00m(attr \u001b[38;5;241m+\u001b[39m \u001b[38;5;124m\"\u001b[39m\u001b[38;5;124m not found\u001b[39m\u001b[38;5;124m\"\u001b[39m)\n",
      "\u001b[1;31mAttributeError\u001b[0m: columns not found"
     ]
    }
   ],
   "source": [
    "models=[]\n",
    "models.append(LogisticRegression())\n",
    "models.append(LinearDiscriminantAnalysis())\n",
    "models.append(DecisionTreeClassifier())\n",
    "names=['LR','LDA','DTC']\n",
    "feature_SelectFromModel={}\n",
    "for model,name in zip(models,names):\n",
    "    check = model.fit(x_train, y_train)\n",
    "    selector = SelectFromModel(check, prefit=True)\n",
    "\n",
    "    selected_features = x_train.columns[(selector.get_support())]\n",
    "    modelcheck_info(model,name)\n",
    "    print(\"Các đặc trưng được chọn:\")\n",
    "    feature_SelectFromModel[name]=list(selected_features)\n",
    "    print(selected_features)"
   ]
  },
  {
   "cell_type": "markdown",
   "id": "e7adb1de",
   "metadata": {},
   "source": [
    "### Giải thích:\n",
    "\n",
    "Phương pháp **SelectFromModel** từ thư viện sklearn.feature_selection. Phương pháp này hoạt động bằng cách sử dụng một mô hình học máy để đánh giá độ quan trọng của từng đặc trưng và sau đó chọn những đặc trưng quan trọng nhất.\n",
    "\n",
    "   Các model được dùng trong phương pháp này:\n",
    "   * **'LR'**: LogisticRegression\n",
    "   * **'LDA'**: LinearDiscriminantAnalysis\n",
    "   * **'DTC'**: DecisionTreeClassifier\n",
    "  \n",
    "       #### 1. LogisticRegression:\n",
    "       Các đặc trưng được chọn:\n",
    "* Index(['age', 'policy_csl', 'insured_education_level', 'insured_occupation',\n",
    "       'incident_severity', 'incident_state', 'incident_city',\n",
    "       'incident_hour_of_the_day', 'property_damage', 'witnesses',\n",
    "       'property_claim', 'vehicle_claim', 'auto_make'],\n",
    "      dtype='object')\n",
    "      \n",
    "   #### 2. LinearDiscriminantAnalysis:\n",
    "   Các đặc trưng được chọn:\n",
    "* Index(['policy_number', 'policy_annual_premium', 'insured_zip', 'insured_sex',\n",
    "       'incident_severity', 'incident_hour_of_the_day', 'property_damage',\n",
    "       'total_claim_amount', 'injury_claim', 'property_claim',\n",
    "       'vehicle_claim'],\n",
    "      dtype='object')\n",
    "      \n",
    "   #### 3. DecisionTreeClassifier:\n",
    "   Các đặc trưng được chọn:\n",
    "* Index(['policy_number', 'policy_annual_premium', 'insured_zip',\n",
    "       'insured_occupation', 'insured_hobbies', 'incident_severity',\n",
    "       'incident_location', 'police_report_available', 'total_claim_amount',\n",
    "       'injury_claim', 'month_policy_bind_date', 'day_incident_date'],\n",
    "      dtype='object')"
   ]
  },
  {
   "cell_type": "code",
   "execution_count": null,
   "id": "dda50a90",
   "metadata": {},
   "outputs": [],
   "source": [
    "def feature_selection_inRFE(model,name):\n",
    "    rfe=RFE(estimator=model, n_features_to_select=10)\n",
    "    fit=rfe.fit(x_train, y_train)\n",
    "#     print(\"Num Features: %d\"% fit.n_features_)\n",
    "#     print(\"Selected Features: %s\" % fit.support_)\n",
    "#     print(\"Features Ranking: %s\" %fit.ranking_)\n",
    "#     for index, value in enumerate(fit.ranking_):\n",
    "#         print(f\"{value}: {x_train.columns[index]}\")\n",
    "    sorted_columns = [x for _, x in sorted(zip(fit.ranking_, x_train.columns))]\n",
    "    sort=sorted(fit.ranking_)\n",
    "\n",
    "#     for i,j in zip(sort,sorted_columns):\n",
    "#         print(\"Columns sorted by RFE ranking\",i,\":\",j)\n",
    "\n",
    "    return [j for i,j in zip(sort,sorted_columns) if i==1]"
   ]
  },
  {
   "cell_type": "code",
   "execution_count": null,
   "id": "b7f0d4d2",
   "metadata": {},
   "outputs": [
    {
     "name": "stdout",
     "output_type": "stream",
     "text": [
      "RFE\n",
      "Kiểm tra mô hình LR\n",
      "['Age', 'AgeOfPolicyHolder', 'AgentType', 'BasePolicy', 'Fault', 'MaritalStatus', 'PoliceReportFiled', 'PolicyType', 'VehicleCategory', 'WitnessPresent']\n",
      "RFE\n",
      "Kiểm tra mô hình LDA\n",
      "['AccidentArea', 'Age', 'AgeOfPolicyHolder', 'BasePolicy', 'Days_Policy_Claim', 'Fault', 'MaritalStatus', 'NumberOfCars', 'PoliceReportFiled', 'VehicleCategory']\n",
      "RFE\n",
      "Kiểm tra mô hình DTC\n",
      "['Age', 'AgeOfVehicle', 'BasePolicy', 'Fault', 'Make', 'PastNumberOfClaims', 'PolicyNumber', 'RepNumber', 'week_claimed', 'week_incident']\n",
      "RFE\n",
      "Kiểm tra mô hình RD\n",
      "['Age', 'AgeOfVehicle', 'BasePolicy', 'Fault', 'Make', 'PolicyNumber', 'PolicyType', 'VehicleCategory', 'week_claimed', 'week_incident']\n"
     ]
    }
   ],
   "source": [
    "models = [\n",
    "    LogisticRegression(),\n",
    "    LinearDiscriminantAnalysis(),\n",
    "    DecisionTreeClassifier(),\n",
    "    RandomForestClassifier(),\n",
    "    LGBMClassifier(),  \n",
    "    XGBClassifier(use_label_encoder=False)  \n",
    "]\n",
    "feature_RFE={}\n",
    "\n",
    "names = ['LR', 'LDA', 'DTC', 'RD', 'LGBM', 'XGB']\n",
    "for model,name in zip(models,names):\n",
    "    print(\"RFE\")\n",
    "    print(f\"Kiểm tra mô hình {name}\")\n",
    "    model.fit(x_train,y_train)\n",
    "    print(feature_selection_inRFE(model,name))\n",
    "    feature_RFE[name]=feature_selection_inRFE(model,name)"
   ]
  },
  {
   "cell_type": "markdown",
   "id": "9e7d0e19",
   "metadata": {},
   "source": [
    "### Giải thích:\n",
    "**Recursive Feature Elimination (RFE)** là một phương pháp trong lựa chọn đặc trưng (feature selection) được sử dụng trong học máy để giảm số lượng đặc trưng của mô hình mà vẫn giữ được hiệu suất tốt.\n",
    "\n",
    "Các model được dùng trong phương pháp này:\n",
    "   * **'LR'**: LogisticRegression\n",
    "   * **'LDA'**: LinearDiscriminantAnalysis\n",
    "   * **'DTC'**: DecisionTreeClassifier\n",
    "   * **'RD'**: RandomForestClassifier"
   ]
  },
  {
   "cell_type": "code",
   "execution_count": null,
   "id": "83b13be1",
   "metadata": {},
   "outputs": [
    {
     "name": "stdout",
     "output_type": "stream",
     "text": [
      "Lua chon dac trung KNC\n",
      "Index(['DayOfWeek', 'AccidentArea', 'WeekOfMonthClaimed', 'MaritalStatus', 'Fault', 'PolicyType', 'VehicleCategory', 'DriverRating', 'AgeOfVehicle', 'AgeOfPolicyHolder', 'BasePolicy'], dtype='object')\n",
      "Lua chon dac trung GNB\n",
      "Index(['DayOfWeek', 'AccidentArea', 'WeekOfMonthClaimed', 'MaritalStatus', 'Fault', 'PolicyType', 'VehicleCategory', 'DriverRating', 'AgeOfVehicle', 'AgeOfPolicyHolder', 'BasePolicy'], dtype='object')\n",
      "Lua chon dac trung NN\n",
      "Index(['DayOfWeek', 'AccidentArea', 'WeekOfMonthClaimed', 'MaritalStatus', 'Fault', 'PolicyType', 'VehicleCategory', 'DriverRating', 'AgeOfVehicle', 'AgeOfPolicyHolder', 'BasePolicy'], dtype='object')\n",
      "Lua chon dac trung BG\n",
      "Index(['DayOfWeek', 'AccidentArea', 'WeekOfMonthClaimed', 'MaritalStatus', 'Fault', 'PolicyType', 'VehicleCategory', 'DriverRating', 'AgeOfVehicle', 'AgeOfPolicyHolder', 'BasePolicy'], dtype='object')\n",
      "Lua chon dac trung NB\n",
      "Index(['DayOfWeek', 'AccidentArea', 'WeekOfMonthClaimed', 'MaritalStatus', 'Fault', 'PolicyType', 'VehicleCategory', 'DriverRating', 'AgeOfVehicle', 'AgeOfPolicyHolder', 'BasePolicy'], dtype='object')\n",
      "Lua chon dac trung SVM\n",
      "Index(['DayOfWeek', 'AccidentArea', 'WeekOfMonthClaimed', 'MaritalStatus', 'Fault', 'PolicyType', 'VehicleCategory', 'DriverRating', 'AgeOfVehicle', 'AgeOfPolicyHolder', 'BasePolicy'], dtype='object')\n"
     ]
    }
   ],
   "source": [
    "special_models=[KNeighborsClassifier(),GaussianNB(),MLPClassifier(),GradientBoostingClassifier(),MultinomialNB(),SVC()]\n",
    "names=['KNC','GNB','NN','BG','NB','SVM']\n",
    "def feature_selection_inKBest(model, name):\n",
    "    k_best = SelectKBest(score_func=f_classif, k=11)\n",
    "    fit = k_best.fit(x_train, y_train)\n",
    "    selected_features = fit.get_support()\n",
    "    selected_column_names = x_train.columns[selected_features]\n",
    "    return selected_column_names\n",
    "feature_Kbest={}\n",
    "for model,name in zip(special_models,names):\n",
    "    print(f'Lua chon dac trung {name}')\n",
    "    print(feature_selection_inKBest(model, name))\n",
    "    feature_Kbest[name]=list(feature_selection_inKBest(model, name))"
   ]
  },
  {
   "cell_type": "markdown",
   "id": "b9c6144e",
   "metadata": {},
   "source": [
    "### Giải thích:\n",
    "Phương pháp **SelectKBest** từ thư viện sklearn.feature_selection để lựa chọn đặc trưng dựa trên kỹ thuật kiểm định thống kê.\n",
    " \n",
    "Các model được dùng trong phương pháp này:\n",
    "   * **'KNC'**: KNeighborsClassifier\n",
    "   * **'GNB'**: GaussianNB\n",
    "   * **'NN'**: MLPClassifier\n",
    "   * **'BG'**: GradientBoostingClassifier\n",
    "   * **'NB'**: MultinomialNB\n",
    "   * **'SVM'**: SVC"
   ]
  },
  {
   "cell_type": "code",
   "execution_count": null,
   "id": "c7b62651",
   "metadata": {},
   "outputs": [
    {
     "name": "stdout",
     "output_type": "stream",
     "text": [
      "{'KNC': ['DayOfWeek', 'AccidentArea', 'WeekOfMonthClaimed', 'MaritalStatus', 'Fault', 'PolicyType', 'VehicleCategory', 'DriverRating', 'AgeOfVehicle', 'AgeOfPolicyHolder', 'BasePolicy'], 'GNB': ['DayOfWeek', 'AccidentArea', 'WeekOfMonthClaimed', 'MaritalStatus', 'Fault', 'PolicyType', 'VehicleCategory', 'DriverRating', 'AgeOfVehicle', 'AgeOfPolicyHolder', 'BasePolicy'], 'NN': ['DayOfWeek', 'AccidentArea', 'WeekOfMonthClaimed', 'MaritalStatus', 'Fault', 'PolicyType', 'VehicleCategory', 'DriverRating', 'AgeOfVehicle', 'AgeOfPolicyHolder', 'BasePolicy'], 'BG': ['DayOfWeek', 'AccidentArea', 'WeekOfMonthClaimed', 'MaritalStatus', 'Fault', 'PolicyType', 'VehicleCategory', 'DriverRating', 'AgeOfVehicle', 'AgeOfPolicyHolder', 'BasePolicy'], 'NB': ['DayOfWeek', 'AccidentArea', 'WeekOfMonthClaimed', 'MaritalStatus', 'Fault', 'PolicyType', 'VehicleCategory', 'DriverRating', 'AgeOfVehicle', 'AgeOfPolicyHolder', 'BasePolicy'], 'SVM': ['DayOfWeek', 'AccidentArea', 'WeekOfMonthClaimed', 'MaritalStatus', 'Fault', 'PolicyType', 'VehicleCategory', 'DriverRating', 'AgeOfVehicle', 'AgeOfPolicyHolder', 'BasePolicy']}\n",
      "{'LR': ['AccidentArea', 'MaritalStatus', 'Fault', 'PolicyType', 'VehicleCategory', 'PolicyNumber', 'DriverRating', 'Days_Policy_Accident', 'Days_Policy_Claim', 'PastNumberOfClaims', 'AddressChange_Claim', 'BasePolicy'], 'LDA': ['MaritalStatus', 'Age', 'Fault', 'VehicleCategory', 'AgeOfPolicyHolder', 'PoliceReportFiled', 'Year', 'BasePolicy'], 'DTC': ['Make', 'Age', 'Fault', 'PolicyNumber', 'AgeOfVehicle', 'BasePolicy', 'week_claimed', 'week_incident']}\n",
      "{'LR': ['Age', 'AgeOfPolicyHolder', 'AgentType', 'BasePolicy', 'Fault', 'MaritalStatus', 'PoliceReportFiled', 'PolicyType', 'VehicleCategory', 'WitnessPresent'], 'LDA': ['AccidentArea', 'Age', 'AgeOfPolicyHolder', 'BasePolicy', 'Days_Policy_Claim', 'Fault', 'MaritalStatus', 'NumberOfCars', 'PoliceReportFiled', 'VehicleCategory'], 'DTC': ['Age', 'AgeOfVehicle', 'BasePolicy', 'Fault', 'Make', 'PastNumberOfClaims', 'PolicyNumber', 'RepNumber', 'week_claimed', 'week_incident'], 'RD': ['Age', 'AgeOfVehicle', 'BasePolicy', 'Fault', 'Make', 'PolicyNumber', 'PolicyType', 'VehicleCategory', 'week_claimed', 'week_incident']}\n"
     ]
    }
   ],
   "source": [
    "print(feature_Kbest)\n",
    "print(feature_SelectFromModel)\n",
    "print(feature_RFE)"
   ]
  },
  {
   "cell_type": "code",
   "execution_count": null,
   "id": "e5278dcb",
   "metadata": {},
   "outputs": [
    {
     "data": {
      "text/plain": [
       "{'LR': ['Age',\n",
       "  'AgeOfPolicyHolder',\n",
       "  'AgentType',\n",
       "  'BasePolicy',\n",
       "  'Fault',\n",
       "  'MaritalStatus',\n",
       "  'PoliceReportFiled',\n",
       "  'PolicyType',\n",
       "  'VehicleCategory',\n",
       "  'WitnessPresent'],\n",
       " 'LDA': ['AccidentArea',\n",
       "  'Age',\n",
       "  'AgeOfPolicyHolder',\n",
       "  'BasePolicy',\n",
       "  'Days_Policy_Claim',\n",
       "  'Fault',\n",
       "  'MaritalStatus',\n",
       "  'NumberOfCars',\n",
       "  'PoliceReportFiled',\n",
       "  'VehicleCategory'],\n",
       " 'DTC': ['Age',\n",
       "  'AgeOfVehicle',\n",
       "  'BasePolicy',\n",
       "  'Fault',\n",
       "  'Make',\n",
       "  'PastNumberOfClaims',\n",
       "  'PolicyNumber',\n",
       "  'RepNumber',\n",
       "  'week_claimed',\n",
       "  'week_incident'],\n",
       " 'RD': ['Age',\n",
       "  'AgeOfVehicle',\n",
       "  'BasePolicy',\n",
       "  'Fault',\n",
       "  'Make',\n",
       "  'PolicyNumber',\n",
       "  'PolicyType',\n",
       "  'VehicleCategory',\n",
       "  'week_claimed',\n",
       "  'week_incident'],\n",
       " 'KNC': ['DayOfWeek',\n",
       "  'AccidentArea',\n",
       "  'WeekOfMonthClaimed',\n",
       "  'MaritalStatus',\n",
       "  'Fault',\n",
       "  'PolicyType',\n",
       "  'VehicleCategory',\n",
       "  'DriverRating',\n",
       "  'AgeOfVehicle',\n",
       "  'AgeOfPolicyHolder',\n",
       "  'BasePolicy'],\n",
       " 'GNB': ['DayOfWeek',\n",
       "  'AccidentArea',\n",
       "  'WeekOfMonthClaimed',\n",
       "  'MaritalStatus',\n",
       "  'Fault',\n",
       "  'PolicyType',\n",
       "  'VehicleCategory',\n",
       "  'DriverRating',\n",
       "  'AgeOfVehicle',\n",
       "  'AgeOfPolicyHolder',\n",
       "  'BasePolicy'],\n",
       " 'NN': ['DayOfWeek',\n",
       "  'AccidentArea',\n",
       "  'WeekOfMonthClaimed',\n",
       "  'MaritalStatus',\n",
       "  'Fault',\n",
       "  'PolicyType',\n",
       "  'VehicleCategory',\n",
       "  'DriverRating',\n",
       "  'AgeOfVehicle',\n",
       "  'AgeOfPolicyHolder',\n",
       "  'BasePolicy'],\n",
       " 'BG': ['DayOfWeek',\n",
       "  'AccidentArea',\n",
       "  'WeekOfMonthClaimed',\n",
       "  'MaritalStatus',\n",
       "  'Fault',\n",
       "  'PolicyType',\n",
       "  'VehicleCategory',\n",
       "  'DriverRating',\n",
       "  'AgeOfVehicle',\n",
       "  'AgeOfPolicyHolder',\n",
       "  'BasePolicy'],\n",
       " 'NB': ['DayOfWeek',\n",
       "  'AccidentArea',\n",
       "  'WeekOfMonthClaimed',\n",
       "  'MaritalStatus',\n",
       "  'Fault',\n",
       "  'PolicyType',\n",
       "  'VehicleCategory',\n",
       "  'DriverRating',\n",
       "  'AgeOfVehicle',\n",
       "  'AgeOfPolicyHolder',\n",
       "  'BasePolicy'],\n",
       " 'SVM': ['DayOfWeek',\n",
       "  'AccidentArea',\n",
       "  'WeekOfMonthClaimed',\n",
       "  'MaritalStatus',\n",
       "  'Fault',\n",
       "  'PolicyType',\n",
       "  'VehicleCategory',\n",
       "  'DriverRating',\n",
       "  'AgeOfVehicle',\n",
       "  'AgeOfPolicyHolder',\n",
       "  'BasePolicy']}"
      ]
     },
     "execution_count": 11,
     "metadata": {},
     "output_type": "execute_result"
    }
   ],
   "source": [
    "feature_model_selection={**feature_RFE,**feature_Kbest}\n",
    "np.savez(f'{save_dir}/feature_model_selection.npz', feature_model_selection = feature_model_selection)\n",
    "feature_model_selection"
   ]
  },
  {
   "cell_type": "markdown",
   "id": "a15febf4",
   "metadata": {},
   "source": [
    "* gom nhóm thông tin về các đặc trưng được chọn từ hai phương pháp lựa chọn đặc trưng khác nhau (RFE và SelectKBest) vào từ điển **feature_model_selection**."
   ]
  },
  {
   "cell_type": "code",
   "execution_count": null,
   "id": "118fceaa",
   "metadata": {},
   "outputs": [
    {
     "data": {
      "text/plain": [
       "array({'LR': ['Age', 'AgeOfPolicyHolder', 'AgentType', 'BasePolicy', 'Fault', 'MaritalStatus', 'PoliceReportFiled', 'PolicyType', 'VehicleCategory', 'WitnessPresent'], 'LDA': ['AccidentArea', 'Age', 'AgeOfPolicyHolder', 'BasePolicy', 'Days_Policy_Claim', 'Fault', 'MaritalStatus', 'NumberOfCars', 'PoliceReportFiled', 'VehicleCategory'], 'DTC': ['Age', 'AgeOfVehicle', 'BasePolicy', 'Fault', 'Make', 'PastNumberOfClaims', 'PolicyNumber', 'RepNumber', 'week_claimed', 'week_incident'], 'RD': ['Age', 'AgeOfVehicle', 'BasePolicy', 'Fault', 'Make', 'PolicyNumber', 'PolicyType', 'VehicleCategory', 'week_claimed', 'week_incident'], 'KNC': ['DayOfWeek', 'AccidentArea', 'WeekOfMonthClaimed', 'MaritalStatus', 'Fault', 'PolicyType', 'VehicleCategory', 'DriverRating', 'AgeOfVehicle', 'AgeOfPolicyHolder', 'BasePolicy'], 'GNB': ['DayOfWeek', 'AccidentArea', 'WeekOfMonthClaimed', 'MaritalStatus', 'Fault', 'PolicyType', 'VehicleCategory', 'DriverRating', 'AgeOfVehicle', 'AgeOfPolicyHolder', 'BasePolicy'], 'NN': ['DayOfWeek', 'AccidentArea', 'WeekOfMonthClaimed', 'MaritalStatus', 'Fault', 'PolicyType', 'VehicleCategory', 'DriverRating', 'AgeOfVehicle', 'AgeOfPolicyHolder', 'BasePolicy'], 'BG': ['DayOfWeek', 'AccidentArea', 'WeekOfMonthClaimed', 'MaritalStatus', 'Fault', 'PolicyType', 'VehicleCategory', 'DriverRating', 'AgeOfVehicle', 'AgeOfPolicyHolder', 'BasePolicy'], 'NB': ['DayOfWeek', 'AccidentArea', 'WeekOfMonthClaimed', 'MaritalStatus', 'Fault', 'PolicyType', 'VehicleCategory', 'DriverRating', 'AgeOfVehicle', 'AgeOfPolicyHolder', 'BasePolicy'], 'SVM': ['DayOfWeek', 'AccidentArea', 'WeekOfMonthClaimed', 'MaritalStatus', 'Fault', 'PolicyType', 'VehicleCategory', 'DriverRating', 'AgeOfVehicle', 'AgeOfPolicyHolder', 'BasePolicy']},\n",
       "      dtype=object)"
      ]
     },
     "execution_count": 12,
     "metadata": {},
     "output_type": "execute_result"
    }
   ],
   "source": [
    "dict(np.load(f'{save_dir}/feature_model_selection.npz',allow_pickle=True))['feature_model_selection']"
   ]
  },
  {
   "cell_type": "code",
   "execution_count": null,
   "id": "f977a3e9",
   "metadata": {},
   "outputs": [],
   "source": []
  }
 ],
 "metadata": {
  "kernelspec": {
   "display_name": "Python 3 (ipykernel)",
   "language": "python",
   "name": "python3"
  },
  "language_info": {
   "codemirror_mode": {
    "name": "ipython",
    "version": 3
   },
   "file_extension": ".py",
   "mimetype": "text/x-python",
   "name": "python",
   "nbconvert_exporter": "python",
   "pygments_lexer": "ipython3",
   "version": "3.8.19"
  }
 },
 "nbformat": 4,
 "nbformat_minor": 5
}
