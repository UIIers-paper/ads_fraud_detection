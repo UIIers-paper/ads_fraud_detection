{
 "cells": [
  {
   "cell_type": "code",
   "execution_count": 1,
   "id": "54f8344d",
   "metadata": {},
   "outputs": [
    {
     "name": "stdout",
     "output_type": "stream",
     "text": [
      "c:\\Users\\Admin\\Data\\ads_fraud_detection\n"
     ]
    },
    {
     "data": {
      "text/html": [
       "        <script type=\"text/javascript\">\n",
       "        window.PlotlyConfig = {MathJaxConfig: 'local'};\n",
       "        if (window.MathJax && window.MathJax.Hub && window.MathJax.Hub.Config) {window.MathJax.Hub.Config({SVG: {font: \"STIX-Web\"}});}\n",
       "        if (typeof require !== 'undefined') {\n",
       "        require.undef(\"plotly\");\n",
       "        requirejs.config({\n",
       "            paths: {\n",
       "                'plotly': ['https://cdn.plot.ly/plotly-2.35.0.min']\n",
       "            }\n",
       "        });\n",
       "        require(['plotly'], function(Plotly) {\n",
       "            window._Plotly = Plotly;\n",
       "        });\n",
       "        }\n",
       "        </script>\n",
       "        "
      ]
     },
     "metadata": {},
     "output_type": "display_data"
    },
    {
     "data": {
      "text/html": [
       "        <script type=\"text/javascript\">\n",
       "        window.PlotlyConfig = {MathJaxConfig: 'local'};\n",
       "        if (window.MathJax && window.MathJax.Hub && window.MathJax.Hub.Config) {window.MathJax.Hub.Config({SVG: {font: \"STIX-Web\"}});}\n",
       "        if (typeof require !== 'undefined') {\n",
       "        require.undef(\"plotly\");\n",
       "        requirejs.config({\n",
       "            paths: {\n",
       "                'plotly': ['https://cdn.plot.ly/plotly-2.35.0.min']\n",
       "            }\n",
       "        });\n",
       "        require(['plotly'], function(Plotly) {\n",
       "            window._Plotly = Plotly;\n",
       "        });\n",
       "        }\n",
       "        </script>\n",
       "        "
      ]
     },
     "metadata": {},
     "output_type": "display_data"
    },
    {
     "name": "stdout",
     "output_type": "stream",
     "text": [
      "c:/Users/Admin/Data/ads_fraud_detection\n"
     ]
    }
   ],
   "source": [
    "import sys,os\n",
    "__script_path=os.path.abspath(globals().get('__file__','.'))\n",
    "__script_dir = os.path.dirname(__script_path)\n",
    "root_dir = os.path.abspath(f'{__script_dir}/../..')\n",
    "print(root_dir)\n",
    "for lib in [root_dir][::-1]:\n",
    "    if lib in sys.path:\n",
    "        sys.path.remove(lib)\n",
    "    sys.path.insert(0,lib)\n",
    "\n",
    "from libs.common import *\n",
    "from config.config import *"
   ]
  },
  {
   "cell_type": "markdown",
   "id": "88a7ba29",
   "metadata": {},
   "source": [
    "# 3. Tiền xử lí dữ liệu"
   ]
  },
  {
   "cell_type": "code",
   "execution_count": 2,
   "id": "d5973ea8",
   "metadata": {},
   "outputs": [],
   "source": [
    "save_dir=f\"{exps_dir}/exp_prj_fake_jobs_postings\"\n",
    "if os.path.exists(save_dir) == False:\n",
    "  os.makedirs(save_dir, exist_ok=True)\n",
    "\n",
    "test_size=0.33\n",
    "seed=42"
   ]
  },
  {
   "cell_type": "code",
   "execution_count": 3,
   "id": "7fdb47b9",
   "metadata": {},
   "outputs": [
    {
     "data": {
      "text/html": [
       "<div>\n",
       "<style scoped>\n",
       "    .dataframe tbody tr th:only-of-type {\n",
       "        vertical-align: middle;\n",
       "    }\n",
       "\n",
       "    .dataframe tbody tr th {\n",
       "        vertical-align: top;\n",
       "    }\n",
       "\n",
       "    .dataframe thead th {\n",
       "        text-align: right;\n",
       "    }\n",
       "</style>\n",
       "<table border=\"1\" class=\"dataframe\">\n",
       "  <thead>\n",
       "    <tr style=\"text-align: right;\">\n",
       "      <th></th>\n",
       "      <th>job_id</th>\n",
       "      <th>has_company_logo</th>\n",
       "      <th>fraudulent</th>\n",
       "      <th>combined_text</th>\n",
       "    </tr>\n",
       "  </thead>\n",
       "  <tbody>\n",
       "    <tr>\n",
       "      <th>0</th>\n",
       "      <td>9116</td>\n",
       "      <td>1</td>\n",
       "      <td>1</td>\n",
       "      <td>Mobile Developer-Back End  US, CA, San Francis...</td>\n",
       "    </tr>\n",
       "    <tr>\n",
       "      <th>1</th>\n",
       "      <td>2653</td>\n",
       "      <td>1</td>\n",
       "      <td>1</td>\n",
       "      <td>Administrative Assistant US, NC, Charlotte 300...</td>\n",
       "    </tr>\n",
       "    <tr>\n",
       "      <th>2</th>\n",
       "      <td>938</td>\n",
       "      <td>1</td>\n",
       "      <td>1</td>\n",
       "      <td>Health &amp; Environmental Professional US, CA, Ba...</td>\n",
       "    </tr>\n",
       "    <tr>\n",
       "      <th>3</th>\n",
       "      <td>9972</td>\n",
       "      <td>1</td>\n",
       "      <td>1</td>\n",
       "      <td>Director of Engineering HMA Security Products ...</td>\n",
       "    </tr>\n",
       "    <tr>\n",
       "      <th>4</th>\n",
       "      <td>5442</td>\n",
       "      <td>1</td>\n",
       "      <td>1</td>\n",
       "      <td>Easy Money US, FL, Deltona   DMT Instant Rewar...</td>\n",
       "    </tr>\n",
       "    <tr>\n",
       "      <th>...</th>\n",
       "      <td>...</td>\n",
       "      <td>...</td>\n",
       "      <td>...</td>\n",
       "      <td>...</td>\n",
       "    </tr>\n",
       "    <tr>\n",
       "      <th>27869</th>\n",
       "      <td>17873</td>\n",
       "      <td>1</td>\n",
       "      <td>0</td>\n",
       "      <td>Product Manager US, CA, San Francisco   Flite ...</td>\n",
       "    </tr>\n",
       "    <tr>\n",
       "      <th>27870</th>\n",
       "      <td>17874</td>\n",
       "      <td>1</td>\n",
       "      <td>0</td>\n",
       "      <td>Recruiting Coordinator US, NC, Charlotte     R...</td>\n",
       "    </tr>\n",
       "    <tr>\n",
       "      <th>27871</th>\n",
       "      <td>17876</td>\n",
       "      <td>1</td>\n",
       "      <td>0</td>\n",
       "      <td>Account Director - Distribution  CA, ON, Toron...</td>\n",
       "    </tr>\n",
       "    <tr>\n",
       "      <th>27872</th>\n",
       "      <td>17877</td>\n",
       "      <td>1</td>\n",
       "      <td>0</td>\n",
       "      <td>Payroll Accountant US, PA, Philadelphia   WebL...</td>\n",
       "    </tr>\n",
       "    <tr>\n",
       "      <th>27873</th>\n",
       "      <td>17880</td>\n",
       "      <td>1</td>\n",
       "      <td>0</td>\n",
       "      <td>Web Application Developers NZ, N, Wellington  ...</td>\n",
       "    </tr>\n",
       "  </tbody>\n",
       "</table>\n",
       "<p>27874 rows × 4 columns</p>\n",
       "</div>"
      ],
      "text/plain": [
       "       job_id  has_company_logo  fraudulent                                      combined_text\n",
       "0        9116                 1           1  Mobile Developer-Back End  US, CA, San Francis...\n",
       "1        2653                 1           1  Administrative Assistant US, NC, Charlotte 300...\n",
       "2         938                 1           1  Health & Environmental Professional US, CA, Ba...\n",
       "3        9972                 1           1  Director of Engineering HMA Security Products ...\n",
       "4        5442                 1           1  Easy Money US, FL, Deltona   DMT Instant Rewar...\n",
       "...       ...               ...         ...                                                ...\n",
       "27869   17873                 1           0  Product Manager US, CA, San Francisco   Flite ...\n",
       "27870   17874                 1           0  Recruiting Coordinator US, NC, Charlotte     R...\n",
       "27871   17876                 1           0  Account Director - Distribution  CA, ON, Toron...\n",
       "27872   17877                 1           0  Payroll Accountant US, PA, Philadelphia   WebL...\n",
       "27873   17880                 1           0  Web Application Developers NZ, N, Wellington  ...\n",
       "\n",
       "[27874 rows x 4 columns]"
      ]
     },
     "execution_count": 3,
     "metadata": {},
     "output_type": "execute_result"
    }
   ],
   "source": [
    "test_size=0.33\n",
    "seed=42\n",
    "data=pd.read_csv(f'{save_dir}/df_EDA.csv')\n",
    "data"
   ]
  },
  {
   "cell_type": "code",
   "execution_count": 4,
   "id": "26a81f1b",
   "metadata": {},
   "outputs": [
    {
     "name": "stdout",
     "output_type": "stream",
     "text": [
      "(18675, 4) (9199, 4)\n"
     ]
    }
   ],
   "source": [
    "data_train, data_test = train_test_split(data, test_size = 0.33, random_state=seed)\n",
    "print(data_train.shape,data_test.shape)\n",
    "data_train.to_csv(f'{save_dir}/datatrain.csv', index=None)\n",
    "data_test.to_csv(f'{save_dir}/datatest.csv', index=None)"
   ]
  },
  {
   "cell_type": "code",
   "execution_count": 5,
   "id": "66f2fc7c",
   "metadata": {
    "scrolled": true
   },
   "outputs": [
    {
     "data": {
      "text/html": [
       "<div>\n",
       "<style scoped>\n",
       "    .dataframe tbody tr th:only-of-type {\n",
       "        vertical-align: middle;\n",
       "    }\n",
       "\n",
       "    .dataframe tbody tr th {\n",
       "        vertical-align: top;\n",
       "    }\n",
       "\n",
       "    .dataframe thead th {\n",
       "        text-align: right;\n",
       "    }\n",
       "</style>\n",
       "<table border=\"1\" class=\"dataframe\">\n",
       "  <thead>\n",
       "    <tr style=\"text-align: right;\">\n",
       "      <th></th>\n",
       "      <th>job_id</th>\n",
       "      <th>has_company_logo</th>\n",
       "      <th>fraudulent</th>\n",
       "      <th>combined_text</th>\n",
       "    </tr>\n",
       "  </thead>\n",
       "  <tbody>\n",
       "    <tr>\n",
       "      <th>15602</th>\n",
       "      <td>2153</td>\n",
       "      <td>1</td>\n",
       "      <td>0</td>\n",
       "      <td>Sr.Java Developer jobs in Maryland US, MD, Lan...</td>\n",
       "    </tr>\n",
       "    <tr>\n",
       "      <th>7872</th>\n",
       "      <td>9969</td>\n",
       "      <td>1</td>\n",
       "      <td>1</td>\n",
       "      <td>Communications Manager  US, NY, NY   Aptitude ...</td>\n",
       "    </tr>\n",
       "    <tr>\n",
       "      <th>22942</th>\n",
       "      <td>11425</td>\n",
       "      <td>1</td>\n",
       "      <td>0</td>\n",
       "      <td>Data Operations Specialist US, CA, San Francis...</td>\n",
       "    </tr>\n",
       "    <tr>\n",
       "      <th>24950</th>\n",
       "      <td>13909</td>\n",
       "      <td>1</td>\n",
       "      <td>0</td>\n",
       "      <td>Senior Technical Project Manager GB, CMD, Lond...</td>\n",
       "    </tr>\n",
       "    <tr>\n",
       "      <th>14931</th>\n",
       "      <td>1245</td>\n",
       "      <td>1</td>\n",
       "      <td>0</td>\n",
       "      <td>Senior Visual Designer GB, LND, London     We’...</td>\n",
       "    </tr>\n",
       "    <tr>\n",
       "      <th>...</th>\n",
       "      <td>...</td>\n",
       "      <td>...</td>\n",
       "      <td>...</td>\n",
       "      <td>...</td>\n",
       "    </tr>\n",
       "    <tr>\n",
       "      <th>21575</th>\n",
       "      <td>9871</td>\n",
       "      <td>1</td>\n",
       "      <td>0</td>\n",
       "      <td>Content Marketing Manager PL, ,    We are Netg...</td>\n",
       "    </tr>\n",
       "    <tr>\n",
       "      <th>5390</th>\n",
       "      <td>8248</td>\n",
       "      <td>1</td>\n",
       "      <td>1</td>\n",
       "      <td>Payroll Clerk US, MD, ANNAPOLIS   At DynCorp I...</td>\n",
       "    </tr>\n",
       "    <tr>\n",
       "      <th>860</th>\n",
       "      <td>10113</td>\n",
       "      <td>1</td>\n",
       "      <td>1</td>\n",
       "      <td>Subsea Process Plant Layout Designer US, TX, H...</td>\n",
       "    </tr>\n",
       "    <tr>\n",
       "      <th>15795</th>\n",
       "      <td>2405</td>\n",
       "      <td>1</td>\n",
       "      <td>0</td>\n",
       "      <td>Inside Sales Representative (TELECOMMUTE) US, ...</td>\n",
       "    </tr>\n",
       "    <tr>\n",
       "      <th>23654</th>\n",
       "      <td>12321</td>\n",
       "      <td>1</td>\n",
       "      <td>0</td>\n",
       "      <td>Senior Developer US, NY, New York   Essence is...</td>\n",
       "    </tr>\n",
       "  </tbody>\n",
       "</table>\n",
       "<p>18675 rows × 4 columns</p>\n",
       "</div>"
      ],
      "text/plain": [
       "       job_id  has_company_logo  fraudulent                                      combined_text\n",
       "15602    2153                 1           0  Sr.Java Developer jobs in Maryland US, MD, Lan...\n",
       "7872     9969                 1           1  Communications Manager  US, NY, NY   Aptitude ...\n",
       "22942   11425                 1           0  Data Operations Specialist US, CA, San Francis...\n",
       "24950   13909                 1           0  Senior Technical Project Manager GB, CMD, Lond...\n",
       "14931    1245                 1           0  Senior Visual Designer GB, LND, London     We’...\n",
       "...       ...               ...         ...                                                ...\n",
       "21575    9871                 1           0  Content Marketing Manager PL, ,    We are Netg...\n",
       "5390     8248                 1           1  Payroll Clerk US, MD, ANNAPOLIS   At DynCorp I...\n",
       "860     10113                 1           1  Subsea Process Plant Layout Designer US, TX, H...\n",
       "15795    2405                 1           0  Inside Sales Representative (TELECOMMUTE) US, ...\n",
       "23654   12321                 1           0  Senior Developer US, NY, New York   Essence is...\n",
       "\n",
       "[18675 rows x 4 columns]"
      ]
     },
     "execution_count": 5,
     "metadata": {},
     "output_type": "execute_result"
    }
   ],
   "source": [
    "data_train"
   ]
  },
  {
   "cell_type": "code",
   "execution_count": 13,
   "id": "065fa5c2",
   "metadata": {},
   "outputs": [
    {
     "name": "stderr",
     "output_type": "stream",
     "text": [
      "[nltk_data] Downloading package punkt_tab to\n",
      "[nltk_data]     C:\\Users\\Admin\\AppData\\Roaming\\nltk_data...\n",
      "[nltk_data]   Package punkt_tab is already up-to-date!\n",
      "[nltk_data] Downloading package averaged_perceptron_tagger_eng to\n",
      "[nltk_data]     C:\\Users\\Admin\\AppData\\Roaming\\nltk_data...\n",
      "[nltk_data]   Package averaged_perceptron_tagger_eng is already up-to-\n",
      "[nltk_data]       date!\n",
      "[nltk_data] Downloading package stopwords to\n",
      "[nltk_data]     C:\\Users\\Admin\\AppData\\Roaming\\nltk_data...\n",
      "[nltk_data]   Unzipping corpora\\stopwords.zip.\n"
     ]
    },
    {
     "data": {
      "text/plain": [
       "True"
      ]
     },
     "execution_count": 13,
     "metadata": {},
     "output_type": "execute_result"
    }
   ],
   "source": [
    "# nltk.download('popular')\n",
    "nltk.download('punkt_tab')\n",
    "nltk.download('averaged_perceptron_tagger_eng')\n",
    "nltk.download('stopwords')"
   ]
  },
  {
   "cell_type": "code",
   "execution_count": 7,
   "id": "5f1bcb24",
   "metadata": {},
   "outputs": [
    {
     "name": "stdout",
     "output_type": "stream",
     "text": [
      "corpora/stopwords.zip not found. Downloading now...\n",
      "tokenizers/punkt.zip not found. Downloading now...\n"
     ]
    },
    {
     "name": "stderr",
     "output_type": "stream",
     "text": [
      "[nltk_data] Error loading stopwords.zip: Package 'stopwords.zip' not\n",
      "[nltk_data]     found in index\n",
      "[nltk_data] Error loading punkt.zip: Package 'punkt.zip' not found in\n",
      "[nltk_data]     index\n"
     ]
    }
   ],
   "source": [
    "import nltk\n",
    "\n",
    "def check_resource(resource_name):\n",
    "    try:\n",
    "        nltk.data.find(resource_name)\n",
    "        print(f\"{resource_name} is already downloaded.\")\n",
    "    except LookupError:\n",
    "        print(f\"{resource_name} not found. Downloading now...\")\n",
    "        nltk.download(resource_name.split('/')[-1])\n",
    "\n",
    "check_resource('corpora/stopwords.zip')\n",
    "check_resource('tokenizers/punkt.zip')\n"
   ]
  },
  {
   "cell_type": "code",
   "execution_count": 11,
   "id": "b3cecbb5",
   "metadata": {},
   "outputs": [],
   "source": [
    "def clean_text(text):\n",
    "    text = text.lower()\n",
    "    text = re.sub(r'<.*?>', '', text)\n",
    "    text = re.sub(r'http\\S+', '', text)\n",
    "    text = re.sub(r'[^a-zA-Z0-9]', ' ', text)\n",
    "    tokens = nltk.word_tokenize(text)\n",
    "    stop_words = set(nltk.corpus.stopwords.words('english'))\n",
    "    tokens = [word for word in tokens if word not in stop_words]\n",
    "    cleaned_text = ' '.join(tokens)\n",
    "    \n",
    "    return cleaned_text"
   ]
  },
  {
   "cell_type": "code",
   "execution_count": 14,
   "id": "05c1e9fd",
   "metadata": {},
   "outputs": [],
   "source": [
    "try:\n",
    "    data['combined_text'] = data['combined_text'].apply(clean_text)\n",
    "except LookupError as e:\n",
    "    print(f\"Missing resource: {e}\")\n",
    "    raise\n"
   ]
  },
  {
   "cell_type": "code",
   "execution_count": 15,
   "id": "2d11c737",
   "metadata": {},
   "outputs": [
    {
     "data": {
      "text/html": [
       "<div>\n",
       "<style scoped>\n",
       "    .dataframe tbody tr th:only-of-type {\n",
       "        vertical-align: middle;\n",
       "    }\n",
       "\n",
       "    .dataframe tbody tr th {\n",
       "        vertical-align: top;\n",
       "    }\n",
       "\n",
       "    .dataframe thead th {\n",
       "        text-align: right;\n",
       "    }\n",
       "</style>\n",
       "<table border=\"1\" class=\"dataframe\">\n",
       "  <thead>\n",
       "    <tr style=\"text-align: right;\">\n",
       "      <th></th>\n",
       "      <th>job_id</th>\n",
       "      <th>has_company_logo</th>\n",
       "      <th>fraudulent</th>\n",
       "      <th>combined_text</th>\n",
       "    </tr>\n",
       "  </thead>\n",
       "  <tbody>\n",
       "    <tr>\n",
       "      <th>0</th>\n",
       "      <td>9116</td>\n",
       "      <td>1</td>\n",
       "      <td>1</td>\n",
       "      <td>mobile developer back end us ca san francisco ...</td>\n",
       "    </tr>\n",
       "    <tr>\n",
       "      <th>1</th>\n",
       "      <td>2653</td>\n",
       "      <td>1</td>\n",
       "      <td>1</td>\n",
       "      <td>administrative assistant us nc charlotte 30000...</td>\n",
       "    </tr>\n",
       "    <tr>\n",
       "      <th>2</th>\n",
       "      <td>938</td>\n",
       "      <td>1</td>\n",
       "      <td>1</td>\n",
       "      <td>health environmental professional us ca bakers...</td>\n",
       "    </tr>\n",
       "    <tr>\n",
       "      <th>3</th>\n",
       "      <td>9972</td>\n",
       "      <td>1</td>\n",
       "      <td>1</td>\n",
       "      <td>director engineering hma security products us ...</td>\n",
       "    </tr>\n",
       "    <tr>\n",
       "      <th>4</th>\n",
       "      <td>5442</td>\n",
       "      <td>1</td>\n",
       "      <td>1</td>\n",
       "      <td>easy money us fl deltona dmt instant reward hi...</td>\n",
       "    </tr>\n",
       "    <tr>\n",
       "      <th>...</th>\n",
       "      <td>...</td>\n",
       "      <td>...</td>\n",
       "      <td>...</td>\n",
       "      <td>...</td>\n",
       "    </tr>\n",
       "    <tr>\n",
       "      <th>27869</th>\n",
       "      <td>17873</td>\n",
       "      <td>1</td>\n",
       "      <td>0</td>\n",
       "      <td>product manager us ca san francisco flite deli...</td>\n",
       "    </tr>\n",
       "    <tr>\n",
       "      <th>27870</th>\n",
       "      <td>17874</td>\n",
       "      <td>1</td>\n",
       "      <td>0</td>\n",
       "      <td>recruiting coordinator us nc charlotte respons...</td>\n",
       "    </tr>\n",
       "    <tr>\n",
       "      <th>27871</th>\n",
       "      <td>17876</td>\n",
       "      <td>1</td>\n",
       "      <td>0</td>\n",
       "      <td>account director distribution ca toronto vend ...</td>\n",
       "    </tr>\n",
       "    <tr>\n",
       "      <th>27872</th>\n",
       "      <td>17877</td>\n",
       "      <td>1</td>\n",
       "      <td>0</td>\n",
       "      <td>payroll accountant us pa philadelphia weblinc ...</td>\n",
       "    </tr>\n",
       "    <tr>\n",
       "      <th>27873</th>\n",
       "      <td>17880</td>\n",
       "      <td>1</td>\n",
       "      <td>0</td>\n",
       "      <td>web application developers nz n wellington ven...</td>\n",
       "    </tr>\n",
       "  </tbody>\n",
       "</table>\n",
       "<p>27874 rows × 4 columns</p>\n",
       "</div>"
      ],
      "text/plain": [
       "       job_id  has_company_logo  fraudulent                                      combined_text\n",
       "0        9116                 1           1  mobile developer back end us ca san francisco ...\n",
       "1        2653                 1           1  administrative assistant us nc charlotte 30000...\n",
       "2         938                 1           1  health environmental professional us ca bakers...\n",
       "3        9972                 1           1  director engineering hma security products us ...\n",
       "4        5442                 1           1  easy money us fl deltona dmt instant reward hi...\n",
       "...       ...               ...         ...                                                ...\n",
       "27869   17873                 1           0  product manager us ca san francisco flite deli...\n",
       "27870   17874                 1           0  recruiting coordinator us nc charlotte respons...\n",
       "27871   17876                 1           0  account director distribution ca toronto vend ...\n",
       "27872   17877                 1           0  payroll accountant us pa philadelphia weblinc ...\n",
       "27873   17880                 1           0  web application developers nz n wellington ven...\n",
       "\n",
       "[27874 rows x 4 columns]"
      ]
     },
     "execution_count": 15,
     "metadata": {},
     "output_type": "execute_result"
    }
   ],
   "source": [
    "data"
   ]
  },
  {
   "cell_type": "code",
   "execution_count": 16,
   "id": "4659097c",
   "metadata": {},
   "outputs": [
    {
     "data": {
      "text/plain": [
       "job_id              0\n",
       "has_company_logo    0\n",
       "fraudulent          0\n",
       "combined_text       0\n",
       "dtype: int64"
      ]
     },
     "execution_count": 16,
     "metadata": {},
     "output_type": "execute_result"
    }
   ],
   "source": [
    "data.isnull().sum()"
   ]
  },
  {
   "cell_type": "markdown",
   "id": "cb73058e",
   "metadata": {},
   "source": [
    "# 4.Chuẩn hóa dữ liệu"
   ]
  },
  {
   "cell_type": "code",
   "execution_count": 17,
   "id": "841ce28f",
   "metadata": {},
   "outputs": [
    {
     "data": {
      "text/plain": [
       "array(['job_id'], dtype='<U6')"
      ]
     },
     "execution_count": 17,
     "metadata": {},
     "output_type": "execute_result"
    }
   ],
   "source": [
    "numeric_columns=dict(np.load(f'{save_dir}/columns_dtype.npz',allow_pickle=True))['numeric_columns']\n",
    "numeric_columns"
   ]
  },
  {
   "cell_type": "code",
   "execution_count": 18,
   "id": "a2c39a06",
   "metadata": {},
   "outputs": [
    {
     "data": {
      "text/plain": [
       "array(['has_company_logo', 'fraudulent', 'combined_text'], dtype='<U16')"
      ]
     },
     "execution_count": 18,
     "metadata": {},
     "output_type": "execute_result"
    }
   ],
   "source": [
    "category_columns=dict(np.load(f'{save_dir}/columns_dtype.npz',allow_pickle=True))['category_columns']\n",
    "category_columns"
   ]
  },
  {
   "cell_type": "code",
   "execution_count": 20,
   "id": "5604e149",
   "metadata": {},
   "outputs": [
    {
     "name": "stdout",
     "output_type": "stream",
     "text": [
      "c:\\Users\\Admin\\Data\\ads_fraud_detection\\.conda\\lib\\site-packages\\en_core_web_sm\n"
     ]
    }
   ],
   "source": [
    "print(spacy.util.get_package_path('en_core_web_sm'))\n"
   ]
  },
  {
   "cell_type": "code",
   "execution_count": 16,
   "id": "a18f327a",
   "metadata": {},
   "outputs": [],
   "source": [
    "nlp = spacy.load(\"en_core_web_sm\")\n",
    "\n",
    "def normalize_text(text):\n",
    "    # Tokenize the text and apply lemmatization\n",
    "    doc = nlp(text)\n",
    "    normalized_words = [token.lemma_ for token in doc]\n",
    "    normalized_text = ' '.join(normalized_words)\n",
    "    return normalized_text\n"
   ]
  },
  {
   "cell_type": "code",
   "execution_count": 17,
   "id": "998471f2",
   "metadata": {},
   "outputs": [],
   "source": [
    "data['combined_text']=data['combined_text'].apply(normalize_text)"
   ]
  },
  {
   "cell_type": "markdown",
   "id": "2db0f8f4",
   "metadata": {},
   "source": [
    "### Bert word embedding"
   ]
  },
  {
   "cell_type": "code",
   "execution_count": 21,
   "id": "c169b234",
   "metadata": {},
   "outputs": [],
   "source": [
    "text_columns = ['combined_text']\n",
    "\n",
    "try:\n",
    "    data['pos_features'] = data[text_columns].apply(lambda x: nltk.pos_tag(word_tokenize(x[0])), axis=1)\n",
    "    data['pos_features'] = data['pos_features'].apply(lambda tags: ' '.join(tag[1] for tag in tags))\n",
    "    # data['combined_text'] = data['combined_text'].apply(clean_text)\n",
    "except LookupError as e:\n",
    "    print(f\"Missing resource: {e}\")\n",
    "    raise\n",
    "\n",
    "X = data.drop('fraudulent', axis=1)\n",
    "y = data['fraudulent']\n",
    "\n",
    "vectorizer = CountVectorizer(ngram_range=(1, 2))\n",
    "text_matrix_train = vectorizer.fit_transform(X['combined_text'])\n",
    "pos_matrix_train = vectorizer.transform(X['pos_features'])\n",
    "combined_matrix_train = hstack([text_matrix_train, pos_matrix_train])\n",
    "\n",
    "with open(f'{save_dir}/countvectorizer.pkl', 'wb') as file:\n",
    "    pickle.dump(vectorizer, file)"
   ]
  },
  {
   "cell_type": "code",
   "execution_count": 22,
   "id": "02e6ed87",
   "metadata": {},
   "outputs": [
    {
     "data": {
      "text/html": [
       "<div>\n",
       "<style scoped>\n",
       "    .dataframe tbody tr th:only-of-type {\n",
       "        vertical-align: middle;\n",
       "    }\n",
       "\n",
       "    .dataframe tbody tr th {\n",
       "        vertical-align: top;\n",
       "    }\n",
       "\n",
       "    .dataframe thead th {\n",
       "        text-align: right;\n",
       "    }\n",
       "</style>\n",
       "<table border=\"1\" class=\"dataframe\">\n",
       "  <thead>\n",
       "    <tr style=\"text-align: right;\">\n",
       "      <th></th>\n",
       "      <th>job_id</th>\n",
       "      <th>has_company_logo</th>\n",
       "      <th>fraudulent</th>\n",
       "      <th>combined_text</th>\n",
       "      <th>pos_features</th>\n",
       "    </tr>\n",
       "  </thead>\n",
       "  <tbody>\n",
       "    <tr>\n",
       "      <th>0</th>\n",
       "      <td>9116</td>\n",
       "      <td>1</td>\n",
       "      <td>1</td>\n",
       "      <td>mobile developer back end us ca san francisco ...</td>\n",
       "      <td>JJ NN RB VBP PRP MD VB JJ NN NN IN VBG NNS VBD...</td>\n",
       "    </tr>\n",
       "    <tr>\n",
       "      <th>1</th>\n",
       "      <td>2653</td>\n",
       "      <td>1</td>\n",
       "      <td>1</td>\n",
       "      <td>administrative assistant us nc charlotte 30000...</td>\n",
       "      <td>JJ NN PRP VBP JJ CD CD JJ NN VBN JJ NN NN CD N...</td>\n",
       "    </tr>\n",
       "    <tr>\n",
       "      <th>2</th>\n",
       "      <td>938</td>\n",
       "      <td>1</td>\n",
       "      <td>1</td>\n",
       "      <td>health environmental professional us ca bakers...</td>\n",
       "      <td>NN JJ JJ PRP MD VB CD CD NN VBG NNS VBD VBG NN...</td>\n",
       "    </tr>\n",
       "    <tr>\n",
       "      <th>3</th>\n",
       "      <td>9972</td>\n",
       "      <td>1</td>\n",
       "      <td>1</td>\n",
       "      <td>director engineering hma security products us ...</td>\n",
       "      <td>NN NN JJ NN NNS PRP MD VB JJ JJ NN VBG NNS VBD...</td>\n",
       "    </tr>\n",
       "    <tr>\n",
       "      <th>4</th>\n",
       "      <td>5442</td>\n",
       "      <td>1</td>\n",
       "      <td>1</td>\n",
       "      <td>easy money us fl deltona dmt instant reward hi...</td>\n",
       "      <td>JJ NN PRP VBP JJ NN JJ NN VBG NN JJ JJ NN NN N...</td>\n",
       "    </tr>\n",
       "    <tr>\n",
       "      <th>...</th>\n",
       "      <td>...</td>\n",
       "      <td>...</td>\n",
       "      <td>...</td>\n",
       "      <td>...</td>\n",
       "      <td>...</td>\n",
       "    </tr>\n",
       "    <tr>\n",
       "      <th>27869</th>\n",
       "      <td>17873</td>\n",
       "      <td>1</td>\n",
       "      <td>0</td>\n",
       "      <td>product manager us ca san francisco flite deli...</td>\n",
       "      <td>NN NN PRP MD VB JJ JJ NNS NN NN JJ NN NN NNS V...</td>\n",
       "    </tr>\n",
       "    <tr>\n",
       "      <th>27870</th>\n",
       "      <td>17874</td>\n",
       "      <td>1</td>\n",
       "      <td>0</td>\n",
       "      <td>recruiting coordinator us nc charlotte respons...</td>\n",
       "      <td>VBG NN PRP VBP JJ NNS VBP VBG NN VBZ VBG JJ JJ...</td>\n",
       "    </tr>\n",
       "    <tr>\n",
       "      <th>27871</th>\n",
       "      <td>17876</td>\n",
       "      <td>1</td>\n",
       "      <td>0</td>\n",
       "      <td>account director distribution ca toronto vend ...</td>\n",
       "      <td>NN NN NN MD VB NN VBG JJ JJ NN VBN VBP PRP VBG...</td>\n",
       "    </tr>\n",
       "    <tr>\n",
       "      <th>27872</th>\n",
       "      <td>17877</td>\n",
       "      <td>1</td>\n",
       "      <td>0</td>\n",
       "      <td>payroll accountant us pa philadelphia weblinc ...</td>\n",
       "      <td>NN VBP PRP JJ NN NN NN NN NN NNS NN JJS VBG JJ...</td>\n",
       "    </tr>\n",
       "    <tr>\n",
       "      <th>27873</th>\n",
       "      <td>17880</td>\n",
       "      <td>1</td>\n",
       "      <td>0</td>\n",
       "      <td>web application developers nz n wellington ven...</td>\n",
       "      <td>JJ NN NNS VBP JJ NN NN VBG JJ JJ NN VBN VBP PR...</td>\n",
       "    </tr>\n",
       "  </tbody>\n",
       "</table>\n",
       "<p>27874 rows × 5 columns</p>\n",
       "</div>"
      ],
      "text/plain": [
       "       job_id  has_company_logo  fraudulent                                      combined_text                                       pos_features\n",
       "0        9116                 1           1  mobile developer back end us ca san francisco ...  JJ NN RB VBP PRP MD VB JJ NN NN IN VBG NNS VBD...\n",
       "1        2653                 1           1  administrative assistant us nc charlotte 30000...  JJ NN PRP VBP JJ CD CD JJ NN VBN JJ NN NN CD N...\n",
       "2         938                 1           1  health environmental professional us ca bakers...  NN JJ JJ PRP MD VB CD CD NN VBG NNS VBD VBG NN...\n",
       "3        9972                 1           1  director engineering hma security products us ...  NN NN JJ NN NNS PRP MD VB JJ JJ NN VBG NNS VBD...\n",
       "4        5442                 1           1  easy money us fl deltona dmt instant reward hi...  JJ NN PRP VBP JJ NN JJ NN VBG NN JJ JJ NN NN N...\n",
       "...       ...               ...         ...                                                ...                                                ...\n",
       "27869   17873                 1           0  product manager us ca san francisco flite deli...  NN NN PRP MD VB JJ JJ NNS NN NN JJ NN NN NNS V...\n",
       "27870   17874                 1           0  recruiting coordinator us nc charlotte respons...  VBG NN PRP VBP JJ NNS VBP VBG NN VBZ VBG JJ JJ...\n",
       "27871   17876                 1           0  account director distribution ca toronto vend ...  NN NN NN MD VB NN VBG JJ JJ NN VBN VBP PRP VBG...\n",
       "27872   17877                 1           0  payroll accountant us pa philadelphia weblinc ...  NN VBP PRP JJ NN NN NN NN NN NNS NN JJS VBG JJ...\n",
       "27873   17880                 1           0  web application developers nz n wellington ven...  JJ NN NNS VBP JJ NN NN VBG JJ JJ NN VBN VBP PR...\n",
       "\n",
       "[27874 rows x 5 columns]"
      ]
     },
     "execution_count": 22,
     "metadata": {},
     "output_type": "execute_result"
    }
   ],
   "source": [
    "data"
   ]
  },
  {
   "cell_type": "code",
   "execution_count": 23,
   "id": "d203d1e2",
   "metadata": {},
   "outputs": [],
   "source": [
    "X=combined_matrix_train\n",
    "y=data['fraudulent'].values"
   ]
  },
  {
   "cell_type": "code",
   "execution_count": 30,
   "id": "2c6b47a7",
   "metadata": {},
   "outputs": [],
   "source": [
    "# # X_dense = X.toarray()\n",
    "\n",
    "# X = pd.DataFrame(X_dense)\n",
    "y = pd.DataFrame(y, columns=['fraudulent'])\n"
   ]
  },
  {
   "cell_type": "code",
   "execution_count": 31,
   "id": "7e348296",
   "metadata": {},
   "outputs": [],
   "source": [
    "from scipy import sparse\n",
    "\n",
    "# Giả sử X là ma trận thưa\n",
    "sparse.save_npz(f'{save_dir}/X.npz', X)\n",
    "y.to_csv(f'{save_dir}/y.csv', index=False)\n"
   ]
  },
  {
   "cell_type": "code",
   "execution_count": 27,
   "id": "3a2c7d60",
   "metadata": {},
   "outputs": [
    {
     "data": {
      "text/plain": [
       "<27874x1859086 sparse matrix of type '<class 'numpy.int64'>'\n",
       "\twith 13266528 stored elements in Compressed Sparse Row format>"
      ]
     },
     "execution_count": 27,
     "metadata": {},
     "output_type": "execute_result"
    }
   ],
   "source": [
    "X"
   ]
  },
  {
   "cell_type": "code",
   "execution_count": 28,
   "id": "965dad66",
   "metadata": {},
   "outputs": [
    {
     "data": {
      "text/plain": [
       "<27874x1859086 sparse matrix of type '<class 'numpy.int64'>'\n",
       "\twith 13266528 stored elements in Compressed Sparse Row format>"
      ]
     },
     "execution_count": 28,
     "metadata": {},
     "output_type": "execute_result"
    }
   ],
   "source": [
    "sparse.load_npz(f'{save_dir}/sparse_matrix.npz')"
   ]
  },
  {
   "cell_type": "code",
   "execution_count": 32,
   "id": "38922e19",
   "metadata": {},
   "outputs": [],
   "source": [
    "x_train, x_test, y_train, y_test = train_test_split(X, y, test_size=0.2, random_state=42)"
   ]
  },
  {
   "cell_type": "code",
   "execution_count": 33,
   "id": "b284bb46",
   "metadata": {},
   "outputs": [],
   "source": [
    "# x_train=data_train.drop('fraudulent',axis=1)\n",
    "# y_train=data_train['fraudulent']\n",
    "# x_train.to_csv(f'{save_dir}/x_train.csv', index=False)\n",
    "sparse.save_npz(f'{save_dir}/x_train.npz', x_train)\n",
    "\n",
    "y_train.to_csv(f'{save_dir}/y_train.csv', index=False)"
   ]
  },
  {
   "cell_type": "code",
   "execution_count": 35,
   "id": "244237c7",
   "metadata": {},
   "outputs": [
    {
     "data": {
      "text/plain": [
       "array([0, 1], dtype=int64)"
      ]
     },
     "execution_count": 35,
     "metadata": {},
     "output_type": "execute_result"
    }
   ],
   "source": [
    "\n",
    "np.unique(y_train)"
   ]
  },
  {
   "cell_type": "code",
   "execution_count": 39,
   "id": "98ce0e71",
   "metadata": {},
   "outputs": [],
   "source": [
    "y_train=y_train.fraudulent"
   ]
  },
  {
   "cell_type": "code",
   "execution_count": 40,
   "id": "cc40e767",
   "metadata": {},
   "outputs": [
    {
     "data": {
      "text/plain": [
       "{0: 0.9991486692355945, 1: 1.0008527827648115}"
      ]
     },
     "execution_count": 40,
     "metadata": {},
     "output_type": "execute_result"
    }
   ],
   "source": [
    "class_weights = compute_class_weight(class_weight='balanced', classes=np.unique(y_train), y=y_train)\n",
    "class_weights_dict = {i : class_weights[i] for i in range(len(class_weights))}\n",
    "np.savez(f'{save_dir}/class_weights_dict.npz', class_weights_dict = class_weights_dict)\n",
    "class_weights_dict"
   ]
  },
  {
   "cell_type": "code",
   "execution_count": 41,
   "id": "c7011ba2",
   "metadata": {},
   "outputs": [],
   "source": [
    "from imblearn.over_sampling import SMOTE\n",
    "x_train, y_train = SMOTE().fit_resample(x_train, y_train)\n",
    "sparse.save_npz(f'{save_dir}/x_train.npz', x_train)\n",
    "y_train.to_csv(f'{save_dir}/y_train.csv', index=False)"
   ]
  },
  {
   "cell_type": "code",
   "execution_count": 42,
   "id": "72198f43",
   "metadata": {},
   "outputs": [],
   "source": [
    "object_cols_test=dict(np.load(f'{save_dir}/columns_dtype.npz',allow_pickle=True))['category_columns']\n",
    "numeric_cols_test=dict(np.load(f'{save_dir}/columns_dtype.npz',allow_pickle=True))['numeric_columns']\n",
    "\n",
    "# label_encoders = {}\n",
    "# for column in object_cols_test:\n",
    "#     label_encoder = LabelEncoder()\n",
    "#     data_test[column] = label_encoder.fit_transform(data_test[column])\n",
    "#     label_encoders[column] = label_encoder  # Lưu trữ label encoder nếu cần sau này\n",
    "\n",
    "# scaler = StandardScaler()\n",
    "# data_test[numeric_cols_test] = scaler.fit_transform(data_test[numeric_cols_test])\n",
    "\n",
    "# x_test=data_test.drop('fraudulent',axis=1)\n",
    "# y_test=data_test['fraudulent']\n",
    "sparse.save_npz(f'{save_dir}/x_test.npz', x_test)\n",
    "\n",
    "y_test.to_csv(f'{save_dir}/y_test.csv', index=False)"
   ]
  },
  {
   "cell_type": "code",
   "execution_count": null,
   "id": "49aefbe9",
   "metadata": {},
   "outputs": [],
   "source": []
  },
  {
   "cell_type": "code",
   "execution_count": null,
   "id": "0f06bd62",
   "metadata": {},
   "outputs": [],
   "source": []
  }
 ],
 "metadata": {
  "kernelspec": {
   "display_name": "Python 3 (ipykernel)",
   "language": "python",
   "name": "python3"
  },
  "language_info": {
   "codemirror_mode": {
    "name": "ipython",
    "version": 3
   },
   "file_extension": ".py",
   "mimetype": "text/x-python",
   "name": "python",
   "nbconvert_exporter": "python",
   "pygments_lexer": "ipython3",
   "version": "3.8.19"
  }
 },
 "nbformat": 4,
 "nbformat_minor": 5
}
