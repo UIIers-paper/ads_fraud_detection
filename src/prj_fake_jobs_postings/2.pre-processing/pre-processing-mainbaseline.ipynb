{
 "cells": [
  {
   "cell_type": "code",
   "execution_count": 1,
   "id": "54f8344d",
   "metadata": {},
   "outputs": [
    {
     "name": "stdout",
     "output_type": "stream",
     "text": [
      "c:\\Users\\PC\\Data\\ads_fraud_detection\n"
     ]
    },
    {
     "data": {
      "text/html": [
       "        <script type=\"text/javascript\">\n",
       "        window.PlotlyConfig = {MathJaxConfig: 'local'};\n",
       "        if (window.MathJax && window.MathJax.Hub && window.MathJax.Hub.Config) {window.MathJax.Hub.Config({SVG: {font: \"STIX-Web\"}});}\n",
       "        if (typeof require !== 'undefined') {\n",
       "        require.undef(\"plotly\");\n",
       "        requirejs.config({\n",
       "            paths: {\n",
       "                'plotly': ['https://cdn.plot.ly/plotly-2.35.0.min']\n",
       "            }\n",
       "        });\n",
       "        require(['plotly'], function(Plotly) {\n",
       "            window._Plotly = Plotly;\n",
       "        });\n",
       "        }\n",
       "        </script>\n",
       "        "
      ]
     },
     "metadata": {},
     "output_type": "display_data"
    },
    {
     "data": {
      "text/html": [
       "        <script type=\"text/javascript\">\n",
       "        window.PlotlyConfig = {MathJaxConfig: 'local'};\n",
       "        if (window.MathJax && window.MathJax.Hub && window.MathJax.Hub.Config) {window.MathJax.Hub.Config({SVG: {font: \"STIX-Web\"}});}\n",
       "        if (typeof require !== 'undefined') {\n",
       "        require.undef(\"plotly\");\n",
       "        requirejs.config({\n",
       "            paths: {\n",
       "                'plotly': ['https://cdn.plot.ly/plotly-2.35.0.min']\n",
       "            }\n",
       "        });\n",
       "        require(['plotly'], function(Plotly) {\n",
       "            window._Plotly = Plotly;\n",
       "        });\n",
       "        }\n",
       "        </script>\n",
       "        "
      ]
     },
     "metadata": {},
     "output_type": "display_data"
    },
    {
     "name": "stdout",
     "output_type": "stream",
     "text": [
      "c:/Users/PC/Data/ads_fraud_detection\n"
     ]
    }
   ],
   "source": [
    "import sys,os\n",
    "__script_path=os.path.abspath(globals().get('__file__','.'))\n",
    "__script_dir = os.path.dirname(__script_path)\n",
    "root_dir = os.path.abspath(f'{__script_dir}/../..')\n",
    "print(root_dir)\n",
    "for lib in [root_dir][::-1]:\n",
    "    if lib in sys.path:\n",
    "        sys.path.remove(lib)\n",
    "    sys.path.insert(0,lib)\n",
    "\n",
    "from libs.common import *\n",
    "from config.config import *"
   ]
  },
  {
   "cell_type": "markdown",
   "id": "88a7ba29",
   "metadata": {},
   "source": [
    "# 3. Tiền xử lí dữ liệu"
   ]
  },
  {
   "cell_type": "code",
   "execution_count": 2,
   "id": "d5973ea8",
   "metadata": {},
   "outputs": [],
   "source": [
    "save_dir=f\"{exps_dir}/exp_prj_fake_jobs_postings\"\n",
    "if os.path.exists(save_dir) == False:\n",
    "  os.makedirs(save_dir, exist_ok=True)\n",
    "\n",
    "test_size=0.33\n",
    "seed=42"
   ]
  },
  {
   "cell_type": "code",
   "execution_count": 3,
   "id": "7fdb47b9",
   "metadata": {},
   "outputs": [
    {
     "data": {
      "text/html": [
       "<div>\n",
       "<style scoped>\n",
       "    .dataframe tbody tr th:only-of-type {\n",
       "        vertical-align: middle;\n",
       "    }\n",
       "\n",
       "    .dataframe tbody tr th {\n",
       "        vertical-align: top;\n",
       "    }\n",
       "\n",
       "    .dataframe thead th {\n",
       "        text-align: right;\n",
       "    }\n",
       "</style>\n",
       "<table border=\"1\" class=\"dataframe\">\n",
       "  <thead>\n",
       "    <tr style=\"text-align: right;\">\n",
       "      <th></th>\n",
       "      <th>job_id</th>\n",
       "      <th>has_company_logo</th>\n",
       "      <th>fraudulent</th>\n",
       "      <th>combined_text</th>\n",
       "    </tr>\n",
       "  </thead>\n",
       "  <tbody>\n",
       "    <tr>\n",
       "      <th>0</th>\n",
       "      <td>1860</td>\n",
       "      <td>1</td>\n",
       "      <td>1</td>\n",
       "      <td>Head of machining department US, TX, Houston  ...</td>\n",
       "    </tr>\n",
       "    <tr>\n",
       "      <th>1</th>\n",
       "      <td>17808</td>\n",
       "      <td>1</td>\n",
       "      <td>1</td>\n",
       "      <td>Remote Data Entry Rep Needed US, AL, Birmingha...</td>\n",
       "    </tr>\n",
       "    <tr>\n",
       "      <th>2</th>\n",
       "      <td>11753</td>\n",
       "      <td>1</td>\n",
       "      <td>1</td>\n",
       "      <td>Project Controls Tech US, CO, Denver          ...</td>\n",
       "    </tr>\n",
       "    <tr>\n",
       "      <th>3</th>\n",
       "      <td>7178</td>\n",
       "      <td>1</td>\n",
       "      <td>1</td>\n",
       "      <td>Fraud Detection Analyst US, TX, AUSTIN 40000-6...</td>\n",
       "    </tr>\n",
       "    <tr>\n",
       "      <th>4</th>\n",
       "      <td>11772</td>\n",
       "      <td>1</td>\n",
       "      <td>1</td>\n",
       "      <td>Accounts Receivable Specialist US, CA, San Mat...</td>\n",
       "    </tr>\n",
       "    <tr>\n",
       "      <th>...</th>\n",
       "      <td>...</td>\n",
       "      <td>...</td>\n",
       "      <td>...</td>\n",
       "      <td>...</td>\n",
       "    </tr>\n",
       "    <tr>\n",
       "      <th>27869</th>\n",
       "      <td>17873</td>\n",
       "      <td>1</td>\n",
       "      <td>0</td>\n",
       "      <td>Product Manager US, CA, San Francisco   Flite ...</td>\n",
       "    </tr>\n",
       "    <tr>\n",
       "      <th>27870</th>\n",
       "      <td>17874</td>\n",
       "      <td>1</td>\n",
       "      <td>0</td>\n",
       "      <td>Recruiting Coordinator US, NC, Charlotte     R...</td>\n",
       "    </tr>\n",
       "    <tr>\n",
       "      <th>27871</th>\n",
       "      <td>17876</td>\n",
       "      <td>1</td>\n",
       "      <td>0</td>\n",
       "      <td>Account Director - Distribution  CA, ON, Toron...</td>\n",
       "    </tr>\n",
       "    <tr>\n",
       "      <th>27872</th>\n",
       "      <td>17877</td>\n",
       "      <td>1</td>\n",
       "      <td>0</td>\n",
       "      <td>Payroll Accountant US, PA, Philadelphia   WebL...</td>\n",
       "    </tr>\n",
       "    <tr>\n",
       "      <th>27873</th>\n",
       "      <td>17880</td>\n",
       "      <td>1</td>\n",
       "      <td>0</td>\n",
       "      <td>Web Application Developers NZ, N, Wellington  ...</td>\n",
       "    </tr>\n",
       "  </tbody>\n",
       "</table>\n",
       "<p>27874 rows × 4 columns</p>\n",
       "</div>"
      ],
      "text/plain": [
       "       job_id  has_company_logo  fraudulent                                      combined_text\n",
       "0        1860                 1           1  Head of machining department US, TX, Houston  ...\n",
       "1       17808                 1           1  Remote Data Entry Rep Needed US, AL, Birmingha...\n",
       "2       11753                 1           1  Project Controls Tech US, CO, Denver          ...\n",
       "3        7178                 1           1  Fraud Detection Analyst US, TX, AUSTIN 40000-6...\n",
       "4       11772                 1           1  Accounts Receivable Specialist US, CA, San Mat...\n",
       "...       ...               ...         ...                                                ...\n",
       "27869   17873                 1           0  Product Manager US, CA, San Francisco   Flite ...\n",
       "27870   17874                 1           0  Recruiting Coordinator US, NC, Charlotte     R...\n",
       "27871   17876                 1           0  Account Director - Distribution  CA, ON, Toron...\n",
       "27872   17877                 1           0  Payroll Accountant US, PA, Philadelphia   WebL...\n",
       "27873   17880                 1           0  Web Application Developers NZ, N, Wellington  ...\n",
       "\n",
       "[27874 rows x 4 columns]"
      ]
     },
     "execution_count": 3,
     "metadata": {},
     "output_type": "execute_result"
    }
   ],
   "source": [
    "test_size=0.33\n",
    "seed=42\n",
    "data=pd.read_csv(f'{save_dir}/df_EDA.csv')\n",
    "data"
   ]
  },
  {
   "cell_type": "code",
   "execution_count": 4,
   "id": "26a81f1b",
   "metadata": {},
   "outputs": [
    {
     "name": "stdout",
     "output_type": "stream",
     "text": [
      "(18675, 4) (9199, 4)\n"
     ]
    }
   ],
   "source": [
    "data_train, data_test = train_test_split(data, test_size = 0.33, random_state=seed)\n",
    "print(data_train.shape,data_test.shape)\n",
    "data_train.to_csv(f'{save_dir}/datatrain.csv', index=None)\n",
    "data_test.to_csv(f'{save_dir}/datatest.csv', index=None)"
   ]
  },
  {
   "cell_type": "code",
   "execution_count": 5,
   "id": "66f2fc7c",
   "metadata": {
    "scrolled": true
   },
   "outputs": [
    {
     "data": {
      "text/html": [
       "<div>\n",
       "<style scoped>\n",
       "    .dataframe tbody tr th:only-of-type {\n",
       "        vertical-align: middle;\n",
       "    }\n",
       "\n",
       "    .dataframe tbody tr th {\n",
       "        vertical-align: top;\n",
       "    }\n",
       "\n",
       "    .dataframe thead th {\n",
       "        text-align: right;\n",
       "    }\n",
       "</style>\n",
       "<table border=\"1\" class=\"dataframe\">\n",
       "  <thead>\n",
       "    <tr style=\"text-align: right;\">\n",
       "      <th></th>\n",
       "      <th>job_id</th>\n",
       "      <th>has_company_logo</th>\n",
       "      <th>fraudulent</th>\n",
       "      <th>combined_text</th>\n",
       "    </tr>\n",
       "  </thead>\n",
       "  <tbody>\n",
       "    <tr>\n",
       "      <th>15602</th>\n",
       "      <td>2153</td>\n",
       "      <td>1</td>\n",
       "      <td>0</td>\n",
       "      <td>Sr.Java Developer jobs in Maryland US, MD, Lan...</td>\n",
       "    </tr>\n",
       "    <tr>\n",
       "      <th>7872</th>\n",
       "      <td>8684</td>\n",
       "      <td>1</td>\n",
       "      <td>1</td>\n",
       "      <td>Payroll Clerk US, HI, HONOLULU   At DynCorp In...</td>\n",
       "    </tr>\n",
       "    <tr>\n",
       "      <th>22942</th>\n",
       "      <td>11425</td>\n",
       "      <td>1</td>\n",
       "      <td>0</td>\n",
       "      <td>Data Operations Specialist US, CA, San Francis...</td>\n",
       "    </tr>\n",
       "    <tr>\n",
       "      <th>24950</th>\n",
       "      <td>13909</td>\n",
       "      <td>1</td>\n",
       "      <td>0</td>\n",
       "      <td>Senior Technical Project Manager GB, CMD, Lond...</td>\n",
       "    </tr>\n",
       "    <tr>\n",
       "      <th>14931</th>\n",
       "      <td>1245</td>\n",
       "      <td>1</td>\n",
       "      <td>0</td>\n",
       "      <td>Senior Visual Designer GB, LND, London     We’...</td>\n",
       "    </tr>\n",
       "    <tr>\n",
       "      <th>...</th>\n",
       "      <td>...</td>\n",
       "      <td>...</td>\n",
       "      <td>...</td>\n",
       "      <td>...</td>\n",
       "    </tr>\n",
       "    <tr>\n",
       "      <th>21575</th>\n",
       "      <td>9871</td>\n",
       "      <td>1</td>\n",
       "      <td>0</td>\n",
       "      <td>Content Marketing Manager PL, ,    We are Netg...</td>\n",
       "    </tr>\n",
       "    <tr>\n",
       "      <th>5390</th>\n",
       "      <td>1994</td>\n",
       "      <td>1</td>\n",
       "      <td>1</td>\n",
       "      <td>Facilities Development Engineer     Aker Solut...</td>\n",
       "    </tr>\n",
       "    <tr>\n",
       "      <th>860</th>\n",
       "      <td>5751</td>\n",
       "      <td>1</td>\n",
       "      <td>1</td>\n",
       "      <td>Agency Sales Managers $150-$175,000/yr US, NY,...</td>\n",
       "    </tr>\n",
       "    <tr>\n",
       "      <th>15795</th>\n",
       "      <td>2405</td>\n",
       "      <td>1</td>\n",
       "      <td>0</td>\n",
       "      <td>Inside Sales Representative (TELECOMMUTE) US, ...</td>\n",
       "    </tr>\n",
       "    <tr>\n",
       "      <th>23654</th>\n",
       "      <td>12321</td>\n",
       "      <td>1</td>\n",
       "      <td>0</td>\n",
       "      <td>Senior Developer US, NY, New York   Essence is...</td>\n",
       "    </tr>\n",
       "  </tbody>\n",
       "</table>\n",
       "<p>18675 rows × 4 columns</p>\n",
       "</div>"
      ],
      "text/plain": [
       "       job_id  has_company_logo  fraudulent                                      combined_text\n",
       "15602    2153                 1           0  Sr.Java Developer jobs in Maryland US, MD, Lan...\n",
       "7872     8684                 1           1  Payroll Clerk US, HI, HONOLULU   At DynCorp In...\n",
       "22942   11425                 1           0  Data Operations Specialist US, CA, San Francis...\n",
       "24950   13909                 1           0  Senior Technical Project Manager GB, CMD, Lond...\n",
       "14931    1245                 1           0  Senior Visual Designer GB, LND, London     We’...\n",
       "...       ...               ...         ...                                                ...\n",
       "21575    9871                 1           0  Content Marketing Manager PL, ,    We are Netg...\n",
       "5390     1994                 1           1  Facilities Development Engineer     Aker Solut...\n",
       "860      5751                 1           1  Agency Sales Managers $150-$175,000/yr US, NY,...\n",
       "15795    2405                 1           0  Inside Sales Representative (TELECOMMUTE) US, ...\n",
       "23654   12321                 1           0  Senior Developer US, NY, New York   Essence is...\n",
       "\n",
       "[18675 rows x 4 columns]"
      ]
     },
     "execution_count": 5,
     "metadata": {},
     "output_type": "execute_result"
    }
   ],
   "source": [
    "data_train"
   ]
  },
  {
   "cell_type": "code",
   "execution_count": 6,
   "id": "065fa5c2",
   "metadata": {},
   "outputs": [
    {
     "name": "stderr",
     "output_type": "stream",
     "text": [
      "[nltk_data] Downloading package averaged_perceptron_tagger_eng to\n",
      "[nltk_data]     c:\\Users\\PC\\Data\\ads_fraud_detection\\.conda\\nltk_data.\n",
      "[nltk_data]     ..\n",
      "[nltk_data]   Package averaged_perceptron_tagger_eng is already up-to-\n",
      "[nltk_data]       date!\n"
     ]
    },
    {
     "data": {
      "text/plain": [
       "True"
      ]
     },
     "execution_count": 6,
     "metadata": {},
     "output_type": "execute_result"
    }
   ],
   "source": [
    "# nltk.download('popular')\n",
    "# nltk.download('punkt_tab')\n",
    "nltk.download('averaged_perceptron_tagger_eng')"
   ]
  },
  {
   "cell_type": "code",
   "execution_count": 7,
   "id": "5f1bcb24",
   "metadata": {},
   "outputs": [
    {
     "name": "stdout",
     "output_type": "stream",
     "text": [
      "corpora/stopwords.zip is already downloaded.\n",
      "tokenizers/punkt.zip is already downloaded.\n"
     ]
    }
   ],
   "source": [
    "import nltk\n",
    "\n",
    "def check_resource(resource_name):\n",
    "    try:\n",
    "        nltk.data.find(resource_name)\n",
    "        print(f\"{resource_name} is already downloaded.\")\n",
    "    except LookupError:\n",
    "        print(f\"{resource_name} not found. Downloading now...\")\n",
    "        nltk.download(resource_name.split('/')[-1])\n",
    "\n",
    "check_resource('corpora/stopwords.zip')\n",
    "check_resource('tokenizers/punkt.zip')\n"
   ]
  },
  {
   "cell_type": "code",
   "execution_count": 8,
   "id": "b3cecbb5",
   "metadata": {},
   "outputs": [],
   "source": [
    "def clean_text(text):\n",
    "    text = text.lower()\n",
    "    text = re.sub(r'<.*?>', '', text)\n",
    "    text = re.sub(r'http\\S+', '', text)\n",
    "    text = re.sub(r'[^a-zA-Z0-9]', ' ', text)\n",
    "    tokens = nltk.word_tokenize(text)\n",
    "    stop_words = set(nltk.corpus.stopwords.words('english'))\n",
    "    tokens = [word for word in tokens if word not in stop_words]\n",
    "    cleaned_text = ' '.join(tokens)\n",
    "    \n",
    "    return cleaned_text"
   ]
  },
  {
   "cell_type": "code",
   "execution_count": 9,
   "id": "05c1e9fd",
   "metadata": {},
   "outputs": [],
   "source": [
    "try:\n",
    "    data['combined_text'] = data['combined_text'].apply(clean_text)\n",
    "except LookupError as e:\n",
    "    print(f\"Missing resource: {e}\")\n",
    "    raise\n"
   ]
  },
  {
   "cell_type": "code",
   "execution_count": 10,
   "id": "2d11c737",
   "metadata": {},
   "outputs": [
    {
     "data": {
      "text/html": [
       "<div>\n",
       "<style scoped>\n",
       "    .dataframe tbody tr th:only-of-type {\n",
       "        vertical-align: middle;\n",
       "    }\n",
       "\n",
       "    .dataframe tbody tr th {\n",
       "        vertical-align: top;\n",
       "    }\n",
       "\n",
       "    .dataframe thead th {\n",
       "        text-align: right;\n",
       "    }\n",
       "</style>\n",
       "<table border=\"1\" class=\"dataframe\">\n",
       "  <thead>\n",
       "    <tr style=\"text-align: right;\">\n",
       "      <th></th>\n",
       "      <th>job_id</th>\n",
       "      <th>has_company_logo</th>\n",
       "      <th>fraudulent</th>\n",
       "      <th>combined_text</th>\n",
       "    </tr>\n",
       "  </thead>\n",
       "  <tbody>\n",
       "    <tr>\n",
       "      <th>0</th>\n",
       "      <td>1860</td>\n",
       "      <td>1</td>\n",
       "      <td>1</td>\n",
       "      <td>head machining department us tx houston aker s...</td>\n",
       "    </tr>\n",
       "    <tr>\n",
       "      <th>1</th>\n",
       "      <td>17808</td>\n",
       "      <td>1</td>\n",
       "      <td>1</td>\n",
       "      <td>remote data entry rep needed us al birmingham ...</td>\n",
       "    </tr>\n",
       "    <tr>\n",
       "      <th>2</th>\n",
       "      <td>11753</td>\n",
       "      <td>1</td>\n",
       "      <td>1</td>\n",
       "      <td>project controls tech us co denver staffing am...</td>\n",
       "    </tr>\n",
       "    <tr>\n",
       "      <th>3</th>\n",
       "      <td>7178</td>\n",
       "      <td>1</td>\n",
       "      <td>1</td>\n",
       "      <td>fraud detection analyst us tx austin 40000 650...</td>\n",
       "    </tr>\n",
       "    <tr>\n",
       "      <th>4</th>\n",
       "      <td>11772</td>\n",
       "      <td>1</td>\n",
       "      <td>1</td>\n",
       "      <td>accounts receivable specialist us ca san mateo...</td>\n",
       "    </tr>\n",
       "    <tr>\n",
       "      <th>...</th>\n",
       "      <td>...</td>\n",
       "      <td>...</td>\n",
       "      <td>...</td>\n",
       "      <td>...</td>\n",
       "    </tr>\n",
       "    <tr>\n",
       "      <th>27869</th>\n",
       "      <td>17873</td>\n",
       "      <td>1</td>\n",
       "      <td>0</td>\n",
       "      <td>product manager us ca san francisco flite deli...</td>\n",
       "    </tr>\n",
       "    <tr>\n",
       "      <th>27870</th>\n",
       "      <td>17874</td>\n",
       "      <td>1</td>\n",
       "      <td>0</td>\n",
       "      <td>recruiting coordinator us nc charlotte respons...</td>\n",
       "    </tr>\n",
       "    <tr>\n",
       "      <th>27871</th>\n",
       "      <td>17876</td>\n",
       "      <td>1</td>\n",
       "      <td>0</td>\n",
       "      <td>account director distribution ca toronto vend ...</td>\n",
       "    </tr>\n",
       "    <tr>\n",
       "      <th>27872</th>\n",
       "      <td>17877</td>\n",
       "      <td>1</td>\n",
       "      <td>0</td>\n",
       "      <td>payroll accountant us pa philadelphia weblinc ...</td>\n",
       "    </tr>\n",
       "    <tr>\n",
       "      <th>27873</th>\n",
       "      <td>17880</td>\n",
       "      <td>1</td>\n",
       "      <td>0</td>\n",
       "      <td>web application developers nz n wellington ven...</td>\n",
       "    </tr>\n",
       "  </tbody>\n",
       "</table>\n",
       "<p>27874 rows × 4 columns</p>\n",
       "</div>"
      ],
      "text/plain": [
       "       job_id  has_company_logo  fraudulent                                      combined_text\n",
       "0        1860                 1           1  head machining department us tx houston aker s...\n",
       "1       17808                 1           1  remote data entry rep needed us al birmingham ...\n",
       "2       11753                 1           1  project controls tech us co denver staffing am...\n",
       "3        7178                 1           1  fraud detection analyst us tx austin 40000 650...\n",
       "4       11772                 1           1  accounts receivable specialist us ca san mateo...\n",
       "...       ...               ...         ...                                                ...\n",
       "27869   17873                 1           0  product manager us ca san francisco flite deli...\n",
       "27870   17874                 1           0  recruiting coordinator us nc charlotte respons...\n",
       "27871   17876                 1           0  account director distribution ca toronto vend ...\n",
       "27872   17877                 1           0  payroll accountant us pa philadelphia weblinc ...\n",
       "27873   17880                 1           0  web application developers nz n wellington ven...\n",
       "\n",
       "[27874 rows x 4 columns]"
      ]
     },
     "execution_count": 10,
     "metadata": {},
     "output_type": "execute_result"
    }
   ],
   "source": [
    "data"
   ]
  },
  {
   "cell_type": "code",
   "execution_count": 11,
   "id": "4659097c",
   "metadata": {},
   "outputs": [
    {
     "data": {
      "text/plain": [
       "job_id              0\n",
       "has_company_logo    0\n",
       "fraudulent          0\n",
       "combined_text       0\n",
       "dtype: int64"
      ]
     },
     "execution_count": 11,
     "metadata": {},
     "output_type": "execute_result"
    }
   ],
   "source": [
    "data.isnull().sum()"
   ]
  },
  {
   "cell_type": "code",
   "execution_count": 12,
   "id": "8a9d9270",
   "metadata": {},
   "outputs": [],
   "source": [
    "# data_train['collision_type']=data_train['collision_type'].replace('?',np.nan)\n",
    "# data_train['collision_type'].fillna(method='ffill',inplace=True)\n",
    "# data_train[['property_damage','police_report_available']]=data_train[['property_damage','police_report_available']].replace('?','Unknow')\n",
    "# (data_train=='?').sum()"
   ]
  },
  {
   "cell_type": "markdown",
   "id": "cb73058e",
   "metadata": {},
   "source": [
    "# 4.Chuẩn hóa dữ liệu"
   ]
  },
  {
   "cell_type": "code",
   "execution_count": 13,
   "id": "841ce28f",
   "metadata": {},
   "outputs": [
    {
     "data": {
      "text/plain": [
       "array(['job_id'], dtype='<U6')"
      ]
     },
     "execution_count": 13,
     "metadata": {},
     "output_type": "execute_result"
    }
   ],
   "source": [
    "numeric_columns=dict(np.load(f'{save_dir}/columns_dtype.npz',allow_pickle=True))['numeric_columns']\n",
    "numeric_columns"
   ]
  },
  {
   "cell_type": "code",
   "execution_count": 14,
   "id": "a2c39a06",
   "metadata": {},
   "outputs": [
    {
     "data": {
      "text/plain": [
       "array(['has_company_logo', 'fraudulent', 'combined_text'], dtype='<U16')"
      ]
     },
     "execution_count": 14,
     "metadata": {},
     "output_type": "execute_result"
    }
   ],
   "source": [
    "category_columns=dict(np.load(f'{save_dir}/columns_dtype.npz',allow_pickle=True))['category_columns']\n",
    "category_columns"
   ]
  },
  {
   "cell_type": "code",
   "execution_count": 15,
   "id": "5604e149",
   "metadata": {},
   "outputs": [
    {
     "name": "stdout",
     "output_type": "stream",
     "text": [
      "c:\\Users\\PC\\Data\\ads_fraud_detection\\.conda\\lib\\site-packages\\en_core_web_sm\n"
     ]
    }
   ],
   "source": [
    "print(spacy.util.get_package_path('en_core_web_sm'))\n"
   ]
  },
  {
   "cell_type": "code",
   "execution_count": 16,
   "id": "a18f327a",
   "metadata": {},
   "outputs": [],
   "source": [
    "nlp = spacy.load(\"en_core_web_sm\")\n",
    "\n",
    "def normalize_text(text):\n",
    "    # Tokenize the text and apply lemmatization\n",
    "    doc = nlp(text)\n",
    "    normalized_words = [token.lemma_ for token in doc]\n",
    "    normalized_text = ' '.join(normalized_words)\n",
    "    return normalized_text\n"
   ]
  },
  {
   "cell_type": "code",
   "execution_count": 17,
   "id": "998471f2",
   "metadata": {},
   "outputs": [],
   "source": [
    "data['combined_text']=data['combined_text'].apply(normalize_text)"
   ]
  },
  {
   "cell_type": "code",
   "execution_count": 18,
   "id": "c169b234",
   "metadata": {},
   "outputs": [],
   "source": [
    "text_columns = ['combined_text']\n",
    "\n",
    "try:\n",
    "    data['pos_features'] = data[text_columns].apply(lambda x: nltk.pos_tag(word_tokenize(x[0])), axis=1)\n",
    "    data['pos_features'] = data['pos_features'].apply(lambda tags: ' '.join(tag[1] for tag in tags))\n",
    "    # data['combined_text'] = data['combined_text'].apply(clean_text)\n",
    "except LookupError as e:\n",
    "    print(f\"Missing resource: {e}\")\n",
    "    raise\n",
    "\n",
    "X = data.drop('fraudulent', axis=1)\n",
    "y = data['fraudulent']\n",
    "\n",
    "vectorizer = CountVectorizer(ngram_range=(1, 2))\n",
    "text_matrix_train = vectorizer.fit_transform(X['combined_text'])\n",
    "pos_matrix_train = vectorizer.transform(X['pos_features'])\n",
    "combined_matrix_train = hstack([text_matrix_train, pos_matrix_train])\n",
    "\n",
    "with open(f'{save_dir}/countvectorizer.pkl', 'wb') as file:\n",
    "    pickle.dump(vectorizer, file)"
   ]
  },
  {
   "cell_type": "code",
   "execution_count": 19,
   "id": "02e6ed87",
   "metadata": {},
   "outputs": [
    {
     "data": {
      "text/html": [
       "<div>\n",
       "<style scoped>\n",
       "    .dataframe tbody tr th:only-of-type {\n",
       "        vertical-align: middle;\n",
       "    }\n",
       "\n",
       "    .dataframe tbody tr th {\n",
       "        vertical-align: top;\n",
       "    }\n",
       "\n",
       "    .dataframe thead th {\n",
       "        text-align: right;\n",
       "    }\n",
       "</style>\n",
       "<table border=\"1\" class=\"dataframe\">\n",
       "  <thead>\n",
       "    <tr style=\"text-align: right;\">\n",
       "      <th></th>\n",
       "      <th>job_id</th>\n",
       "      <th>has_company_logo</th>\n",
       "      <th>fraudulent</th>\n",
       "      <th>combined_text</th>\n",
       "      <th>pos_features</th>\n",
       "    </tr>\n",
       "  </thead>\n",
       "  <tbody>\n",
       "    <tr>\n",
       "      <th>0</th>\n",
       "      <td>1860</td>\n",
       "      <td>1</td>\n",
       "      <td>1</td>\n",
       "      <td>head machining department us tx houston aker s...</td>\n",
       "      <td>NN NN NN PRP VBP JJ NN NN JJ NN NN NN NN NN NN...</td>\n",
       "    </tr>\n",
       "    <tr>\n",
       "      <th>1</th>\n",
       "      <td>17808</td>\n",
       "      <td>1</td>\n",
       "      <td>1</td>\n",
       "      <td>remote data entry rep need we al birmingham 30...</td>\n",
       "      <td>VB NNS NN VBP IN PRP VBP JJ CD CD NN NN VBP JJ...</td>\n",
       "    </tr>\n",
       "    <tr>\n",
       "      <th>2</th>\n",
       "      <td>11753</td>\n",
       "      <td>1</td>\n",
       "      <td>1</td>\n",
       "      <td>project control tech we co denver staff amp re...</td>\n",
       "      <td>NN NN IN PRP VBP JJ NN NN NN VB JJ NN VB NN NN...</td>\n",
       "    </tr>\n",
       "    <tr>\n",
       "      <th>3</th>\n",
       "      <td>7178</td>\n",
       "      <td>1</td>\n",
       "      <td>1</td>\n",
       "      <td>fraud detection analyst us tx austin 40000 650...</td>\n",
       "      <td>NN NN NN PRP VBP JJ CD CD NN JJ NN NN NN NN VB...</td>\n",
       "    </tr>\n",
       "    <tr>\n",
       "      <th>4</th>\n",
       "      <td>11772</td>\n",
       "      <td>1</td>\n",
       "      <td>1</td>\n",
       "      <td>account receivable specialist we ca san mateo ...</td>\n",
       "      <td>NN JJ NN PRP MD VB JJ NN VBG NN NN VBG NNS JJ ...</td>\n",
       "    </tr>\n",
       "    <tr>\n",
       "      <th>...</th>\n",
       "      <td>...</td>\n",
       "      <td>...</td>\n",
       "      <td>...</td>\n",
       "      <td>...</td>\n",
       "      <td>...</td>\n",
       "    </tr>\n",
       "    <tr>\n",
       "      <th>27869</th>\n",
       "      <td>17873</td>\n",
       "      <td>1</td>\n",
       "      <td>0</td>\n",
       "      <td>product manager we ca san francisco flite deli...</td>\n",
       "      <td>NN NN PRP MD VB JJ JJ NN NN NN JJ NN NN NN NN ...</td>\n",
       "    </tr>\n",
       "    <tr>\n",
       "      <th>27870</th>\n",
       "      <td>17874</td>\n",
       "      <td>1</td>\n",
       "      <td>0</td>\n",
       "      <td>recruiting coordinator us nc charlotte respons...</td>\n",
       "      <td>VBG NN PRP IN NN NN VBP VBG VBG NN RB JJ JJ NN...</td>\n",
       "    </tr>\n",
       "    <tr>\n",
       "      <th>27871</th>\n",
       "      <td>17876</td>\n",
       "      <td>1</td>\n",
       "      <td>0</td>\n",
       "      <td>account director distribution ca toronto vend ...</td>\n",
       "      <td>NN NN NN MD VB JJ NN JJ JJ NN VBN NN PRP VBP J...</td>\n",
       "    </tr>\n",
       "    <tr>\n",
       "      <th>27872</th>\n",
       "      <td>17877</td>\n",
       "      <td>1</td>\n",
       "      <td>0</td>\n",
       "      <td>payroll accountant we pa philadelphia weblinc ...</td>\n",
       "      <td>NN NN PRP VBP JJ NN NN NN NN NN NN JJ NN NN NN...</td>\n",
       "    </tr>\n",
       "    <tr>\n",
       "      <th>27873</th>\n",
       "      <td>17880</td>\n",
       "      <td>1</td>\n",
       "      <td>0</td>\n",
       "      <td>web application developer nz n wellington vend...</td>\n",
       "      <td>JJ NN NN NN IN JJ NN VBP JJ JJ NN VBN NN PRP V...</td>\n",
       "    </tr>\n",
       "  </tbody>\n",
       "</table>\n",
       "<p>27874 rows × 5 columns</p>\n",
       "</div>"
      ],
      "text/plain": [
       "       job_id  has_company_logo  fraudulent                                      combined_text                                       pos_features\n",
       "0        1860                 1           1  head machining department us tx houston aker s...  NN NN NN PRP VBP JJ NN NN JJ NN NN NN NN NN NN...\n",
       "1       17808                 1           1  remote data entry rep need we al birmingham 30...  VB NNS NN VBP IN PRP VBP JJ CD CD NN NN VBP JJ...\n",
       "2       11753                 1           1  project control tech we co denver staff amp re...  NN NN IN PRP VBP JJ NN NN NN VB JJ NN VB NN NN...\n",
       "3        7178                 1           1  fraud detection analyst us tx austin 40000 650...  NN NN NN PRP VBP JJ CD CD NN JJ NN NN NN NN VB...\n",
       "4       11772                 1           1  account receivable specialist we ca san mateo ...  NN JJ NN PRP MD VB JJ NN VBG NN NN VBG NNS JJ ...\n",
       "...       ...               ...         ...                                                ...                                                ...\n",
       "27869   17873                 1           0  product manager we ca san francisco flite deli...  NN NN PRP MD VB JJ JJ NN NN NN JJ NN NN NN NN ...\n",
       "27870   17874                 1           0  recruiting coordinator us nc charlotte respons...  VBG NN PRP IN NN NN VBP VBG VBG NN RB JJ JJ NN...\n",
       "27871   17876                 1           0  account director distribution ca toronto vend ...  NN NN NN MD VB JJ NN JJ JJ NN VBN NN PRP VBP J...\n",
       "27872   17877                 1           0  payroll accountant we pa philadelphia weblinc ...  NN NN PRP VBP JJ NN NN NN NN NN NN JJ NN NN NN...\n",
       "27873   17880                 1           0  web application developer nz n wellington vend...  JJ NN NN NN IN JJ NN VBP JJ JJ NN VBN NN PRP V...\n",
       "\n",
       "[27874 rows x 5 columns]"
      ]
     },
     "execution_count": 19,
     "metadata": {},
     "output_type": "execute_result"
    }
   ],
   "source": [
    "data"
   ]
  },
  {
   "cell_type": "code",
   "execution_count": 20,
   "id": "d203d1e2",
   "metadata": {},
   "outputs": [],
   "source": [
    "X=combined_matrix_train\n",
    "y=data['fraudulent'].values"
   ]
  },
  {
   "cell_type": "code",
   "execution_count": 21,
   "id": "2c6b47a7",
   "metadata": {},
   "outputs": [
    {
     "ename": "MemoryError",
     "evalue": "Unable to allocate 346. GiB for an array with shape (27874, 1667122) and data type int64",
     "output_type": "error",
     "traceback": [
      "\u001b[1;31m---------------------------------------------------------------------------\u001b[0m",
      "\u001b[1;31mMemoryError\u001b[0m                               Traceback (most recent call last)",
      "Cell \u001b[1;32mIn[21], line 1\u001b[0m\n\u001b[1;32m----> 1\u001b[0m X_dense \u001b[38;5;241m=\u001b[39m \u001b[43mX\u001b[49m\u001b[38;5;241;43m.\u001b[39;49m\u001b[43mtoarray\u001b[49m\u001b[43m(\u001b[49m\u001b[43m)\u001b[49m\n\u001b[0;32m      3\u001b[0m X \u001b[38;5;241m=\u001b[39m pd\u001b[38;5;241m.\u001b[39mDataFrame(X_dense)\n\u001b[0;32m      4\u001b[0m y \u001b[38;5;241m=\u001b[39m pd\u001b[38;5;241m.\u001b[39mDataFrame(y, columns\u001b[38;5;241m=\u001b[39m[\u001b[38;5;124m'\u001b[39m\u001b[38;5;124mfraudulent\u001b[39m\u001b[38;5;124m'\u001b[39m])\n",
      "File \u001b[1;32mc:\\Users\\PC\\Data\\ads_fraud_detection\\.conda\\lib\\site-packages\\scipy\\sparse\\_compressed.py:1051\u001b[0m, in \u001b[0;36m_cs_matrix.toarray\u001b[1;34m(self, order, out)\u001b[0m\n\u001b[0;32m   1049\u001b[0m \u001b[38;5;28;01mif\u001b[39;00m out \u001b[38;5;129;01mis\u001b[39;00m \u001b[38;5;28;01mNone\u001b[39;00m \u001b[38;5;129;01mand\u001b[39;00m order \u001b[38;5;129;01mis\u001b[39;00m \u001b[38;5;28;01mNone\u001b[39;00m:\n\u001b[0;32m   1050\u001b[0m     order \u001b[38;5;241m=\u001b[39m \u001b[38;5;28mself\u001b[39m\u001b[38;5;241m.\u001b[39m_swap(\u001b[38;5;124m'\u001b[39m\u001b[38;5;124mcf\u001b[39m\u001b[38;5;124m'\u001b[39m)[\u001b[38;5;241m0\u001b[39m]\n\u001b[1;32m-> 1051\u001b[0m out \u001b[38;5;241m=\u001b[39m \u001b[38;5;28;43mself\u001b[39;49m\u001b[38;5;241;43m.\u001b[39;49m\u001b[43m_process_toarray_args\u001b[49m\u001b[43m(\u001b[49m\u001b[43morder\u001b[49m\u001b[43m,\u001b[49m\u001b[43m \u001b[49m\u001b[43mout\u001b[49m\u001b[43m)\u001b[49m\n\u001b[0;32m   1052\u001b[0m \u001b[38;5;28;01mif\u001b[39;00m \u001b[38;5;129;01mnot\u001b[39;00m (out\u001b[38;5;241m.\u001b[39mflags\u001b[38;5;241m.\u001b[39mc_contiguous \u001b[38;5;129;01mor\u001b[39;00m out\u001b[38;5;241m.\u001b[39mflags\u001b[38;5;241m.\u001b[39mf_contiguous):\n\u001b[0;32m   1053\u001b[0m     \u001b[38;5;28;01mraise\u001b[39;00m \u001b[38;5;167;01mValueError\u001b[39;00m(\u001b[38;5;124m'\u001b[39m\u001b[38;5;124mOutput array must be C or F contiguous\u001b[39m\u001b[38;5;124m'\u001b[39m)\n",
      "File \u001b[1;32mc:\\Users\\PC\\Data\\ads_fraud_detection\\.conda\\lib\\site-packages\\scipy\\sparse\\_base.py:1298\u001b[0m, in \u001b[0;36mspmatrix._process_toarray_args\u001b[1;34m(self, order, out)\u001b[0m\n\u001b[0;32m   1296\u001b[0m     \u001b[38;5;28;01mreturn\u001b[39;00m out\n\u001b[0;32m   1297\u001b[0m \u001b[38;5;28;01melse\u001b[39;00m:\n\u001b[1;32m-> 1298\u001b[0m     \u001b[38;5;28;01mreturn\u001b[39;00m \u001b[43mnp\u001b[49m\u001b[38;5;241;43m.\u001b[39;49m\u001b[43mzeros\u001b[49m\u001b[43m(\u001b[49m\u001b[38;5;28;43mself\u001b[39;49m\u001b[38;5;241;43m.\u001b[39;49m\u001b[43mshape\u001b[49m\u001b[43m,\u001b[49m\u001b[43m \u001b[49m\u001b[43mdtype\u001b[49m\u001b[38;5;241;43m=\u001b[39;49m\u001b[38;5;28;43mself\u001b[39;49m\u001b[38;5;241;43m.\u001b[39;49m\u001b[43mdtype\u001b[49m\u001b[43m,\u001b[49m\u001b[43m \u001b[49m\u001b[43morder\u001b[49m\u001b[38;5;241;43m=\u001b[39;49m\u001b[43morder\u001b[49m\u001b[43m)\u001b[49m\n",
      "\u001b[1;31mMemoryError\u001b[0m: Unable to allocate 346. GiB for an array with shape (27874, 1667122) and data type int64"
     ]
    }
   ],
   "source": [
    "X_dense = X.toarray()\n",
    "\n",
    "X = pd.DataFrame(X_dense)\n",
    "y = pd.DataFrame(y, columns=['fraudulent'])\n"
   ]
  },
  {
   "cell_type": "code",
   "execution_count": null,
   "id": "38922e19",
   "metadata": {},
   "outputs": [],
   "source": [
    "x_train, x_test, y_train, y_test = train_test_split(X, y, test_size=0.2, random_state=42)"
   ]
  },
  {
   "cell_type": "code",
   "execution_count": null,
   "id": "b284bb46",
   "metadata": {},
   "outputs": [
    {
     "ename": "AttributeError",
     "evalue": "to_csv not found",
     "output_type": "error",
     "traceback": [
      "\u001b[1;31m---------------------------------------------------------------------------\u001b[0m",
      "\u001b[1;31mAttributeError\u001b[0m                            Traceback (most recent call last)",
      "Cell \u001b[1;32mIn[45], line 3\u001b[0m\n\u001b[0;32m      1\u001b[0m \u001b[38;5;66;03m# x_train=data_train.drop('fraudulent',axis=1)\u001b[39;00m\n\u001b[0;32m      2\u001b[0m \u001b[38;5;66;03m# y_train=data_train['fraudulent']\u001b[39;00m\n\u001b[1;32m----> 3\u001b[0m \u001b[43mx_train\u001b[49m\u001b[38;5;241;43m.\u001b[39;49m\u001b[43mto_csv\u001b[49m(\u001b[38;5;124mf\u001b[39m\u001b[38;5;124m'\u001b[39m\u001b[38;5;132;01m{\u001b[39;00msave_dir\u001b[38;5;132;01m}\u001b[39;00m\u001b[38;5;124m/x_train.csv\u001b[39m\u001b[38;5;124m'\u001b[39m, index\u001b[38;5;241m=\u001b[39m\u001b[38;5;28;01mFalse\u001b[39;00m)\n\u001b[0;32m      4\u001b[0m y_train\u001b[38;5;241m.\u001b[39mto_csv(\u001b[38;5;124mf\u001b[39m\u001b[38;5;124m'\u001b[39m\u001b[38;5;132;01m{\u001b[39;00msave_dir\u001b[38;5;132;01m}\u001b[39;00m\u001b[38;5;124m/y_train.csv\u001b[39m\u001b[38;5;124m'\u001b[39m, index\u001b[38;5;241m=\u001b[39m\u001b[38;5;28;01mFalse\u001b[39;00m)\n",
      "File \u001b[1;32mc:\\Users\\PC\\Data\\ads_fraud_detection\\.conda\\lib\\site-packages\\scipy\\sparse\\_base.py:771\u001b[0m, in \u001b[0;36mspmatrix.__getattr__\u001b[1;34m(self, attr)\u001b[0m\n\u001b[0;32m    769\u001b[0m     \u001b[38;5;28;01mreturn\u001b[39;00m \u001b[38;5;28mself\u001b[39m\u001b[38;5;241m.\u001b[39mgetnnz()\n\u001b[0;32m    770\u001b[0m \u001b[38;5;28;01melse\u001b[39;00m:\n\u001b[1;32m--> 771\u001b[0m     \u001b[38;5;28;01mraise\u001b[39;00m \u001b[38;5;167;01mAttributeError\u001b[39;00m(attr \u001b[38;5;241m+\u001b[39m \u001b[38;5;124m\"\u001b[39m\u001b[38;5;124m not found\u001b[39m\u001b[38;5;124m\"\u001b[39m)\n",
      "\u001b[1;31mAttributeError\u001b[0m: to_csv not found"
     ]
    }
   ],
   "source": [
    "# x_train=data_train.drop('fraudulent',axis=1)\n",
    "# y_train=data_train['fraudulent']\n",
    "x_train.to_csv(f'{save_dir}/x_train.csv', index=False)\n",
    "y_train.to_csv(f'{save_dir}/y_train.csv', index=False)"
   ]
  },
  {
   "cell_type": "code",
   "execution_count": 13,
   "id": "cc40e767",
   "metadata": {},
   "outputs": [
    {
     "data": {
      "text/plain": [
       "{0: 0.5317035512094699, 1: 8.385551948051948}"
      ]
     },
     "execution_count": 13,
     "metadata": {},
     "output_type": "execute_result"
    }
   ],
   "source": [
    "class_weights = compute_class_weight(class_weight='balanced', classes=np.unique(y_train), y=y_train)\n",
    "class_weights_dict = {i : class_weights[i] for i in range(len(class_weights))}\n",
    "np.savez(f'{save_dir}/class_weights_dict.npz', class_weights_dict = class_weights_dict)\n",
    "class_weights_dict"
   ]
  },
  {
   "cell_type": "code",
   "execution_count": 14,
   "id": "c7011ba2",
   "metadata": {},
   "outputs": [],
   "source": [
    "from imblearn.over_sampling import SMOTE\n",
    "x_train, y_train = SMOTE().fit_resample(x_train, y_train)\n",
    "x_train.to_csv(f'{save_dir}/x_train.csv', index=False)\n",
    "y_train.to_csv(f'{save_dir}/y_train.csv', index=False)"
   ]
  },
  {
   "cell_type": "code",
   "execution_count": 15,
   "id": "1ce04b5a",
   "metadata": {},
   "outputs": [
    {
     "name": "stdout",
     "output_type": "stream",
     "text": [
      "+ X_train: 19430\n",
      "Fold 0: \n",
      "+ train_idx: [    0     1     2 ... 19426 19427 19429]\n",
      "+ valid_idx: [    3     6    19 ... 19417 19418 19428]\n",
      "+ train / valid: [    3     6    19 ... 19417 19418 19428]\n",
      "Fold 1: \n",
      "+ train_idx: [    1     2     3 ... 19427 19428 19429]\n",
      "+ valid_idx: [    0     5     8 ... 19423 19425 19426]\n",
      "+ train / valid: [    0     5     8 ... 19423 19425 19426]\n",
      "Fold 2: \n",
      "+ train_idx: [    0     1     2 ... 19427 19428 19429]\n",
      "+ valid_idx: [    7    10    12 ... 19406 19419 19421]\n",
      "+ train / valid: [    7    10    12 ... 19406 19419 19421]\n",
      "Fold 3: \n",
      "+ train_idx: [    0     3     5 ... 19427 19428 19429]\n",
      "+ valid_idx: [    1     2     4 ... 19410 19414 19424]\n",
      "+ train / valid: [    1     2     4 ... 19410 19414 19424]\n",
      "Fold 4: \n",
      "+ train_idx: [    0     1     2 ... 19425 19426 19428]\n",
      "+ valid_idx: [    9    11    13 ... 19422 19427 19429]\n",
      "+ train / valid: [    9    11    13 ... 19422 19427 19429]\n"
     ]
    }
   ],
   "source": [
    "kfold = KFold(n_splits=5, shuffle=True, random_state=42)\n",
    "print(f\"+ X_train: {len(x_train)}\")\n",
    "for fold, (train_idx, valid_idx) in enumerate(kfold.split(x_train, y_train)):\n",
    "    print(f'Fold {fold}: ')\n",
    "    print(f'+ train_idx: {train_idx}')\n",
    "    print(f'+ valid_idx: {valid_idx}')\n",
    "    print(f'+ train / valid: {valid_idx}')\n",
    "    pass"
   ]
  },
  {
   "cell_type": "code",
   "execution_count": 16,
   "id": "72198f43",
   "metadata": {},
   "outputs": [],
   "source": [
    "object_cols_test=dict(np.load(f'{save_dir}/columns_dtype.npz',allow_pickle=True))['category_columns']\n",
    "numeric_cols_test=dict(np.load(f'{save_dir}/columns_dtype.npz',allow_pickle=True))['numeric_columns']\n",
    "# for column in outliers_list:\n",
    "#     data_test = remove_outliers_iqr(data_test, column)\n",
    "# data_test['collision_type'].replace('?',np.nan,inplace=True)\n",
    "# data_test['collision_type'].fillna(method='ffill',inplace=True)\n",
    "# data_test[['property_damage','police_report_available']].replace('?','Unknow',inplace=True)\n",
    "# (data_test=='?').sum()\n",
    "label_encoders = {}\n",
    "for column in object_cols_test:\n",
    "    label_encoder = LabelEncoder()\n",
    "    data_test[column] = label_encoder.fit_transform(data_test[column])\n",
    "    label_encoders[column] = label_encoder  # Lưu trữ label encoder nếu cần sau này\n",
    "\n",
    "scaler = StandardScaler()\n",
    "data_test[numeric_cols_test] = scaler.fit_transform(data_test[numeric_cols_test])\n",
    "\n",
    "x_test=data_test.drop('fraudulent',axis=1)\n",
    "y_test=data_test['fraudulent']\n",
    "data_test.to_csv(f'{save_dir}/df_test_minmax.csv', index=False)\n",
    "x_test.to_csv(f'{save_dir}/x_test.csv', index=False)\n",
    "y_test.to_csv(f'{save_dir}/y_test.csv', index=False)"
   ]
  },
  {
   "cell_type": "code",
   "execution_count": null,
   "id": "49aefbe9",
   "metadata": {},
   "outputs": [],
   "source": []
  },
  {
   "cell_type": "code",
   "execution_count": null,
   "id": "0f06bd62",
   "metadata": {},
   "outputs": [],
   "source": []
  }
 ],
 "metadata": {
  "kernelspec": {
   "display_name": "Python 3 (ipykernel)",
   "language": "python",
   "name": "python3"
  },
  "language_info": {
   "codemirror_mode": {
    "name": "ipython",
    "version": 3
   },
   "file_extension": ".py",
   "mimetype": "text/x-python",
   "name": "python",
   "nbconvert_exporter": "python",
   "pygments_lexer": "ipython3",
   "version": "3.8.19"
  }
 },
 "nbformat": 4,
 "nbformat_minor": 5
}
