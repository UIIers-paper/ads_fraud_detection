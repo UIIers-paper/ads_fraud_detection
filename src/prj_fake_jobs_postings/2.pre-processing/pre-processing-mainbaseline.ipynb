{
 "cells": [
  {
   "cell_type": "markdown",
   "id": "c7f02392",
   "metadata": {
    "papermill": {
     "duration": 0.013943,
     "end_time": "2024-02-15T17:35:41.438176",
     "exception": false,
     "start_time": "2024-02-15T17:35:41.424233",
     "status": "completed"
    },
    "tags": []
   },
   "source": [
    "# Imports"
   ]
  },
  {
   "cell_type": "code",
   "execution_count": 1,
   "id": "1ca75b96",
   "metadata": {
    "execution": {
     "iopub.execute_input": "2024-02-15T17:35:41.466645Z",
     "iopub.status.busy": "2024-02-15T17:35:41.465999Z",
     "iopub.status.idle": "2024-02-15T17:36:25.720336Z",
     "shell.execute_reply": "2024-02-15T17:36:25.719298Z"
    },
    "papermill": {
     "duration": 44.271349,
     "end_time": "2024-02-15T17:36:25.722885",
     "exception": false,
     "start_time": "2024-02-15T17:35:41.451536",
     "status": "completed"
    },
    "scrolled": true,
    "tags": []
   },
   "outputs": [
    {
     "name": "stderr",
     "output_type": "stream",
     "text": [
      "2024-02-15 17:35:46.185523: E external/local_xla/xla/stream_executor/cuda/cuda_dnn.cc:9261] Unable to register cuDNN factory: Attempting to register factory for plugin cuDNN when one has already been registered\n",
      "2024-02-15 17:35:46.185642: E external/local_xla/xla/stream_executor/cuda/cuda_fft.cc:607] Unable to register cuFFT factory: Attempting to register factory for plugin cuFFT when one has already been registered\n",
      "2024-02-15 17:35:46.325682: E external/local_xla/xla/stream_executor/cuda/cuda_blas.cc:1515] Unable to register cuBLAS factory: Attempting to register factory for plugin cuBLAS when one has already been registered\n"
     ]
    }
   ],
   "source": [
    "import sys,os\n",
    "__script_path=os.path.abspath(globals().get('__file__','.'))\n",
    "__script_dir = os.path.dirname(__script_path)\n",
    "root_dir = os.path.abspath(f'{__script_dir}/../..')\n",
    "print(root_dir)\n",
    "for lib in [root_dir][::-1]:\n",
    "    if lib in sys.path:\n",
    "        sys.path.remove(lib)\n",
    "    sys.path.insert(0,lib)\n"
   ]
  },
  {
   "cell_type": "code",
   "execution_count": 2,
   "id": "abcac9af",
   "metadata": {
    "execution": {
     "iopub.execute_input": "2024-02-15T17:36:25.752347Z",
     "iopub.status.busy": "2024-02-15T17:36:25.751665Z",
     "iopub.status.idle": "2024-02-15T17:36:25.756102Z",
     "shell.execute_reply": "2024-02-15T17:36:25.755144Z"
    },
    "papermill": {
     "duration": 0.021486,
     "end_time": "2024-02-15T17:36:25.757963",
     "exception": false,
     "start_time": "2024-02-15T17:36:25.736477",
     "status": "completed"
    },
    "tags": []
   },
   "outputs": [],
   "source": [
    "# pd.options.mode.chained_assignment = None "
   ]
  },
  {
   "cell_type": "code",
   "execution_count": null,
   "id": "68dbfc19",
   "metadata": {},
   "outputs": [],
   "source": [
    "from config.config import *\n",
    "from libs.common import *\n",
    "init_notebook_mode(connected=True)\n",
    "print(tf.__version__) # requires version >= 1.9.0"
   ]
  },
  {
   "cell_type": "code",
   "execution_count": null,
   "id": "05b3dd57",
   "metadata": {},
   "outputs": [],
   "source": [
    "save_dir=f\"{exps_dir}/exp_prj_fake_jobs_postings\"\n",
    "if os.path.exists(save_dir) == False:\n",
    "  os.makedirs(save_dir, exist_ok=True)\n",
    "\n"
   ]
  },
  {
   "cell_type": "markdown",
   "id": "56d3512c",
   "metadata": {
    "papermill": {
     "duration": 0.013197,
     "end_time": "2024-02-15T17:36:25.784742",
     "exception": false,
     "start_time": "2024-02-15T17:36:25.771545",
     "status": "completed"
    },
    "tags": []
   },
   "source": [
    "# Data Exploration"
   ]
  },
  {
   "cell_type": "code",
   "execution_count": 3,
   "id": "2bc11c3a",
   "metadata": {
    "execution": {
     "iopub.execute_input": "2024-02-15T17:36:25.813217Z",
     "iopub.status.busy": "2024-02-15T17:36:25.812468Z",
     "iopub.status.idle": "2024-02-15T17:36:27.264633Z",
     "shell.execute_reply": "2024-02-15T17:36:27.263805Z"
    },
    "papermill": {
     "duration": 1.469091,
     "end_time": "2024-02-15T17:36:27.267186",
     "exception": false,
     "start_time": "2024-02-15T17:36:25.798095",
     "status": "completed"
    },
    "tags": []
   },
   "outputs": [],
   "source": [
    "df = pd.read_csv(f'{save_dir}/fake_job_postings/fake_job_postings.csv')"
   ]
  },
  {
   "cell_type": "code",
   "execution_count": 4,
   "id": "8207d676",
   "metadata": {
    "execution": {
     "iopub.execute_input": "2024-02-15T17:36:27.297169Z",
     "iopub.status.busy": "2024-02-15T17:36:27.296093Z",
     "iopub.status.idle": "2024-02-15T17:36:27.330193Z",
     "shell.execute_reply": "2024-02-15T17:36:27.329256Z"
    },
    "papermill": {
     "duration": 0.05098,
     "end_time": "2024-02-15T17:36:27.332222",
     "exception": false,
     "start_time": "2024-02-15T17:36:27.281242",
     "status": "completed"
    },
    "tags": []
   },
   "outputs": [
    {
     "data": {
      "text/html": [
       "<div>\n",
       "<style scoped>\n",
       "    .dataframe tbody tr th:only-of-type {\n",
       "        vertical-align: middle;\n",
       "    }\n",
       "\n",
       "    .dataframe tbody tr th {\n",
       "        vertical-align: top;\n",
       "    }\n",
       "\n",
       "    .dataframe thead th {\n",
       "        text-align: right;\n",
       "    }\n",
       "</style>\n",
       "<table border=\"1\" class=\"dataframe\">\n",
       "  <thead>\n",
       "    <tr style=\"text-align: right;\">\n",
       "      <th></th>\n",
       "      <th>job_id</th>\n",
       "      <th>title</th>\n",
       "      <th>location</th>\n",
       "      <th>department</th>\n",
       "      <th>salary_range</th>\n",
       "      <th>company_profile</th>\n",
       "      <th>description</th>\n",
       "      <th>requirements</th>\n",
       "      <th>benefits</th>\n",
       "      <th>telecommuting</th>\n",
       "      <th>has_company_logo</th>\n",
       "      <th>has_questions</th>\n",
       "      <th>employment_type</th>\n",
       "      <th>required_experience</th>\n",
       "      <th>required_education</th>\n",
       "      <th>industry</th>\n",
       "      <th>function</th>\n",
       "      <th>fraudulent</th>\n",
       "    </tr>\n",
       "  </thead>\n",
       "  <tbody>\n",
       "    <tr>\n",
       "      <th>0</th>\n",
       "      <td>1</td>\n",
       "      <td>Marketing Intern</td>\n",
       "      <td>US, NY, New York</td>\n",
       "      <td>Marketing</td>\n",
       "      <td>NaN</td>\n",
       "      <td>We're Food52, and we've created a groundbreaki...</td>\n",
       "      <td>Food52, a fast-growing, James Beard Award-winn...</td>\n",
       "      <td>Experience with content management systems a m...</td>\n",
       "      <td>NaN</td>\n",
       "      <td>0</td>\n",
       "      <td>1</td>\n",
       "      <td>0</td>\n",
       "      <td>Other</td>\n",
       "      <td>Internship</td>\n",
       "      <td>NaN</td>\n",
       "      <td>NaN</td>\n",
       "      <td>Marketing</td>\n",
       "      <td>0</td>\n",
       "    </tr>\n",
       "    <tr>\n",
       "      <th>1</th>\n",
       "      <td>2</td>\n",
       "      <td>Customer Service - Cloud Video Production</td>\n",
       "      <td>NZ, , Auckland</td>\n",
       "      <td>Success</td>\n",
       "      <td>NaN</td>\n",
       "      <td>90 Seconds, the worlds Cloud Video Production ...</td>\n",
       "      <td>Organised - Focused - Vibrant - Awesome!Do you...</td>\n",
       "      <td>What we expect from you:Your key responsibilit...</td>\n",
       "      <td>What you will get from usThrough being part of...</td>\n",
       "      <td>0</td>\n",
       "      <td>1</td>\n",
       "      <td>0</td>\n",
       "      <td>Full-time</td>\n",
       "      <td>Not Applicable</td>\n",
       "      <td>NaN</td>\n",
       "      <td>Marketing and Advertising</td>\n",
       "      <td>Customer Service</td>\n",
       "      <td>0</td>\n",
       "    </tr>\n",
       "    <tr>\n",
       "      <th>2</th>\n",
       "      <td>3</td>\n",
       "      <td>Commissioning Machinery Assistant (CMA)</td>\n",
       "      <td>US, IA, Wever</td>\n",
       "      <td>NaN</td>\n",
       "      <td>NaN</td>\n",
       "      <td>Valor Services provides Workforce Solutions th...</td>\n",
       "      <td>Our client, located in Houston, is actively se...</td>\n",
       "      <td>Implement pre-commissioning and commissioning ...</td>\n",
       "      <td>NaN</td>\n",
       "      <td>0</td>\n",
       "      <td>1</td>\n",
       "      <td>0</td>\n",
       "      <td>NaN</td>\n",
       "      <td>NaN</td>\n",
       "      <td>NaN</td>\n",
       "      <td>NaN</td>\n",
       "      <td>NaN</td>\n",
       "      <td>0</td>\n",
       "    </tr>\n",
       "    <tr>\n",
       "      <th>3</th>\n",
       "      <td>4</td>\n",
       "      <td>Account Executive - Washington DC</td>\n",
       "      <td>US, DC, Washington</td>\n",
       "      <td>Sales</td>\n",
       "      <td>NaN</td>\n",
       "      <td>Our passion for improving quality of life thro...</td>\n",
       "      <td>THE COMPANY: ESRI – Environmental Systems Rese...</td>\n",
       "      <td>EDUCATION: Bachelor’s or Master’s in GIS, busi...</td>\n",
       "      <td>Our culture is anything but corporate—we have ...</td>\n",
       "      <td>0</td>\n",
       "      <td>1</td>\n",
       "      <td>0</td>\n",
       "      <td>Full-time</td>\n",
       "      <td>Mid-Senior level</td>\n",
       "      <td>Bachelor's Degree</td>\n",
       "      <td>Computer Software</td>\n",
       "      <td>Sales</td>\n",
       "      <td>0</td>\n",
       "    </tr>\n",
       "    <tr>\n",
       "      <th>4</th>\n",
       "      <td>5</td>\n",
       "      <td>Bill Review Manager</td>\n",
       "      <td>US, FL, Fort Worth</td>\n",
       "      <td>NaN</td>\n",
       "      <td>NaN</td>\n",
       "      <td>SpotSource Solutions LLC is a Global Human Cap...</td>\n",
       "      <td>JOB TITLE: Itemization Review ManagerLOCATION:...</td>\n",
       "      <td>QUALIFICATIONS:RN license in the State of Texa...</td>\n",
       "      <td>Full Benefits Offered</td>\n",
       "      <td>0</td>\n",
       "      <td>1</td>\n",
       "      <td>1</td>\n",
       "      <td>Full-time</td>\n",
       "      <td>Mid-Senior level</td>\n",
       "      <td>Bachelor's Degree</td>\n",
       "      <td>Hospital &amp; Health Care</td>\n",
       "      <td>Health Care Provider</td>\n",
       "      <td>0</td>\n",
       "    </tr>\n",
       "    <tr>\n",
       "      <th>...</th>\n",
       "      <td>...</td>\n",
       "      <td>...</td>\n",
       "      <td>...</td>\n",
       "      <td>...</td>\n",
       "      <td>...</td>\n",
       "      <td>...</td>\n",
       "      <td>...</td>\n",
       "      <td>...</td>\n",
       "      <td>...</td>\n",
       "      <td>...</td>\n",
       "      <td>...</td>\n",
       "      <td>...</td>\n",
       "      <td>...</td>\n",
       "      <td>...</td>\n",
       "      <td>...</td>\n",
       "      <td>...</td>\n",
       "      <td>...</td>\n",
       "      <td>...</td>\n",
       "    </tr>\n",
       "    <tr>\n",
       "      <th>17875</th>\n",
       "      <td>17876</td>\n",
       "      <td>Account Director - Distribution</td>\n",
       "      <td>CA, ON, Toronto</td>\n",
       "      <td>Sales</td>\n",
       "      <td>NaN</td>\n",
       "      <td>Vend is looking for some awesome new talent to...</td>\n",
       "      <td>Just in case this is the first time you’ve vis...</td>\n",
       "      <td>To ace this role you:Will eat comprehensive St...</td>\n",
       "      <td>What can you expect from us?We have an open cu...</td>\n",
       "      <td>0</td>\n",
       "      <td>1</td>\n",
       "      <td>1</td>\n",
       "      <td>Full-time</td>\n",
       "      <td>Mid-Senior level</td>\n",
       "      <td>NaN</td>\n",
       "      <td>Computer Software</td>\n",
       "      <td>Sales</td>\n",
       "      <td>0</td>\n",
       "    </tr>\n",
       "    <tr>\n",
       "      <th>17876</th>\n",
       "      <td>17877</td>\n",
       "      <td>Payroll Accountant</td>\n",
       "      <td>US, PA, Philadelphia</td>\n",
       "      <td>Accounting</td>\n",
       "      <td>NaN</td>\n",
       "      <td>WebLinc is the e-commerce platform and service...</td>\n",
       "      <td>The Payroll Accountant will focus primarily on...</td>\n",
       "      <td>- B.A. or B.S. in Accounting- Desire to have f...</td>\n",
       "      <td>Health &amp;amp; WellnessMedical planPrescription ...</td>\n",
       "      <td>0</td>\n",
       "      <td>1</td>\n",
       "      <td>1</td>\n",
       "      <td>Full-time</td>\n",
       "      <td>Mid-Senior level</td>\n",
       "      <td>Bachelor's Degree</td>\n",
       "      <td>Internet</td>\n",
       "      <td>Accounting/Auditing</td>\n",
       "      <td>0</td>\n",
       "    </tr>\n",
       "    <tr>\n",
       "      <th>17877</th>\n",
       "      <td>17878</td>\n",
       "      <td>Project Cost Control Staff Engineer - Cost Con...</td>\n",
       "      <td>US, TX, Houston</td>\n",
       "      <td>NaN</td>\n",
       "      <td>NaN</td>\n",
       "      <td>We Provide Full Time Permanent Positions for m...</td>\n",
       "      <td>Experienced Project Cost Control Staff Enginee...</td>\n",
       "      <td>At least 12 years professional experience.Abil...</td>\n",
       "      <td>NaN</td>\n",
       "      <td>0</td>\n",
       "      <td>0</td>\n",
       "      <td>0</td>\n",
       "      <td>Full-time</td>\n",
       "      <td>NaN</td>\n",
       "      <td>NaN</td>\n",
       "      <td>NaN</td>\n",
       "      <td>NaN</td>\n",
       "      <td>0</td>\n",
       "    </tr>\n",
       "    <tr>\n",
       "      <th>17878</th>\n",
       "      <td>17879</td>\n",
       "      <td>Graphic Designer</td>\n",
       "      <td>NG, LA, Lagos</td>\n",
       "      <td>NaN</td>\n",
       "      <td>NaN</td>\n",
       "      <td>NaN</td>\n",
       "      <td>Nemsia Studios is looking for an experienced v...</td>\n",
       "      <td>1. Must be fluent in the latest versions of Co...</td>\n",
       "      <td>Competitive salary (compensation will be based...</td>\n",
       "      <td>0</td>\n",
       "      <td>0</td>\n",
       "      <td>1</td>\n",
       "      <td>Contract</td>\n",
       "      <td>Not Applicable</td>\n",
       "      <td>Professional</td>\n",
       "      <td>Graphic Design</td>\n",
       "      <td>Design</td>\n",
       "      <td>0</td>\n",
       "    </tr>\n",
       "    <tr>\n",
       "      <th>17879</th>\n",
       "      <td>17880</td>\n",
       "      <td>Web Application Developers</td>\n",
       "      <td>NZ, N, Wellington</td>\n",
       "      <td>Engineering</td>\n",
       "      <td>NaN</td>\n",
       "      <td>Vend is looking for some awesome new talent to...</td>\n",
       "      <td>Who are we?Vend is an award winning web based ...</td>\n",
       "      <td>We want to hear from you if:You have an in-dep...</td>\n",
       "      <td>NaN</td>\n",
       "      <td>0</td>\n",
       "      <td>1</td>\n",
       "      <td>1</td>\n",
       "      <td>Full-time</td>\n",
       "      <td>Mid-Senior level</td>\n",
       "      <td>NaN</td>\n",
       "      <td>Computer Software</td>\n",
       "      <td>Engineering</td>\n",
       "      <td>0</td>\n",
       "    </tr>\n",
       "  </tbody>\n",
       "</table>\n",
       "<p>17880 rows × 18 columns</p>\n",
       "</div>"
      ],
      "text/plain": [
       "       job_id                                              title  \\\n",
       "0           1                                   Marketing Intern   \n",
       "1           2          Customer Service - Cloud Video Production   \n",
       "2           3            Commissioning Machinery Assistant (CMA)   \n",
       "3           4                  Account Executive - Washington DC   \n",
       "4           5                                Bill Review Manager   \n",
       "...       ...                                                ...   \n",
       "17875   17876                   Account Director - Distribution    \n",
       "17876   17877                                 Payroll Accountant   \n",
       "17877   17878  Project Cost Control Staff Engineer - Cost Con...   \n",
       "17878   17879                                   Graphic Designer   \n",
       "17879   17880                         Web Application Developers   \n",
       "\n",
       "                   location   department salary_range  \\\n",
       "0          US, NY, New York    Marketing          NaN   \n",
       "1            NZ, , Auckland      Success          NaN   \n",
       "2             US, IA, Wever          NaN          NaN   \n",
       "3        US, DC, Washington        Sales          NaN   \n",
       "4        US, FL, Fort Worth          NaN          NaN   \n",
       "...                     ...          ...          ...   \n",
       "17875       CA, ON, Toronto        Sales          NaN   \n",
       "17876  US, PA, Philadelphia   Accounting          NaN   \n",
       "17877       US, TX, Houston          NaN          NaN   \n",
       "17878         NG, LA, Lagos          NaN          NaN   \n",
       "17879     NZ, N, Wellington  Engineering          NaN   \n",
       "\n",
       "                                         company_profile  \\\n",
       "0      We're Food52, and we've created a groundbreaki...   \n",
       "1      90 Seconds, the worlds Cloud Video Production ...   \n",
       "2      Valor Services provides Workforce Solutions th...   \n",
       "3      Our passion for improving quality of life thro...   \n",
       "4      SpotSource Solutions LLC is a Global Human Cap...   \n",
       "...                                                  ...   \n",
       "17875  Vend is looking for some awesome new talent to...   \n",
       "17876  WebLinc is the e-commerce platform and service...   \n",
       "17877  We Provide Full Time Permanent Positions for m...   \n",
       "17878                                                NaN   \n",
       "17879  Vend is looking for some awesome new talent to...   \n",
       "\n",
       "                                             description  \\\n",
       "0      Food52, a fast-growing, James Beard Award-winn...   \n",
       "1      Organised - Focused - Vibrant - Awesome!Do you...   \n",
       "2      Our client, located in Houston, is actively se...   \n",
       "3      THE COMPANY: ESRI – Environmental Systems Rese...   \n",
       "4      JOB TITLE: Itemization Review ManagerLOCATION:...   \n",
       "...                                                  ...   \n",
       "17875  Just in case this is the first time you’ve vis...   \n",
       "17876  The Payroll Accountant will focus primarily on...   \n",
       "17877  Experienced Project Cost Control Staff Enginee...   \n",
       "17878  Nemsia Studios is looking for an experienced v...   \n",
       "17879  Who are we?Vend is an award winning web based ...   \n",
       "\n",
       "                                            requirements  \\\n",
       "0      Experience with content management systems a m...   \n",
       "1      What we expect from you:Your key responsibilit...   \n",
       "2      Implement pre-commissioning and commissioning ...   \n",
       "3      EDUCATION: Bachelor’s or Master’s in GIS, busi...   \n",
       "4      QUALIFICATIONS:RN license in the State of Texa...   \n",
       "...                                                  ...   \n",
       "17875  To ace this role you:Will eat comprehensive St...   \n",
       "17876  - B.A. or B.S. in Accounting- Desire to have f...   \n",
       "17877  At least 12 years professional experience.Abil...   \n",
       "17878  1. Must be fluent in the latest versions of Co...   \n",
       "17879  We want to hear from you if:You have an in-dep...   \n",
       "\n",
       "                                                benefits  telecommuting  \\\n",
       "0                                                    NaN              0   \n",
       "1      What you will get from usThrough being part of...              0   \n",
       "2                                                    NaN              0   \n",
       "3      Our culture is anything but corporate—we have ...              0   \n",
       "4                                  Full Benefits Offered              0   \n",
       "...                                                  ...            ...   \n",
       "17875  What can you expect from us?We have an open cu...              0   \n",
       "17876  Health &amp; WellnessMedical planPrescription ...              0   \n",
       "17877                                                NaN              0   \n",
       "17878  Competitive salary (compensation will be based...              0   \n",
       "17879                                                NaN              0   \n",
       "\n",
       "       has_company_logo  has_questions employment_type required_experience  \\\n",
       "0                     1              0           Other          Internship   \n",
       "1                     1              0       Full-time      Not Applicable   \n",
       "2                     1              0             NaN                 NaN   \n",
       "3                     1              0       Full-time    Mid-Senior level   \n",
       "4                     1              1       Full-time    Mid-Senior level   \n",
       "...                 ...            ...             ...                 ...   \n",
       "17875                 1              1       Full-time    Mid-Senior level   \n",
       "17876                 1              1       Full-time    Mid-Senior level   \n",
       "17877                 0              0       Full-time                 NaN   \n",
       "17878                 0              1        Contract      Not Applicable   \n",
       "17879                 1              1       Full-time    Mid-Senior level   \n",
       "\n",
       "      required_education                   industry              function  \\\n",
       "0                    NaN                        NaN             Marketing   \n",
       "1                    NaN  Marketing and Advertising      Customer Service   \n",
       "2                    NaN                        NaN                   NaN   \n",
       "3      Bachelor's Degree          Computer Software                 Sales   \n",
       "4      Bachelor's Degree     Hospital & Health Care  Health Care Provider   \n",
       "...                  ...                        ...                   ...   \n",
       "17875                NaN          Computer Software                 Sales   \n",
       "17876  Bachelor's Degree                   Internet   Accounting/Auditing   \n",
       "17877                NaN                        NaN                   NaN   \n",
       "17878       Professional             Graphic Design                Design   \n",
       "17879                NaN          Computer Software           Engineering   \n",
       "\n",
       "       fraudulent  \n",
       "0               0  \n",
       "1               0  \n",
       "2               0  \n",
       "3               0  \n",
       "4               0  \n",
       "...           ...  \n",
       "17875           0  \n",
       "17876           0  \n",
       "17877           0  \n",
       "17878           0  \n",
       "17879           0  \n",
       "\n",
       "[17880 rows x 18 columns]"
      ]
     },
     "execution_count": 4,
     "metadata": {},
     "output_type": "execute_result"
    }
   ],
   "source": [
    "df"
   ]
  },
  {
   "cell_type": "markdown",
   "id": "bc63b28f",
   "metadata": {
    "papermill": {
     "duration": 0.030921,
     "end_time": "2024-02-15T17:37:09.213557",
     "exception": false,
     "start_time": "2024-02-15T17:37:09.182636",
     "status": "completed"
    },
    "tags": []
   },
   "source": [
    "# Data Cleaning\n"
   ]
  },
  {
   "cell_type": "code",
   "execution_count": 46,
   "id": "02a8b794",
   "metadata": {
    "execution": {
     "iopub.execute_input": "2024-02-15T17:37:09.276991Z",
     "iopub.status.busy": "2024-02-15T17:37:09.276309Z",
     "iopub.status.idle": "2024-02-15T17:37:09.281664Z",
     "shell.execute_reply": "2024-02-15T17:37:09.280956Z"
    },
    "papermill": {
     "duration": 0.03943,
     "end_time": "2024-02-15T17:37:09.283664",
     "exception": false,
     "start_time": "2024-02-15T17:37:09.244234",
     "status": "completed"
    },
    "tags": []
   },
   "outputs": [],
   "source": [
    "def clean_text(text):\n",
    "    \n",
    "    text = text.lower()\n",
    "    text = re.sub(r'<.*?>', '', text)\n",
    "    text = re.sub(r'http\\S+', '', text)\n",
    "    text = re.sub(r'[^a-zA-Z0-9]', ' ', text)\n",
    "    tokens = nltk.word_tokenize(text)\n",
    "    stop_words = set(nltk.corpus.stopwords.words('english'))\n",
    "    tokens = [word for word in tokens if word not in stop_words]\n",
    "    cleaned_text = ' '.join(tokens)\n",
    "    \n",
    "    return cleaned_text"
   ]
  },
  {
   "cell_type": "code",
   "execution_count": 47,
   "id": "b498aca8",
   "metadata": {
    "execution": {
     "iopub.execute_input": "2024-02-15T17:37:09.347699Z",
     "iopub.status.busy": "2024-02-15T17:37:09.347051Z",
     "iopub.status.idle": "2024-02-15T17:38:20.575421Z",
     "shell.execute_reply": "2024-02-15T17:38:20.574283Z"
    },
    "papermill": {
     "duration": 71.263137,
     "end_time": "2024-02-15T17:38:20.578001",
     "exception": false,
     "start_time": "2024-02-15T17:37:09.314864",
     "status": "completed"
    },
    "tags": []
   },
   "outputs": [],
   "source": [
    "df['combined_text']=df['combined_text'].apply(clean_text)"
   ]
  },
  {
   "cell_type": "code",
   "execution_count": 48,
   "id": "91ec5d6c",
   "metadata": {
    "execution": {
     "iopub.execute_input": "2024-02-15T17:38:20.642639Z",
     "iopub.status.busy": "2024-02-15T17:38:20.641956Z",
     "iopub.status.idle": "2024-02-15T17:38:20.652124Z",
     "shell.execute_reply": "2024-02-15T17:38:20.651129Z"
    },
    "papermill": {
     "duration": 0.044618,
     "end_time": "2024-02-15T17:38:20.654123",
     "exception": false,
     "start_time": "2024-02-15T17:38:20.609505",
     "status": "completed"
    },
    "tags": []
   },
   "outputs": [
    {
     "data": {
      "text/html": [
       "<div>\n",
       "<style scoped>\n",
       "    .dataframe tbody tr th:only-of-type {\n",
       "        vertical-align: middle;\n",
       "    }\n",
       "\n",
       "    .dataframe tbody tr th {\n",
       "        vertical-align: top;\n",
       "    }\n",
       "\n",
       "    .dataframe thead th {\n",
       "        text-align: right;\n",
       "    }\n",
       "</style>\n",
       "<table border=\"1\" class=\"dataframe\">\n",
       "  <thead>\n",
       "    <tr style=\"text-align: right;\">\n",
       "      <th></th>\n",
       "      <th>job_id</th>\n",
       "      <th>has_company_logo</th>\n",
       "      <th>fraudulent</th>\n",
       "      <th>combined_text</th>\n",
       "    </tr>\n",
       "  </thead>\n",
       "  <tbody>\n",
       "    <tr>\n",
       "      <th>0</th>\n",
       "      <td>11543</td>\n",
       "      <td>1</td>\n",
       "      <td>1</td>\n",
       "      <td>director engineering hma security products us ...</td>\n",
       "    </tr>\n",
       "    <tr>\n",
       "      <th>1</th>\n",
       "      <td>3934</td>\n",
       "      <td>1</td>\n",
       "      <td>1</td>\n",
       "      <td>project manager mechanical us ca bakersfield p...</td>\n",
       "    </tr>\n",
       "    <tr>\n",
       "      <th>2</th>\n",
       "      <td>8655</td>\n",
       "      <td>1</td>\n",
       "      <td>1</td>\n",
       "      <td>production supervisor us tx houston 40000 4500...</td>\n",
       "    </tr>\n",
       "    <tr>\n",
       "      <th>3</th>\n",
       "      <td>3270</td>\n",
       "      <td>1</td>\n",
       "      <td>1</td>\n",
       "      <td>process engineer mechanical us ca bakersfield ...</td>\n",
       "    </tr>\n",
       "    <tr>\n",
       "      <th>4</th>\n",
       "      <td>9099</td>\n",
       "      <td>1</td>\n",
       "      <td>1</td>\n",
       "      <td>restaurant manager awarded expatriate lifestyl...</td>\n",
       "    </tr>\n",
       "  </tbody>\n",
       "</table>\n",
       "</div>"
      ],
      "text/plain": [
       "   job_id  has_company_logo  fraudulent  \\\n",
       "0   11543                 1           1   \n",
       "1    3934                 1           1   \n",
       "2    8655                 1           1   \n",
       "3    3270                 1           1   \n",
       "4    9099                 1           1   \n",
       "\n",
       "                                       combined_text  \n",
       "0  director engineering hma security products us ...  \n",
       "1  project manager mechanical us ca bakersfield p...  \n",
       "2  production supervisor us tx houston 40000 4500...  \n",
       "3  process engineer mechanical us ca bakersfield ...  \n",
       "4  restaurant manager awarded expatriate lifestyl...  "
      ]
     },
     "execution_count": 48,
     "metadata": {},
     "output_type": "execute_result"
    }
   ],
   "source": [
    "df.head()"
   ]
  },
  {
   "cell_type": "markdown",
   "id": "8760a558",
   "metadata": {
    "papermill": {
     "duration": 0.030544,
     "end_time": "2024-02-15T17:38:20.715265",
     "exception": false,
     "start_time": "2024-02-15T17:38:20.684721",
     "status": "completed"
    },
    "tags": []
   },
   "source": [
    "# Data Normalization"
   ]
  },
  {
   "cell_type": "markdown",
   "id": "77da32e7",
   "metadata": {
    "papermill": {
     "duration": 0.030468,
     "end_time": "2024-02-15T17:38:20.776339",
     "exception": false,
     "start_time": "2024-02-15T17:38:20.745871",
     "status": "completed"
    },
    "tags": []
   },
   "source": [
    "Using spaCy's English language model (`en_core_web_sm`) for text preprocessing. The function called `normalize_text` tokenizes the input text, lemmatizes each token, and then returns the normalized text."
   ]
  },
  {
   "cell_type": "code",
   "execution_count": 49,
   "id": "832b3108",
   "metadata": {
    "execution": {
     "iopub.execute_input": "2024-02-15T17:38:20.840299Z",
     "iopub.status.busy": "2024-02-15T17:38:20.839547Z",
     "iopub.status.idle": "2024-02-15T17:38:21.793052Z",
     "shell.execute_reply": "2024-02-15T17:38:21.792140Z"
    },
    "papermill": {
     "duration": 0.988357,
     "end_time": "2024-02-15T17:38:21.795527",
     "exception": false,
     "start_time": "2024-02-15T17:38:20.807170",
     "status": "completed"
    },
    "tags": []
   },
   "outputs": [],
   "source": [
    "nlp = spacy.load(\"en_core_web_sm\")\n",
    "\n",
    "def normalize_text(text):\n",
    "    # Tokenize the text and apply lemmatization\n",
    "    doc = nlp(text)\n",
    "    normalized_words = [token.lemma_ for token in doc]\n",
    "    normalized_text = ' '.join(normalized_words)\n",
    "    return normalized_text\n"
   ]
  },
  {
   "cell_type": "code",
   "execution_count": 50,
   "id": "6eb5373b",
   "metadata": {
    "execution": {
     "iopub.execute_input": "2024-02-15T17:38:21.860064Z",
     "iopub.status.busy": "2024-02-15T17:38:21.859248Z",
     "iopub.status.idle": "2024-02-15T17:58:28.631128Z",
     "shell.execute_reply": "2024-02-15T17:58:28.630211Z"
    },
    "papermill": {
     "duration": 1206.806876,
     "end_time": "2024-02-15T17:58:28.633760",
     "exception": false,
     "start_time": "2024-02-15T17:38:21.826884",
     "status": "completed"
    },
    "tags": []
   },
   "outputs": [],
   "source": [
    "df['combined_text']=df['combined_text'].apply(normalize_text)"
   ]
  },
  {
   "cell_type": "markdown",
   "id": "d3e9ab04",
   "metadata": {
    "papermill": {
     "duration": 0.032683,
     "end_time": "2024-02-15T17:58:28.698749",
     "exception": false,
     "start_time": "2024-02-15T17:58:28.666066",
     "status": "completed"
    },
    "tags": []
   },
   "source": [
    "# Feature Extraction"
   ]
  },
  {
   "cell_type": "markdown",
   "id": "dd8f22f3",
   "metadata": {
    "papermill": {
     "duration": 0.039479,
     "end_time": "2024-02-15T17:58:28.768956",
     "exception": false,
     "start_time": "2024-02-15T17:58:28.729477",
     "status": "completed"
    },
    "tags": []
   },
   "source": [
    "Preprocess the text data by applying **Part-of-Speech tagging** and **CountVectorizer**. It generates additional features based on grammatical structures and combines them with original text features. Finally, it saves the vectorizer for consistent preprocessing."
   ]
  },
  {
   "cell_type": "code",
   "execution_count": 51,
   "id": "6ec28d31",
   "metadata": {
    "execution": {
     "iopub.execute_input": "2024-02-15T17:58:28.839684Z",
     "iopub.status.busy": "2024-02-15T17:58:28.839337Z",
     "iopub.status.idle": "2024-02-15T18:08:12.790956Z",
     "shell.execute_reply": "2024-02-15T18:08:12.789756Z"
    },
    "papermill": {
     "duration": 583.987126,
     "end_time": "2024-02-15T18:08:12.793712",
     "exception": false,
     "start_time": "2024-02-15T17:58:28.806586",
     "status": "completed"
    },
    "tags": []
   },
   "outputs": [
    {
     "name": "stderr",
     "output_type": "stream",
     "text": [
      "/tmp/ipykernel_18/3994699578.py:3: FutureWarning: Series.__getitem__ treating keys as positions is deprecated. In a future version, integer keys will always be treated as labels (consistent with DataFrame behavior). To access a value by position, use `ser.iloc[pos]`\n",
      "  df['pos_features'] = df[text_columns].apply(lambda x: nltk.pos_tag(word_tokenize(x[0])), axis=1)\n"
     ]
    }
   ],
   "source": [
    "text_columns = ['combined_text']\n",
    "\n",
    "df['pos_features'] = df[text_columns].apply(lambda x: nltk.pos_tag(word_tokenize(x[0])), axis=1)\n",
    "df['pos_features'] = df['pos_features'].apply(lambda tags: ' '.join(tag[1] for tag in tags))\n",
    "\n",
    "X_train = df.drop('fraudulent', axis=1)\n",
    "y_train = df['fraudulent']\n",
    "\n",
    "vectorizer = CountVectorizer(ngram_range=(1, 2))\n",
    "text_matrix_train = vectorizer.fit_transform(X_train['combined_text'])\n",
    "pos_matrix_train = vectorizer.transform(X_train['pos_features'])\n",
    "combined_matrix_train = hstack([text_matrix_train, pos_matrix_train])\n",
    "\n",
    "with open('countvectorizer.pkl', 'wb') as file:\n",
    "    pickle.dump(vectorizer, file)"
   ]
  },
  {
   "cell_type": "code",
   "execution_count": 52,
   "id": "6ef3a839",
   "metadata": {
    "execution": {
     "iopub.execute_input": "2024-02-15T18:08:12.923374Z",
     "iopub.status.busy": "2024-02-15T18:08:12.922981Z",
     "iopub.status.idle": "2024-02-15T18:08:12.928109Z",
     "shell.execute_reply": "2024-02-15T18:08:12.926878Z"
    },
    "papermill": {
     "duration": 0.040586,
     "end_time": "2024-02-15T18:08:12.930220",
     "exception": false,
     "start_time": "2024-02-15T18:08:12.889634",
     "status": "completed"
    },
    "tags": []
   },
   "outputs": [],
   "source": [
    "X=combined_matrix_train\n",
    "y=df['fraudulent'].values"
   ]
  },
  {
   "cell_type": "code",
   "execution_count": 53,
   "id": "95e40d87",
   "metadata": {
    "execution": {
     "iopub.execute_input": "2024-02-15T18:08:12.994259Z",
     "iopub.status.busy": "2024-02-15T18:08:12.993847Z",
     "iopub.status.idle": "2024-02-15T18:08:13.055249Z",
     "shell.execute_reply": "2024-02-15T18:08:13.054158Z"
    },
    "papermill": {
     "duration": 0.096027,
     "end_time": "2024-02-15T18:08:13.057684",
     "exception": false,
     "start_time": "2024-02-15T18:08:12.961657",
     "status": "completed"
    },
    "tags": []
   },
   "outputs": [],
   "source": [
    "X_train, X_test, y_train, y_test = train_test_split(X, y, test_size=0.2, random_state=42)"
   ]
  }
 ],
 "metadata": {
  "kaggle": {
   "accelerator": "none",
   "dataSources": [
    {
     "datasetId": 533871,
     "sourceId": 976879,
     "sourceType": "datasetVersion"
    }
   ],
   "dockerImageVersionId": 30646,
   "isGpuEnabled": false,
   "isInternetEnabled": true,
   "language": "python",
   "sourceType": "notebook"
  },
  "kernelspec": {
   "display_name": "Python 3",
   "language": "python",
   "name": "python3"
  },
  "language_info": {
   "codemirror_mode": {
    "name": "ipython",
    "version": 3
   },
   "file_extension": ".py",
   "mimetype": "text/x-python",
   "name": "python",
   "nbconvert_exporter": "python",
   "pygments_lexer": "ipython3",
   "version": "3.10.13"
  },
  "papermill": {
   "default_parameters": {},
   "duration": 2569.377369,
   "end_time": "2024-02-15T18:18:28.265737",
   "environment_variables": {},
   "exception": null,
   "input_path": "__notebook__.ipynb",
   "output_path": "__notebook__.ipynb",
   "parameters": {},
   "start_time": "2024-02-15T17:35:38.888368",
   "version": "2.5.0"
  }
 },
 "nbformat": 4,
 "nbformat_minor": 5
}
