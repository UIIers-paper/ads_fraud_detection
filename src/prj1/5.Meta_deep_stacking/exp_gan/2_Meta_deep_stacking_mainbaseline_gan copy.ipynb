{
 "cells": [
  {
   "cell_type": "code",
   "execution_count": 1,
   "id": "c1dd1c5b",
   "metadata": {
    "id": "c1dd1c5b",
    "outputId": "09170fb9-8be1-475b-8a18-39640a3620b7"
   },
   "outputs": [
    {
     "name": "stdout",
     "output_type": "stream",
     "text": [
      "c:\\Users\\Admin\\Data\\ads_fraud_detection\n",
      "c:/Users/Admin/Data/ads_fraud_detection\n"
     ]
    },
    {
     "data": {
      "text/html": [
       "        <script type=\"text/javascript\">\n",
       "        window.PlotlyConfig = {MathJaxConfig: 'local'};\n",
       "        if (window.MathJax && window.MathJax.Hub && window.MathJax.Hub.Config) {window.MathJax.Hub.Config({SVG: {font: \"STIX-Web\"}});}\n",
       "        if (typeof require !== 'undefined') {\n",
       "        require.undef(\"plotly\");\n",
       "        requirejs.config({\n",
       "            paths: {\n",
       "                'plotly': ['https://cdn.plot.ly/plotly-2.35.2.min']\n",
       "            }\n",
       "        });\n",
       "        require(['plotly'], function(Plotly) {\n",
       "            window._Plotly = Plotly;\n",
       "        });\n",
       "        }\n",
       "        </script>\n",
       "        "
      ]
     },
     "metadata": {},
     "output_type": "display_data"
    },
    {
     "data": {
      "text/html": [
       "        <script type=\"text/javascript\">\n",
       "        window.PlotlyConfig = {MathJaxConfig: 'local'};\n",
       "        if (window.MathJax && window.MathJax.Hub && window.MathJax.Hub.Config) {window.MathJax.Hub.Config({SVG: {font: \"STIX-Web\"}});}\n",
       "        if (typeof require !== 'undefined') {\n",
       "        require.undef(\"plotly\");\n",
       "        requirejs.config({\n",
       "            paths: {\n",
       "                'plotly': ['https://cdn.plot.ly/plotly-2.35.2.min']\n",
       "            }\n",
       "        });\n",
       "        require(['plotly'], function(Plotly) {\n",
       "            window._Plotly = Plotly;\n",
       "        });\n",
       "        }\n",
       "        </script>\n",
       "        "
      ]
     },
     "metadata": {},
     "output_type": "display_data"
    }
   ],
   "source": [
    "import sys,os\n",
    "__script_path=os.path.abspath(globals().get('__file__','.'))\n",
    "__script_dir = os.path.dirname(__script_path)\n",
    "root_dir = os.path.abspath(f'{__script_dir}/../../..')\n",
    "print(root_dir)\n",
    "for lib in [root_dir][::-1]:\n",
    "    if lib in sys.path:\n",
    "        sys.path.remove(lib)\n",
    "    sys.path.insert(0,lib)\n",
    "from config.config import *\n",
    "from libs.common import *"
   ]
  },
  {
   "cell_type": "code",
   "execution_count": 2,
   "id": "622aee0d",
   "metadata": {
    "id": "622aee0d"
   },
   "outputs": [],
   "source": [
    "save_dir=f\"{exps_dir}/exp1/exp_gan\"\n",
    "if os.path.exists(save_dir) == False:\n",
    "  os.makedirs(save_dir, exist_ok=True)\n",
    "\n",
    "\n",
    "\n",
    "test_size=0.33\n",
    "seed=42"
   ]
  },
  {
   "cell_type": "code",
   "execution_count": 3,
   "id": "ee0c5839",
   "metadata": {
    "id": "ee0c5839",
    "outputId": "884cf8cb-6205-4a6a-b127-4095bf3f5fda"
   },
   "outputs": [
    {
     "data": {
      "text/plain": [
       "{'LR': ['day_incident_date',\n",
       "  'day_policy_bind_date',\n",
       "  'incident_severity',\n",
       "  'injury_claim',\n",
       "  'month_policy_bind_date',\n",
       "  'policy_annual_premium',\n",
       "  'property_claim',\n",
       "  'total_claim_amount',\n",
       "  'vehicle_claim',\n",
       "  'year_policy_bind_date'],\n",
       " 'LDA': ['day_incident_date',\n",
       "  'incident_severity',\n",
       "  'injury_claim',\n",
       "  'insured_sex',\n",
       "  'month_policy_bind_date',\n",
       "  'policy_annual_premium',\n",
       "  'property_claim',\n",
       "  'total_claim_amount',\n",
       "  'vehicle_claim',\n",
       "  'year_policy_bind_date'],\n",
       " 'DTC': ['day_incident_date',\n",
       "  'incident_severity',\n",
       "  'incident_state',\n",
       "  'injury_claim',\n",
       "  'insured_hobbies',\n",
       "  'insured_occupation',\n",
       "  'month_policy_bind_date',\n",
       "  'policy_annual_premium',\n",
       "  'policy_state',\n",
       "  'year_policy_bind_date'],\n",
       " 'RD': ['day_incident_date',\n",
       "  'incident_severity',\n",
       "  'incident_state',\n",
       "  'injury_claim',\n",
       "  'insured_hobbies',\n",
       "  'policy_annual_premium',\n",
       "  'policy_state',\n",
       "  'property_claim',\n",
       "  'total_claim_amount',\n",
       "  'year_policy_bind_date'],\n",
       " 'LGBM': ['day_incident_date',\n",
       "  'day_policy_bind_date',\n",
       "  'incident_state',\n",
       "  'injury_claim',\n",
       "  'insured_hobbies',\n",
       "  'month_policy_bind_date',\n",
       "  'policy_annual_premium',\n",
       "  'property_claim',\n",
       "  'total_claim_amount',\n",
       "  'year_policy_bind_date'],\n",
       " 'XGB': ['capital-gains',\n",
       "  'day_incident_date',\n",
       "  'incident_severity',\n",
       "  'incident_state',\n",
       "  'insured_hobbies',\n",
       "  'policy_annual_premium',\n",
       "  'policy_state',\n",
       "  'property_damage',\n",
       "  'umbrella_limit',\n",
       "  'year_policy_bind_date'],\n",
       " 'KNC': ['policy_state',\n",
       "  'policy_annual_premium',\n",
       "  'capital-gains',\n",
       "  'incident_severity',\n",
       "  'incident_state',\n",
       "  'total_claim_amount',\n",
       "  'injury_claim',\n",
       "  'day_policy_bind_date',\n",
       "  'month_policy_bind_date',\n",
       "  'year_policy_bind_date',\n",
       "  'day_incident_date'],\n",
       " 'GNB': ['policy_state',\n",
       "  'policy_annual_premium',\n",
       "  'capital-gains',\n",
       "  'incident_severity',\n",
       "  'incident_state',\n",
       "  'total_claim_amount',\n",
       "  'injury_claim',\n",
       "  'day_policy_bind_date',\n",
       "  'month_policy_bind_date',\n",
       "  'year_policy_bind_date',\n",
       "  'day_incident_date'],\n",
       " 'NN': ['policy_state',\n",
       "  'policy_annual_premium',\n",
       "  'capital-gains',\n",
       "  'incident_severity',\n",
       "  'incident_state',\n",
       "  'total_claim_amount',\n",
       "  'injury_claim',\n",
       "  'day_policy_bind_date',\n",
       "  'month_policy_bind_date',\n",
       "  'year_policy_bind_date',\n",
       "  'day_incident_date'],\n",
       " 'BG': ['policy_state',\n",
       "  'policy_annual_premium',\n",
       "  'capital-gains',\n",
       "  'incident_severity',\n",
       "  'incident_state',\n",
       "  'total_claim_amount',\n",
       "  'injury_claim',\n",
       "  'day_policy_bind_date',\n",
       "  'month_policy_bind_date',\n",
       "  'year_policy_bind_date',\n",
       "  'day_incident_date'],\n",
       " 'NB': ['policy_state',\n",
       "  'policy_annual_premium',\n",
       "  'capital-gains',\n",
       "  'incident_severity',\n",
       "  'incident_state',\n",
       "  'total_claim_amount',\n",
       "  'injury_claim',\n",
       "  'day_policy_bind_date',\n",
       "  'month_policy_bind_date',\n",
       "  'year_policy_bind_date',\n",
       "  'day_incident_date'],\n",
       " 'SVM': ['policy_state',\n",
       "  'policy_annual_premium',\n",
       "  'capital-gains',\n",
       "  'incident_severity',\n",
       "  'incident_state',\n",
       "  'total_claim_amount',\n",
       "  'injury_claim',\n",
       "  'day_policy_bind_date',\n",
       "  'month_policy_bind_date',\n",
       "  'year_policy_bind_date',\n",
       "  'day_incident_date']}"
      ]
     },
     "execution_count": 3,
     "metadata": {},
     "output_type": "execute_result"
    }
   ],
   "source": [
    "feature_selection=dict(np.load(f'{save_dir}/feature_model_selection.npz',allow_pickle=True))['feature_model_selection']\n",
    "feature_selection = {key: value for key, value in feature_selection.item().items()}\n",
    "feature_selection"
   ]
  },
  {
   "cell_type": "markdown",
   "id": "79d162d6",
   "metadata": {
    "id": "79d162d6"
   },
   "source": [
    "* kiểm tra và tạo các thư mục (nếu chưa có)\n",
    "* tập test 33%"
   ]
  },
  {
   "cell_type": "markdown",
   "id": "5cf7e092",
   "metadata": {
    "id": "5cf7e092"
   },
   "source": [
    "# 5. Xây dựng và đánh giá mô hình học sâu Neutual Network"
   ]
  },
  {
   "cell_type": "code",
   "execution_count": 4,
   "id": "d84bdb3c",
   "metadata": {
    "id": "d84bdb3c"
   },
   "outputs": [],
   "source": [
    "xgb_model=joblib.load(f'{save_dir}/xgb_model.joblib')\n",
    "rf_model=joblib.load(f'{save_dir}/rf_model.joblib')\n",
    "lgbm_model=joblib.load(f'{save_dir}/lgbm_model.joblib')"
   ]
  },
  {
   "cell_type": "code",
   "execution_count": 5,
   "id": "2e81211d",
   "metadata": {
    "id": "2e81211d",
    "outputId": "11c037bb-b65a-420c-b24c-5aeb07d22aad"
   },
   "outputs": [
    {
     "data": {
      "text/plain": [
       "{0: 0.9980430528375733, 1: 1.0019646365422397}"
      ]
     },
     "execution_count": 5,
     "metadata": {},
     "output_type": "execute_result"
    }
   ],
   "source": [
    "x_train=pd.read_excel(f'{save_dir}/x_train.xlsx')\n",
    "y_train=pd.read_excel(f'{save_dir}/y_train.xlsx')\n",
    "x_test=pd.read_excel(f'{save_dir}/x_test.xlsx')\n",
    "y_test=pd.read_excel(f'{save_dir}/y_test.xlsx')\n",
    "class_weights_dict=dict(np.load(f'{save_dir}/class_weights_dict.npz',allow_pickle=True))['class_weights_dict']\n",
    "class_weights_dict = {key: value for key, value in class_weights_dict.item().items()}\n",
    "class_weights_dict"
   ]
  },
  {
   "cell_type": "code",
   "execution_count": 6,
   "id": "334357aa",
   "metadata": {},
   "outputs": [],
   "source": [
    "category_columns=dict(np.load(f'{exps_dir}/exp1/columns_dtype.npz',allow_pickle=True))['category_columns']\n",
    "for column in category_columns:\n",
    "    if column==\"fraud_reported\":\n",
    "        continue\n",
    "    label_encoder = LabelEncoder()\n",
    "    x_test[column] = label_encoder.fit_transform(x_test[column])\n",
    "y_train[column] = label_encoder.fit_transform(y_train[column])\n",
    "y_test[column] = label_encoder.fit_transform(y_test[column])\n"
   ]
  },
  {
   "cell_type": "code",
   "execution_count": 7,
   "id": "dbe87a5e",
   "metadata": {},
   "outputs": [
    {
     "data": {
      "text/html": [
       "<div>\n",
       "<style scoped>\n",
       "    .dataframe tbody tr th:only-of-type {\n",
       "        vertical-align: middle;\n",
       "    }\n",
       "\n",
       "    .dataframe tbody tr th {\n",
       "        vertical-align: top;\n",
       "    }\n",
       "\n",
       "    .dataframe thead th {\n",
       "        text-align: right;\n",
       "    }\n",
       "</style>\n",
       "<table border=\"1\" class=\"dataframe\">\n",
       "  <thead>\n",
       "    <tr style=\"text-align: right;\">\n",
       "      <th></th>\n",
       "      <th>months_as_customer</th>\n",
       "      <th>age</th>\n",
       "      <th>policy_state</th>\n",
       "      <th>policy_csl</th>\n",
       "      <th>policy_deductable</th>\n",
       "      <th>policy_annual_premium</th>\n",
       "      <th>umbrella_limit</th>\n",
       "      <th>insured_sex</th>\n",
       "      <th>insured_education_level</th>\n",
       "      <th>insured_occupation</th>\n",
       "      <th>insured_hobbies</th>\n",
       "      <th>insured_relationship</th>\n",
       "      <th>capital-gains</th>\n",
       "      <th>capital-loss</th>\n",
       "      <th>incident_type</th>\n",
       "      <th>collision_type</th>\n",
       "      <th>incident_severity</th>\n",
       "      <th>authorities_contacted</th>\n",
       "      <th>incident_state</th>\n",
       "      <th>incident_city</th>\n",
       "      <th>incident_hour_of_the_day</th>\n",
       "      <th>number_of_vehicles_involved</th>\n",
       "      <th>property_damage</th>\n",
       "      <th>bodily_injuries</th>\n",
       "      <th>witnesses</th>\n",
       "      <th>police_report_available</th>\n",
       "      <th>total_claim_amount</th>\n",
       "      <th>injury_claim</th>\n",
       "      <th>property_claim</th>\n",
       "      <th>vehicle_claim</th>\n",
       "      <th>auto_make</th>\n",
       "      <th>auto_model</th>\n",
       "      <th>auto_year</th>\n",
       "      <th>day_policy_bind_date</th>\n",
       "      <th>month_policy_bind_date</th>\n",
       "      <th>year_policy_bind_date</th>\n",
       "      <th>day_incident_date</th>\n",
       "      <th>month_incident_date</th>\n",
       "      <th>year_incident_date</th>\n",
       "    </tr>\n",
       "  </thead>\n",
       "  <tbody>\n",
       "    <tr>\n",
       "      <th>0</th>\n",
       "      <td>0</td>\n",
       "      <td>2</td>\n",
       "      <td>11</td>\n",
       "      <td>1</td>\n",
       "      <td>2</td>\n",
       "      <td>-0.135115</td>\n",
       "      <td>0</td>\n",
       "      <td>1</td>\n",
       "      <td>6</td>\n",
       "      <td>2</td>\n",
       "      <td>9</td>\n",
       "      <td>1</td>\n",
       "      <td>-0.940368</td>\n",
       "      <td>0.809323</td>\n",
       "      <td>3</td>\n",
       "      <td>0</td>\n",
       "      <td>3</td>\n",
       "      <td>3</td>\n",
       "      <td>27</td>\n",
       "      <td>52</td>\n",
       "      <td>1</td>\n",
       "      <td>0</td>\n",
       "      <td>1</td>\n",
       "      <td>2</td>\n",
       "      <td>1</td>\n",
       "      <td>2</td>\n",
       "      <td>-1.676803</td>\n",
       "      <td>-1.182425</td>\n",
       "      <td>-1.288254</td>\n",
       "      <td>-1.729038</td>\n",
       "      <td>11</td>\n",
       "      <td>19</td>\n",
       "      <td>2</td>\n",
       "      <td>-1.423969</td>\n",
       "      <td>-0.446155</td>\n",
       "      <td>0.986569</td>\n",
       "      <td>-1.174354</td>\n",
       "      <td>0.998447</td>\n",
       "      <td>0</td>\n",
       "    </tr>\n",
       "    <tr>\n",
       "      <th>1</th>\n",
       "      <td>1</td>\n",
       "      <td>1</td>\n",
       "      <td>12</td>\n",
       "      <td>0</td>\n",
       "      <td>1</td>\n",
       "      <td>0.495180</td>\n",
       "      <td>0</td>\n",
       "      <td>0</td>\n",
       "      <td>2</td>\n",
       "      <td>10</td>\n",
       "      <td>3</td>\n",
       "      <td>2</td>\n",
       "      <td>0.655758</td>\n",
       "      <td>0.809323</td>\n",
       "      <td>2</td>\n",
       "      <td>1</td>\n",
       "      <td>1</td>\n",
       "      <td>1</td>\n",
       "      <td>52</td>\n",
       "      <td>19</td>\n",
       "      <td>2</td>\n",
       "      <td>0</td>\n",
       "      <td>1</td>\n",
       "      <td>2</td>\n",
       "      <td>1</td>\n",
       "      <td>1</td>\n",
       "      <td>0.337853</td>\n",
       "      <td>-0.064942</td>\n",
       "      <td>-0.211904</td>\n",
       "      <td>0.310913</td>\n",
       "      <td>13</td>\n",
       "      <td>28</td>\n",
       "      <td>1</td>\n",
       "      <td>-0.862658</td>\n",
       "      <td>1.249789</td>\n",
       "      <td>-1.531699</td>\n",
       "      <td>1.432852</td>\n",
       "      <td>0.998447</td>\n",
       "      <td>0</td>\n",
       "    </tr>\n",
       "    <tr>\n",
       "      <th>2</th>\n",
       "      <td>1</td>\n",
       "      <td>2</td>\n",
       "      <td>12</td>\n",
       "      <td>2</td>\n",
       "      <td>0</td>\n",
       "      <td>0.341022</td>\n",
       "      <td>0</td>\n",
       "      <td>1</td>\n",
       "      <td>4</td>\n",
       "      <td>8</td>\n",
       "      <td>18</td>\n",
       "      <td>5</td>\n",
       "      <td>-0.940368</td>\n",
       "      <td>0.809323</td>\n",
       "      <td>2</td>\n",
       "      <td>1</td>\n",
       "      <td>0</td>\n",
       "      <td>1</td>\n",
       "      <td>49</td>\n",
       "      <td>106</td>\n",
       "      <td>0</td>\n",
       "      <td>0</td>\n",
       "      <td>1</td>\n",
       "      <td>1</td>\n",
       "      <td>1</td>\n",
       "      <td>1</td>\n",
       "      <td>0.774402</td>\n",
       "      <td>0.034155</td>\n",
       "      <td>-0.116454</td>\n",
       "      <td>0.822176</td>\n",
       "      <td>4</td>\n",
       "      <td>30</td>\n",
       "      <td>0</td>\n",
       "      <td>-0.413609</td>\n",
       "      <td>-1.576785</td>\n",
       "      <td>-1.657613</td>\n",
       "      <td>0.979425</td>\n",
       "      <td>-0.908699</td>\n",
       "      <td>0</td>\n",
       "    </tr>\n",
       "    <tr>\n",
       "      <th>3</th>\n",
       "      <td>1</td>\n",
       "      <td>0</td>\n",
       "      <td>11</td>\n",
       "      <td>2</td>\n",
       "      <td>0</td>\n",
       "      <td>0.005199</td>\n",
       "      <td>0</td>\n",
       "      <td>1</td>\n",
       "      <td>2</td>\n",
       "      <td>11</td>\n",
       "      <td>0</td>\n",
       "      <td>3</td>\n",
       "      <td>-0.940368</td>\n",
       "      <td>-0.503457</td>\n",
       "      <td>2</td>\n",
       "      <td>1</td>\n",
       "      <td>2</td>\n",
       "      <td>2</td>\n",
       "      <td>26</td>\n",
       "      <td>126</td>\n",
       "      <td>0</td>\n",
       "      <td>0</td>\n",
       "      <td>1</td>\n",
       "      <td>2</td>\n",
       "      <td>0</td>\n",
       "      <td>2</td>\n",
       "      <td>0.775198</td>\n",
       "      <td>1.195916</td>\n",
       "      <td>1.002544</td>\n",
       "      <td>0.260909</td>\n",
       "      <td>5</td>\n",
       "      <td>16</td>\n",
       "      <td>1</td>\n",
       "      <td>-0.189085</td>\n",
       "      <td>0.684474</td>\n",
       "      <td>-1.783526</td>\n",
       "      <td>-0.947640</td>\n",
       "      <td>-0.908699</td>\n",
       "      <td>0</td>\n",
       "    </tr>\n",
       "    <tr>\n",
       "      <th>4</th>\n",
       "      <td>0</td>\n",
       "      <td>2</td>\n",
       "      <td>36</td>\n",
       "      <td>0</td>\n",
       "      <td>2</td>\n",
       "      <td>-0.009186</td>\n",
       "      <td>5</td>\n",
       "      <td>0</td>\n",
       "      <td>3</td>\n",
       "      <td>4</td>\n",
       "      <td>16</td>\n",
       "      <td>5</td>\n",
       "      <td>-0.940368</td>\n",
       "      <td>-0.947582</td>\n",
       "      <td>0</td>\n",
       "      <td>2</td>\n",
       "      <td>0</td>\n",
       "      <td>1</td>\n",
       "      <td>49</td>\n",
       "      <td>52</td>\n",
       "      <td>0</td>\n",
       "      <td>1</td>\n",
       "      <td>2</td>\n",
       "      <td>1</td>\n",
       "      <td>0</td>\n",
       "      <td>1</td>\n",
       "      <td>0.237479</td>\n",
       "      <td>1.136879</td>\n",
       "      <td>-0.268768</td>\n",
       "      <td>-0.094220</td>\n",
       "      <td>5</td>\n",
       "      <td>14</td>\n",
       "      <td>2</td>\n",
       "      <td>1.831635</td>\n",
       "      <td>-0.163498</td>\n",
       "      <td>0.860655</td>\n",
       "      <td>0.185927</td>\n",
       "      <td>0.998447</td>\n",
       "      <td>0</td>\n",
       "    </tr>\n",
       "    <tr>\n",
       "      <th>...</th>\n",
       "      <td>...</td>\n",
       "      <td>...</td>\n",
       "      <td>...</td>\n",
       "      <td>...</td>\n",
       "      <td>...</td>\n",
       "      <td>...</td>\n",
       "      <td>...</td>\n",
       "      <td>...</td>\n",
       "      <td>...</td>\n",
       "      <td>...</td>\n",
       "      <td>...</td>\n",
       "      <td>...</td>\n",
       "      <td>...</td>\n",
       "      <td>...</td>\n",
       "      <td>...</td>\n",
       "      <td>...</td>\n",
       "      <td>...</td>\n",
       "      <td>...</td>\n",
       "      <td>...</td>\n",
       "      <td>...</td>\n",
       "      <td>...</td>\n",
       "      <td>...</td>\n",
       "      <td>...</td>\n",
       "      <td>...</td>\n",
       "      <td>...</td>\n",
       "      <td>...</td>\n",
       "      <td>...</td>\n",
       "      <td>...</td>\n",
       "      <td>...</td>\n",
       "      <td>...</td>\n",
       "      <td>...</td>\n",
       "      <td>...</td>\n",
       "      <td>...</td>\n",
       "      <td>...</td>\n",
       "      <td>...</td>\n",
       "      <td>...</td>\n",
       "      <td>...</td>\n",
       "      <td>...</td>\n",
       "      <td>...</td>\n",
       "    </tr>\n",
       "    <tr>\n",
       "      <th>1015</th>\n",
       "      <td>0</td>\n",
       "      <td>2</td>\n",
       "      <td>12</td>\n",
       "      <td>1</td>\n",
       "      <td>0</td>\n",
       "      <td>0.623489</td>\n",
       "      <td>3</td>\n",
       "      <td>0</td>\n",
       "      <td>5</td>\n",
       "      <td>12</td>\n",
       "      <td>8</td>\n",
       "      <td>0</td>\n",
       "      <td>0.598539</td>\n",
       "      <td>0.809323</td>\n",
       "      <td>2</td>\n",
       "      <td>3</td>\n",
       "      <td>2</td>\n",
       "      <td>3</td>\n",
       "      <td>49</td>\n",
       "      <td>147</td>\n",
       "      <td>0</td>\n",
       "      <td>0</td>\n",
       "      <td>2</td>\n",
       "      <td>2</td>\n",
       "      <td>3</td>\n",
       "      <td>1</td>\n",
       "      <td>1.717204</td>\n",
       "      <td>2.102553</td>\n",
       "      <td>1.875808</td>\n",
       "      <td>1.028824</td>\n",
       "      <td>0</td>\n",
       "      <td>31</td>\n",
       "      <td>2</td>\n",
       "      <td>-1.199445</td>\n",
       "      <td>-1.859442</td>\n",
       "      <td>0.608828</td>\n",
       "      <td>0.525998</td>\n",
       "      <td>-0.908699</td>\n",
       "      <td>0</td>\n",
       "    </tr>\n",
       "    <tr>\n",
       "      <th>1016</th>\n",
       "      <td>1</td>\n",
       "      <td>2</td>\n",
       "      <td>12</td>\n",
       "      <td>2</td>\n",
       "      <td>0</td>\n",
       "      <td>-1.738381</td>\n",
       "      <td>5</td>\n",
       "      <td>1</td>\n",
       "      <td>2</td>\n",
       "      <td>6</td>\n",
       "      <td>15</td>\n",
       "      <td>4</td>\n",
       "      <td>0.670816</td>\n",
       "      <td>0.809323</td>\n",
       "      <td>2</td>\n",
       "      <td>3</td>\n",
       "      <td>2</td>\n",
       "      <td>3</td>\n",
       "      <td>52</td>\n",
       "      <td>105</td>\n",
       "      <td>1</td>\n",
       "      <td>0</td>\n",
       "      <td>1</td>\n",
       "      <td>0</td>\n",
       "      <td>2</td>\n",
       "      <td>2</td>\n",
       "      <td>1.195815</td>\n",
       "      <td>1.600740</td>\n",
       "      <td>-0.045374</td>\n",
       "      <td>0.965044</td>\n",
       "      <td>11</td>\n",
       "      <td>21</td>\n",
       "      <td>2</td>\n",
       "      <td>0.035440</td>\n",
       "      <td>0.967132</td>\n",
       "      <td>-0.020739</td>\n",
       "      <td>-0.720927</td>\n",
       "      <td>-0.908699</td>\n",
       "      <td>0</td>\n",
       "    </tr>\n",
       "    <tr>\n",
       "      <th>1017</th>\n",
       "      <td>1</td>\n",
       "      <td>0</td>\n",
       "      <td>4</td>\n",
       "      <td>2</td>\n",
       "      <td>0</td>\n",
       "      <td>1.655908</td>\n",
       "      <td>0</td>\n",
       "      <td>1</td>\n",
       "      <td>2</td>\n",
       "      <td>2</td>\n",
       "      <td>16</td>\n",
       "      <td>2</td>\n",
       "      <td>-0.940368</td>\n",
       "      <td>0.809323</td>\n",
       "      <td>0</td>\n",
       "      <td>3</td>\n",
       "      <td>0</td>\n",
       "      <td>0</td>\n",
       "      <td>8</td>\n",
       "      <td>36</td>\n",
       "      <td>0</td>\n",
       "      <td>2</td>\n",
       "      <td>1</td>\n",
       "      <td>2</td>\n",
       "      <td>1</td>\n",
       "      <td>2</td>\n",
       "      <td>-0.262800</td>\n",
       "      <td>-0.386482</td>\n",
       "      <td>1.519598</td>\n",
       "      <td>-1.525451</td>\n",
       "      <td>9</td>\n",
       "      <td>29</td>\n",
       "      <td>2</td>\n",
       "      <td>0.484489</td>\n",
       "      <td>1.249789</td>\n",
       "      <td>-0.020739</td>\n",
       "      <td>1.432852</td>\n",
       "      <td>0.998447</td>\n",
       "      <td>0</td>\n",
       "    </tr>\n",
       "    <tr>\n",
       "      <th>1018</th>\n",
       "      <td>1</td>\n",
       "      <td>0</td>\n",
       "      <td>11</td>\n",
       "      <td>2</td>\n",
       "      <td>2</td>\n",
       "      <td>1.255443</td>\n",
       "      <td>0</td>\n",
       "      <td>1</td>\n",
       "      <td>5</td>\n",
       "      <td>11</td>\n",
       "      <td>8</td>\n",
       "      <td>2</td>\n",
       "      <td>0.198001</td>\n",
       "      <td>0.809323</td>\n",
       "      <td>2</td>\n",
       "      <td>1</td>\n",
       "      <td>1</td>\n",
       "      <td>1</td>\n",
       "      <td>43</td>\n",
       "      <td>52</td>\n",
       "      <td>1</td>\n",
       "      <td>0</td>\n",
       "      <td>1</td>\n",
       "      <td>0</td>\n",
       "      <td>3</td>\n",
       "      <td>0</td>\n",
       "      <td>0.650925</td>\n",
       "      <td>0.871213</td>\n",
       "      <td>0.689793</td>\n",
       "      <td>0.258868</td>\n",
       "      <td>5</td>\n",
       "      <td>14</td>\n",
       "      <td>1</td>\n",
       "      <td>1.494849</td>\n",
       "      <td>-1.294127</td>\n",
       "      <td>-1.783526</td>\n",
       "      <td>0.866068</td>\n",
       "      <td>-0.908699</td>\n",
       "      <td>0</td>\n",
       "    </tr>\n",
       "    <tr>\n",
       "      <th>1019</th>\n",
       "      <td>0</td>\n",
       "      <td>2</td>\n",
       "      <td>12</td>\n",
       "      <td>2</td>\n",
       "      <td>2</td>\n",
       "      <td>-0.809611</td>\n",
       "      <td>0</td>\n",
       "      <td>0</td>\n",
       "      <td>2</td>\n",
       "      <td>0</td>\n",
       "      <td>0</td>\n",
       "      <td>3</td>\n",
       "      <td>0.758151</td>\n",
       "      <td>-0.261801</td>\n",
       "      <td>0</td>\n",
       "      <td>1</td>\n",
       "      <td>1</td>\n",
       "      <td>0</td>\n",
       "      <td>27</td>\n",
       "      <td>147</td>\n",
       "      <td>1</td>\n",
       "      <td>2</td>\n",
       "      <td>2</td>\n",
       "      <td>0</td>\n",
       "      <td>0</td>\n",
       "      <td>0</td>\n",
       "      <td>0.770419</td>\n",
       "      <td>0.032047</td>\n",
       "      <td>-0.118485</td>\n",
       "      <td>0.818094</td>\n",
       "      <td>13</td>\n",
       "      <td>28</td>\n",
       "      <td>0</td>\n",
       "      <td>-0.862658</td>\n",
       "      <td>-1.011470</td>\n",
       "      <td>-0.650306</td>\n",
       "      <td>-0.720927</td>\n",
       "      <td>0.998447</td>\n",
       "      <td>0</td>\n",
       "    </tr>\n",
       "  </tbody>\n",
       "</table>\n",
       "<p>1020 rows × 39 columns</p>\n",
       "</div>"
      ],
      "text/plain": [
       "      months_as_customer  age  policy_state  policy_csl  policy_deductable  policy_annual_premium  umbrella_limit  insured_sex  insured_education_level  insured_occupation  insured_hobbies  insured_relationship  capital-gains  capital-loss  incident_type  collision_type  incident_severity  authorities_contacted  incident_state  incident_city  incident_hour_of_the_day  number_of_vehicles_involved  property_damage  bodily_injuries  witnesses  police_report_available  total_claim_amount  injury_claim  property_claim  vehicle_claim  auto_make  auto_model  auto_year  day_policy_bind_date  month_policy_bind_date  year_policy_bind_date  day_incident_date  month_incident_date  year_incident_date\n",
       "0                      0    2            11           1                  2              -0.135115               0            1                        6                   2                9                     1      -0.940368      0.809323              3               0                  3                      3              27             52                         1                            0                1                2          1                        2           -1.676803     -1.182425       -1.288254      -1.729038         11          19          2             -1.423969               -0.446155               0.986569          -1.174354             0.998447                   0\n",
       "1                      1    1            12           0                  1               0.495180               0            0                        2                  10                3                     2       0.655758      0.809323              2               1                  1                      1              52             19                         2                            0                1                2          1                        1            0.337853     -0.064942       -0.211904       0.310913         13          28          1             -0.862658                1.249789              -1.531699           1.432852             0.998447                   0\n",
       "2                      1    2            12           2                  0               0.341022               0            1                        4                   8               18                     5      -0.940368      0.809323              2               1                  0                      1              49            106                         0                            0                1                1          1                        1            0.774402      0.034155       -0.116454       0.822176          4          30          0             -0.413609               -1.576785              -1.657613           0.979425            -0.908699                   0\n",
       "3                      1    0            11           2                  0               0.005199               0            1                        2                  11                0                     3      -0.940368     -0.503457              2               1                  2                      2              26            126                         0                            0                1                2          0                        2            0.775198      1.195916        1.002544       0.260909          5          16          1             -0.189085                0.684474              -1.783526          -0.947640            -0.908699                   0\n",
       "4                      0    2            36           0                  2              -0.009186               5            0                        3                   4               16                     5      -0.940368     -0.947582              0               2                  0                      1              49             52                         0                            1                2                1          0                        1            0.237479      1.136879       -0.268768      -0.094220          5          14          2              1.831635               -0.163498               0.860655           0.185927             0.998447                   0\n",
       "...                  ...  ...           ...         ...                ...                    ...             ...          ...                      ...                 ...              ...                   ...            ...           ...            ...             ...                ...                    ...             ...            ...                       ...                          ...              ...              ...        ...                      ...                 ...           ...             ...            ...        ...         ...        ...                   ...                     ...                    ...                ...                  ...                 ...\n",
       "1015                   0    2            12           1                  0               0.623489               3            0                        5                  12                8                     0       0.598539      0.809323              2               3                  2                      3              49            147                         0                            0                2                2          3                        1            1.717204      2.102553        1.875808       1.028824          0          31          2             -1.199445               -1.859442               0.608828           0.525998            -0.908699                   0\n",
       "1016                   1    2            12           2                  0              -1.738381               5            1                        2                   6               15                     4       0.670816      0.809323              2               3                  2                      3              52            105                         1                            0                1                0          2                        2            1.195815      1.600740       -0.045374       0.965044         11          21          2              0.035440                0.967132              -0.020739          -0.720927            -0.908699                   0\n",
       "1017                   1    0             4           2                  0               1.655908               0            1                        2                   2               16                     2      -0.940368      0.809323              0               3                  0                      0               8             36                         0                            2                1                2          1                        2           -0.262800     -0.386482        1.519598      -1.525451          9          29          2              0.484489                1.249789              -0.020739           1.432852             0.998447                   0\n",
       "1018                   1    0            11           2                  2               1.255443               0            1                        5                  11                8                     2       0.198001      0.809323              2               1                  1                      1              43             52                         1                            0                1                0          3                        0            0.650925      0.871213        0.689793       0.258868          5          14          1              1.494849               -1.294127              -1.783526           0.866068            -0.908699                   0\n",
       "1019                   0    2            12           2                  2              -0.809611               0            0                        2                   0                0                     3       0.758151     -0.261801              0               1                  1                      0              27            147                         1                            2                2                0          0                        0            0.770419      0.032047       -0.118485       0.818094         13          28          0             -0.862658               -1.011470              -0.650306          -0.720927             0.998447                   0\n",
       "\n",
       "[1020 rows x 39 columns]"
      ]
     },
     "execution_count": 7,
     "metadata": {},
     "output_type": "execute_result"
    }
   ],
   "source": [
    "x_train"
   ]
  },
  {
   "cell_type": "code",
   "execution_count": 8,
   "id": "9dd43638",
   "metadata": {
    "id": "9dd43638",
    "outputId": "a02718e1-24fc-4e1d-d937-903d57955f80"
   },
   "outputs": [],
   "source": [
    "\n",
    "\n",
    "# # Dữ liệu label đã được mã hóa\n",
    "# def oneHot(arr):\n",
    "#     labels = np.array(arr)\n",
    "#     encoder = OneHotEncoder(sparse=False)\n",
    "\n",
    "#     labels_reshaped = labels.reshape(-1, 1)\n",
    "\n",
    "#     encoder.fit(labels_reshaped)\n",
    "\n",
    "#     onehot_labels = encoder.transform(labels_reshaped)\n",
    "#     # onehot_labels=pd.DataFrame(onehot_labels)\n",
    "#     return onehot_labels\n",
    "\n",
    "# y_train_onehot=oneHot(y_train)\n",
    "# y_test_onehot=oneHot(y_test)\n",
    "# print(y_test_onehot.shape,y_train_onehot.shape)\n"
   ]
  },
  {
   "cell_type": "code",
   "execution_count": 9,
   "id": "6dda6290",
   "metadata": {
    "id": "6dda6290",
    "outputId": "bbb38491-0401-4e47-fdee-da1323b81029"
   },
   "outputs": [
    {
     "data": {
      "text/plain": [
       "(330, 39)"
      ]
     },
     "execution_count": 9,
     "metadata": {},
     "output_type": "execute_result"
    }
   ],
   "source": [
    "x_test.shape"
   ]
  },
  {
   "cell_type": "code",
   "execution_count": 10,
   "id": "f1c3ac7a",
   "metadata": {
    "id": "f1c3ac7a",
    "outputId": "38eb9f4a-5bdb-429c-f4ab-98bdac97ee7d"
   },
   "outputs": [
    {
     "data": {
      "text/plain": [
       "(1020, 39)"
      ]
     },
     "execution_count": 10,
     "metadata": {},
     "output_type": "execute_result"
    }
   ],
   "source": [
    "x_train.shape"
   ]
  },
  {
   "cell_type": "code",
   "execution_count": 11,
   "id": "848e48fb",
   "metadata": {
    "id": "848e48fb"
   },
   "outputs": [],
   "source": [
    "def f1_score(y_true, y_pred):\n",
    "    \"\"\"\n",
    "    Macro F1 score metric.\n",
    "    \"\"\"\n",
    "    y_pred = K.round(y_pred)\n",
    "    true_positives = K.sum(K.round(K.clip(y_true * y_pred, 0, 1)), axis=0)\n",
    "    false_positives = K.sum(K.round(K.clip(y_pred - y_true, 0, 1)), axis=0)\n",
    "    false_negatives = K.sum(K.round(K.clip(y_true - y_pred, 0, 1)), axis=0)\n",
    "    precision = true_positives / (true_positives + false_positives + K.epsilon())\n",
    "    recall = true_positives / (true_positives + false_negatives + K.epsilon())\n",
    "    f1_scores = 2 * (precision * recall) / (precision + recall + K.epsilon())\n",
    "    macro_f1_score = K.mean(f1_scores)\n",
    "\n",
    "    return macro_f1_score"
   ]
  },
  {
   "cell_type": "code",
   "execution_count": 12,
   "id": "fdc4d507",
   "metadata": {},
   "outputs": [],
   "source": [
    "def f1_loss(y_true, y_pred):\n",
    "    y_true = tf.cast(y_true, tf.float32)\n",
    "    y_pred = tf.cast(y_pred, tf.float32)\n",
    "    \n",
    "    # Calculate true positives, predicted positives, and possible positives for each class\n",
    "    tp = tf.reduce_sum(y_true * y_pred, axis=0)\n",
    "    predicted_positives = tf.reduce_sum(y_pred, axis=0)\n",
    "    possible_positives = tf.reduce_sum(y_true, axis=0)\n",
    "    \n",
    "    # Calculate precision and recall for each class\n",
    "    precision = tp / (predicted_positives + tf.keras.backend.epsilon())\n",
    "    recall = tp / (possible_positives + tf.keras.backend.epsilon())\n",
    "    \n",
    "    # Calculate F1 score for each class\n",
    "    f1 = 2 * (precision * recall) / (precision + recall + tf.keras.backend.epsilon())\n",
    "    \n",
    "    # Calculate the macro F1 score\n",
    "    f1_macro = tf.reduce_mean(f1)\n",
    "    \n",
    "    # Return the F1 loss\n",
    "    return 1 - f1_macro"
   ]
  },
  {
   "cell_type": "code",
   "execution_count": 13,
   "id": "01f5fcdf",
   "metadata": {
    "id": "01f5fcdf",
    "outputId": "187e7cd9-8f70-4eae-d11d-c40e1c08c506"
   },
   "outputs": [
    {
     "name": "stdout",
     "output_type": "stream",
     "text": [
      "39\n"
     ]
    }
   ],
   "source": [
    "print(x_train.shape[1])"
   ]
  },
  {
   "cell_type": "markdown",
   "id": "cb6de984",
   "metadata": {
    "id": "cb6de984"
   },
   "source": [
    "#### * Xây dựng model:"
   ]
  },
  {
   "cell_type": "code",
   "execution_count": 14,
   "id": "732f9456",
   "metadata": {
    "id": "732f9456"
   },
   "outputs": [],
   "source": [
    "\n",
    "# early_stopping = EarlyStopping(monitor='f1_score',\n",
    "#                                 mode='max',\n",
    "#     min_delta=0.00005,\n",
    "#     patience=100,\n",
    "#     verbose=1,\n",
    "#     restore_best_weights=True,\n",
    "# )\n",
    "\n",
    "# lr_scheduler = ReduceLROnPlateau(\n",
    "#     monitor='f1_score',\n",
    "#     mode='max',\n",
    "#     factor=0.5,\n",
    "#     patience=10,\n",
    "#     min_lr=0.000001,\n",
    "#     verbose=1,\n",
    "# )\n",
    "# checkpoint_callback = ModelCheckpoint(\n",
    "#     filepath='best_model.h5',  # Đường dẫn để lưu model\n",
    "#     monitor='f1_score',  # Theo dõi val_loss\n",
    "#     mode='max',\n",
    "#     save_best_only=True,  # Lưu lại chỉ model có val_loss tốt nhất\n",
    "#     verbose=1  # Hiển thị thông báo khi lưu model\n",
    "# )\n",
    "\n"
   ]
  },
  {
   "cell_type": "markdown",
   "id": "5ec895de",
   "metadata": {
    "id": "5ec895de"
   },
   "source": [
    "#### * Xây dựng Stacked_model:"
   ]
  },
  {
   "cell_type": "code",
   "execution_count": 15,
   "id": "9b807d4e",
   "metadata": {
    "id": "9b807d4e"
   },
   "outputs": [],
   "source": [
    "from sklearn.base import BaseEstimator, ClassifierMixin\n",
    "import numpy as np\n",
    "import tensorflow as tf\n",
    "from tabnet_keras import TabNetClassifier\n",
    "\n",
    "class TabNetWrapper(BaseEstimator, ClassifierMixin):\n",
    "    def __init__(self, **kwargs):\n",
    "        self.kwargs = kwargs\n",
    "\n",
    "    def fit(self, X, y):\n",
    "        self.model = TabNetClassifier(n_classes = 1, out_activation = 'sigmoid',**self.kwargs)\n",
    "        self.model.compile(optimizer=tf.keras.optimizers.Adam(learning_rate=0.0001), loss=tf.keras.losses.Dice(\n",
    "    reduction='sum_over_batch_size', name='dice'\n",
    "), metrics=['accuracy',f1_score])\n",
    "\n",
    "        self.model.fit(X, y, epochs=100, batch_size=64, class_weight={0:0.6,1:0.4})\n",
    "        return self\n",
    "\n",
    "    def predict(self, X):\n",
    "        proba = self.model.predict(X)\n",
    "        return (proba > 0.5).astype(int)\n",
    "\n",
    "    def predict_proba(self, X):\n",
    "        return self.model.predict(X)\n",
    "\n",
    "    def summary(self):\n",
    "        return self.model.summary()"
   ]
  },
  {
   "cell_type": "code",
   "execution_count": null,
   "id": "071a8a46",
   "metadata": {
    "id": "071a8a46"
   },
   "outputs": [],
   "source": []
  },
  {
   "cell_type": "code",
   "execution_count": 16,
   "id": "14004dd7",
   "metadata": {
    "id": "14004dd7"
   },
   "outputs": [],
   "source": [
    "tabnet_params = {\n",
    "    \"decision_dim\": 16,\n",
    "    \"attention_dim\": 16,\n",
    "    \"n_steps\": 3,\n",
    "    \"n_shared_glus\": 2,\n",
    "    \"n_dependent_glus\": 2,\n",
    "    \"relaxation_factor\": 1.3,\n",
    "    \"epsilon\": 1e-15,\n",
    "    \"momentum\": 0.98,\n",
    "    \"mask_type\": \"softmax\", # can be 'sparsemax' or 'softmax'\n",
    "    \"lambda_sparse\": 1e-3,\n",
    "    \"virtual_batch_splits\": 8 #number of splits for ghost batch normalization, ideally should evenly divide the batch_size\n",
    "}\n",
    "tabnet = TabNetWrapper(**tabnet_params)\n"
   ]
  },
  {
   "cell_type": "code",
   "execution_count": 18,
   "id": "8a570436",
   "metadata": {},
   "outputs": [
    {
     "name": "stdout",
     "output_type": "stream",
     "text": [
      "Requirement already satisfied: scikit-learn in c:\\users\\admin\\miniconda3\\envs\\gan_tabular\\lib\\site-packages (1.5.2)\n",
      "Requirement already satisfied: numpy>=1.19.5 in c:\\users\\admin\\miniconda3\\envs\\gan_tabular\\lib\\site-packages (from scikit-learn) (1.26.4)\n",
      "Requirement already satisfied: scipy>=1.6.0 in c:\\users\\admin\\miniconda3\\envs\\gan_tabular\\lib\\site-packages (from scikit-learn) (1.13.1)\n",
      "Requirement already satisfied: joblib>=1.2.0 in c:\\users\\admin\\miniconda3\\envs\\gan_tabular\\lib\\site-packages (from scikit-learn) (1.4.2)\n",
      "Requirement already satisfied: threadpoolctl>=3.1.0 in c:\\users\\admin\\miniconda3\\envs\\gan_tabular\\lib\\site-packages (from scikit-learn) (3.5.0)\n"
     ]
    }
   ],
   "source": [
    "!pip install -U scikit-learn\n"
   ]
  },
  {
   "cell_type": "code",
   "execution_count": 19,
   "id": "c8c4c3c3",
   "metadata": {
    "id": "c8c4c3c3",
    "outputId": "b67a4e4d-52bc-4374-e74d-f8a02a4829fe"
   },
   "outputs": [
    {
     "ename": "AttributeError",
     "evalue": "'DecisionTreeClassifier' object has no attribute 'monotonic_cst'",
     "output_type": "error",
     "traceback": [
      "\u001b[1;31m---------------------------------------------------------------------------\u001b[0m",
      "\u001b[1;31mAttributeError\u001b[0m                            Traceback (most recent call last)",
      "Cell \u001b[1;32mIn[19], line 22\u001b[0m\n\u001b[0;32m      1\u001b[0m \u001b[38;5;28;01mfrom\u001b[39;00m \u001b[38;5;21;01msklearn\u001b[39;00m\u001b[38;5;21;01m.\u001b[39;00m\u001b[38;5;21;01mensemble\u001b[39;00m \u001b[38;5;28;01mimport\u001b[39;00m StackingClassifier\n\u001b[0;32m      3\u001b[0m \u001b[38;5;66;03m# def create_keras_model():\u001b[39;00m\n\u001b[0;32m      4\u001b[0m \u001b[38;5;66;03m#     # Thêm các lớp khác vào đây\u001b[39;00m\n\u001b[0;32m      5\u001b[0m \u001b[38;5;66;03m#     best_model.compile(optimizer='adam', loss='binary_crossentropy', metrics=['accuracy',f1_score])\u001b[39;00m\n\u001b[1;32m   (...)\u001b[0m\n\u001b[0;32m     20\u001b[0m \n\u001b[0;32m     21\u001b[0m \u001b[38;5;66;03m# Dự đoán đầu ra của các mô hình cơ sở\u001b[39;00m\n\u001b[1;32m---> 22\u001b[0m rf_pred \u001b[38;5;241m=\u001b[39m \u001b[43mrf_model\u001b[49m\u001b[38;5;241;43m.\u001b[39;49m\u001b[43mpredict_proba\u001b[49m\u001b[43m(\u001b[49m\u001b[43mx_train\u001b[49m\u001b[43m[\u001b[49m\u001b[43mfeature_selection\u001b[49m\u001b[43m[\u001b[49m\u001b[38;5;124;43m'\u001b[39;49m\u001b[38;5;124;43mRD\u001b[39;49m\u001b[38;5;124;43m'\u001b[39;49m\u001b[43m]\u001b[49m\u001b[43m]\u001b[49m\u001b[43m)\u001b[49m\n\u001b[0;32m     23\u001b[0m svm_pred \u001b[38;5;241m=\u001b[39m lgbm_model\u001b[38;5;241m.\u001b[39mpredict_proba(x_train[feature_selection[\u001b[38;5;124m'\u001b[39m\u001b[38;5;124mLGBM\u001b[39m\u001b[38;5;124m'\u001b[39m]])\n\u001b[0;32m     24\u001b[0m bg_pred \u001b[38;5;241m=\u001b[39m xgb_model\u001b[38;5;241m.\u001b[39mpredict_proba(x_train[feature_selection[\u001b[38;5;124m'\u001b[39m\u001b[38;5;124mXGB\u001b[39m\u001b[38;5;124m'\u001b[39m]])\n",
      "File \u001b[1;32mc:\\Users\\Admin\\miniconda3\\envs\\gan_tabular\\lib\\site-packages\\sklearn\\ensemble\\_forest.py:946\u001b[0m, in \u001b[0;36mForestClassifier.predict_proba\u001b[1;34m(self, X)\u001b[0m\n\u001b[0;32m    944\u001b[0m check_is_fitted(\u001b[38;5;28mself\u001b[39m)\n\u001b[0;32m    945\u001b[0m \u001b[38;5;66;03m# Check data\u001b[39;00m\n\u001b[1;32m--> 946\u001b[0m X \u001b[38;5;241m=\u001b[39m \u001b[38;5;28;43mself\u001b[39;49m\u001b[38;5;241;43m.\u001b[39;49m\u001b[43m_validate_X_predict\u001b[49m\u001b[43m(\u001b[49m\u001b[43mX\u001b[49m\u001b[43m)\u001b[49m\n\u001b[0;32m    948\u001b[0m \u001b[38;5;66;03m# Assign chunk of trees to jobs\u001b[39;00m\n\u001b[0;32m    949\u001b[0m n_jobs, _, _ \u001b[38;5;241m=\u001b[39m _partition_estimators(\u001b[38;5;28mself\u001b[39m\u001b[38;5;241m.\u001b[39mn_estimators, \u001b[38;5;28mself\u001b[39m\u001b[38;5;241m.\u001b[39mn_jobs)\n",
      "File \u001b[1;32mc:\\Users\\Admin\\miniconda3\\envs\\gan_tabular\\lib\\site-packages\\sklearn\\ensemble\\_forest.py:636\u001b[0m, in \u001b[0;36mBaseForest._validate_X_predict\u001b[1;34m(self, X)\u001b[0m\n\u001b[0;32m    633\u001b[0m \u001b[38;5;250m\u001b[39m\u001b[38;5;124;03m\"\"\"\u001b[39;00m\n\u001b[0;32m    634\u001b[0m \u001b[38;5;124;03mValidate X whenever one tries to predict, apply, predict_proba.\"\"\"\u001b[39;00m\n\u001b[0;32m    635\u001b[0m check_is_fitted(\u001b[38;5;28mself\u001b[39m)\n\u001b[1;32m--> 636\u001b[0m \u001b[38;5;28;01mif\u001b[39;00m \u001b[38;5;28;43mself\u001b[39;49m\u001b[38;5;241;43m.\u001b[39;49m\u001b[43mestimators_\u001b[49m\u001b[43m[\u001b[49m\u001b[38;5;241;43m0\u001b[39;49m\u001b[43m]\u001b[49m\u001b[38;5;241;43m.\u001b[39;49m\u001b[43m_support_missing_values\u001b[49m\u001b[43m(\u001b[49m\u001b[43mX\u001b[49m\u001b[43m)\u001b[49m:\n\u001b[0;32m    637\u001b[0m     force_all_finite \u001b[38;5;241m=\u001b[39m \u001b[38;5;124m\"\u001b[39m\u001b[38;5;124mallow-nan\u001b[39m\u001b[38;5;124m\"\u001b[39m\n\u001b[0;32m    638\u001b[0m \u001b[38;5;28;01melse\u001b[39;00m:\n",
      "File \u001b[1;32mc:\\Users\\Admin\\miniconda3\\envs\\gan_tabular\\lib\\site-packages\\sklearn\\tree\\_classes.py:188\u001b[0m, in \u001b[0;36mBaseDecisionTree._support_missing_values\u001b[1;34m(self, X)\u001b[0m\n\u001b[0;32m    184\u001b[0m \u001b[38;5;28;01mdef\u001b[39;00m \u001b[38;5;21m_support_missing_values\u001b[39m(\u001b[38;5;28mself\u001b[39m, X):\n\u001b[0;32m    185\u001b[0m     \u001b[38;5;28;01mreturn\u001b[39;00m (\n\u001b[0;32m    186\u001b[0m         \u001b[38;5;129;01mnot\u001b[39;00m issparse(X)\n\u001b[0;32m    187\u001b[0m         \u001b[38;5;129;01mand\u001b[39;00m \u001b[38;5;28mself\u001b[39m\u001b[38;5;241m.\u001b[39m_get_tags()[\u001b[38;5;124m\"\u001b[39m\u001b[38;5;124mallow_nan\u001b[39m\u001b[38;5;124m\"\u001b[39m]\n\u001b[1;32m--> 188\u001b[0m         \u001b[38;5;129;01mand\u001b[39;00m \u001b[38;5;28;43mself\u001b[39;49m\u001b[38;5;241;43m.\u001b[39;49m\u001b[43mmonotonic_cst\u001b[49m \u001b[38;5;129;01mis\u001b[39;00m \u001b[38;5;28;01mNone\u001b[39;00m\n\u001b[0;32m    189\u001b[0m     )\n",
      "\u001b[1;31mAttributeError\u001b[0m: 'DecisionTreeClassifier' object has no attribute 'monotonic_cst'"
     ]
    }
   ],
   "source": [
    "from sklearn.ensemble import StackingClassifier\n",
    "\n",
    "# def create_keras_model():\n",
    "#     # Thêm các lớp khác vào đây\n",
    "#     best_model.compile(optimizer='adam', loss='binary_crossentropy', metrics=['accuracy',f1_score])\n",
    "#     best_model.load_weights('weights.h5')\n",
    "#     return best_model\n",
    "\n",
    "# tabnet = KerasClassifier(build_fn=create_keras_model, epochs=10)\n",
    "\n",
    "# rf_model=RandomForestClassifier(n_estimators=100, random_state=seed)\n",
    "# bg_model=GradientBoostingClassifier(n_estimators=100, learning_rate=1.0, max_depth=1, random_state=seed)\n",
    "# svm_model=SVC(kernel='rbf',probability=True, gamma='scale' , random_state=seed)\n",
    "\n",
    "# # Huấn luyện các mô hình cơ sở\n",
    "# rf_model.fit(x_train, y_train)\n",
    "# bg_model.fit(x_train, y_train)\n",
    "# svm_model.fit(x_train, y_train)\n",
    "\n",
    "\n",
    "# Dự đoán đầu ra của các mô hình cơ sở\n",
    "rf_pred = rf_model.predict_proba(x_train[feature_selection['RD']])\n",
    "svm_pred = lgbm_model.predict_proba(x_train[feature_selection['LGBM']])\n",
    "bg_pred = xgb_model.predict_proba(x_train[feature_selection['XGB']])\n",
    "\n",
    "\n",
    "\n",
    "# keras_pred = tabnet.predict(x_test)\n",
    "stacked_input = np.column_stack((rf_pred,svm_pred,bg_pred))\n",
    "\n",
    "\n",
    "#history=model.fit(x=x_train,y=y_train,\n",
    "          #validation_data=(x_test,y_test),class_weight=class_weights_dict ,\n",
    "          #batch_size=64,epochs=120, callbacks=[confusion_matrix_callback])\n",
    "\n",
    "# tabnet = KerasClassifier(build_fn=model_output, tabnet_params=tabnet_params,batch_size=64,epochs=10000,callbacks=[early_stopping,lr_scheduler])\n",
    "\n",
    "# Clone lại để tránh thay đổi trực tiếp vào mô hình gốc\n",
    "# tabnet = clone(tabnet)\n",
    "# Xây dựng mô hình stacking\n",
    "stacked_model = StackingClassifier(\n",
    "    estimators=[('rf',rf_model), ('lgbm',lgbm_model),('xgb',xgb_model)],\n",
    "    final_estimator=tabnet\n",
    ")\n",
    "print(stacked_input.shape)\n",
    "print(y_test.shape)\n",
    "# Tiếp tục với việc huấn luyện và đánh giá mô hình stacking\n",
    "stacked_model.fit(stacked_input, y_train)\n",
    "stacked_pred = stacked_model.predict(stacked_input)\n",
    "# stacked_pred"
   ]
  },
  {
   "cell_type": "code",
   "execution_count": null,
   "id": "939f05dd",
   "metadata": {},
   "outputs": [
    {
     "name": "stdout",
     "output_type": "stream",
     "text": [
      "11/11 [==============================] - 0s 1ms/step\n"
     ]
    }
   ],
   "source": [
    "rf_pred = rf_model.predict_proba(x_test[feature_selection['RD']])\n",
    "svm_pred = lgbm_model.predict_proba(x_test[feature_selection['LGBM']])\n",
    "bg_pred = xgb_model.predict_proba(x_test[feature_selection['XGB']])\n",
    "stacked_input = np.column_stack((rf_pred,svm_pred,bg_pred))\n",
    "stacked_pred = stacked_model.predict(stacked_input)\n"
   ]
  },
  {
   "cell_type": "code",
   "execution_count": null,
   "id": "fc9491d8",
   "metadata": {},
   "outputs": [
    {
     "data": {
      "text/plain": [
       "array([1, 1, 1, 1, 1, 1, 1, 1, 1, 1, 1, 1, 1, 1, 1, 1, 1, 1, 1, 1, 1, 1,\n",
       "       1, 1, 1, 1, 1, 1, 1, 1, 1, 1, 1, 1, 1, 1, 1, 1, 1, 1, 1, 1, 1, 1,\n",
       "       1, 1, 1, 1, 1, 1, 1, 1, 1, 1, 1, 1, 1, 1, 1, 1, 1, 1, 1, 1, 1, 1,\n",
       "       1, 1, 1, 1, 1, 1, 1, 1, 1, 1, 1, 1, 1, 1, 1, 1, 1, 1, 1, 1, 1, 1,\n",
       "       1, 1, 1, 1, 1, 1, 1, 1, 1, 1, 1, 1, 1, 1, 1, 1, 1, 1, 1, 1, 1, 1,\n",
       "       1, 1, 1, 1, 1, 1, 1, 1, 1, 1, 1, 1, 1, 1, 1, 1, 1, 1, 1, 1, 1, 1,\n",
       "       1, 1, 1, 1, 1, 1, 1, 1, 1, 1, 1, 1, 1, 1, 1, 1, 1, 1, 1, 1, 1, 1,\n",
       "       1, 1, 1, 1, 1, 1, 1, 1, 1, 1, 1, 1, 1, 1, 1, 1, 1, 1, 1, 1, 1, 1,\n",
       "       1, 1, 1, 1, 1, 1, 1, 1, 1, 1, 1, 1, 1, 1, 1, 1, 1, 1, 1, 1, 1, 1,\n",
       "       1, 1, 1, 1, 1, 1, 1, 1, 1, 1, 1, 1, 1, 1, 1, 1, 1, 1, 1, 1, 1, 1,\n",
       "       1, 1, 1, 1, 1, 1, 1, 1, 1, 1, 1, 1, 1, 1, 1, 1, 1, 1, 1, 1, 1, 1,\n",
       "       1, 1, 1, 1, 1, 1, 1, 1, 1, 1, 1, 1, 1, 1, 1, 1, 1, 1, 1, 1, 1, 1,\n",
       "       1, 1, 1, 1, 1, 1, 1, 1, 1, 1, 1, 1, 1, 1, 1, 1, 1, 1, 1, 1, 1, 1,\n",
       "       1, 1, 1, 1, 1, 1, 1, 1, 1, 1, 1, 1, 1, 1, 1, 1, 1, 1, 1, 1, 1, 1,\n",
       "       1, 1, 1, 1, 1, 1, 1, 1, 1, 1, 1, 1, 1, 1, 1, 1, 1, 1, 1, 1, 1, 1])"
      ]
     },
     "execution_count": 20,
     "metadata": {},
     "output_type": "execute_result"
    }
   ],
   "source": [
    "stacked_pred"
   ]
  },
  {
   "cell_type": "code",
   "execution_count": null,
   "id": "dff75e76",
   "metadata": {
    "id": "dff75e76",
    "outputId": "ed0e4f8a-273a-42c8-eb75-85080e228b84"
   },
   "outputs": [
    {
     "name": "stdout",
     "output_type": "stream",
     "text": [
      "Accuracy of Stacked Model: 0.26666666666666666\n"
     ]
    }
   ],
   "source": [
    "# stacked_model.fit(stacked_input, y_test)\n",
    "# Dự đoán và đánh giá mô hình stacked\n",
    "# stacked_pred = stacked_model.predict(stacked_input)\n",
    "stacked_pred_labels = (stacked_pred > 0.5).astype(int)\n",
    "accuracy_stacked = accuracy_score(y_test, stacked_pred_labels)\n",
    "print(f'Accuracy of Stacked Model: {accuracy_stacked}')"
   ]
  },
  {
   "cell_type": "markdown",
   "id": "0b2cb867",
   "metadata": {
    "id": "0b2cb867"
   },
   "source": [
    "#### * Kết quả đánh giá mô hình:"
   ]
  },
  {
   "cell_type": "code",
   "execution_count": null,
   "id": "07132b7e",
   "metadata": {
    "id": "07132b7e",
    "outputId": "8fb3e452-7905-484d-f5ef-04833da33634"
   },
   "outputs": [
    {
     "name": "stdout",
     "output_type": "stream",
     "text": [
      "Accuracy: 0.26666666666666666\n",
      "Classification Report:\n",
      "              precision    recall  f1-score   support\n",
      "\n",
      "           1       0.27      1.00      0.42        88\n",
      "           0       0.00      0.00      0.00       242\n",
      "\n",
      "    accuracy                           0.27       330\n",
      "   macro avg       0.13      0.50      0.21       330\n",
      "weighted avg       0.07      0.27      0.11       330\n",
      "\n"
     ]
    }
   ],
   "source": [
    "from sklearn.metrics import accuracy_score, classification_report, confusion_matrix\n",
    "\n",
    "\n",
    "\n",
    "\n",
    "accuracy = accuracy_score(y_test, stacked_pred_labels)\n",
    "print(\"Accuracy:\", accuracy)\n",
    "\n",
    "print(\"Classification Report:\")\n",
    "print(classification_report(y_test, stacked_pred_labels,labels=[1,0]))\n",
    "\n",
    "# print(\"Confusion Matrix:\")\n",
    "# print(confusion_matrix(y_test, y_pred,labels=[1,0]))"
   ]
  },
  {
   "cell_type": "code",
   "execution_count": null,
   "id": "6f218b86",
   "metadata": {
    "id": "6f218b86",
    "outputId": "495d4835-1288-416a-e66f-a491b28390ea"
   },
   "outputs": [
    {
     "data": {
      "image/png": "[encoded data removed]",
      "text/plain": [
       "<Figure size 800x600 with 2 Axes>"
      ]
     },
     "metadata": {},
     "output_type": "display_data"
    }
   ],
   "source": [
    "# Dự đoán\n",
    "\n",
    "\n",
    "# Tính ma trận nhầm lẫn\n",
    "cm = confusion_matrix(y_test, stacked_pred_labels,labels=[1,0])\n",
    "plt.figure(figsize=(8, 6))\n",
    "sns.heatmap(cm, annot=True, fmt='g', cmap='Blues', xticklabels=[1,0], yticklabels=[1,0])\n",
    "plt.title('Confusion Matrix')\n",
    "plt.xlabel('Predicted')\n",
    "plt.ylabel('Actual')\n",
    "plt.show()"
   ]
  },
  {
   "cell_type": "code",
   "execution_count": null,
   "id": "e744c8a6",
   "metadata": {
    "id": "e744c8a6",
    "outputId": "13a87d53-c645-4b60-e4ad-1c59dba8ca90"
   },
   "outputs": [
    {
     "data": {
      "image/png": "[encoded data removed]",
      "text/plain": [
       "<Figure size 1500x1500 with 1 Axes>"
      ]
     },
     "metadata": {},
     "output_type": "display_data"
    }
   ],
   "source": [
    "fig, ax = plt.subplots(1, 1, figsize=(15, 15))\n",
    "\n",
    "fpr, tpr, _ = roc_curve(y_test, stacked_pred)\n",
    "\n",
    "roc_auc = auc(fpr, tpr)\n",
    "\n",
    "ax.plot(fpr, tpr, lw=4, label='ROC curve (AUC = %0.2f)' % roc_auc)\n",
    "ax.plot([0, 1], [0, 1], color='red', lw=2, linestyle='--')\n",
    "ax.set_xlim([0.0, 1.0])\n",
    "ax.set_ylim([0.0, 1.05])\n",
    "ax.set_xlabel('False Positive Rate', fontsize=12, weight='bold')\n",
    "ax.set_ylabel('True Positive Rate', fontsize=12, weight='bold')\n",
    "ax.set_title(f'ROC of Voting',fontsize=20, weight='bold')\n",
    "ax.legend(loc=\"lower right\", prop={'size': 12, 'weight': 'bold'})\n",
    "plt.show()"
   ]
  },
  {
   "cell_type": "code",
   "execution_count": null,
   "id": "c31643d6",
   "metadata": {
    "id": "c31643d6"
   },
   "outputs": [],
   "source": []
  },
  {
   "cell_type": "code",
   "execution_count": null,
   "id": "33e3467b",
   "metadata": {
    "id": "33e3467b"
   },
   "outputs": [],
   "source": []
  }
 ],
 "metadata": {
  "colab": {
   "provenance": []
  },
  "kernelspec": {
   "display_name": "gan_tabular",
   "language": "python",
   "name": "python3"
  },
  "language_info": {
   "codemirror_mode": {
    "name": "ipython",
    "version": 3
   },
   "file_extension": ".py",
   "mimetype": "text/x-python",
   "name": "python",
   "nbconvert_exporter": "python",
   "pygments_lexer": "ipython3",
   "version": "3.10.14"
  }
 },
 "nbformat": 4,
 "nbformat_minor": 5
}
