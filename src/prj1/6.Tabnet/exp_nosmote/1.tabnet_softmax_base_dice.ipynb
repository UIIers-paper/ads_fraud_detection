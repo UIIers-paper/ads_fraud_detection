{
 "cells": [
  {
   "cell_type": "code",
   "execution_count": 1,
   "id": "c1dd1c5b",
   "metadata": {},
   "outputs": [
    {
     "name": "stdout",
     "output_type": "stream",
     "text": [
      "c:\\Users\\Admin\\Data\\ads_fraud_detection\n",
      "c:/Users/Admin/Data/ads_fraud_detection\n"
     ]
    },
    {
     "data": {
      "text/html": [
       "        <script type=\"text/javascript\">\n",
       "        window.PlotlyConfig = {MathJaxConfig: 'local'};\n",
       "        if (window.MathJax && window.MathJax.Hub && window.MathJax.Hub.Config) {window.MathJax.Hub.Config({SVG: {font: \"STIX-Web\"}});}\n",
       "        if (typeof require !== 'undefined') {\n",
       "        require.undef(\"plotly\");\n",
       "        requirejs.config({\n",
       "            paths: {\n",
       "                'plotly': ['https://cdn.plot.ly/plotly-2.35.0.min']\n",
       "            }\n",
       "        });\n",
       "        require(['plotly'], function(Plotly) {\n",
       "            window._Plotly = Plotly;\n",
       "        });\n",
       "        }\n",
       "        </script>\n",
       "        "
      ]
     },
     "metadata": {},
     "output_type": "display_data"
    },
    {
     "data": {
      "text/html": [
       "        <script type=\"text/javascript\">\n",
       "        window.PlotlyConfig = {MathJaxConfig: 'local'};\n",
       "        if (window.MathJax && window.MathJax.Hub && window.MathJax.Hub.Config) {window.MathJax.Hub.Config({SVG: {font: \"STIX-Web\"}});}\n",
       "        if (typeof require !== 'undefined') {\n",
       "        require.undef(\"plotly\");\n",
       "        requirejs.config({\n",
       "            paths: {\n",
       "                'plotly': ['https://cdn.plot.ly/plotly-2.35.0.min']\n",
       "            }\n",
       "        });\n",
       "        require(['plotly'], function(Plotly) {\n",
       "            window._Plotly = Plotly;\n",
       "        });\n",
       "        }\n",
       "        </script>\n",
       "        "
      ]
     },
     "metadata": {},
     "output_type": "display_data"
    }
   ],
   "source": [
    "import sys,os\n",
    "__script_path=os.path.abspath(globals().get('__file__','.'))\n",
    "__script_dir = os.path.dirname(__script_path)\n",
    "root_dir = os.path.abspath(f'{__script_dir}/../../..')\n",
    "print(root_dir)\n",
    "for lib in [root_dir][::-1]:\n",
    "    if lib in sys.path:\n",
    "        sys.path.remove(lib)\n",
    "    sys.path.insert(0,lib)\n",
    "from config.config import *\n",
    "from libs.common import *"
   ]
  },
  {
   "cell_type": "code",
   "execution_count": 2,
   "id": "622aee0d",
   "metadata": {},
   "outputs": [],
   "source": [
    "save_dir=f\"{exps_dir}/exp3/exp_nosmote\"\n",
    "if os.path.exists(save_dir) == False: \n",
    "  os.makedirs(save_dir, exist_ok=True)\n",
    "\n",
    "\n",
    "\n",
    "test_size=0.33\n",
    "seed=42"
   ]
  },
  {
   "cell_type": "code",
   "execution_count": 3,
   "id": "ee0c5839",
   "metadata": {},
   "outputs": [],
   "source": [
    "# feature_selection=dict(np.load(f'{save_dir}/feature_model_selection.npz',allow_pickle=True))['feature_model_selection']\n",
    "# feature_selection = {key: value for key, value in feature_selection.item().items()}\n",
    "# feature_selection"
   ]
  },
  {
   "cell_type": "markdown",
   "id": "79d162d6",
   "metadata": {},
   "source": [
    "* kiểm tra và tạo các thư mục (nếu chưa có)\n",
    "* tập test 33%"
   ]
  },
  {
   "cell_type": "markdown",
   "id": "5cf7e092",
   "metadata": {},
   "source": [
    "# 5. Xây dựng và đánh giá mô hình học sâu Neutual Network"
   ]
  },
  {
   "cell_type": "code",
   "execution_count": 4,
   "id": "d84bdb3c",
   "metadata": {},
   "outputs": [],
   "source": [
    "# bg_model=joblib.load(f'{save_dir}/bg_model.joblib')\n",
    "# rf_model=joblib.load(f'{save_dir}/rf_model.joblib')\n",
    "# svm_model=joblib.load(f'{save_dir}/svm_model.joblib')"
   ]
  },
  {
   "cell_type": "code",
   "execution_count": 5,
   "id": "2e81211d",
   "metadata": {},
   "outputs": [
    {
     "data": {
      "text/plain": [
       "{0: 0.5263984915147706, 1: 9.970238095238095}"
      ]
     },
     "execution_count": 5,
     "metadata": {},
     "output_type": "execute_result"
    }
   ],
   "source": [
    "x_train=pd.read_excel(f'{save_dir}/x_train.xlsx')\n",
    "y_train=pd.read_excel(f'{save_dir}/y_train.xlsx')\n",
    "x_test=pd.read_excel(f'{save_dir}/x_test.xlsx')\n",
    "y_test=pd.read_excel(f'{save_dir}/y_test.xlsx')\n",
    "class_weights_dict=dict(np.load(f'{save_dir}/class_weights_dict.npz',allow_pickle=True))['class_weights_dict']\n",
    "class_weights_dict = {key: value for key, value in class_weights_dict.item().items()}\n",
    "class_weights_dict"
   ]
  },
  {
   "cell_type": "code",
   "execution_count": 6,
   "id": "9dd43638",
   "metadata": {},
   "outputs": [
    {
     "name": "stdout",
     "output_type": "stream",
     "text": [
      "(3300, 2) (6700, 2)\n"
     ]
    }
   ],
   "source": [
    "\n",
    "\n",
    "# Dữ liệu label đã được mã hóa\n",
    "def oneHot(arr):\n",
    "    labels = np.array(arr)\n",
    "    encoder = OneHotEncoder(sparse=False)\n",
    "    \n",
    "    labels_reshaped = labels.reshape(-1, 1)\n",
    "    \n",
    "    encoder.fit(labels_reshaped)\n",
    "    \n",
    "    onehot_labels = encoder.transform(labels_reshaped)\n",
    "    # onehot_labels=pd.DataFrame(onehot_labels)\n",
    "    return onehot_labels\n",
    "\n",
    "y_train_onehot=oneHot(y_train)\n",
    "y_test_onehot=oneHot(y_test)\n",
    "print(y_test_onehot.shape,y_train_onehot.shape)\n"
   ]
  },
  {
   "cell_type": "code",
   "execution_count": 7,
   "id": "9cf5d7b4",
   "metadata": {},
   "outputs": [
    {
     "name": "stdout",
     "output_type": "stream",
     "text": [
      "(3300, 2)\n"
     ]
    }
   ],
   "source": [
    "y_test_onehot.reshape(-1, 1)\n",
    "print(y_test_onehot.shape)"
   ]
  },
  {
   "cell_type": "code",
   "execution_count": 8,
   "id": "6dda6290",
   "metadata": {},
   "outputs": [
    {
     "data": {
      "text/plain": [
       "(3300, 47)"
      ]
     },
     "execution_count": 8,
     "metadata": {},
     "output_type": "execute_result"
    }
   ],
   "source": [
    "x_test.shape"
   ]
  },
  {
   "cell_type": "code",
   "execution_count": 9,
   "id": "f1c3ac7a",
   "metadata": {},
   "outputs": [
    {
     "data": {
      "text/plain": [
       "(6700, 47)"
      ]
     },
     "execution_count": 9,
     "metadata": {},
     "output_type": "execute_result"
    }
   ],
   "source": [
    "x_train.shape"
   ]
  },
  {
   "cell_type": "code",
   "execution_count": 10,
   "id": "848e48fb",
   "metadata": {},
   "outputs": [],
   "source": [
    "def f1_score(y_true, y_pred):\n",
    "    \"\"\"\n",
    "    Macro F1 score metric.\n",
    "    \"\"\"\n",
    "    y_pred = K.round(y_pred)    \n",
    "    true_positives = K.sum(K.round(K.clip(y_true * y_pred, 0, 1)), axis=0)\n",
    "    false_positives = K.sum(K.round(K.clip(y_pred - y_true, 0, 1)), axis=0)\n",
    "    false_negatives = K.sum(K.round(K.clip(y_true - y_pred, 0, 1)), axis=0)    \n",
    "    precision = true_positives / (true_positives + false_positives + K.epsilon())\n",
    "    recall = true_positives / (true_positives + false_negatives + K.epsilon())    \n",
    "    f1_scores = 2 * (precision * recall) / (precision + recall + K.epsilon())    \n",
    "    macro_f1_score = K.mean(f1_scores)\n",
    "    \n",
    "    return macro_f1_score"
   ]
  },
  {
   "cell_type": "code",
   "execution_count": 11,
   "id": "fa368fe1",
   "metadata": {},
   "outputs": [],
   "source": [
    "import numpy as np\n",
    "import tensorflow as tf\n",
    "from tensorflow.keras import backend as K\n",
    "\n",
    "def dice_coef(y_true, y_pred, smooth):\n",
    "    y_true_f = K.flatten(y_true)\n",
    "    y_pred_f = K.flatten(y_pred)\n",
    "    intersection = K.sum(y_true_f * y_pred_f)\n",
    "    dice = (2. * intersection + smooth) / (K.sum(y_true_f) + K.sum(y_pred_f) + smooth)\n",
    "    return dice\n",
    "\n",
    "def dice_coef_loss(y_true, y_pred, smooth=0.1):\n",
    "    return 1 - dice_coef(y_true, y_pred, smooth)"
   ]
  },
  {
   "cell_type": "code",
   "execution_count": 12,
   "id": "01f5fcdf",
   "metadata": {},
   "outputs": [
    {
     "name": "stdout",
     "output_type": "stream",
     "text": [
      "47\n"
     ]
    }
   ],
   "source": [
    "print(x_train.shape[1])"
   ]
  },
  {
   "cell_type": "markdown",
   "id": "cb6de984",
   "metadata": {},
   "source": [
    "#### * Xây dựng model:"
   ]
  },
  {
   "cell_type": "markdown",
   "id": "5ec895de",
   "metadata": {},
   "source": [
    "#### * Xây dựng Stacked_model:"
   ]
  },
  {
   "cell_type": "code",
   "execution_count": 13,
   "id": "071a8a46",
   "metadata": {},
   "outputs": [],
   "source": [
    "def f1_loss(y_true, y_pred):\n",
    "    y_true = tf.cast(y_true, tf.float32)\n",
    "    y_pred = tf.cast(y_pred, tf.float32)\n",
    "    \n",
    "    # Calculate true positives, predicted positives, and possible positives for each class\n",
    "    tp = tf.reduce_sum(y_true * y_pred, axis=0)\n",
    "    predicted_positives = tf.reduce_sum(y_pred, axis=0)\n",
    "    possible_positives = tf.reduce_sum(y_true, axis=0)\n",
    "    \n",
    "    # Calculate precision and recall for each class\n",
    "    precision = tp / (predicted_positives + tf.keras.backend.epsilon())\n",
    "    recall = tp / (possible_positives + tf.keras.backend.epsilon())\n",
    "    \n",
    "    # Calculate F1 score for each class\n",
    "    f1 = 2 * (precision * recall) / (precision + recall + tf.keras.backend.epsilon())\n",
    "    \n",
    "    # Calculate the macro F1 score\n",
    "    f1_macro = tf.reduce_mean(f1)\n",
    "    \n",
    "    # Return the F1 loss\n",
    "    return 1 - f1_macro"
   ]
  },
  {
   "cell_type": "code",
   "execution_count": 14,
   "id": "4a9ecb16",
   "metadata": {},
   "outputs": [],
   "source": [
    "def focal_loss(y_true, y_pred, alpha=0.25, gamma=2.0):\n",
    "    y_pred = tf.clip_by_value(y_pred, 1e-7, 1 - 1e-7)\n",
    "    pt = tf.where(tf.equal(y_true, 1), y_pred, 1 - y_pred)\n",
    "    loss = -tf.reduce_mean(alpha * tf.pow(1.0 - pt, gamma) * tf.math.log(pt))\n",
    "    return loss\n"
   ]
  },
  {
   "cell_type": "code",
   "execution_count": 15,
   "id": "14004dd7",
   "metadata": {},
   "outputs": [
    {
     "name": "stderr",
     "output_type": "stream",
     "text": [
      "WARNING:absl:`lr` is deprecated in Keras optimizer, please use `learning_rate` or use the legacy optimizer, e.g.,tf.keras.optimizers.legacy.Adam.\n"
     ]
    }
   ],
   "source": [
    "\n",
    "\n",
    "learning_rate=0.0001\n",
    "tabnet_params = {\n",
    "    \"decision_dim\": 16,\n",
    "    \"attention_dim\": 16,\n",
    "    \"n_steps\": 3,\n",
    "    \"n_shared_glus\": 2,\n",
    "    \"n_dependent_glus\": 2,\n",
    "    \"relaxation_factor\": 1.3,\n",
    "    \"epsilon\": 1e-15,\n",
    "    \"momentum\": 0.98,\n",
    "    \"mask_type\": \"softmax\", # can be 'sparsemax' or 'softmax'\n",
    "    \"lambda_sparse\": 1e-3, \n",
    "    \"virtual_batch_splits\": 8 #number of splits for ghost batch normalization, ideally should evenly divide the batch_size\n",
    "}\n",
    "\n",
    "\n",
    "\n",
    "### Classification\n",
    "model = TabNetClassifier(n_classes = 2, out_activation = 'softmax', **tabnet_params)\n",
    "# model = TabNetClassifier(n_classes = 2, out_activation = 'softmax', \n",
    "#     kernel_regularizer=l2(0.01), **tabnet_params)\n",
    "# model.compile(loss = 'categorical_crossentropy', optimizer = )\n",
    "# model.fit(x_train, y_train, epochs = 100, batch_size = 1024)\n",
    "# model.compile(optimizer=tf.keras.optimizers.Adam(learning_rate), loss='categorical_crossentropy', metrics=['accuracy',f1_score])\n",
    "# model.compile(optimizer=Adam(lr=learning_rate), loss=f1_loss, metrics=['accuracy',f1_score])\n",
    "# model.compile(optimizer=Adam(lr=learning_rate), loss=focal_loss, metrics=['accuracy',f1_score])\n",
    "model.compile(optimizer=Adam(lr=learning_rate), loss=dice_coef_loss, metrics=['accuracy',f1_score])\n",
    "early_stopping = EarlyStopping(monitor='val_loss',\n",
    "    min_delta=0.00005,\n",
    "    patience=60,\n",
    "    verbose=1,\n",
    "    restore_best_weights=True,\n",
    ")\n",
    "\n",
    "model_checkpoint = ModelCheckpoint('best_model', monitor='val_loss', save_best_only=True, save_format='tf')\n",
    "\n",
    "\n",
    "lr_scheduler = ReduceLROnPlateau(\n",
    "    monitor='val_loss',\n",
    "    factor=0.5,\n",
    "    patience=20,\n",
    "    min_lr=0.000001,\n",
    "    verbose=1,\n",
    ")\n"
   ]
  },
  {
   "cell_type": "code",
   "execution_count": 16,
   "id": "b53234af",
   "metadata": {},
   "outputs": [
    {
     "data": {
      "text/plain": [
       "array([[0., 1.],\n",
       "       [1., 0.],\n",
       "       [0., 1.],\n",
       "       ...,\n",
       "       [1., 0.],\n",
       "       [1., 0.],\n",
       "       [1., 0.]])"
      ]
     },
     "execution_count": 16,
     "metadata": {},
     "output_type": "execute_result"
    }
   ],
   "source": [
    "y_train_onehot"
   ]
  },
  {
   "cell_type": "code",
   "execution_count": 17,
   "id": "ec8b8320",
   "metadata": {},
   "outputs": [
    {
     "data": {
      "text/plain": [
       "{0: 0.5263984915147706, 1: 9.970238095238095}"
      ]
     },
     "execution_count": 17,
     "metadata": {},
     "output_type": "execute_result"
    }
   ],
   "source": [
    "class_weights_dict"
   ]
  },
  {
   "cell_type": "code",
   "execution_count": 18,
   "id": "567bba7a",
   "metadata": {},
   "outputs": [
    {
     "name": "stdout",
     "output_type": "stream",
     "text": [
      "Epoch 1/1200\n",
      "105/105 [==============================] - 35s 14ms/step - loss: 0.4742 - accuracy: 0.5504 - f1_score: 0.3362 - val_loss: 0.1300 - val_accuracy: 0.9488 - val_f1_score: 0.4868 - lr: 0.0010\n",
      "Epoch 2/1200\n",
      "105/105 [==============================] - 1s 14ms/step - loss: 0.0920 - accuracy: 0.9499 - f1_score: 0.4870 - val_loss: 0.0680 - val_accuracy: 0.9494 - val_f1_score: 0.4870 - lr: 0.0010\n",
      "Epoch 3/1200\n",
      "105/105 [==============================] - 2s 14ms/step - loss: 0.0625 - accuracy: 0.9499 - f1_score: 0.4871 - val_loss: 0.0592 - val_accuracy: 0.9494 - val_f1_score: 0.4870 - lr: 0.0010\n",
      "Epoch 4/1200\n",
      "105/105 [==============================] - 2s 15ms/step - loss: 0.0576 - accuracy: 0.9499 - f1_score: 0.4871 - val_loss: 0.0564 - val_accuracy: 0.9494 - val_f1_score: 0.4870 - lr: 0.0010\n",
      "Epoch 5/1200\n",
      "105/105 [==============================] - 2s 15ms/step - loss: 0.0558 - accuracy: 0.9499 - f1_score: 0.4871 - val_loss: 0.0552 - val_accuracy: 0.9494 - val_f1_score: 0.4870 - lr: 0.0010\n",
      "Epoch 6/1200\n",
      "105/105 [==============================] - 2s 15ms/step - loss: 0.0549 - accuracy: 0.9499 - f1_score: 0.4871 - val_loss: 0.0546 - val_accuracy: 0.9494 - val_f1_score: 0.4870 - lr: 0.0010\n",
      "Epoch 7/1200\n",
      "105/105 [==============================] - 2s 15ms/step - loss: 0.0544 - accuracy: 0.9499 - f1_score: 0.4870 - val_loss: 0.0543 - val_accuracy: 0.9494 - val_f1_score: 0.4870 - lr: 0.0010\n",
      "Epoch 8/1200\n",
      "105/105 [==============================] - 2s 15ms/step - loss: 0.0542 - accuracy: 0.9499 - f1_score: 0.4871 - val_loss: 0.0542 - val_accuracy: 0.9494 - val_f1_score: 0.4870 - lr: 0.0010\n",
      "Epoch 9/1200\n",
      "105/105 [==============================] - 2s 15ms/step - loss: 0.0540 - accuracy: 0.9499 - f1_score: 0.4870 - val_loss: 0.0541 - val_accuracy: 0.9494 - val_f1_score: 0.4870 - lr: 0.0010\n",
      "Epoch 10/1200\n",
      "105/105 [==============================] - 2s 15ms/step - loss: 0.0539 - accuracy: 0.9499 - f1_score: 0.4871 - val_loss: 0.0540 - val_accuracy: 0.9494 - val_f1_score: 0.4870 - lr: 0.0010\n",
      "Epoch 11/1200\n",
      "105/105 [==============================] - 2s 15ms/step - loss: 0.0538 - accuracy: 0.9499 - f1_score: 0.4870 - val_loss: 0.0539 - val_accuracy: 0.9494 - val_f1_score: 0.4870 - lr: 0.0010\n",
      "Epoch 12/1200\n",
      "105/105 [==============================] - 2s 15ms/step - loss: 0.0537 - accuracy: 0.9499 - f1_score: 0.4870 - val_loss: 0.0539 - val_accuracy: 0.9494 - val_f1_score: 0.4870 - lr: 0.0010\n",
      "Epoch 13/1200\n",
      "105/105 [==============================] - 2s 15ms/step - loss: 0.0536 - accuracy: 0.9499 - f1_score: 0.4871 - val_loss: 0.0538 - val_accuracy: 0.9494 - val_f1_score: 0.4870 - lr: 0.0010\n",
      "Epoch 14/1200\n",
      "105/105 [==============================] - 2s 15ms/step - loss: 0.0536 - accuracy: 0.9499 - f1_score: 0.4870 - val_loss: 0.0538 - val_accuracy: 0.9494 - val_f1_score: 0.4870 - lr: 0.0010\n",
      "Epoch 15/1200\n",
      "105/105 [==============================] - 2s 15ms/step - loss: 0.0535 - accuracy: 0.9499 - f1_score: 0.4871 - val_loss: 0.0537 - val_accuracy: 0.9494 - val_f1_score: 0.4870 - lr: 0.0010\n",
      "Epoch 16/1200\n",
      "105/105 [==============================] - 2s 15ms/step - loss: 0.0535 - accuracy: 0.9499 - f1_score: 0.4871 - val_loss: 0.0537 - val_accuracy: 0.9494 - val_f1_score: 0.4870 - lr: 0.0010\n",
      "Epoch 17/1200\n",
      "105/105 [==============================] - 2s 15ms/step - loss: 0.0535 - accuracy: 0.9499 - f1_score: 0.4871 - val_loss: 0.0537 - val_accuracy: 0.9494 - val_f1_score: 0.4870 - lr: 0.0010\n",
      "Epoch 18/1200\n",
      "105/105 [==============================] - 2s 15ms/step - loss: 0.0535 - accuracy: 0.9499 - f1_score: 0.4870 - val_loss: 0.0537 - val_accuracy: 0.9494 - val_f1_score: 0.4870 - lr: 0.0010\n",
      "Epoch 19/1200\n",
      "105/105 [==============================] - 2s 15ms/step - loss: 0.0535 - accuracy: 0.9499 - f1_score: 0.4870 - val_loss: 0.0537 - val_accuracy: 0.9494 - val_f1_score: 0.4870 - lr: 0.0010\n",
      "Epoch 20/1200\n",
      "105/105 [==============================] - 2s 15ms/step - loss: 0.0534 - accuracy: 0.9499 - f1_score: 0.4870 - val_loss: 0.0536 - val_accuracy: 0.9494 - val_f1_score: 0.4870 - lr: 0.0010\n",
      "Epoch 21/1200\n",
      "105/105 [==============================] - 2s 15ms/step - loss: 0.0534 - accuracy: 0.9499 - f1_score: 0.4871 - val_loss: 0.0536 - val_accuracy: 0.9494 - val_f1_score: 0.4870 - lr: 0.0010\n",
      "Epoch 22/1200\n",
      "105/105 [==============================] - 2s 15ms/step - loss: 0.0534 - accuracy: 0.9499 - f1_score: 0.4870 - val_loss: 0.0537 - val_accuracy: 0.9494 - val_f1_score: 0.4870 - lr: 0.0010\n",
      "Epoch 23/1200\n",
      "105/105 [==============================] - 2s 15ms/step - loss: 0.0534 - accuracy: 0.9499 - f1_score: 0.4870 - val_loss: 0.0536 - val_accuracy: 0.9494 - val_f1_score: 0.4870 - lr: 0.0010\n",
      "Epoch 24/1200\n",
      "105/105 [==============================] - 2s 15ms/step - loss: 0.0534 - accuracy: 0.9499 - f1_score: 0.4871 - val_loss: 0.0536 - val_accuracy: 0.9494 - val_f1_score: 0.4870 - lr: 0.0010\n",
      "Epoch 25/1200\n",
      "105/105 [==============================] - 2s 15ms/step - loss: 0.0534 - accuracy: 0.9499 - f1_score: 0.4871 - val_loss: 0.0536 - val_accuracy: 0.9494 - val_f1_score: 0.4870 - lr: 0.0010\n",
      "Epoch 26/1200\n",
      "105/105 [==============================] - 2s 15ms/step - loss: 0.0534 - accuracy: 0.9499 - f1_score: 0.4870 - val_loss: 0.0536 - val_accuracy: 0.9494 - val_f1_score: 0.4870 - lr: 0.0010\n",
      "Epoch 27/1200\n",
      "105/105 [==============================] - 2s 15ms/step - loss: 0.0533 - accuracy: 0.9499 - f1_score: 0.4870 - val_loss: 0.0535 - val_accuracy: 0.9494 - val_f1_score: 0.4870 - lr: 0.0010\n",
      "Epoch 28/1200\n",
      "105/105 [==============================] - 2s 15ms/step - loss: 0.0533 - accuracy: 0.9499 - f1_score: 0.4871 - val_loss: 0.0535 - val_accuracy: 0.9494 - val_f1_score: 0.4870 - lr: 0.0010\n",
      "Epoch 29/1200\n",
      "105/105 [==============================] - 2s 15ms/step - loss: 0.0533 - accuracy: 0.9499 - f1_score: 0.4871 - val_loss: 0.0536 - val_accuracy: 0.9494 - val_f1_score: 0.4870 - lr: 0.0010\n",
      "Epoch 30/1200\n",
      "105/105 [==============================] - 2s 15ms/step - loss: 0.0533 - accuracy: 0.9499 - f1_score: 0.4870 - val_loss: 0.0535 - val_accuracy: 0.9494 - val_f1_score: 0.4870 - lr: 0.0010\n",
      "Epoch 31/1200\n",
      "105/105 [==============================] - 2s 15ms/step - loss: 0.0533 - accuracy: 0.9499 - f1_score: 0.4870 - val_loss: 0.0535 - val_accuracy: 0.9494 - val_f1_score: 0.4870 - lr: 0.0010\n",
      "Epoch 32/1200\n",
      "105/105 [==============================] - 2s 15ms/step - loss: 0.0533 - accuracy: 0.9499 - f1_score: 0.4870 - val_loss: 0.0535 - val_accuracy: 0.9494 - val_f1_score: 0.4870 - lr: 0.0010\n",
      "Epoch 33/1200\n",
      "105/105 [==============================] - 2s 15ms/step - loss: 0.0532 - accuracy: 0.9499 - f1_score: 0.4870 - val_loss: 0.0534 - val_accuracy: 0.9494 - val_f1_score: 0.4870 - lr: 0.0010\n",
      "Epoch 34/1200\n",
      "105/105 [==============================] - 2s 15ms/step - loss: 0.0532 - accuracy: 0.9499 - f1_score: 0.4871 - val_loss: 0.0534 - val_accuracy: 0.9494 - val_f1_score: 0.4870 - lr: 0.0010\n",
      "Epoch 35/1200\n",
      "105/105 [==============================] - 2s 15ms/step - loss: 0.0532 - accuracy: 0.9499 - f1_score: 0.4870 - val_loss: 0.0534 - val_accuracy: 0.9494 - val_f1_score: 0.4870 - lr: 0.0010\n",
      "Epoch 36/1200\n",
      "105/105 [==============================] - 2s 15ms/step - loss: 0.0532 - accuracy: 0.9499 - f1_score: 0.4871 - val_loss: 0.0534 - val_accuracy: 0.9494 - val_f1_score: 0.4870 - lr: 0.0010\n",
      "Epoch 37/1200\n",
      "105/105 [==============================] - 2s 15ms/step - loss: 0.0531 - accuracy: 0.9499 - f1_score: 0.4871 - val_loss: 0.0534 - val_accuracy: 0.9494 - val_f1_score: 0.4870 - lr: 0.0010\n",
      "Epoch 38/1200\n",
      "105/105 [==============================] - 2s 15ms/step - loss: 0.0531 - accuracy: 0.9499 - f1_score: 0.4870 - val_loss: 0.0533 - val_accuracy: 0.9494 - val_f1_score: 0.4870 - lr: 0.0010\n",
      "Epoch 39/1200\n",
      "105/105 [==============================] - 2s 15ms/step - loss: 0.0531 - accuracy: 0.9499 - f1_score: 0.4871 - val_loss: 0.0533 - val_accuracy: 0.9494 - val_f1_score: 0.4870 - lr: 0.0010\n",
      "Epoch 40/1200\n",
      "105/105 [==============================] - 2s 15ms/step - loss: 0.0530 - accuracy: 0.9499 - f1_score: 0.4870 - val_loss: 0.0533 - val_accuracy: 0.9494 - val_f1_score: 0.4870 - lr: 0.0010\n",
      "Epoch 41/1200\n",
      "105/105 [==============================] - 2s 15ms/step - loss: 0.0530 - accuracy: 0.9499 - f1_score: 0.4870 - val_loss: 0.0533 - val_accuracy: 0.9494 - val_f1_score: 0.4870 - lr: 0.0010\n",
      "Epoch 42/1200\n",
      "105/105 [==============================] - 2s 15ms/step - loss: 0.0529 - accuracy: 0.9499 - f1_score: 0.4870 - val_loss: 0.0532 - val_accuracy: 0.9494 - val_f1_score: 0.4870 - lr: 0.0010\n",
      "Epoch 43/1200\n",
      "105/105 [==============================] - 2s 15ms/step - loss: 0.0529 - accuracy: 0.9499 - f1_score: 0.4870 - val_loss: 0.0532 - val_accuracy: 0.9494 - val_f1_score: 0.4870 - lr: 0.0010\n",
      "Epoch 44/1200\n",
      "105/105 [==============================] - 2s 15ms/step - loss: 0.0528 - accuracy: 0.9499 - f1_score: 0.4870 - val_loss: 0.0532 - val_accuracy: 0.9494 - val_f1_score: 0.4870 - lr: 0.0010\n",
      "Epoch 45/1200\n",
      "105/105 [==============================] - 2s 15ms/step - loss: 0.0528 - accuracy: 0.9499 - f1_score: 0.4870 - val_loss: 0.0532 - val_accuracy: 0.9494 - val_f1_score: 0.4870 - lr: 0.0010\n",
      "Epoch 46/1200\n",
      "105/105 [==============================] - 2s 15ms/step - loss: 0.0527 - accuracy: 0.9499 - f1_score: 0.4870 - val_loss: 0.0531 - val_accuracy: 0.9494 - val_f1_score: 0.4870 - lr: 0.0010\n",
      "Epoch 47/1200\n",
      "105/105 [==============================] - 2s 15ms/step - loss: 0.0527 - accuracy: 0.9499 - f1_score: 0.4871 - val_loss: 0.0531 - val_accuracy: 0.9494 - val_f1_score: 0.4870 - lr: 0.0010\n",
      "Epoch 48/1200\n",
      "105/105 [==============================] - 2s 15ms/step - loss: 0.0526 - accuracy: 0.9499 - f1_score: 0.4871 - val_loss: 0.0530 - val_accuracy: 0.9494 - val_f1_score: 0.4870 - lr: 0.0010\n",
      "Epoch 49/1200\n",
      "105/105 [==============================] - 2s 15ms/step - loss: 0.0526 - accuracy: 0.9499 - f1_score: 0.4871 - val_loss: 0.0529 - val_accuracy: 0.9494 - val_f1_score: 0.4870 - lr: 0.0010\n",
      "Epoch 50/1200\n",
      "105/105 [==============================] - 2s 15ms/step - loss: 0.0525 - accuracy: 0.9499 - f1_score: 0.4870 - val_loss: 0.0529 - val_accuracy: 0.9494 - val_f1_score: 0.4870 - lr: 0.0010\n",
      "Epoch 51/1200\n",
      "105/105 [==============================] - 2s 15ms/step - loss: 0.0525 - accuracy: 0.9499 - f1_score: 0.4870 - val_loss: 0.0529 - val_accuracy: 0.9494 - val_f1_score: 0.4870 - lr: 0.0010\n",
      "Epoch 52/1200\n",
      "105/105 [==============================] - 2s 15ms/step - loss: 0.0524 - accuracy: 0.9499 - f1_score: 0.4871 - val_loss: 0.0529 - val_accuracy: 0.9494 - val_f1_score: 0.4870 - lr: 0.0010\n",
      "Epoch 53/1200\n",
      "105/105 [==============================] - 2s 15ms/step - loss: 0.0524 - accuracy: 0.9499 - f1_score: 0.4871 - val_loss: 0.0528 - val_accuracy: 0.9494 - val_f1_score: 0.4870 - lr: 0.0010\n",
      "Epoch 54/1200\n",
      "105/105 [==============================] - 2s 15ms/step - loss: 0.0524 - accuracy: 0.9499 - f1_score: 0.4870 - val_loss: 0.0527 - val_accuracy: 0.9494 - val_f1_score: 0.4870 - lr: 0.0010\n",
      "Epoch 55/1200\n",
      "105/105 [==============================] - 2s 15ms/step - loss: 0.0523 - accuracy: 0.9499 - f1_score: 0.4870 - val_loss: 0.0527 - val_accuracy: 0.9494 - val_f1_score: 0.4870 - lr: 0.0010\n",
      "Epoch 56/1200\n",
      "105/105 [==============================] - 2s 15ms/step - loss: 0.0523 - accuracy: 0.9499 - f1_score: 0.4871 - val_loss: 0.0526 - val_accuracy: 0.9494 - val_f1_score: 0.4870 - lr: 0.0010\n",
      "Epoch 57/1200\n",
      "105/105 [==============================] - 2s 15ms/step - loss: 0.0522 - accuracy: 0.9499 - f1_score: 0.4871 - val_loss: 0.0526 - val_accuracy: 0.9494 - val_f1_score: 0.4870 - lr: 0.0010\n",
      "Epoch 58/1200\n",
      "105/105 [==============================] - 2s 15ms/step - loss: 0.0522 - accuracy: 0.9499 - f1_score: 0.4870 - val_loss: 0.0526 - val_accuracy: 0.9494 - val_f1_score: 0.4870 - lr: 0.0010\n",
      "Epoch 59/1200\n",
      "105/105 [==============================] - 2s 15ms/step - loss: 0.0521 - accuracy: 0.9499 - f1_score: 0.4871 - val_loss: 0.0525 - val_accuracy: 0.9494 - val_f1_score: 0.4870 - lr: 0.0010\n",
      "Epoch 60/1200\n",
      "105/105 [==============================] - 2s 15ms/step - loss: 0.0521 - accuracy: 0.9499 - f1_score: 0.4871 - val_loss: 0.0525 - val_accuracy: 0.9494 - val_f1_score: 0.4870 - lr: 0.0010\n",
      "Epoch 61/1200\n",
      "105/105 [==============================] - 2s 15ms/step - loss: 0.0520 - accuracy: 0.9499 - f1_score: 0.4870 - val_loss: 0.0524 - val_accuracy: 0.9494 - val_f1_score: 0.4870 - lr: 0.0010\n",
      "Epoch 62/1200\n",
      "105/105 [==============================] - 2s 15ms/step - loss: 0.0520 - accuracy: 0.9499 - f1_score: 0.4870 - val_loss: 0.0524 - val_accuracy: 0.9494 - val_f1_score: 0.4870 - lr: 0.0010\n",
      "Epoch 63/1200\n",
      "105/105 [==============================] - 2s 15ms/step - loss: 0.0519 - accuracy: 0.9499 - f1_score: 0.4871 - val_loss: 0.0523 - val_accuracy: 0.9494 - val_f1_score: 0.4870 - lr: 0.0010\n",
      "Epoch 64/1200\n",
      "105/105 [==============================] - 2s 15ms/step - loss: 0.0519 - accuracy: 0.9499 - f1_score: 0.4870 - val_loss: 0.0523 - val_accuracy: 0.9494 - val_f1_score: 0.4870 - lr: 0.0010\n",
      "Epoch 65/1200\n",
      "105/105 [==============================] - 2s 16ms/step - loss: 0.0518 - accuracy: 0.9499 - f1_score: 0.4871 - val_loss: 0.0522 - val_accuracy: 0.9494 - val_f1_score: 0.4870 - lr: 0.0010\n",
      "Epoch 66/1200\n",
      "105/105 [==============================] - 2s 16ms/step - loss: 0.0518 - accuracy: 0.9499 - f1_score: 0.4870 - val_loss: 0.0522 - val_accuracy: 0.9494 - val_f1_score: 0.4870 - lr: 0.0010\n",
      "Epoch 67/1200\n",
      "105/105 [==============================] - 2s 16ms/step - loss: 0.0517 - accuracy: 0.9499 - f1_score: 0.4870 - val_loss: 0.0521 - val_accuracy: 0.9494 - val_f1_score: 0.4870 - lr: 0.0010\n",
      "Epoch 68/1200\n",
      "105/105 [==============================] - 2s 16ms/step - loss: 0.0516 - accuracy: 0.9499 - f1_score: 0.4871 - val_loss: 0.0521 - val_accuracy: 0.9494 - val_f1_score: 0.4870 - lr: 0.0010\n",
      "Epoch 69/1200\n",
      "105/105 [==============================] - 2s 16ms/step - loss: 0.0515 - accuracy: 0.9499 - f1_score: 0.4870 - val_loss: 0.0520 - val_accuracy: 0.9494 - val_f1_score: 0.4870 - lr: 0.0010\n",
      "Epoch 70/1200\n",
      "105/105 [==============================] - 2s 16ms/step - loss: 0.0514 - accuracy: 0.9499 - f1_score: 0.4871 - val_loss: 0.0519 - val_accuracy: 0.9494 - val_f1_score: 0.4870 - lr: 0.0010\n",
      "Epoch 71/1200\n",
      "105/105 [==============================] - 2s 16ms/step - loss: 0.0513 - accuracy: 0.9499 - f1_score: 0.4871 - val_loss: 0.0518 - val_accuracy: 0.9494 - val_f1_score: 0.4870 - lr: 0.0010\n",
      "Epoch 72/1200\n",
      "105/105 [==============================] - 2s 16ms/step - loss: 0.0513 - accuracy: 0.9499 - f1_score: 0.4871 - val_loss: 0.0518 - val_accuracy: 0.9494 - val_f1_score: 0.4870 - lr: 0.0010\n",
      "Epoch 73/1200\n",
      "105/105 [==============================] - 2s 15ms/step - loss: 0.0512 - accuracy: 0.9499 - f1_score: 0.4871 - val_loss: 0.0517 - val_accuracy: 0.9494 - val_f1_score: 0.4870 - lr: 0.0010\n",
      "Epoch 74/1200\n",
      "105/105 [==============================] - 2s 15ms/step - loss: 0.0512 - accuracy: 0.9499 - f1_score: 0.4870 - val_loss: 0.0516 - val_accuracy: 0.9494 - val_f1_score: 0.4870 - lr: 0.0010\n",
      "Epoch 75/1200\n",
      "105/105 [==============================] - 2s 15ms/step - loss: 0.0511 - accuracy: 0.9499 - f1_score: 0.4871 - val_loss: 0.0515 - val_accuracy: 0.9494 - val_f1_score: 0.4870 - lr: 0.0010\n",
      "Epoch 76/1200\n",
      "105/105 [==============================] - 2s 16ms/step - loss: 0.0511 - accuracy: 0.9499 - f1_score: 0.4871 - val_loss: 0.0515 - val_accuracy: 0.9494 - val_f1_score: 0.4870 - lr: 0.0010\n",
      "Epoch 77/1200\n",
      "105/105 [==============================] - 2s 17ms/step - loss: 0.0510 - accuracy: 0.9499 - f1_score: 0.4871 - val_loss: 0.0514 - val_accuracy: 0.9494 - val_f1_score: 0.4870 - lr: 0.0010\n",
      "Epoch 78/1200\n",
      "105/105 [==============================] - 2s 16ms/step - loss: 0.0510 - accuracy: 0.9499 - f1_score: 0.4870 - val_loss: 0.0513 - val_accuracy: 0.9494 - val_f1_score: 0.4870 - lr: 0.0010\n",
      "Epoch 79/1200\n",
      "105/105 [==============================] - 2s 15ms/step - loss: 0.0509 - accuracy: 0.9499 - f1_score: 0.4870 - val_loss: 0.0512 - val_accuracy: 0.9494 - val_f1_score: 0.4870 - lr: 0.0010\n",
      "Epoch 80/1200\n",
      "105/105 [==============================] - 2s 15ms/step - loss: 0.0508 - accuracy: 0.9499 - f1_score: 0.4871 - val_loss: 0.0511 - val_accuracy: 0.9494 - val_f1_score: 0.4870 - lr: 0.0010\n",
      "Epoch 81/1200\n",
      "105/105 [==============================] - 2s 16ms/step - loss: 0.0508 - accuracy: 0.9499 - f1_score: 0.4870 - val_loss: 0.0511 - val_accuracy: 0.9494 - val_f1_score: 0.4870 - lr: 0.0010\n",
      "Epoch 82/1200\n",
      "105/105 [==============================] - 2s 16ms/step - loss: 0.0507 - accuracy: 0.9499 - f1_score: 0.4870 - val_loss: 0.0511 - val_accuracy: 0.9494 - val_f1_score: 0.4870 - lr: 0.0010\n",
      "Epoch 83/1200\n",
      "105/105 [==============================] - 2s 18ms/step - loss: 0.0507 - accuracy: 0.9499 - f1_score: 0.4871 - val_loss: 0.0510 - val_accuracy: 0.9494 - val_f1_score: 0.4870 - lr: 0.0010\n",
      "Epoch 84/1200\n",
      "105/105 [==============================] - 2s 16ms/step - loss: 0.0506 - accuracy: 0.9499 - f1_score: 0.4871 - val_loss: 0.0510 - val_accuracy: 0.9494 - val_f1_score: 0.4870 - lr: 0.0010\n",
      "Epoch 85/1200\n",
      "105/105 [==============================] - 2s 15ms/step - loss: 0.0506 - accuracy: 0.9499 - f1_score: 0.4870 - val_loss: 0.0510 - val_accuracy: 0.9494 - val_f1_score: 0.4870 - lr: 0.0010\n",
      "Epoch 86/1200\n",
      "105/105 [==============================] - 2s 16ms/step - loss: 0.0505 - accuracy: 0.9499 - f1_score: 0.4870 - val_loss: 0.0509 - val_accuracy: 0.9494 - val_f1_score: 0.4870 - lr: 0.0010\n",
      "Epoch 87/1200\n",
      "105/105 [==============================] - 2s 16ms/step - loss: 0.0505 - accuracy: 0.9499 - f1_score: 0.4870 - val_loss: 0.0509 - val_accuracy: 0.9494 - val_f1_score: 0.4870 - lr: 0.0010\n",
      "Epoch 88/1200\n",
      "105/105 [==============================] - 2s 16ms/step - loss: 0.0505 - accuracy: 0.9499 - f1_score: 0.4871 - val_loss: 0.0509 - val_accuracy: 0.9494 - val_f1_score: 0.4870 - lr: 0.0010\n",
      "Epoch 89/1200\n",
      "105/105 [==============================] - 2s 16ms/step - loss: 0.0505 - accuracy: 0.9499 - f1_score: 0.4871 - val_loss: 0.0509 - val_accuracy: 0.9494 - val_f1_score: 0.4870 - lr: 0.0010\n",
      "Epoch 90/1200\n",
      "105/105 [==============================] - 2s 16ms/step - loss: 0.0504 - accuracy: 0.9499 - f1_score: 0.4870 - val_loss: 0.0508 - val_accuracy: 0.9494 - val_f1_score: 0.4870 - lr: 0.0010\n",
      "Epoch 91/1200\n",
      "105/105 [==============================] - 2s 16ms/step - loss: 0.0504 - accuracy: 0.9499 - f1_score: 0.4870 - val_loss: 0.0508 - val_accuracy: 0.9494 - val_f1_score: 0.4870 - lr: 0.0010\n",
      "Epoch 92/1200\n",
      "105/105 [==============================] - 2s 16ms/step - loss: 0.0504 - accuracy: 0.9499 - f1_score: 0.4870 - val_loss: 0.0508 - val_accuracy: 0.9494 - val_f1_score: 0.4870 - lr: 0.0010\n",
      "Epoch 93/1200\n",
      "105/105 [==============================] - 2s 16ms/step - loss: 0.0504 - accuracy: 0.9499 - f1_score: 0.4870 - val_loss: 0.0508 - val_accuracy: 0.9494 - val_f1_score: 0.4870 - lr: 0.0010\n",
      "Epoch 94/1200\n",
      "105/105 [==============================] - 2s 15ms/step - loss: 0.0504 - accuracy: 0.9499 - f1_score: 0.4870 - val_loss: 0.0508 - val_accuracy: 0.9494 - val_f1_score: 0.4870 - lr: 0.0010\n",
      "Epoch 95/1200\n",
      "105/105 [==============================] - 2s 15ms/step - loss: 0.0503 - accuracy: 0.9499 - f1_score: 0.4870 - val_loss: 0.0507 - val_accuracy: 0.9494 - val_f1_score: 0.4870 - lr: 0.0010\n",
      "Epoch 96/1200\n",
      "105/105 [==============================] - 2s 15ms/step - loss: 0.0503 - accuracy: 0.9499 - f1_score: 0.4871 - val_loss: 0.0507 - val_accuracy: 0.9494 - val_f1_score: 0.4870 - lr: 0.0010\n",
      "Epoch 97/1200\n",
      "105/105 [==============================] - 2s 15ms/step - loss: 0.0503 - accuracy: 0.9499 - f1_score: 0.4870 - val_loss: 0.0507 - val_accuracy: 0.9494 - val_f1_score: 0.4870 - lr: 0.0010\n",
      "Epoch 98/1200\n",
      "105/105 [==============================] - 2s 15ms/step - loss: 0.0503 - accuracy: 0.9499 - f1_score: 0.4870 - val_loss: 0.0507 - val_accuracy: 0.9494 - val_f1_score: 0.4870 - lr: 0.0010\n",
      "Epoch 99/1200\n",
      "105/105 [==============================] - 2s 15ms/step - loss: 0.0503 - accuracy: 0.9499 - f1_score: 0.4870 - val_loss: 0.0507 - val_accuracy: 0.9494 - val_f1_score: 0.4870 - lr: 0.0010\n",
      "Epoch 100/1200\n",
      "105/105 [==============================] - 2s 15ms/step - loss: 0.0503 - accuracy: 0.9499 - f1_score: 0.4871 - val_loss: 0.0507 - val_accuracy: 0.9494 - val_f1_score: 0.4870 - lr: 0.0010\n",
      "Epoch 101/1200\n",
      "105/105 [==============================] - 2s 15ms/step - loss: 0.0503 - accuracy: 0.9499 - f1_score: 0.4870 - val_loss: 0.0507 - val_accuracy: 0.9494 - val_f1_score: 0.4870 - lr: 0.0010\n",
      "Epoch 102/1200\n",
      "105/105 [==============================] - 2s 15ms/step - loss: 0.0503 - accuracy: 0.9499 - f1_score: 0.4870 - val_loss: 0.0507 - val_accuracy: 0.9494 - val_f1_score: 0.4870 - lr: 0.0010\n",
      "Epoch 103/1200\n",
      "105/105 [==============================] - 2s 15ms/step - loss: 0.0503 - accuracy: 0.9499 - f1_score: 0.4871 - val_loss: 0.0507 - val_accuracy: 0.9494 - val_f1_score: 0.4870 - lr: 0.0010\n",
      "Epoch 104/1200\n",
      "105/105 [==============================] - 2s 15ms/step - loss: 0.0503 - accuracy: 0.9499 - f1_score: 0.4871 - val_loss: 0.0507 - val_accuracy: 0.9494 - val_f1_score: 0.4870 - lr: 0.0010\n",
      "Epoch 105/1200\n",
      "105/105 [==============================] - 2s 15ms/step - loss: 0.0503 - accuracy: 0.9499 - f1_score: 0.4870 - val_loss: 0.0507 - val_accuracy: 0.9494 - val_f1_score: 0.4870 - lr: 0.0010\n",
      "Epoch 106/1200\n",
      "105/105 [==============================] - 2s 17ms/step - loss: 0.0502 - accuracy: 0.9499 - f1_score: 0.4870 - val_loss: 0.0507 - val_accuracy: 0.9494 - val_f1_score: 0.4870 - lr: 0.0010\n",
      "Epoch 107/1200\n",
      "105/105 [==============================] - 2s 16ms/step - loss: 0.0502 - accuracy: 0.9499 - f1_score: 0.4870 - val_loss: 0.0507 - val_accuracy: 0.9494 - val_f1_score: 0.4870 - lr: 0.0010\n",
      "Epoch 108/1200\n",
      "105/105 [==============================] - 2s 16ms/step - loss: 0.0502 - accuracy: 0.9499 - f1_score: 0.4871 - val_loss: 0.0507 - val_accuracy: 0.9494 - val_f1_score: 0.4870 - lr: 0.0010\n",
      "Epoch 109/1200\n",
      "105/105 [==============================] - 2s 16ms/step - loss: 0.0502 - accuracy: 0.9499 - f1_score: 0.4871 - val_loss: 0.0507 - val_accuracy: 0.9494 - val_f1_score: 0.4870 - lr: 0.0010\n",
      "Epoch 110/1200\n",
      "105/105 [==============================] - 2s 16ms/step - loss: 0.0502 - accuracy: 0.9499 - f1_score: 0.4871 - val_loss: 0.0506 - val_accuracy: 0.9494 - val_f1_score: 0.4870 - lr: 0.0010\n",
      "Epoch 111/1200\n",
      "105/105 [==============================] - 2s 16ms/step - loss: 0.0502 - accuracy: 0.9499 - f1_score: 0.4870 - val_loss: 0.0506 - val_accuracy: 0.9494 - val_f1_score: 0.4870 - lr: 0.0010\n",
      "Epoch 112/1200\n",
      "105/105 [==============================] - 2s 16ms/step - loss: 0.0502 - accuracy: 0.9499 - f1_score: 0.4870 - val_loss: 0.0506 - val_accuracy: 0.9494 - val_f1_score: 0.4870 - lr: 0.0010\n",
      "Epoch 113/1200\n",
      "105/105 [==============================] - 2s 17ms/step - loss: 0.0502 - accuracy: 0.9499 - f1_score: 0.4869 - val_loss: 0.0506 - val_accuracy: 0.9494 - val_f1_score: 0.4870 - lr: 0.0010\n",
      "Epoch 114/1200\n",
      "105/105 [==============================] - 2s 17ms/step - loss: 0.0502 - accuracy: 0.9499 - f1_score: 0.4871 - val_loss: 0.0506 - val_accuracy: 0.9494 - val_f1_score: 0.4870 - lr: 0.0010\n",
      "Epoch 115/1200\n",
      "105/105 [==============================] - 2s 17ms/step - loss: 0.0502 - accuracy: 0.9499 - f1_score: 0.4871 - val_loss: 0.0506 - val_accuracy: 0.9494 - val_f1_score: 0.4870 - lr: 0.0010\n",
      "Epoch 116/1200\n",
      "105/105 [==============================] - 2s 17ms/step - loss: 0.0502 - accuracy: 0.9499 - f1_score: 0.4870 - val_loss: 0.0506 - val_accuracy: 0.9494 - val_f1_score: 0.4870 - lr: 0.0010\n",
      "Epoch 117/1200\n",
      "104/105 [============================>.] - ETA: 0s - loss: 0.0502 - accuracy: 0.9498 - f1_score: 0.4870\n",
      "Epoch 117: ReduceLROnPlateau reducing learning rate to 0.0005000000237487257.\n",
      "105/105 [==============================] - 2s 17ms/step - loss: 0.0502 - accuracy: 0.9499 - f1_score: 0.4871 - val_loss: 0.0506 - val_accuracy: 0.9494 - val_f1_score: 0.4870 - lr: 0.0010\n",
      "Epoch 118/1200\n",
      "105/105 [==============================] - 2s 17ms/step - loss: 0.0502 - accuracy: 0.9499 - f1_score: 0.4871 - val_loss: 0.0506 - val_accuracy: 0.9494 - val_f1_score: 0.4870 - lr: 5.0000e-04\n",
      "Epoch 119/1200\n",
      "105/105 [==============================] - 2s 18ms/step - loss: 0.0502 - accuracy: 0.9499 - f1_score: 0.4871 - val_loss: 0.0506 - val_accuracy: 0.9494 - val_f1_score: 0.4870 - lr: 5.0000e-04\n",
      "Epoch 120/1200\n",
      "105/105 [==============================] - 2s 17ms/step - loss: 0.0502 - accuracy: 0.9499 - f1_score: 0.4870 - val_loss: 0.0506 - val_accuracy: 0.9494 - val_f1_score: 0.4870 - lr: 5.0000e-04\n",
      "Epoch 121/1200\n",
      "105/105 [==============================] - 2s 18ms/step - loss: 0.0502 - accuracy: 0.9499 - f1_score: 0.4870 - val_loss: 0.0506 - val_accuracy: 0.9494 - val_f1_score: 0.4870 - lr: 5.0000e-04\n",
      "Epoch 122/1200\n",
      "105/105 [==============================] - 2s 17ms/step - loss: 0.0502 - accuracy: 0.9499 - f1_score: 0.4870 - val_loss: 0.0506 - val_accuracy: 0.9494 - val_f1_score: 0.4870 - lr: 5.0000e-04\n",
      "Epoch 123/1200\n",
      "105/105 [==============================] - 2s 18ms/step - loss: 0.0502 - accuracy: 0.9499 - f1_score: 0.4870 - val_loss: 0.0506 - val_accuracy: 0.9494 - val_f1_score: 0.4870 - lr: 5.0000e-04\n",
      "Epoch 124/1200\n",
      "105/105 [==============================] - 2s 19ms/step - loss: 0.0502 - accuracy: 0.9499 - f1_score: 0.4871 - val_loss: 0.0506 - val_accuracy: 0.9494 - val_f1_score: 0.4870 - lr: 5.0000e-04\n",
      "Epoch 125/1200\n",
      "105/105 [==============================] - 2s 19ms/step - loss: 0.0502 - accuracy: 0.9499 - f1_score: 0.4871 - val_loss: 0.0506 - val_accuracy: 0.9494 - val_f1_score: 0.4870 - lr: 5.0000e-04\n",
      "Epoch 126/1200\n",
      "105/105 [==============================] - 2s 19ms/step - loss: 0.0502 - accuracy: 0.9499 - f1_score: 0.4870 - val_loss: 0.0506 - val_accuracy: 0.9494 - val_f1_score: 0.4870 - lr: 5.0000e-04\n",
      "Epoch 127/1200\n",
      "105/105 [==============================] - 2s 19ms/step - loss: 0.0502 - accuracy: 0.9499 - f1_score: 0.4870 - val_loss: 0.0506 - val_accuracy: 0.9494 - val_f1_score: 0.4870 - lr: 5.0000e-04\n",
      "Epoch 128/1200\n",
      "105/105 [==============================] - 2s 19ms/step - loss: 0.0502 - accuracy: 0.9499 - f1_score: 0.4871 - val_loss: 0.0506 - val_accuracy: 0.9494 - val_f1_score: 0.4870 - lr: 5.0000e-04\n",
      "Epoch 129/1200\n",
      "105/105 [==============================] - 2s 19ms/step - loss: 0.0502 - accuracy: 0.9499 - f1_score: 0.4870 - val_loss: 0.0506 - val_accuracy: 0.9494 - val_f1_score: 0.4870 - lr: 5.0000e-04\n",
      "Epoch 130/1200\n",
      "105/105 [==============================] - 2s 19ms/step - loss: 0.0502 - accuracy: 0.9499 - f1_score: 0.4870 - val_loss: 0.0506 - val_accuracy: 0.9494 - val_f1_score: 0.4870 - lr: 5.0000e-04\n",
      "Epoch 131/1200\n",
      "105/105 [==============================] - 2s 19ms/step - loss: 0.0502 - accuracy: 0.9499 - f1_score: 0.4870 - val_loss: 0.0506 - val_accuracy: 0.9494 - val_f1_score: 0.4870 - lr: 5.0000e-04\n",
      "Epoch 132/1200\n",
      "105/105 [==============================] - 2s 19ms/step - loss: 0.0502 - accuracy: 0.9499 - f1_score: 0.4870 - val_loss: 0.0506 - val_accuracy: 0.9494 - val_f1_score: 0.4870 - lr: 5.0000e-04\n",
      "Epoch 133/1200\n",
      "105/105 [==============================] - 2s 19ms/step - loss: 0.0502 - accuracy: 0.9499 - f1_score: 0.4870 - val_loss: 0.0506 - val_accuracy: 0.9494 - val_f1_score: 0.4870 - lr: 5.0000e-04\n",
      "Epoch 134/1200\n",
      "105/105 [==============================] - 2s 19ms/step - loss: 0.0502 - accuracy: 0.9499 - f1_score: 0.4870 - val_loss: 0.0506 - val_accuracy: 0.9494 - val_f1_score: 0.4870 - lr: 5.0000e-04\n",
      "Epoch 135/1200\n",
      "105/105 [==============================] - 2s 19ms/step - loss: 0.0502 - accuracy: 0.9499 - f1_score: 0.4871 - val_loss: 0.0506 - val_accuracy: 0.9494 - val_f1_score: 0.4870 - lr: 5.0000e-04\n",
      "Epoch 136/1200\n",
      "105/105 [==============================] - 2s 19ms/step - loss: 0.0502 - accuracy: 0.9499 - f1_score: 0.4870 - val_loss: 0.0506 - val_accuracy: 0.9494 - val_f1_score: 0.4870 - lr: 5.0000e-04\n",
      "Epoch 137/1200\n",
      "105/105 [==============================] - 2s 19ms/step - loss: 0.0502 - accuracy: 0.9499 - f1_score: 0.4870 - val_loss: 0.0506 - val_accuracy: 0.9494 - val_f1_score: 0.4870 - lr: 5.0000e-04\n",
      "Epoch 138/1200\n",
      "105/105 [==============================] - 2s 19ms/step - loss: 0.0502 - accuracy: 0.9499 - f1_score: 0.4870 - val_loss: 0.0506 - val_accuracy: 0.9494 - val_f1_score: 0.4870 - lr: 5.0000e-04\n",
      "Epoch 139/1200\n",
      "105/105 [==============================] - 2s 19ms/step - loss: 0.0502 - accuracy: 0.9499 - f1_score: 0.4870 - val_loss: 0.0506 - val_accuracy: 0.9494 - val_f1_score: 0.4870 - lr: 5.0000e-04\n",
      "Epoch 140/1200\n",
      "105/105 [==============================] - 2s 19ms/step - loss: 0.0502 - accuracy: 0.9499 - f1_score: 0.4870 - val_loss: 0.0506 - val_accuracy: 0.9494 - val_f1_score: 0.4870 - lr: 5.0000e-04\n",
      "Epoch 141/1200\n",
      "105/105 [==============================] - 2s 19ms/step - loss: 0.0502 - accuracy: 0.9499 - f1_score: 0.4870 - val_loss: 0.0506 - val_accuracy: 0.9494 - val_f1_score: 0.4870 - lr: 5.0000e-04\n",
      "Epoch 142/1200\n",
      "105/105 [==============================] - 2s 18ms/step - loss: 0.0502 - accuracy: 0.9499 - f1_score: 0.4871 - val_loss: 0.0506 - val_accuracy: 0.9494 - val_f1_score: 0.4870 - lr: 5.0000e-04\n",
      "Epoch 143/1200\n",
      "105/105 [==============================] - 2s 19ms/step - loss: 0.0502 - accuracy: 0.9499 - f1_score: 0.4870 - val_loss: 0.0506 - val_accuracy: 0.9494 - val_f1_score: 0.4870 - lr: 5.0000e-04\n",
      "Epoch 144/1200\n",
      "105/105 [==============================] - 2s 19ms/step - loss: 0.0502 - accuracy: 0.9499 - f1_score: 0.4871 - val_loss: 0.0506 - val_accuracy: 0.9494 - val_f1_score: 0.4870 - lr: 5.0000e-04\n",
      "Epoch 145/1200\n",
      "105/105 [==============================] - 2s 19ms/step - loss: 0.0502 - accuracy: 0.9499 - f1_score: 0.4871 - val_loss: 0.0506 - val_accuracy: 0.9494 - val_f1_score: 0.4870 - lr: 5.0000e-04\n",
      "Epoch 146/1200\n",
      "105/105 [==============================] - 2s 18ms/step - loss: 0.0502 - accuracy: 0.9499 - f1_score: 0.4871 - val_loss: 0.0506 - val_accuracy: 0.9494 - val_f1_score: 0.4870 - lr: 5.0000e-04\n",
      "Epoch 147/1200\n",
      "105/105 [==============================] - 2s 19ms/step - loss: 0.0502 - accuracy: 0.9499 - f1_score: 0.4871 - val_loss: 0.0506 - val_accuracy: 0.9494 - val_f1_score: 0.4870 - lr: 5.0000e-04\n",
      "Epoch 148/1200\n",
      "105/105 [==============================] - 2s 19ms/step - loss: 0.0502 - accuracy: 0.9499 - f1_score: 0.4871 - val_loss: 0.0506 - val_accuracy: 0.9494 - val_f1_score: 0.4870 - lr: 5.0000e-04\n",
      "Epoch 149/1200\n",
      "103/105 [============================>.] - ETA: 0s - loss: 0.0504 - accuracy: 0.9496 - f1_score: 0.4870\n",
      "Epoch 149: ReduceLROnPlateau reducing learning rate to 0.0002500000118743628.\n",
      "105/105 [==============================] - 2s 19ms/step - loss: 0.0502 - accuracy: 0.9499 - f1_score: 0.4870 - val_loss: 0.0506 - val_accuracy: 0.9494 - val_f1_score: 0.4870 - lr: 5.0000e-04\n",
      "Epoch 150/1200\n",
      "105/105 [==============================] - 2s 19ms/step - loss: 0.0502 - accuracy: 0.9499 - f1_score: 0.4871 - val_loss: 0.0506 - val_accuracy: 0.9494 - val_f1_score: 0.4870 - lr: 2.5000e-04\n",
      "Epoch 151/1200\n",
      "105/105 [==============================] - 2s 19ms/step - loss: 0.0502 - accuracy: 0.9499 - f1_score: 0.4871 - val_loss: 0.0506 - val_accuracy: 0.9494 - val_f1_score: 0.4870 - lr: 2.5000e-04\n",
      "Epoch 152/1200\n",
      "105/105 [==============================] - 2s 19ms/step - loss: 0.0502 - accuracy: 0.9499 - f1_score: 0.4870 - val_loss: 0.0506 - val_accuracy: 0.9494 - val_f1_score: 0.4870 - lr: 2.5000e-04\n",
      "Epoch 153/1200\n",
      "105/105 [==============================] - 2s 18ms/step - loss: 0.0502 - accuracy: 0.9499 - f1_score: 0.4871 - val_loss: 0.0506 - val_accuracy: 0.9494 - val_f1_score: 0.4870 - lr: 2.5000e-04\n",
      "Epoch 154/1200\n",
      "105/105 [==============================] - 2s 19ms/step - loss: 0.0502 - accuracy: 0.9499 - f1_score: 0.4871 - val_loss: 0.0506 - val_accuracy: 0.9494 - val_f1_score: 0.4870 - lr: 2.5000e-04\n",
      "Epoch 155/1200\n",
      "105/105 [==============================] - 2s 19ms/step - loss: 0.0502 - accuracy: 0.9499 - f1_score: 0.4871 - val_loss: 0.0506 - val_accuracy: 0.9494 - val_f1_score: 0.4870 - lr: 2.5000e-04\n",
      "Epoch 156/1200\n",
      "105/105 [==============================] - 2s 20ms/step - loss: 0.0502 - accuracy: 0.9499 - f1_score: 0.4870 - val_loss: 0.0506 - val_accuracy: 0.9494 - val_f1_score: 0.4870 - lr: 2.5000e-04\n",
      "Epoch 157/1200\n",
      "105/105 [==============================] - 2s 20ms/step - loss: 0.0502 - accuracy: 0.9499 - f1_score: 0.4871 - val_loss: 0.0506 - val_accuracy: 0.9494 - val_f1_score: 0.4870 - lr: 2.5000e-04\n",
      "Epoch 158/1200\n",
      "105/105 [==============================] - 2s 20ms/step - loss: 0.0502 - accuracy: 0.9499 - f1_score: 0.4870 - val_loss: 0.0506 - val_accuracy: 0.9494 - val_f1_score: 0.4870 - lr: 2.5000e-04\n",
      "Epoch 159/1200\n",
      "105/105 [==============================] - 2s 19ms/step - loss: 0.0502 - accuracy: 0.9499 - f1_score: 0.4871 - val_loss: 0.0506 - val_accuracy: 0.9494 - val_f1_score: 0.4870 - lr: 2.5000e-04\n",
      "Epoch 160/1200\n",
      "105/105 [==============================] - 2s 19ms/step - loss: 0.0502 - accuracy: 0.9499 - f1_score: 0.4870 - val_loss: 0.0506 - val_accuracy: 0.9494 - val_f1_score: 0.4870 - lr: 2.5000e-04\n",
      "Epoch 161/1200\n",
      "105/105 [==============================] - 2s 19ms/step - loss: 0.0502 - accuracy: 0.9499 - f1_score: 0.4870 - val_loss: 0.0506 - val_accuracy: 0.9494 - val_f1_score: 0.4870 - lr: 2.5000e-04\n",
      "Epoch 162/1200\n",
      "105/105 [==============================] - 2s 19ms/step - loss: 0.0502 - accuracy: 0.9499 - f1_score: 0.4870 - val_loss: 0.0506 - val_accuracy: 0.9494 - val_f1_score: 0.4870 - lr: 2.5000e-04\n",
      "Epoch 163/1200\n",
      "105/105 [==============================] - 2s 19ms/step - loss: 0.0502 - accuracy: 0.9499 - f1_score: 0.4871 - val_loss: 0.0506 - val_accuracy: 0.9494 - val_f1_score: 0.4870 - lr: 2.5000e-04\n",
      "Epoch 164/1200\n",
      "105/105 [==============================] - 2s 19ms/step - loss: 0.0502 - accuracy: 0.9499 - f1_score: 0.4870 - val_loss: 0.0506 - val_accuracy: 0.9494 - val_f1_score: 0.4870 - lr: 2.5000e-04\n",
      "Epoch 165/1200\n",
      "105/105 [==============================] - 2s 19ms/step - loss: 0.0502 - accuracy: 0.9499 - f1_score: 0.4870 - val_loss: 0.0506 - val_accuracy: 0.9494 - val_f1_score: 0.4870 - lr: 2.5000e-04\n",
      "Epoch 166/1200\n",
      "103/105 [============================>.] - ETA: 0s - loss: 0.0498 - accuracy: 0.9502 - f1_score: 0.4871Restoring model weights from the end of the best epoch: 106.\n",
      "105/105 [==============================] - 2s 19ms/step - loss: 0.0502 - accuracy: 0.9499 - f1_score: 0.4870 - val_loss: 0.0506 - val_accuracy: 0.9494 - val_f1_score: 0.4870 - lr: 2.5000e-04\n",
      "Epoch 166: early stopping\n"
     ]
    },
    {
     "data": {
      "text/plain": [
       "<keras.src.callbacks.History at 0x232980d4100>"
      ]
     },
     "execution_count": 18,
     "metadata": {},
     "output_type": "execute_result"
    }
   ],
   "source": [
    "model.fit(x=x_train,y=y_train_onehot,\n",
    "          validation_data=(x_test,y_test_onehot),\n",
    "          batch_size=64,epochs= 1200, callbacks=[early_stopping,lr_scheduler])\n"
   ]
  },
  {
   "cell_type": "code",
   "execution_count": 19,
   "id": "dff75e76",
   "metadata": {},
   "outputs": [
    {
     "name": "stdout",
     "output_type": "stream",
     "text": [
      "Model: \"tab_net_classifier\"\n",
      "_________________________________________________________________\n",
      " Layer (type)                Output Shape              Param #   \n",
      "=================================================================\n",
      " tab_net_encoder (TabNetEnc  multiple                  28544     \n",
      " oder)                                                           \n",
      "                                                                 \n",
      " classifier (Dense)          multiple                  32        \n",
      "                                                                 \n",
      "=================================================================\n",
      "Total params: 28576 (111.62 KB)\n",
      "Trainable params: 26152 (102.16 KB)\n",
      "Non-trainable params: 2424 (9.47 KB)\n",
      "_________________________________________________________________\n"
     ]
    }
   ],
   "source": [
    "model.summary()"
   ]
  },
  {
   "cell_type": "markdown",
   "id": "0b2cb867",
   "metadata": {},
   "source": [
    "#### * Kết quả đánh giá mô hình:"
   ]
  },
  {
   "cell_type": "code",
   "execution_count": 20,
   "id": "07132b7e",
   "metadata": {},
   "outputs": [
    {
     "name": "stdout",
     "output_type": "stream",
     "text": [
      "Model: \"tab_net_classifier\"\n",
      "_________________________________________________________________\n",
      " Layer (type)                Output Shape              Param #   \n",
      "=================================================================\n",
      " tab_net_encoder (TabNetEnc  multiple                  28544     \n",
      " oder)                                                           \n",
      "                                                                 \n",
      " classifier (Dense)          multiple                  32        \n",
      "                                                                 \n",
      "=================================================================\n",
      "Total params: 28576 (111.62 KB)\n",
      "Trainable params: 26152 (102.16 KB)\n",
      "Non-trainable params: 2424 (9.47 KB)\n",
      "_________________________________________________________________\n"
     ]
    }
   ],
   "source": [
    "model.summary()"
   ]
  },
  {
   "cell_type": "code",
   "execution_count": 21,
   "id": "875136d2",
   "metadata": {},
   "outputs": [
    {
     "data": {
      "image/png": "[encoded data removed]",
      "text/plain": [
       "<Figure size 1500x800 with 2 Axes>"
      ]
     },
     "metadata": {},
     "output_type": "display_data"
    },
    {
     "data": {
      "text/plain": [
       "<Figure size 640x480 with 0 Axes>"
      ]
     },
     "metadata": {},
     "output_type": "display_data"
    }
   ],
   "source": [
    "history=model.history.history\n",
    "fig,axes=plt.subplots(1,2, figsize=(15,8))\n",
    "axes[0].plot(pd.DataFrame(history['val_accuracy']))\n",
    "axes[0].set_title('Training Process')\n",
    "axes[1].plot(pd.DataFrame(history))\n",
    "axes[1].set_title('Training Process')\n",
    "plt.show()\n",
    "plt.savefig('train.png')"
   ]
  },
  {
   "cell_type": "code",
   "execution_count": 22,
   "id": "b5a05cd8",
   "metadata": {},
   "outputs": [
    {
     "name": "stdout",
     "output_type": "stream",
     "text": [
      "104/104 [==============================] - 1s 2ms/step\n"
     ]
    },
    {
     "data": {
      "text/plain": [
       "0.9493939393939393"
      ]
     },
     "execution_count": 22,
     "metadata": {},
     "output_type": "execute_result"
    }
   ],
   "source": [
    "y_test_labels = np.argmax(y_test_onehot, axis=1)\n",
    "predictions = model.predict(x_test)\n",
    "predictions = np.argmax(predictions, axis=1)\n",
    "accuracy = accuracy_score(y_test_labels, predictions)\n",
    "accuracy\n"
   ]
  },
  {
   "cell_type": "code",
   "execution_count": 23,
   "id": "7f1d8560",
   "metadata": {},
   "outputs": [
    {
     "name": "stdout",
     "output_type": "stream",
     "text": [
      "Accuracy: 0.9493939393939393\n",
      "Classification Report:\n",
      "              precision    recall  f1-score   support\n",
      "\n",
      "           0       0.95      1.00      0.97      3133\n",
      "           1       0.00      0.00      0.00       167\n",
      "\n",
      "    accuracy                           0.95      3300\n",
      "   macro avg       0.47      0.50      0.49      3300\n",
      "weighted avg       0.90      0.95      0.92      3300\n",
      "\n",
      "Confusion Matrix:\n",
      "[[3133    0]\n",
      " [ 167    0]]\n"
     ]
    }
   ],
   "source": [
    "from sklearn.metrics import accuracy_score, classification_report, confusion_matrix\n",
    "import numpy as np\n",
    "\n",
    "y_test_labels = np.argmax(y_test_onehot, axis=1)\n",
    "\n",
    "accuracy = accuracy_score(y_test_labels, predictions)\n",
    "print(\"Accuracy:\", accuracy)\n",
    "print(\"Classification Report:\")\n",
    "print(classification_report(y_test_labels, predictions))\n",
    "\n",
    "print(\"Confusion Matrix:\")\n",
    "print(confusion_matrix(y_test_labels, predictions))\n"
   ]
  },
  {
   "cell_type": "code",
   "execution_count": 24,
   "id": "6f218b86",
   "metadata": {},
   "outputs": [
    {
     "data": {
      "image/png": "[encoded data removed]",
      "text/plain": [
       "<Figure size 800x600 with 2 Axes>"
      ]
     },
     "metadata": {},
     "output_type": "display_data"
    }
   ],
   "source": [
    "# Dự đoán\n",
    "\n",
    "\n",
    "# Tính ma trận nhầm lẫn\n",
    "cm = confusion_matrix(y_test, predictions,labels=[1,0])\n",
    "plt.figure(figsize=(8, 6))\n",
    "sns.heatmap(cm, annot=True, fmt='g', cmap='Blues', xticklabels=[1,0], yticklabels=[1,0])\n",
    "plt.title('Confusion Matrix')\n",
    "plt.xlabel('Predicted')\n",
    "plt.ylabel('Actual')\n",
    "plt.show()"
   ]
  },
  {
   "cell_type": "code",
   "execution_count": 25,
   "id": "e744c8a6",
   "metadata": {},
   "outputs": [
    {
     "data": {
      "image/png": "[encoded data removed]",
      "text/plain": [
       "<Figure size 1500x1500 with 1 Axes>"
      ]
     },
     "metadata": {},
     "output_type": "display_data"
    }
   ],
   "source": [
    "fig, ax = plt.subplots(1, 1, figsize=(15, 15))\n",
    "\n",
    "fpr, tpr, _ = roc_curve(y_test, predictions)\n",
    "    \n",
    "roc_auc = auc(fpr, tpr)\n",
    "\n",
    "ax.plot(fpr, tpr, lw=4, color='blue', label='ROC curve (AUC = %0.2f)' % roc_auc)\n",
    "ax.plot([0, 1], [0, 1], color='red', lw=2, linestyle='--')\n",
    "ax.set_xlim([0.0, 1.0])\n",
    "ax.set_ylim([0.0, 1.05])\n",
    "ax.set_xlabel('False Positive Rate', fontsize=12, weight='bold')  \n",
    "ax.set_ylabel('True Positive Rate', fontsize=12, weight='bold')   \n",
    "ax.set_title(f'ROC of Voting',fontsize=20, weight='bold')  \n",
    "ax.legend(loc=\"lower right\", prop={'size': 12, 'weight': 'bold'}) \n",
    "plt.show()"
   ]
  },
  {
   "cell_type": "code",
   "execution_count": 26,
   "id": "ffe10617",
   "metadata": {},
   "outputs": [],
   "source": [
    "def check_result(prediction):\n",
    "    prediction = (prediction > 0.2).astype(int)\n",
    "    if isinstance(prediction, (np.ndarray, pd.Series)):\n",
    "        prediction = prediction.item()  # Hoặc sử dụng prediction[0] hoặc prediction.iloc[0]\n",
    "    if prediction==1:\n",
    "        return \"Y\"\n",
    "    else:\n",
    "        return \"N\""
   ]
  },
  {
   "cell_type": "code",
   "execution_count": 27,
   "id": "8e3eefa4",
   "metadata": {},
   "outputs": [],
   "source": [
    "# solandung=0\n",
    "# hopdonggianlan=0\n",
    "# for indx in range(len(x_test)):\n",
    "#     y_predict = stacked_model.predict(stacked_input)\n",
    "#     stacked_pred_labels = y_predict.argmax(axis=1)\n",
    "\n",
    "#     #print(y_predict[0][0])\n",
    "#     Y_check = check_result(y_test.iloc[indx])\n",
    "#     print('True:', Y_check)\n",
    "#     print('Predicted:', check_result(stacked_pred_labels[indx]))\n",
    "#     print(\"----------------------------\")\n",
    "#     if Y_check==check_result(stacked_pred_labels[indx]):\n",
    "#         solandung+=1\n",
    "#         if Y_check=='Y':\n",
    "#             hopdonggianlan+=1\n",
    "    "
   ]
  },
  {
   "cell_type": "code",
   "execution_count": 28,
   "id": "a3a65590",
   "metadata": {},
   "outputs": [
    {
     "ename": "NameError",
     "evalue": "name 'solandung' is not defined",
     "output_type": "error",
     "traceback": [
      "\u001b[1;31m---------------------------------------------------------------------------\u001b[0m",
      "\u001b[1;31mNameError\u001b[0m                                 Traceback (most recent call last)",
      "Cell \u001b[1;32mIn[28], line 1\u001b[0m\n\u001b[1;32m----> 1\u001b[0m \u001b[38;5;28mprint\u001b[39m(\u001b[38;5;124mf\u001b[39m\u001b[38;5;124m\"\u001b[39m\u001b[38;5;124mSố lần dự đoán đúng: \u001b[39m\u001b[38;5;132;01m{\u001b[39;00msolandung\u001b[38;5;132;01m}\u001b[39;00m\u001b[38;5;124m chiếm khoảng \u001b[39m\u001b[38;5;132;01m{\u001b[39;00m(solandung\u001b[38;5;241m/\u001b[39m\u001b[38;5;28mlen\u001b[39m(x_test))\u001b[38;5;241m*\u001b[39m\u001b[38;5;241m100\u001b[39m\u001b[38;5;132;01m}\u001b[39;00m\u001b[38;5;124m% tổng lần dự đoán\u001b[39m\u001b[38;5;124m\"\u001b[39m)\n\u001b[0;32m      2\u001b[0m \u001b[38;5;28mprint\u001b[39m(\u001b[38;5;124mf\u001b[39m\u001b[38;5;124m\"\u001b[39m\u001b[38;5;124mSố hợp đồng gian lận trong lần kiểm tra: \u001b[39m\u001b[38;5;132;01m{\u001b[39;00mhopdonggianlan\u001b[38;5;132;01m}\u001b[39;00m\u001b[38;5;124m chiếm khoảng \u001b[39m\u001b[38;5;132;01m{\u001b[39;00m(hopdonggianlan\u001b[38;5;241m/\u001b[39m\u001b[38;5;28mlen\u001b[39m(y_test[y_test[\u001b[38;5;124m'\u001b[39m\u001b[38;5;124mfraud_reported\u001b[39m\u001b[38;5;124m'\u001b[39m]\u001b[38;5;241m==\u001b[39m\u001b[38;5;241m1\u001b[39m]))\u001b[38;5;241m*\u001b[39m\u001b[38;5;241m100\u001b[39m\u001b[38;5;132;01m}\u001b[39;00m\u001b[38;5;124m% so với thực tế\u001b[39m\u001b[38;5;124m\"\u001b[39m)\n",
      "\u001b[1;31mNameError\u001b[0m: name 'solandung' is not defined"
     ]
    }
   ],
   "source": [
    "print(f\"Số lần dự đoán đúng: {solandung} chiếm khoảng {(solandung/len(x_test))*100}% tổng lần dự đoán\")\n",
    "print(f\"Số hợp đồng gian lận trong lần kiểm tra: {hopdonggianlan} chiếm khoảng {(hopdonggianlan/len(y_test[y_test['fraud_reported']==1]))*100}% so với thực tế\")\n"
   ]
  },
  {
   "cell_type": "code",
   "execution_count": null,
   "id": "c31643d6",
   "metadata": {},
   "outputs": [],
   "source": []
  },
  {
   "cell_type": "code",
   "execution_count": null,
   "id": "33e3467b",
   "metadata": {},
   "outputs": [],
   "source": []
  }
 ],
 "metadata": {
  "kernelspec": {
   "display_name": "Python 3",
   "language": "python",
   "name": "python3"
  },
  "language_info": {
   "codemirror_mode": {
    "name": "ipython",
    "version": 3
   },
   "file_extension": ".py",
   "mimetype": "text/x-python",
   "name": "python",
   "nbconvert_exporter": "python",
   "pygments_lexer": "ipython3",
   "version": "3.8.19"
  }
 },
 "nbformat": 4,
 "nbformat_minor": 5
}
