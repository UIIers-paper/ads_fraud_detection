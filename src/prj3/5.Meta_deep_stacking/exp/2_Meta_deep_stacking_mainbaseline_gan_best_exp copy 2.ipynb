{
  "cells": [
    {
      "cell_type": "code",
      "execution_count": 33,
      "id": "c1dd1c5b",
      "metadata": {
        "id": "c1dd1c5b",
        "outputId": "09170fb9-8be1-475b-8a18-39640a3620b7"
      },
      "outputs": [
        {
          "name": "stdout",
          "output_type": "stream",
          "text": [
            "c:\\Users\\Admin\\Data\\ads_fraud_detection\n"
          ]
        }
      ],
      "source": [
        "import sys,os\n",
        "__script_path=os.path.abspath(globals().get('__file__','.'))\n",
        "__script_dir = os.path.dirname(__script_path)\n",
        "root_dir = os.path.abspath(f'{__script_dir}/../../..')\n",
        "print(root_dir)\n",
        "for lib in [root_dir][::-1]:\n",
        "    if lib in sys.path:\n",
        "        sys.path.remove(lib)\n",
        "    sys.path.insert(0,lib)\n",
        "from config.config import *\n",
        "from libs.common import *"
      ]
    },
    {
      "cell_type": "code",
      "execution_count": 34,
      "id": "622aee0d",
      "metadata": {
        "id": "622aee0d"
      },
      "outputs": [],
      "source": [
        "save_dir=f\"{exps_dir}/exp3/exp_smote\"\n",
        "if os.path.exists(save_dir) == False:\n",
        "  os.makedirs(save_dir, exist_ok=True)\n",
        "\n",
        "\n",
        "\n",
        "test_size=0.33\n",
        "seed=42"
      ]
    },
    {
      "cell_type": "code",
      "execution_count": 35,
      "id": "ee0c5839",
      "metadata": {
        "id": "ee0c5839",
        "outputId": "884cf8cb-6205-4a6a-b127-4095bf3f5fda"
      },
      "outputs": [
        {
          "data": {
            "text/plain": [
              "{'LR': ['ANY_INJURY',\n",
              "  'AUTHORITY_CONTACTED',\n",
              "  'EMPLOYMENT_STATUS',\n",
              "  'HOUSE_TYPE',\n",
              "  'LOSS_DT',\n",
              "  'MARITAL_STATUS',\n",
              "  'Quantile_CLAIM_AMOUNT',\n",
              "  'REPORT_DT',\n",
              "  'SOCIAL_CLASS',\n",
              "  'TXN_DATE_TIME'],\n",
              " 'LDA': ['ANY_INJURY',\n",
              "  'BoxCox_CLAIM_AMOUNT',\n",
              "  'BoxCox_PREMIUM_AMOUNT',\n",
              "  'CLAIM_AMOUNT',\n",
              "  'Cubed_PREMIUM_AMOUNT',\n",
              "  'Log_CLAIM_AMOUNT',\n",
              "  'PREMIUM_AMOUNT',\n",
              "  'Sqrt_CLAIM_AMOUNT',\n",
              "  'YeoJohnson_CLAIM_AMOUNT',\n",
              "  'YeoJohnson_PREMIUM_AMOUNT'],\n",
              " 'DTC': ['ACCT_NUMBER',\n",
              "  'ADDRESS_LINE1',\n",
              "  'AGENT_ID',\n",
              "  'CUSTOMER_NAME',\n",
              "  'Cubed_PREMIUM_AMOUNT',\n",
              "  'POLICY_EFF_DT',\n",
              "  'POLICY_NUMBER',\n",
              "  'ROUTING_NUMBER',\n",
              "  'SSN',\n",
              "  'TENURE'],\n",
              " 'RD': ['ACCT_NUMBER',\n",
              "  'ADDRESS_LINE1',\n",
              "  'CUSTOMER_ID',\n",
              "  'CUSTOMER_NAME',\n",
              "  'Cubed_PREMIUM_AMOUNT',\n",
              "  'POLICY_EFF_DT',\n",
              "  'POLICY_NUMBER',\n",
              "  'ROUTING_NUMBER',\n",
              "  'SSN',\n",
              "  'TRANSACTION_ID'],\n",
              " 'LGBM': ['ACCT_NUMBER',\n",
              "  'ADDRESS_LINE1',\n",
              "  'AGENT_ID',\n",
              "  'CUSTOMER_ID',\n",
              "  'CUSTOMER_NAME',\n",
              "  'POSTAL_CODE',\n",
              "  'PREMIUM_AMOUNT',\n",
              "  'ROUTING_NUMBER',\n",
              "  'SSN',\n",
              "  'TENURE'],\n",
              " 'XGB': ['ACCT_NUMBER',\n",
              "  'ADDRESS_LINE1',\n",
              "  'AGE',\n",
              "  'CLAIM_AMOUNT',\n",
              "  'CUSTOMER_ID',\n",
              "  'INCIDENT_STATE',\n",
              "  'ROUTING_NUMBER',\n",
              "  'SOCIAL_CLASS',\n",
              "  'SSN',\n",
              "  'TENURE'],\n",
              " 'KNC': ['TXN_DATE_TIME',\n",
              "  'REPORT_DT',\n",
              "  'INSURANCE_TYPE',\n",
              "  'ADDRESS_LINE2',\n",
              "  'SSN',\n",
              "  'MARITAL_STATUS',\n",
              "  'RISK_SEGMENTATION',\n",
              "  'HOUSE_TYPE',\n",
              "  'AUTHORITY_CONTACTED',\n",
              "  'ANY_INJURY',\n",
              "  'INCIDENT_CITY'],\n",
              " 'GNB': ['TXN_DATE_TIME',\n",
              "  'REPORT_DT',\n",
              "  'INSURANCE_TYPE',\n",
              "  'ADDRESS_LINE2',\n",
              "  'SSN',\n",
              "  'MARITAL_STATUS',\n",
              "  'RISK_SEGMENTATION',\n",
              "  'HOUSE_TYPE',\n",
              "  'AUTHORITY_CONTACTED',\n",
              "  'ANY_INJURY',\n",
              "  'INCIDENT_CITY'],\n",
              " 'NN': ['TXN_DATE_TIME',\n",
              "  'REPORT_DT',\n",
              "  'INSURANCE_TYPE',\n",
              "  'ADDRESS_LINE2',\n",
              "  'SSN',\n",
              "  'MARITAL_STATUS',\n",
              "  'RISK_SEGMENTATION',\n",
              "  'HOUSE_TYPE',\n",
              "  'AUTHORITY_CONTACTED',\n",
              "  'ANY_INJURY',\n",
              "  'INCIDENT_CITY'],\n",
              " 'BG': ['TXN_DATE_TIME',\n",
              "  'REPORT_DT',\n",
              "  'INSURANCE_TYPE',\n",
              "  'ADDRESS_LINE2',\n",
              "  'SSN',\n",
              "  'MARITAL_STATUS',\n",
              "  'RISK_SEGMENTATION',\n",
              "  'HOUSE_TYPE',\n",
              "  'AUTHORITY_CONTACTED',\n",
              "  'ANY_INJURY',\n",
              "  'INCIDENT_CITY'],\n",
              " 'NB': ['TXN_DATE_TIME',\n",
              "  'REPORT_DT',\n",
              "  'INSURANCE_TYPE',\n",
              "  'ADDRESS_LINE2',\n",
              "  'SSN',\n",
              "  'MARITAL_STATUS',\n",
              "  'RISK_SEGMENTATION',\n",
              "  'HOUSE_TYPE',\n",
              "  'AUTHORITY_CONTACTED',\n",
              "  'ANY_INJURY',\n",
              "  'INCIDENT_CITY'],\n",
              " 'SVM': ['TXN_DATE_TIME',\n",
              "  'REPORT_DT',\n",
              "  'INSURANCE_TYPE',\n",
              "  'ADDRESS_LINE2',\n",
              "  'SSN',\n",
              "  'MARITAL_STATUS',\n",
              "  'RISK_SEGMENTATION',\n",
              "  'HOUSE_TYPE',\n",
              "  'AUTHORITY_CONTACTED',\n",
              "  'ANY_INJURY',\n",
              "  'INCIDENT_CITY']}"
            ]
          },
          "execution_count": 35,
          "metadata": {},
          "output_type": "execute_result"
        }
      ],
      "source": [
        "feature_selection=dict(np.load(f'{save_dir}/feature_model_selection.npz',allow_pickle=True))['feature_model_selection']\n",
        "feature_selection = {key: value for key, value in feature_selection.item().items()}\n",
        "feature_selection"
      ]
    },
    {
      "cell_type": "markdown",
      "id": "79d162d6",
      "metadata": {
        "id": "79d162d6"
      },
      "source": [
        "* kiểm tra và tạo các thư mục (nếu chưa có)\n",
        "* tập test 33%"
      ]
    },
    {
      "cell_type": "markdown",
      "id": "5cf7e092",
      "metadata": {
        "id": "5cf7e092"
      },
      "source": [
        "# 5. Xây dựng và đánh giá mô hình học sâu Neutual Network"
      ]
    },
    {
      "cell_type": "code",
      "execution_count": 36,
      "id": "d84bdb3c",
      "metadata": {
        "id": "d84bdb3c"
      },
      "outputs": [],
      "source": [
        "bg_model=joblib.load(f'{save_dir}/bg_model.joblib')\n",
        "rf_model=joblib.load(f'{save_dir}/rf_model.joblib')\n",
        "svm_model=joblib.load(f'{save_dir}/svm_model.joblib')"
      ]
    },
    {
      "cell_type": "code",
      "execution_count": 37,
      "id": "2e81211d",
      "metadata": {
        "id": "2e81211d",
        "outputId": "11c037bb-b65a-420c-b24c-5aeb07d22aad"
      },
      "outputs": [
        {
          "data": {
            "text/plain": [
              "{0: 0.5263984915147706, 1: 9.970238095238095}"
            ]
          },
          "execution_count": 37,
          "metadata": {},
          "output_type": "execute_result"
        }
      ],
      "source": [
        "x_train=pd.read_excel(f'{save_dir}/x_train.xlsx')\n",
        "y_train=pd.read_excel(f'{save_dir}/y_train.xlsx')\n",
        "x_test=pd.read_excel(f'{save_dir}/x_test.xlsx')\n",
        "y_test=pd.read_excel(f'{save_dir}/y_test.xlsx')\n",
        "class_weights_dict=dict(np.load(f'{save_dir}/class_weights_dict.npz',allow_pickle=True))['class_weights_dict']\n",
        "class_weights_dict = {key: value for key, value in class_weights_dict.item().items()}\n",
        "class_weights_dict"
      ]
    },
    {
      "cell_type": "code",
      "execution_count": 38,
      "id": "9dd43638",
      "metadata": {
        "id": "9dd43638",
        "outputId": "a02718e1-24fc-4e1d-d937-903d57955f80"
      },
      "outputs": [
        {
          "name": "stdout",
          "output_type": "stream",
          "text": [
            "(3300, 2) (12728, 2)\n"
          ]
        }
      ],
      "source": [
        "\n",
        "\n",
        "# Dữ liệu label đã được mã hóa\n",
        "def oneHot(arr):\n",
        "    labels = np.array(arr)\n",
        "    encoder = OneHotEncoder(sparse=False)\n",
        "\n",
        "    labels_reshaped = labels.reshape(-1, 1)\n",
        "\n",
        "    encoder.fit(labels_reshaped)\n",
        "\n",
        "    onehot_labels = encoder.transform(labels_reshaped)\n",
        "    # onehot_labels=pd.DataFrame(onehot_labels)\n",
        "    return onehot_labels\n",
        "\n",
        "y_train_onehot=oneHot(y_train)\n",
        "y_test_onehot=oneHot(y_test)\n",
        "print(y_test_onehot.shape,y_train_onehot.shape)\n"
      ]
    },
    {
      "cell_type": "code",
      "execution_count": 39,
      "id": "9cf5d7b4",
      "metadata": {
        "id": "9cf5d7b4",
        "outputId": "0e8b29fd-22f8-44e5-91c7-85f7e47b75c5"
      },
      "outputs": [
        {
          "name": "stdout",
          "output_type": "stream",
          "text": [
            "(3300, 2)\n"
          ]
        }
      ],
      "source": [
        "y_test_onehot.reshape(-1, 1)\n",
        "print(y_test_onehot.shape)"
      ]
    },
    {
      "cell_type": "code",
      "execution_count": 40,
      "id": "6dda6290",
      "metadata": {
        "id": "6dda6290",
        "outputId": "bbb38491-0401-4e47-fdee-da1323b81029"
      },
      "outputs": [
        {
          "data": {
            "text/plain": [
              "(3300, 47)"
            ]
          },
          "execution_count": 40,
          "metadata": {},
          "output_type": "execute_result"
        }
      ],
      "source": [
        "x_test.shape"
      ]
    },
    {
      "cell_type": "code",
      "execution_count": 41,
      "id": "f1c3ac7a",
      "metadata": {
        "id": "f1c3ac7a",
        "outputId": "38eb9f4a-5bdb-429c-f4ab-98bdac97ee7d"
      },
      "outputs": [
        {
          "data": {
            "text/plain": [
              "(12728, 47)"
            ]
          },
          "execution_count": 41,
          "metadata": {},
          "output_type": "execute_result"
        }
      ],
      "source": [
        "x_train.shape"
      ]
    },
    {
      "cell_type": "code",
      "execution_count": 42,
      "id": "2d31efd2",
      "metadata": {},
      "outputs": [
        {
          "data": {
            "text/plain": [
              "CLAIM_STATUS\n",
              "0               6364\n",
              "1               6364\n",
              "Name: count, dtype: int64"
            ]
          },
          "execution_count": 42,
          "metadata": {},
          "output_type": "execute_result"
        }
      ],
      "source": [
        "y_train.value_counts()"
      ]
    },
    {
      "cell_type": "code",
      "execution_count": 43,
      "id": "848e48fb",
      "metadata": {
        "id": "848e48fb"
      },
      "outputs": [],
      "source": [
        "def f1_score(y_true, y_pred):\n",
        "    \"\"\"\n",
        "    Macro F1 score metric.\n",
        "    \"\"\"\n",
        "    y_pred = K.round(y_pred)\n",
        "    true_positives = K.sum(K.round(K.clip(y_true * y_pred, 0, 1)), axis=0)\n",
        "    false_positives = K.sum(K.round(K.clip(y_pred - y_true, 0, 1)), axis=0)\n",
        "    false_negatives = K.sum(K.round(K.clip(y_true - y_pred, 0, 1)), axis=0)\n",
        "    precision = true_positives / (true_positives + false_positives + K.epsilon())\n",
        "    recall = true_positives / (true_positives + false_negatives + K.epsilon())\n",
        "    f1_scores = 2 * (precision * recall) / (precision + recall + K.epsilon())\n",
        "    macro_f1_score = K.mean(f1_scores)\n",
        "\n",
        "    return macro_f1_score"
      ]
    },
    {
      "cell_type": "code",
      "execution_count": 44,
      "id": "01f5fcdf",
      "metadata": {
        "id": "01f5fcdf",
        "outputId": "187e7cd9-8f70-4eae-d11d-c40e1c08c506"
      },
      "outputs": [
        {
          "name": "stdout",
          "output_type": "stream",
          "text": [
            "47\n"
          ]
        }
      ],
      "source": [
        "print(x_train.shape[1])"
      ]
    },
    {
      "cell_type": "markdown",
      "id": "cb6de984",
      "metadata": {
        "id": "cb6de984"
      },
      "source": [
        "#### * Xây dựng model:"
      ]
    },
    {
      "cell_type": "code",
      "execution_count": 45,
      "id": "732f9456",
      "metadata": {
        "id": "732f9456"
      },
      "outputs": [],
      "source": [
        "\n",
        "early_stopping = EarlyStopping(monitor='f1_score',\n",
        "                                mode='max',\n",
        "    min_delta=0.00005,\n",
        "    patience=100,\n",
        "    verbose=1,\n",
        "    restore_best_weights=True,\n",
        ")\n",
        "\n",
        "lr_scheduler = ReduceLROnPlateau(\n",
        "    monitor='f1_score',\n",
        "    mode='max',\n",
        "    factor=0.5,\n",
        "    patience=10,\n",
        "    min_lr=0.000001,\n",
        "    verbose=1,\n",
        ")\n",
        "checkpoint_callback = ModelCheckpoint(\n",
        "    filepath='best_model.h5',  # Đường dẫn để lưu model\n",
        "    monitor='f1_score',  # Theo dõi val_loss\n",
        "    mode='max',\n",
        "    save_best_only=True,  # Lưu lại chỉ model có val_loss tốt nhất\n",
        "    verbose=1  # Hiển thị thông báo khi lưu model\n",
        ")\n",
        "\n"
      ]
    },
    {
      "cell_type": "markdown",
      "id": "5ec895de",
      "metadata": {
        "id": "5ec895de"
      },
      "source": [
        "#### * Xây dựng Stacked_model:"
      ]
    },
    {
      "cell_type": "code",
      "execution_count": 46,
      "id": "9b807d4e",
      "metadata": {
        "id": "9b807d4e"
      },
      "outputs": [],
      "source": [
        "from sklearn.base import BaseEstimator, ClassifierMixin\n",
        "import numpy as np\n",
        "import tensorflow as tf\n",
        "from tabnet_keras import TabNetClassifier\n",
        "\n",
        "class TabNetWrapper(BaseEstimator, ClassifierMixin):\n",
        "    def __init__(self, **kwargs):\n",
        "        self.kwargs = kwargs\n",
        "\n",
        "    def fit(self, X, y):\n",
        "        self.model = TabNetClassifier(n_classes = 1, out_activation = 'sigmoid',**self.kwargs)\n",
        "        self.model.compile(optimizer=tf.keras.optimizers.Adam(learning_rate=0.0001), loss='binary_crossentropy', metrics=['accuracy',f1_score])\n",
        "\n",
        "        self.model.fit(X, y, epochs=10, batch_size=64, class_weight={0:0.4,1:9.5})\n",
        "        return self\n",
        "\n",
        "    def predict(self, X):\n",
        "        proba = self.model.predict(X)\n",
        "        return (proba > 0.5).astype(int)\n",
        "\n",
        "    def predict_proba(self, X):\n",
        "        return self.model.predict(X)\n",
        "\n",
        "    def summary(self):\n",
        "        return self.model.summary()"
      ]
    },
    {
      "cell_type": "code",
      "execution_count": null,
      "id": "071a8a46",
      "metadata": {
        "id": "071a8a46"
      },
      "outputs": [],
      "source": []
    },
    {
      "cell_type": "code",
      "execution_count": 47,
      "id": "14004dd7",
      "metadata": {
        "id": "14004dd7"
      },
      "outputs": [],
      "source": [
        "tabnet_params = {\n",
        "    \"decision_dim\": 16,\n",
        "    \"attention_dim\": 16,\n",
        "    \"n_steps\": 3,\n",
        "    \"n_shared_glus\": 2,\n",
        "    \"n_dependent_glus\": 2,\n",
        "    \"relaxation_factor\": 1.3,\n",
        "    \"epsilon\": 1e-15,\n",
        "    \"momentum\": 0.98,\n",
        "    \"mask_type\": \"softmax\", # can be 'sparsemax' or 'softmax'\n",
        "    \"lambda_sparse\": 1e-3,\n",
        "    \"virtual_batch_splits\": 8 #number of splits for ghost batch normalization, ideally should evenly divide the batch_size\n",
        "}\n",
        "tabnet = TabNetWrapper(**tabnet_params)\n"
      ]
    },
    {
      "cell_type": "code",
      "execution_count": 48,
      "id": "f331d78b",
      "metadata": {},
      "outputs": [],
      "source": [
        "\n",
        "\n",
        "# param_grid_svc = {\n",
        "#     'C': [0.1, 1, 10, 100, 1000],\n",
        "#     'gamma': ['scale', 'auto'],\n",
        "# }\n",
        "\n",
        "\n",
        "\n",
        "# grid_search_svm  = GridSearchCV(estimator=SVC(kernel='rbf',class_weight= 'balanced', probability=True, random_state=seed),\n",
        "#                               param_grid=param_grid_svc,\n",
        "#                               scoring='f1',\n",
        "#                               cv=5, n_jobs=-1, verbose=2)\n",
        "# grid_search_svm .fit(x_train[feature_selection['SVM']], y_train)\n",
        "# svm_model = grid_search_svm .best_estimator_\n",
        "\n",
        "# dump(svm_model, f'{save_dir}/svm_model.joblib')\n",
        "\n",
        "# print(\"Best SVM Hyperparameters:\")\n",
        "# print(grid_search_svm .best_params_)\n"
      ]
    },
    {
      "cell_type": "code",
      "execution_count": 49,
      "id": "c8c4c3c3",
      "metadata": {
        "id": "c8c4c3c3",
        "outputId": "b67a4e4d-52bc-4374-e74d-f8a02a4829fe"
      },
      "outputs": [
        {
          "name": "stdout",
          "output_type": "stream",
          "text": [
            "(3300, 6)\n",
            "(3300, 1)\n"
          ]
        }
      ],
      "source": [
        "from sklearn.ensemble import StackingClassifier\n",
        "\n",
        "# def create_keras_model():\n",
        "#     # Thêm các lớp khác vào đây\n",
        "#     best_model.compile(optimizer='adam', loss='binary_crossentropy', metrics=['accuracy',f1_score])\n",
        "#     best_model.load_weights('weights.h5')\n",
        "#     return best_model\n",
        "\n",
        "# tabnet = KerasClassifier(build_fn=create_keras_model, epochs=10)\n",
        "\n",
        "# rf_model=RandomForestClassifier(n_estimators=100, random_state=seed)\n",
        "# bg_model=GradientBoostingClassifier(n_estimators=100, learning_rate=1.0, max_depth=1, random_state=seed)\n",
        "# svm_model=SVC(kernel='rbf',probability=True, gamma='scale' , random_state=seed)\n",
        "\n",
        "# # Huấn luyện các mô hình cơ sở\n",
        "# rf_model.fit(x_train, y_train)\n",
        "# bg_model.fit(x_train, y_train)\n",
        "# svm_model.fit(x_train, y_train)\n",
        "\n",
        "\n",
        "# Dự đoán đầu ra của các mô hình cơ sở\n",
        "rf_pred = rf_model.predict_proba(x_test[feature_selection['RD']])\n",
        "svm_pred = svm_model.predict_proba(x_test[feature_selection['SVM']])\n",
        "bg_pred = bg_model.predict_proba(x_test[feature_selection['BG']])\n",
        "\n",
        "\n",
        "\n",
        "# keras_pred = tabnet.predict(x_test)\n",
        "stacked_input = np.column_stack((rf_pred,svm_pred,bg_pred))\n",
        "\n",
        "\n",
        "#history=model.fit(x=x_train,y=y_train,\n",
        "          #validation_data=(x_test,y_test),class_weight=class_weights_dict ,\n",
        "          #batch_size=64,epochs=120, callbacks=[confusion_matrix_callback])\n",
        "\n",
        "# tabnet = KerasClassifier(build_fn=model_output, tabnet_params=tabnet_params,batch_size=64,epochs=10000,callbacks=[early_stopping,lr_scheduler])\n",
        "\n",
        "# Clone lại để tránh thay đổi trực tiếp vào mô hình gốc\n",
        "# tabnet = clone(tabnet)\n",
        "# Xây dựng mô hình stacking\n",
        "stacked_model = StackingClassifier(\n",
        "    estimators=[('rf',rf_model), ('svm',svm_model),('bg',bg_model)],\n",
        "    final_estimator=tabnet\n",
        ")\n",
        "print(stacked_input.shape)\n",
        "print(y_test.shape)\n",
        "# Tiếp tục với việc huấn luyện và đánh giá mô hình stacking\n",
        "# stacked_model.fit(stacked_input, y_train)\n",
        "# stacked_pred = stacked_model.predict(stacked_input)\n",
        "# stacked_pred"
      ]
    },
    {
      "cell_type": "code",
      "execution_count": 50,
      "id": "dNc8zm7wMpMO",
      "metadata": {
        "id": "dNc8zm7wMpMO"
      },
      "outputs": [
        {
          "name": "stdout",
          "output_type": "stream",
          "text": [
            "Epoch 1/10\n",
            "42/42 [==============================] - 4s 4ms/step - loss: 0.6690 - accuracy: 0.7527 - f1_score: 0.0655\n",
            "Epoch 2/10\n",
            "42/42 [==============================] - 0s 4ms/step - loss: 0.6616 - accuracy: 0.7727 - f1_score: 0.0645\n",
            "Epoch 3/10\n",
            "42/42 [==============================] - 0s 4ms/step - loss: 0.6321 - accuracy: 0.7561 - f1_score: 0.0754\n",
            "Epoch 4/10\n",
            "42/42 [==============================] - 0s 4ms/step - loss: 0.6404 - accuracy: 0.7280 - f1_score: 0.0702\n",
            "Epoch 5/10\n",
            "42/42 [==============================] - 0s 4ms/step - loss: 0.6361 - accuracy: 0.7333 - f1_score: 0.0741\n",
            "Epoch 6/10\n",
            "42/42 [==============================] - 0s 4ms/step - loss: 0.6320 - accuracy: 0.7133 - f1_score: 0.0941\n",
            "Epoch 7/10\n",
            "42/42 [==============================] - 0s 4ms/step - loss: 0.6457 - accuracy: 0.6758 - f1_score: 0.0617\n",
            "Epoch 8/10\n",
            "42/42 [==============================] - 0s 4ms/step - loss: 0.6365 - accuracy: 0.6670 - f1_score: 0.0794\n",
            "Epoch 9/10\n",
            "42/42 [==============================] - 0s 4ms/step - loss: 0.6197 - accuracy: 0.6477 - f1_score: 0.0748\n",
            "Epoch 10/10\n",
            "42/42 [==============================] - 0s 3ms/step - loss: 0.6057 - accuracy: 0.6568 - f1_score: 0.0987\n",
            "21/21 [==============================] - 0s 1ms/step\n",
            "Epoch 1/10\n",
            "42/42 [==============================] - 5s 4ms/step - loss: 0.6854 - accuracy: 0.5133 - f1_score: 0.0848\n",
            "Epoch 2/10\n",
            "42/42 [==============================] - 0s 3ms/step - loss: 0.6653 - accuracy: 0.5095 - f1_score: 0.0898\n",
            "Epoch 3/10\n",
            "42/42 [==============================] - 0s 4ms/step - loss: 0.6410 - accuracy: 0.4360 - f1_score: 0.0918\n",
            "Epoch 4/10\n",
            "42/42 [==============================] - 0s 4ms/step - loss: 0.6334 - accuracy: 0.3451 - f1_score: 0.0968\n",
            "Epoch 5/10\n",
            "42/42 [==============================] - 0s 4ms/step - loss: 0.6251 - accuracy: 0.3159 - f1_score: 0.0899\n",
            "Epoch 6/10\n",
            "42/42 [==============================] - 0s 4ms/step - loss: 0.6278 - accuracy: 0.2955 - f1_score: 0.0825\n",
            "Epoch 7/10\n",
            "42/42 [==============================] - 0s 4ms/step - loss: 0.6136 - accuracy: 0.3235 - f1_score: 0.0913\n",
            "Epoch 8/10\n",
            "42/42 [==============================] - 0s 4ms/step - loss: 0.6092 - accuracy: 0.2970 - f1_score: 0.0901\n",
            "Epoch 9/10\n",
            "42/42 [==============================] - 0s 4ms/step - loss: 0.6096 - accuracy: 0.3345 - f1_score: 0.0964\n",
            "Epoch 10/10\n",
            "42/42 [==============================] - 0s 4ms/step - loss: 0.6058 - accuracy: 0.3246 - f1_score: 0.0823\n",
            "21/21 [==============================] - 0s 1ms/step\n",
            "Epoch 1/10\n",
            "42/42 [==============================] - 5s 4ms/step - loss: 0.6644 - accuracy: 0.1030 - f1_score: 0.0971\n",
            "Epoch 2/10\n",
            "42/42 [==============================] - 0s 4ms/step - loss: 0.6536 - accuracy: 0.1106 - f1_score: 0.0954\n",
            "Epoch 3/10\n",
            "42/42 [==============================] - 0s 4ms/step - loss: 0.6471 - accuracy: 0.1080 - f1_score: 0.0928\n",
            "Epoch 4/10\n",
            "42/42 [==============================] - 0s 4ms/step - loss: 0.6435 - accuracy: 0.1174 - f1_score: 0.0983\n",
            "Epoch 5/10\n",
            "42/42 [==============================] - 0s 4ms/step - loss: 0.6363 - accuracy: 0.1125 - f1_score: 0.0949\n",
            "Epoch 6/10\n",
            "42/42 [==============================] - 0s 4ms/step - loss: 0.6182 - accuracy: 0.1189 - f1_score: 0.0958\n",
            "Epoch 7/10\n",
            "42/42 [==============================] - 0s 4ms/step - loss: 0.6215 - accuracy: 0.1189 - f1_score: 0.0983\n",
            "Epoch 8/10\n",
            "42/42 [==============================] - 0s 4ms/step - loss: 0.6159 - accuracy: 0.1167 - f1_score: 0.0925\n",
            "Epoch 9/10\n",
            "42/42 [==============================] - 0s 3ms/step - loss: 0.6125 - accuracy: 0.1341 - f1_score: 0.0986\n",
            "Epoch 10/10\n",
            "42/42 [==============================] - 0s 3ms/step - loss: 0.6196 - accuracy: 0.1246 - f1_score: 0.0927\n",
            "21/21 [==============================] - 0s 1ms/step\n",
            "Epoch 1/10\n",
            "42/42 [==============================] - 5s 4ms/step - loss: 0.7414 - accuracy: 0.8947 - f1_score: 0.0135\n",
            "Epoch 2/10\n",
            "42/42 [==============================] - 0s 4ms/step - loss: 0.7209 - accuracy: 0.8920 - f1_score: 0.0420\n",
            "Epoch 3/10\n",
            "42/42 [==============================] - 0s 4ms/step - loss: 0.7329 - accuracy: 0.8727 - f1_score: 0.0693\n",
            "Epoch 4/10\n",
            "42/42 [==============================] - 0s 4ms/step - loss: 0.7063 - accuracy: 0.8561 - f1_score: 0.0464\n",
            "Epoch 5/10\n",
            "42/42 [==============================] - 0s 4ms/step - loss: 0.7296 - accuracy: 0.8527 - f1_score: 0.0560\n",
            "Epoch 6/10\n",
            "42/42 [==============================] - 0s 4ms/step - loss: 0.7434 - accuracy: 0.8549 - f1_score: 0.0551\n",
            "Epoch 7/10\n",
            "42/42 [==============================] - 0s 4ms/step - loss: 0.6833 - accuracy: 0.8341 - f1_score: 0.0722\n",
            "Epoch 8/10\n",
            "42/42 [==============================] - 0s 4ms/step - loss: 0.7002 - accuracy: 0.8117 - f1_score: 0.0452\n",
            "Epoch 9/10\n",
            "42/42 [==============================] - 0s 4ms/step - loss: 0.6842 - accuracy: 0.8091 - f1_score: 0.0361\n",
            "Epoch 10/10\n",
            "42/42 [==============================] - 0s 4ms/step - loss: 0.6525 - accuracy: 0.7803 - f1_score: 0.0799\n",
            "21/21 [==============================] - 0s 1ms/step\n",
            "Epoch 1/10\n",
            "42/42 [==============================] - 4s 4ms/step - loss: 0.9515 - accuracy: 0.9205 - f1_score: 0.0464\n",
            "Epoch 2/10\n",
            "42/42 [==============================] - 0s 3ms/step - loss: 0.9397 - accuracy: 0.9163 - f1_score: 0.0437\n",
            "Epoch 3/10\n",
            "42/42 [==============================] - 0s 4ms/step - loss: 0.8521 - accuracy: 0.9129 - f1_score: 0.0740\n",
            "Epoch 4/10\n",
            "42/42 [==============================] - 0s 4ms/step - loss: 0.8494 - accuracy: 0.8962 - f1_score: 0.0265\n",
            "Epoch 5/10\n",
            "42/42 [==============================] - 0s 4ms/step - loss: 0.8328 - accuracy: 0.8966 - f1_score: 0.0808\n",
            "Epoch 6/10\n",
            "42/42 [==============================] - 0s 4ms/step - loss: 0.8020 - accuracy: 0.8852 - f1_score: 0.0401\n",
            "Epoch 7/10\n",
            "42/42 [==============================] - 0s 4ms/step - loss: 0.7930 - accuracy: 0.8837 - f1_score: 0.0657\n",
            "Epoch 8/10\n",
            "42/42 [==============================] - 0s 4ms/step - loss: 0.7696 - accuracy: 0.8670 - f1_score: 0.0738\n",
            "Epoch 9/10\n",
            "42/42 [==============================] - 0s 4ms/step - loss: 0.7796 - accuracy: 0.8583 - f1_score: 0.0722\n",
            "Epoch 10/10\n",
            "42/42 [==============================] - 0s 4ms/step - loss: 0.7603 - accuracy: 0.8640 - f1_score: 0.0740\n",
            "21/21 [==============================] - 0s 1ms/step\n",
            "Accuracy on each fold: [0.05, 0.051515151515151514, 0.051515151515151514, 0.10151515151515152, 0.793939393939394]\n",
            "Mean accuracy across all folds: 0.20969696969696966\n"
          ]
        }
      ],
      "source": [
        "from sklearn.model_selection import StratifiedKFold\n",
        "from sklearn.metrics import accuracy_score\n",
        "\n",
        "# Khởi tạo StratifiedKFold với 5 phần\n",
        "skf = StratifiedKFold(n_splits=5, shuffle=True, random_state=42)\n",
        "\n",
        "fold_accuracies = []\n",
        "\n",
        "for train_index, test_index in skf.split(stacked_input, y_test):\n",
        "    stacked_input_fold, X_test_fold =stacked_input[train_index],stacked_input[test_index]\n",
        "    y_train_fold, y_test_fold =y_test.iloc[train_index], y_test.iloc[test_index]\n",
        "    stacked_model.fit(stacked_input_fold, y_train_fold)    \n",
        "    y_pred_fold = stacked_model.predict(X_test_fold)    \n",
        "    accuracy = accuracy_score(y_test_fold, y_pred_fold)\n",
        "    fold_accuracies.append(accuracy)\n",
        "\n",
        "mean_accuracy = sum(fold_accuracies) / len(fold_accuracies)\n",
        "print(\"Accuracy on each fold:\", fold_accuracies)\n",
        "print(\"Mean accuracy across all folds:\", mean_accuracy)\n"
      ]
    },
    {
      "cell_type": "code",
      "execution_count": 51,
      "id": "939f05dd",
      "metadata": {
        "id": "939f05dd",
        "outputId": "d1daa1e7-bbda-4749-9836-617477c575dc"
      },
      "outputs": [
        {
          "name": "stdout",
          "output_type": "stream",
          "text": [
            "104/104 [==============================] - 0s 1ms/step\n"
          ]
        }
      ],
      "source": [
        "# rf_pred = rf_model.predict_proba(x_test[feature_selection['RD']])\n",
        "# svm_pred = svm_model.predict_proba(x_test[feature_selection['LGBM']])\n",
        "# bg_pred = bg_model.predict_proba(x_test[feature_selection['XGB']])\n",
        "# stacked_input = np.column_stack((rf_pred,svm_pred,bg_pred))\n",
        "stacked_pred = stacked_model.predict(stacked_input)\n"
      ]
    },
    {
      "cell_type": "code",
      "execution_count": 52,
      "id": "dff75e76",
      "metadata": {
        "id": "dff75e76",
        "outputId": "ed0e4f8a-273a-42c8-eb75-85080e228b84"
      },
      "outputs": [
        {
          "name": "stdout",
          "output_type": "stream",
          "text": [
            "104/104 [==============================] - 0s 1ms/step\n",
            "Accuracy of Stacked Model: 0.8196969696969697\n"
          ]
        }
      ],
      "source": [
        "# stacked_model.fit(stacked_input, y_test)\n",
        "# Dự đoán và đánh giá mô hình stacked\n",
        "stacked_pred = stacked_model.predict(stacked_input)\n",
        "stacked_pred_labels = (stacked_pred > 0.3).astype(int)\n",
        "accuracy_stacked = accuracy_score(y_test, stacked_pred_labels)\n",
        "print(f'Accuracy of Stacked Model: {accuracy_stacked}')"
      ]
    },
    {
      "cell_type": "markdown",
      "id": "0b2cb867",
      "metadata": {
        "id": "0b2cb867"
      },
      "source": [
        "#### * Kết quả đánh giá mô hình:"
      ]
    },
    {
      "cell_type": "code",
      "execution_count": 53,
      "id": "07132b7e",
      "metadata": {
        "id": "07132b7e",
        "outputId": "8fb3e452-7905-484d-f5ef-04833da33634"
      },
      "outputs": [
        {
          "name": "stdout",
          "output_type": "stream",
          "text": [
            "Accuracy: 0.8196969696969697\n",
            "Classification Report:\n",
            "              precision    recall  f1-score   support\n",
            "\n",
            "           1       0.12      0.43      0.19       167\n",
            "           0       0.96      0.84      0.90      3133\n",
            "\n",
            "    accuracy                           0.82      3300\n",
            "   macro avg       0.54      0.63      0.55      3300\n",
            "weighted avg       0.92      0.82      0.86      3300\n",
            "\n"
          ]
        }
      ],
      "source": [
        "from sklearn.metrics import accuracy_score, classification_report, confusion_matrix\n",
        "\n",
        "\n",
        "\n",
        "\n",
        "accuracy = accuracy_score(y_test, stacked_pred_labels)\n",
        "print(\"Accuracy:\", accuracy)\n",
        "\n",
        "print(\"Classification Report:\")\n",
        "print(classification_report(y_test, stacked_pred_labels,labels=[1,0]))\n",
        "\n",
        "# print(\"Confusion Matrix:\")\n",
        "# print(confusion_matrix(y_test, y_pred,labels=[1,0]))"
      ]
    },
    {
      "cell_type": "code",
      "execution_count": 54,
      "id": "6f218b86",
      "metadata": {
        "id": "6f218b86",
        "outputId": "495d4835-1288-416a-e66f-a491b28390ea"
      },
      "outputs": [
        {
          "data": {
            "image/png": "[encoded data removed]",
            "text/plain": [
              "<Figure size 800x600 with 2 Axes>"
            ]
          },
          "metadata": {},
          "output_type": "display_data"
        }
      ],
      "source": [
        "# Dự đoán\n",
        "\n",
        "\n",
        "# Tính ma trận nhầm lẫn\n",
        "cm = confusion_matrix(y_test, stacked_pred_labels,labels=[1,0])\n",
        "plt.figure(figsize=(8, 6))\n",
        "sns.heatmap(cm, annot=True, fmt='g', cmap='Blues', xticklabels=[1,0], yticklabels=[1,0])\n",
        "plt.title('Confusion Matrix')\n",
        "plt.xlabel('Predicted')\n",
        "plt.ylabel('Actual')\n",
        "plt.show()"
      ]
    },
    {
      "cell_type": "code",
      "execution_count": 55,
      "id": "e744c8a6",
      "metadata": {
        "id": "e744c8a6",
        "outputId": "13a87d53-c645-4b60-e4ad-1c59dba8ca90"
      },
      "outputs": [
        {
          "data": {
            "image/png": "[encoded data removed]",
            "text/plain": [
              "<Figure size 1500x1500 with 1 Axes>"
            ]
          },
          "metadata": {},
          "output_type": "display_data"
        }
      ],
      "source": [
        "fig, ax = plt.subplots(1, 1, figsize=(15, 15))\n",
        "\n",
        "fpr, tpr, _ = roc_curve(y_test, stacked_pred)\n",
        "\n",
        "roc_auc = auc(fpr, tpr)\n",
        "\n",
        "ax.plot(fpr, tpr, lw=4, label='ROC curve (AUC = %0.2f)' % roc_auc)\n",
        "ax.plot([0, 1], [0, 1], color='red', lw=2, linestyle='--')\n",
        "ax.set_xlim([0.0, 1.0])\n",
        "ax.set_ylim([0.0, 1.05])\n",
        "ax.set_xlabel('False Positive Rate', fontsize=12, weight='bold')\n",
        "ax.set_ylabel('True Positive Rate', fontsize=12, weight='bold')\n",
        "ax.set_title(f'ROC of Voting',fontsize=20, weight='bold')\n",
        "ax.legend(loc=\"lower right\", prop={'size': 12, 'weight': 'bold'})\n",
        "plt.show()"
      ]
    },
    {
      "cell_type": "code",
      "execution_count": 56,
      "id": "ffe10617",
      "metadata": {
        "id": "ffe10617"
      },
      "outputs": [],
      "source": [
        "def check_result(prediction):\n",
        "    prediction = (prediction > 0.2).astype(int)\n",
        "    if isinstance(prediction, (np.ndarray, pd.Series)):\n",
        "        prediction = prediction.item()  # Hoặc sử dụng prediction[0] hoặc prediction.iloc[0]\n",
        "    if prediction==1:\n",
        "        return \"Y\"\n",
        "    else:\n",
        "        return \"N\""
      ]
    },
    {
      "cell_type": "code",
      "execution_count": 57,
      "id": "8e3eefa4",
      "metadata": {
        "id": "8e3eefa4",
        "outputId": "1204a023-0e49-4835-c756-f6627fe4d438"
      },
      "outputs": [
        {
          "name": "stdout",
          "output_type": "stream",
          "text": [
            "104/104 [==============================] - 0s 1ms/step\n"
          ]
        },
        {
          "ename": "AxisError",
          "evalue": "axis 1 is out of bounds for array of dimension 1",
          "output_type": "error",
          "traceback": [
            "\u001b[1;31m---------------------------------------------------------------------------\u001b[0m",
            "\u001b[1;31mAxisError\u001b[0m                                 Traceback (most recent call last)",
            "Cell \u001b[1;32mIn[57], line 5\u001b[0m\n\u001b[0;32m      3\u001b[0m \u001b[38;5;28;01mfor\u001b[39;00m indx \u001b[38;5;129;01min\u001b[39;00m \u001b[38;5;28mrange\u001b[39m(\u001b[38;5;28mlen\u001b[39m(x_test)):\n\u001b[0;32m      4\u001b[0m     y_predict \u001b[38;5;241m=\u001b[39m stacked_model\u001b[38;5;241m.\u001b[39mpredict(stacked_input)\n\u001b[1;32m----> 5\u001b[0m     stacked_pred_labels \u001b[38;5;241m=\u001b[39m \u001b[43my_predict\u001b[49m\u001b[38;5;241;43m.\u001b[39;49m\u001b[43margmax\u001b[49m\u001b[43m(\u001b[49m\u001b[43maxis\u001b[49m\u001b[38;5;241;43m=\u001b[39;49m\u001b[38;5;241;43m1\u001b[39;49m\u001b[43m)\u001b[49m\n\u001b[0;32m      7\u001b[0m     \u001b[38;5;66;03m#print(y_predict[0][0])\u001b[39;00m\n\u001b[0;32m      8\u001b[0m     Y_check \u001b[38;5;241m=\u001b[39m check_result(y_test\u001b[38;5;241m.\u001b[39miloc[indx])\n",
            "\u001b[1;31mAxisError\u001b[0m: axis 1 is out of bounds for array of dimension 1"
          ]
        }
      ],
      "source": [
        "solandung=0\n",
        "hopdonggianlan=0\n",
        "for indx in range(len(x_test)):\n",
        "    y_predict = stacked_model.predict(stacked_input)\n",
        "    stacked_pred_labels = y_predict.argmax(axis=1)\n",
        "\n",
        "    #print(y_predict[0][0])\n",
        "    Y_check = check_result(y_test.iloc[indx])\n",
        "    print('True:', Y_check)\n",
        "    print('Predicted:', check_result(stacked_pred_labels[indx]))\n",
        "    print(\"----------------------------\")\n",
        "    if Y_check==check_result(stacked_pred_labels[indx]):\n",
        "        solandung+=1\n",
        "        if Y_check=='Y':\n",
        "            hopdonggianlan+=1\n"
      ]
    },
    {
      "cell_type": "code",
      "execution_count": null,
      "id": "a3a65590",
      "metadata": {
        "id": "a3a65590",
        "outputId": "4a195949-64b8-40aa-d25d-ce7db09267f7"
      },
      "outputs": [
        {
          "name": "stdout",
          "output_type": "stream",
          "text": [
            "Số lần dự đoán đúng: 275 chiếm khoảng 83.33333333333334% tổng lần dự đoán\n",
            "Số hợp đồng gian lận trong lần kiểm tra: 75 chiếm khoảng 85.22727272727273% so với thực tế\n"
          ]
        }
      ],
      "source": [
        "print(f\"Số lần dự đoán đúng: {solandung} chiếm khoảng {(solandung/len(x_test))*100}% tổng lần dự đoán\")\n",
        "print(f\"Số hợp đồng gian lận trong lần kiểm tra: {hopdonggianlan} chiếm khoảng {(hopdonggianlan/len(y_test[y_test['fraud_reported']==1]))*100}% so với thực tế\")\n"
      ]
    },
    {
      "cell_type": "code",
      "execution_count": null,
      "id": "c31643d6",
      "metadata": {
        "id": "c31643d6"
      },
      "outputs": [],
      "source": []
    },
    {
      "cell_type": "code",
      "execution_count": null,
      "id": "33e3467b",
      "metadata": {
        "id": "33e3467b"
      },
      "outputs": [],
      "source": []
    }
  ],
  "metadata": {
    "colab": {
      "provenance": []
    },
    "kernelspec": {
      "display_name": "Python 3",
      "language": "python",
      "name": "python3"
    },
    "language_info": {
      "codemirror_mode": {
        "name": "ipython",
        "version": 3
      },
      "file_extension": ".py",
      "mimetype": "text/x-python",
      "name": "python",
      "nbconvert_exporter": "python",
      "pygments_lexer": "ipython3",
      "version": "3.8.19"
    }
  },
  "nbformat": 4,
  "nbformat_minor": 5
}
