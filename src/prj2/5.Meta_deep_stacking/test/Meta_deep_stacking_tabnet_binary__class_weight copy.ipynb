{
 "cells": [
  {
   "cell_type": "code",
   "execution_count": 1,
   "id": "c1dd1c5b",
   "metadata": {},
   "outputs": [
    {
     "name": "stdout",
     "output_type": "stream",
     "text": [
      "c:\\Users\\PC\\Data\\ads_prj_nckh\n"
     ]
    },
    {
     "data": {
      "text/html": [
       "        <script type=\"text/javascript\">\n",
       "        window.PlotlyConfig = {MathJaxConfig: 'local'};\n",
       "        if (window.MathJax && window.MathJax.Hub && window.MathJax.Hub.Config) {window.MathJax.Hub.Config({SVG: {font: \"STIX-Web\"}});}\n",
       "        if (typeof require !== 'undefined') {\n",
       "        require.undef(\"plotly\");\n",
       "        requirejs.config({\n",
       "            paths: {\n",
       "                'plotly': ['https://cdn.plot.ly/plotly-2.34.0.min']\n",
       "            }\n",
       "        });\n",
       "        require(['plotly'], function(Plotly) {\n",
       "            window._Plotly = Plotly;\n",
       "        });\n",
       "        }\n",
       "        </script>\n",
       "        "
      ]
     },
     "metadata": {},
     "output_type": "display_data"
    }
   ],
   "source": [
    "import sys,os\n",
    "__script_path=os.path.abspath(globals().get('__file__','.'))\n",
    "__script_dir = os.path.dirname(__script_path)\n",
    "root_dir = os.path.abspath(f'{__script_dir}/..')\n",
    "print(root_dir)\n",
    "for lib in [root_dir][::-1]:\n",
    "    if lib in sys.path:\n",
    "        sys.path.remove(lib)\n",
    "    sys.path.insert(0,lib)\n",
    "\n",
    "from libs.lib import *"
   ]
  },
  {
   "cell_type": "code",
   "execution_count": 2,
   "id": "622aee0d",
   "metadata": {},
   "outputs": [],
   "source": [
    "exps_dir = \"../../exps/exp1\"\n",
    "if os.path.exists(exps_dir) == False: # tạo thư mục (nếu chưa có)\n",
    "  os.makedirs(exps_dir, exist_ok=True)\n",
    "\n",
    "save_dir = f\"{exps_dir}/Standard_Label/class_dict_weight_SMOTE/data\"\n",
    "os.makedirs(save_dir, exist_ok=True)\n",
    "\n",
    "test_size=0.33\n",
    "seed=42"
   ]
  },
  {
   "cell_type": "code",
   "execution_count": 3,
   "id": "ee0c5839",
   "metadata": {},
   "outputs": [
    {
     "data": {
      "text/plain": [
       "{'LR': ['AccidentArea',\n",
       "  'Age',\n",
       "  'AgeOfVehicle',\n",
       "  'AgentType',\n",
       "  'BasePolicy',\n",
       "  'Deductible',\n",
       "  'DriverRating',\n",
       "  'Fault',\n",
       "  'MaritalStatus',\n",
       "  'NumberOfCars',\n",
       "  'PoliceReportFiled',\n",
       "  'PolicyType',\n",
       "  'Sex',\n",
       "  'VehicleCategory',\n",
       "  'WitnessPresent'],\n",
       " 'LDA': ['AccidentArea',\n",
       "  'Age',\n",
       "  'AgeOfVehicle',\n",
       "  'AgentType',\n",
       "  'BasePolicy',\n",
       "  'Deductible',\n",
       "  'DriverRating',\n",
       "  'Fault',\n",
       "  'MaritalStatus',\n",
       "  'NumberOfCars',\n",
       "  'PoliceReportFiled',\n",
       "  'PolicyType',\n",
       "  'Sex',\n",
       "  'VehicleCategory',\n",
       "  'WitnessPresent'],\n",
       " 'DTC': ['AccidentArea',\n",
       "  'Age',\n",
       "  'AgeOfVehicle',\n",
       "  'BasePolicy',\n",
       "  'DriverRating',\n",
       "  'Fault',\n",
       "  'Make',\n",
       "  'MaritalStatus',\n",
       "  'Month',\n",
       "  'MonthClaimed',\n",
       "  'NumberOfSuppliments',\n",
       "  'PastNumberOfClaims',\n",
       "  'Sex',\n",
       "  'VehicleCategory',\n",
       "  'VehiclePrice'],\n",
       " 'RD': ['AccidentArea',\n",
       "  'Age',\n",
       "  'AgeOfVehicle',\n",
       "  'BasePolicy',\n",
       "  'DriverRating',\n",
       "  'Fault',\n",
       "  'Make',\n",
       "  'MaritalStatus',\n",
       "  'Month',\n",
       "  'MonthClaimed',\n",
       "  'NumberOfSuppliments',\n",
       "  'PastNumberOfClaims',\n",
       "  'PolicyType',\n",
       "  'VehicleCategory',\n",
       "  'VehiclePrice'],\n",
       " 'KNC': ['AccidentArea',\n",
       "  'Sex',\n",
       "  'MaritalStatus',\n",
       "  'Fault',\n",
       "  'PolicyType',\n",
       "  'VehicleCategory',\n",
       "  'Deductible',\n",
       "  'DriverRating',\n",
       "  'PastNumberOfClaims',\n",
       "  'AgeOfVehicle',\n",
       "  'PoliceReportFiled',\n",
       "  'AgentType',\n",
       "  'NumberOfSuppliments',\n",
       "  'NumberOfCars',\n",
       "  'BasePolicy'],\n",
       " 'GNB': ['AccidentArea',\n",
       "  'Sex',\n",
       "  'MaritalStatus',\n",
       "  'Fault',\n",
       "  'PolicyType',\n",
       "  'VehicleCategory',\n",
       "  'Deductible',\n",
       "  'DriverRating',\n",
       "  'PastNumberOfClaims',\n",
       "  'AgeOfVehicle',\n",
       "  'PoliceReportFiled',\n",
       "  'AgentType',\n",
       "  'NumberOfSuppliments',\n",
       "  'NumberOfCars',\n",
       "  'BasePolicy'],\n",
       " 'NN': ['AccidentArea',\n",
       "  'Sex',\n",
       "  'MaritalStatus',\n",
       "  'Fault',\n",
       "  'PolicyType',\n",
       "  'VehicleCategory',\n",
       "  'Deductible',\n",
       "  'DriverRating',\n",
       "  'PastNumberOfClaims',\n",
       "  'AgeOfVehicle',\n",
       "  'PoliceReportFiled',\n",
       "  'AgentType',\n",
       "  'NumberOfSuppliments',\n",
       "  'NumberOfCars',\n",
       "  'BasePolicy'],\n",
       " 'BG': ['AccidentArea',\n",
       "  'Sex',\n",
       "  'MaritalStatus',\n",
       "  'Fault',\n",
       "  'PolicyType',\n",
       "  'VehicleCategory',\n",
       "  'Deductible',\n",
       "  'DriverRating',\n",
       "  'PastNumberOfClaims',\n",
       "  'AgeOfVehicle',\n",
       "  'PoliceReportFiled',\n",
       "  'AgentType',\n",
       "  'NumberOfSuppliments',\n",
       "  'NumberOfCars',\n",
       "  'BasePolicy'],\n",
       " 'NB': ['AccidentArea',\n",
       "  'Sex',\n",
       "  'MaritalStatus',\n",
       "  'Fault',\n",
       "  'PolicyType',\n",
       "  'VehicleCategory',\n",
       "  'Deductible',\n",
       "  'DriverRating',\n",
       "  'PastNumberOfClaims',\n",
       "  'AgeOfVehicle',\n",
       "  'PoliceReportFiled',\n",
       "  'AgentType',\n",
       "  'NumberOfSuppliments',\n",
       "  'NumberOfCars',\n",
       "  'BasePolicy'],\n",
       " 'SVM': ['AccidentArea',\n",
       "  'Sex',\n",
       "  'MaritalStatus',\n",
       "  'Fault',\n",
       "  'PolicyType',\n",
       "  'VehicleCategory',\n",
       "  'Deductible',\n",
       "  'DriverRating',\n",
       "  'PastNumberOfClaims',\n",
       "  'AgeOfVehicle',\n",
       "  'PoliceReportFiled',\n",
       "  'AgentType',\n",
       "  'NumberOfSuppliments',\n",
       "  'NumberOfCars',\n",
       "  'BasePolicy']}"
      ]
     },
     "execution_count": 3,
     "metadata": {},
     "output_type": "execute_result"
    }
   ],
   "source": [
    "feature_selection=dict(np.load(f'{save_dir}/feature_model_selection.npz',allow_pickle=True))['feature_model_selection']\n",
    "feature_selection = {key: value for key, value in feature_selection.item().items()}\n",
    "feature_selection"
   ]
  },
  {
   "cell_type": "markdown",
   "id": "79d162d6",
   "metadata": {},
   "source": [
    "* kiểm tra và tạo các thư mục (nếu chưa có)\n",
    "* tập test 33%"
   ]
  },
  {
   "cell_type": "markdown",
   "id": "5cf7e092",
   "metadata": {},
   "source": [
    "# 5. Xây dựng và đánh giá mô hình học sâu Neutual Network"
   ]
  },
  {
   "cell_type": "code",
   "execution_count": 4,
   "id": "d84bdb3c",
   "metadata": {},
   "outputs": [],
   "source": [
    "bg_model=joblib.load(f'{save_dir}/bg_model.joblib')\n",
    "rf_model=joblib.load(f'{save_dir}/rf_model.joblib')\n",
    "svm_model=joblib.load(f'{save_dir}/svm_model.joblib')"
   ]
  },
  {
   "cell_type": "code",
   "execution_count": 5,
   "id": "2e81211d",
   "metadata": {},
   "outputs": [
    {
     "data": {
      "text/plain": [
       "{0: 0.5317035512094699, 1: 8.385551948051948}"
      ]
     },
     "execution_count": 5,
     "metadata": {},
     "output_type": "execute_result"
    }
   ],
   "source": [
    "x_train=pd.read_excel(f'{save_dir}/x_train.xlsx')\n",
    "y_train=pd.read_excel(f'{save_dir}/y_train.xlsx')\n",
    "x_test=pd.read_excel(f'{save_dir}/x_test.xlsx')\n",
    "y_test=pd.read_excel(f'{save_dir}/y_test.xlsx')\n",
    "class_weights_dict=dict(np.load(f'{save_dir}/class_weights_dict.npz',allow_pickle=True))['class_weights_dict']\n",
    "class_weights_dict = {key: value for key, value in class_weights_dict.item().items()}\n",
    "class_weights_dict"
   ]
  },
  {
   "cell_type": "code",
   "execution_count": 6,
   "id": "9dd43638",
   "metadata": {},
   "outputs": [
    {
     "name": "stdout",
     "output_type": "stream",
     "text": [
      "(5089, 2) (19430, 2)\n"
     ]
    }
   ],
   "source": [
    "\n",
    "\n",
    "# Dữ liệu label đã được mã hóa\n",
    "def oneHot(arr):\n",
    "    labels = np.array(arr)\n",
    "    encoder = OneHotEncoder(sparse=False)\n",
    "    \n",
    "    labels_reshaped = labels.reshape(-1, 1)\n",
    "    \n",
    "    encoder.fit(labels_reshaped)\n",
    "    \n",
    "    onehot_labels = encoder.transform(labels_reshaped)\n",
    "    # onehot_labels=pd.DataFrame(onehot_labels)\n",
    "    return onehot_labels\n",
    "\n",
    "y_train_onehot=oneHot(y_train)\n",
    "y_test_onehot=oneHot(y_test)\n",
    "print(y_test_onehot.shape,y_train_onehot.shape)\n"
   ]
  },
  {
   "cell_type": "code",
   "execution_count": 7,
   "id": "9cf5d7b4",
   "metadata": {},
   "outputs": [
    {
     "name": "stdout",
     "output_type": "stream",
     "text": [
      "(5089, 2)\n"
     ]
    }
   ],
   "source": [
    "y_test_onehot.reshape(-1, 1)\n",
    "print(y_test_onehot.shape)"
   ]
  },
  {
   "cell_type": "code",
   "execution_count": 8,
   "id": "6dda6290",
   "metadata": {},
   "outputs": [
    {
     "data": {
      "text/plain": [
       "(5089, 34)"
      ]
     },
     "execution_count": 8,
     "metadata": {},
     "output_type": "execute_result"
    }
   ],
   "source": [
    "x_test.shape"
   ]
  },
  {
   "cell_type": "code",
   "execution_count": 9,
   "id": "f1c3ac7a",
   "metadata": {},
   "outputs": [
    {
     "data": {
      "text/plain": [
       "(19430, 34)"
      ]
     },
     "execution_count": 9,
     "metadata": {},
     "output_type": "execute_result"
    }
   ],
   "source": [
    "x_train.shape"
   ]
  },
  {
   "cell_type": "code",
   "execution_count": 10,
   "id": "848e48fb",
   "metadata": {},
   "outputs": [],
   "source": [
    "def f1_score(y_true, y_pred):\n",
    "    \"\"\"\n",
    "    Macro F1 score metric.\n",
    "    \"\"\"\n",
    "    # Convert predictions to binary (0 or 1)\n",
    "    y_pred = K.round(y_pred)\n",
    "    \n",
    "    # Calculate True Positives, False Positives and False Negatives for each class\n",
    "    true_positives = K.sum(K.round(K.clip(y_true * y_pred, 0, 1)), axis=0)\n",
    "    false_positives = K.sum(K.round(K.clip(y_pred - y_true, 0, 1)), axis=0)\n",
    "    false_negatives = K.sum(K.round(K.clip(y_true - y_pred, 0, 1)), axis=0)\n",
    "    \n",
    "    # Calculate precision and recall for each class\n",
    "    precision = true_positives / (true_positives + false_positives + K.epsilon())\n",
    "    recall = true_positives / (true_positives + false_negatives + K.epsilon())\n",
    "    \n",
    "    # Calculate F1 score for each class\n",
    "    f1_scores = 2 * (precision * recall) / (precision + recall + K.epsilon())\n",
    "    \n",
    "    # Calculate macro F1 score\n",
    "    macro_f1_score = K.mean(f1_scores)\n",
    "    \n",
    "    return macro_f1_score"
   ]
  },
  {
   "cell_type": "code",
   "execution_count": 11,
   "id": "01f5fcdf",
   "metadata": {},
   "outputs": [
    {
     "name": "stdout",
     "output_type": "stream",
     "text": [
      "34\n"
     ]
    }
   ],
   "source": [
    "print(x_train.shape[1])"
   ]
  },
  {
   "cell_type": "markdown",
   "id": "cb6de984",
   "metadata": {},
   "source": [
    "#### * Xây dựng model:"
   ]
  },
  {
   "cell_type": "code",
   "execution_count": 12,
   "id": "732f9456",
   "metadata": {},
   "outputs": [],
   "source": [
    "\n",
    "early_stopping = EarlyStopping(monitor='f1_score',\n",
    "                                mode='max',\n",
    "    min_delta=0.00005,\n",
    "    patience=100,\n",
    "    verbose=1,\n",
    "    restore_best_weights=True,\n",
    ")\n",
    "\n",
    "lr_scheduler = ReduceLROnPlateau(\n",
    "    monitor='f1_score',\n",
    "    mode='max',\n",
    "    factor=0.5,\n",
    "    patience=10,\n",
    "    min_lr=0.000001,\n",
    "    verbose=1,\n",
    ")\n",
    "checkpoint_callback = ModelCheckpoint(\n",
    "    filepath='best_model.h5',  # Đường dẫn để lưu model\n",
    "    monitor='f1_score',  # Theo dõi val_loss\n",
    "    mode='max',\n",
    "    save_best_only=True,  # Lưu lại chỉ model có val_loss tốt nhất\n",
    "    verbose=1  # Hiển thị thông báo khi lưu model\n",
    ")\n",
    "\n"
   ]
  },
  {
   "cell_type": "code",
   "execution_count": 13,
   "id": "c9523ae8",
   "metadata": {},
   "outputs": [],
   "source": [
    "# best_model.save_weights('weights.h5')\n"
   ]
  },
  {
   "cell_type": "code",
   "execution_count": 14,
   "id": "8917077b",
   "metadata": {},
   "outputs": [],
   "source": [
    "# best_trials = tuner.oracle.get_best_trials(1)[0].hyperparameters.values\n",
    "# best_trials"
   ]
  },
  {
   "cell_type": "markdown",
   "id": "5ec895de",
   "metadata": {},
   "source": [
    "#### * Xây dựng Stacked_model:"
   ]
  },
  {
   "cell_type": "code",
   "execution_count": 15,
   "id": "34b9d4d5",
   "metadata": {},
   "outputs": [],
   "source": [
    "# from sklearn.ensemble import RandomForestClassifier\n",
    "# from sklearn.svm import SVC\n",
    "# from keras.models import Sequential\n",
    "# from keras.layers import Dense, BatchNormalization, Dropout\n",
    "# from sklearn.metrics import accuracy_score\n",
    "# import numpy as np\n",
    "# from tensorflow.keras.optimizers import Adam\n",
    "# tabnet_params = {\n",
    "#     \"decision_dim\": 16,\n",
    "#     \"attention_dim\": 16,\n",
    "#     \"n_steps\": 3,\n",
    "#     \"n_shared_glus\": 2,\n",
    "#     \"n_dependent_glus\": 2,\n",
    "#     \"relaxation_factor\": 1.3,\n",
    "#     \"epsilon\": 1e-15,\n",
    "#     \"momentum\": 0.98,\n",
    "#     \"mask_type\": \"softmax\", # can be 'sparsemax' or 'softmax'\n",
    "#     \"lambda_sparse\": 1e-3, \n",
    "#     \"virtual_batch_splits\": 8 #number of splits for ghost batch normalization, ideally should evenly divide the batch_size\n",
    "# }\n",
    "\n",
    "# # Hàm để xây dựng mô hình đầu ra\n",
    "# def model_output(tabnet_params):\n",
    "#     # model.load_weights('best_tabnet_model.h5')\n",
    "#     learning_rate=0.1\n",
    "#     ### Classification\n",
    "#     model = TabNetClassifier(n_classes = 1, out_activation = 'sigmoid', **tabnet_params)\n",
    "#     # model = TabNetClassifier(n_classes = 2, out_activation = 'softmax', \n",
    "#     #     kernel_regularizer=l2(0.01), **tabnet_params)\n",
    "#     # model.compile(loss = 'categorical_crossentropy', optimizer = )\n",
    "#     # model.fit(x_train, y_train, epochs = 100, batch_size = 1024)\n",
    "#     model.compile(optimizer=tf.keras.optimizers.Adam(learning_rate), loss='binary_crossentropy', metrics=['accuracy'])\n",
    "#     # model.compile(optimizer=Adam(lr=learning_rate), loss=f1_loss, metrics=['accuracy',f1_score])\n",
    "#     # model.compile(optimizer=Adam(lr=learning_rate), loss=focal_loss, metrics=['accuracy',f1_score])\n",
    "#     # model.compile(optimizer=Adam(lr=learning_rate), loss=dice_coef_9cat_loss, metrics=['accuracy',f1_score])\n",
    "#     return model\n",
    "\n",
    "\n"
   ]
  },
  {
   "cell_type": "code",
   "execution_count": 16,
   "id": "b21fc261",
   "metadata": {},
   "outputs": [],
   "source": [
    "# # model.load_weights('best_tabnet_model.h5')\n",
    "# learning_rate=0.1\n",
    "# ### Classification\n",
    "# model = TabNetClassifier(n_classes = 1, out_activation = 'sigmoid', **tabnet_params)\n",
    "# # model = TabNetClassifier(n_classes = 2, out_activation = 'softmax', \n",
    "# #     kernel_regularizer=l2(0.01), **tabnet_params)\n",
    "# # model.compile(loss = 'categorical_crossentropy', optimizer = )\n",
    "# # model.fit(x_train, y_train, epochs = 100, batch_size = 1024)\n",
    "# model.compile(optimizer=tf.keras.optimizers.Adam(learning_rate), loss='binary_crossentropy', metrics=['accuracy'])\n",
    "# # model.summary()"
   ]
  },
  {
   "cell_type": "markdown",
   "id": "a190159c",
   "metadata": {},
   "source": [
    "#### * Sử dụng Stacking để kết hợp dự đoán của các mô hình cơ sở để tạo ra một mô hình cuối cùng:"
   ]
  },
  {
   "cell_type": "code",
   "execution_count": 17,
   "id": "9b807d4e",
   "metadata": {},
   "outputs": [],
   "source": [
    "from sklearn.base import BaseEstimator, ClassifierMixin\n",
    "import numpy as np\n",
    "import tensorflow as tf\n",
    "from tabnet_keras import TabNetClassifier\n",
    "\n",
    "class TabNetWrapper(BaseEstimator, ClassifierMixin):\n",
    "    def __init__(self, **kwargs):\n",
    "        self.kwargs = kwargs\n",
    "\n",
    "    def fit(self, X, y):\n",
    "        self.model = TabNetClassifier(n_classes = 1, out_activation = 'sigmoid',**self.kwargs)\n",
    "        self.model.compile(optimizer=tf.keras.optimizers.Adam(learning_rate=0.0001), loss='binary_crossentropy', metrics=['accuracy',f1_score])\n",
    "\n",
    "        self.model.fit(X, y, epochs=10, batch_size=64, class_weight=class_weights_dict)\n",
    "        return self\n",
    "\n",
    "    def predict(self, X):\n",
    "        proba = self.model.predict(X)\n",
    "        return (proba > 0.5).astype(int)\n",
    "\n",
    "    def predict_proba(self, X):\n",
    "        return self.model.predict(X)\n",
    "    \n",
    "    def summary(self):\n",
    "        return self.model.summary()"
   ]
  },
  {
   "cell_type": "code",
   "execution_count": null,
   "id": "071a8a46",
   "metadata": {},
   "outputs": [],
   "source": []
  },
  {
   "cell_type": "code",
   "execution_count": 18,
   "id": "14004dd7",
   "metadata": {},
   "outputs": [],
   "source": [
    "tabnet_params = {\n",
    "    \"decision_dim\": 16,\n",
    "    \"attention_dim\": 16,\n",
    "    \"n_steps\": 3,\n",
    "    \"n_shared_glus\": 2,\n",
    "    \"n_dependent_glus\": 2,\n",
    "    \"relaxation_factor\": 1.3,\n",
    "    \"epsilon\": 1e-15,\n",
    "    \"momentum\": 0.98,\n",
    "    \"mask_type\": \"softmax\", # can be 'sparsemax' or 'softmax'\n",
    "    \"lambda_sparse\": 1e-3, \n",
    "    \"virtual_batch_splits\": 8 #number of splits for ghost batch normalization, ideally should evenly divide the batch_size\n",
    "}\n",
    "tabnet = TabNetWrapper(**tabnet_params)\n"
   ]
  },
  {
   "cell_type": "code",
   "execution_count": 19,
   "id": "c8c4c3c3",
   "metadata": {},
   "outputs": [
    {
     "name": "stdout",
     "output_type": "stream",
     "text": [
      "(5089, 3)\n",
      "(5089, 1)\n",
      "Epoch 1/10\n",
      "80/80 [==============================] - 4s 3ms/step - loss: 0.8147 - accuracy: 0.6661 - f1_score: 0.1101\n",
      "Epoch 2/10\n",
      "80/80 [==============================] - 0s 2ms/step - loss: 0.7011 - accuracy: 0.7253 - f1_score: 0.1696\n",
      "Epoch 3/10\n",
      "80/80 [==============================] - 0s 2ms/step - loss: 0.6928 - accuracy: 0.7524 - f1_score: 0.2063\n",
      "Epoch 4/10\n",
      "80/80 [==============================] - 0s 2ms/step - loss: 0.6495 - accuracy: 0.7825 - f1_score: 0.2610\n",
      "Epoch 5/10\n",
      "80/80 [==============================] - 0s 2ms/step - loss: 0.6375 - accuracy: 0.8043 - f1_score: 0.2735\n",
      "Epoch 6/10\n",
      "80/80 [==============================] - 0s 2ms/step - loss: 0.6262 - accuracy: 0.8169 - f1_score: 0.3008\n",
      "Epoch 7/10\n",
      "80/80 [==============================] - 0s 3ms/step - loss: 0.6035 - accuracy: 0.8630 - f1_score: 0.3315\n",
      "Epoch 8/10\n",
      "80/80 [==============================] - 0s 3ms/step - loss: 0.5995 - accuracy: 0.8567 - f1_score: 0.3389\n",
      "Epoch 9/10\n",
      "80/80 [==============================] - 0s 3ms/step - loss: 0.5915 - accuracy: 0.8870 - f1_score: 0.3414\n",
      "Epoch 10/10\n",
      "80/80 [==============================] - 0s 2ms/step - loss: 0.6044 - accuracy: 0.8760 - f1_score: 0.3395\n",
      "160/160 [==============================] - 0s 849us/step\n"
     ]
    }
   ],
   "source": [
    "from sklearn.ensemble import StackingClassifier\n",
    "\n",
    "# def create_keras_model():\n",
    "#     # Thêm các lớp khác vào đây\n",
    "#     best_model.compile(optimizer='adam', loss='binary_crossentropy', metrics=['accuracy',f1_score])\n",
    "#     best_model.load_weights('weights.h5')\n",
    "#     return best_model\n",
    "\n",
    "# tabnet = KerasClassifier(build_fn=create_keras_model, epochs=10)\n",
    "\n",
    "# rf_model=RandomForestClassifier(n_estimators=100, random_state=seed)\n",
    "# bg_model=GradientBoostingClassifier(n_estimators=100, learning_rate=1.0, max_depth=1, random_state=seed)\n",
    "# svm_model=SVC(kernel='rbf',probability=True, gamma='scale' , random_state=seed)\n",
    "\n",
    "# Huấn luyện các mô hình cơ sở\n",
    "rf_model.fit(x_train, y_train)\n",
    "bg_model.fit(x_train, y_train)\n",
    "svm_model.fit(x_train, y_train)\n",
    "\n",
    "\n",
    "# Dự đoán đầu ra của các mô hình cơ sở\n",
    "rf_pred = rf_model.predict(x_test)\n",
    "svm_pred = svm_model.predict(x_test)\n",
    "bg_pred = bg_model.predict(x_test)\n",
    "\n",
    "\n",
    "# keras_pred = tabnet.predict(x_test)\n",
    "stacked_input = np.column_stack((rf_pred,svm_pred,bg_pred))\n",
    "\n",
    "\n",
    "#history=model.fit(x=x_train,y=y_train,\n",
    "          #validation_data=(x_test,y_test),class_weight=class_weights_dict ,\n",
    "          #batch_size=64,epochs=120, callbacks=[confusion_matrix_callback])\n",
    "\n",
    "# tabnet = KerasClassifier(build_fn=model_output, tabnet_params=tabnet_params,batch_size=64,epochs=10000,callbacks=[early_stopping,lr_scheduler])\n",
    "\n",
    "# Clone lại để tránh thay đổi trực tiếp vào mô hình gốc\n",
    "# tabnet = clone(tabnet)\n",
    "# Xây dựng mô hình stacking\n",
    "stacked_model = StackingClassifier(\n",
    "    estimators=[('rf',rf_model), ('svm',svm_model),('bg',bg_model)],\n",
    "    final_estimator=tabnet\n",
    ")\n",
    "print(stacked_input.shape)\n",
    "print(y_test.shape)\n",
    "# Tiếp tục với việc huấn luyện và đánh giá mô hình stacking\n",
    "stacked_model.fit(stacked_input, y_test)\n",
    "stacked_pred = stacked_model.predict(stacked_input)\n",
    "# stacked_pred"
   ]
  },
  {
   "cell_type": "code",
   "execution_count": 20,
   "id": "dff75e76",
   "metadata": {},
   "outputs": [
    {
     "name": "stdout",
     "output_type": "stream",
     "text": [
      "160/160 [==============================] - 0s 748us/step\n",
      "Accuracy of Stacked Model: 0.9078404401650619\n"
     ]
    }
   ],
   "source": [
    "# stacked_model.fit(stacked_input, y_test)\n",
    "# Dự đoán và đánh giá mô hình stacked\n",
    "stacked_pred = stacked_model.predict(stacked_input)\n",
    "stacked_pred_labels = (stacked_pred > 0.5).astype(int)\n",
    "accuracy_stacked = accuracy_score(y_test, stacked_pred_labels)\n",
    "print(f'Accuracy of Stacked Model: {accuracy_stacked}')"
   ]
  },
  {
   "cell_type": "markdown",
   "id": "0b2cb867",
   "metadata": {},
   "source": [
    "#### * Kết quả đánh giá mô hình:"
   ]
  },
  {
   "cell_type": "code",
   "execution_count": 21,
   "id": "07132b7e",
   "metadata": {},
   "outputs": [
    {
     "name": "stdout",
     "output_type": "stream",
     "text": [
      "Accuracy: 0.9078404401650619\n",
      "Classification Report:\n",
      "              precision    recall  f1-score   support\n",
      "\n",
      "           1       0.33      0.52      0.40       307\n",
      "           0       0.97      0.93      0.95      4782\n",
      "\n",
      "    accuracy                           0.91      5089\n",
      "   macro avg       0.65      0.73      0.68      5089\n",
      "weighted avg       0.93      0.91      0.92      5089\n",
      "\n"
     ]
    }
   ],
   "source": [
    "from sklearn.metrics import accuracy_score, classification_report, confusion_matrix\n",
    "\n",
    "\n",
    "\n",
    "\n",
    "# Đánh giá độ chính xác\n",
    "accuracy = accuracy_score(y_test, stacked_pred_labels)\n",
    "print(\"Accuracy:\", accuracy)\n",
    "\n",
    "# Hiển thị báo cáo phân loại\n",
    "print(\"Classification Report:\")\n",
    "print(classification_report(y_test, stacked_pred_labels,labels=[1,0]))\n",
    "\n",
    "# # Hiển thị ma trận nhầm lẫn\n",
    "# print(\"Confusion Matrix:\")\n",
    "# print(confusion_matrix(y_test, y_pred,labels=[1,0]))"
   ]
  },
  {
   "cell_type": "code",
   "execution_count": 22,
   "id": "6f218b86",
   "metadata": {},
   "outputs": [
    {
     "data": {
      "image/png": "[encoded data removed]",
      "text/plain": [
       "<Figure size 800x600 with 2 Axes>"
      ]
     },
     "metadata": {},
     "output_type": "display_data"
    }
   ],
   "source": [
    "# Dự đoán\n",
    "\n",
    "\n",
    "# Tính ma trận nhầm lẫn\n",
    "cm = confusion_matrix(y_test, stacked_pred_labels,labels=[1,0])\n",
    "plt.figure(figsize=(8, 6))\n",
    "sns.heatmap(cm, annot=True, fmt='g', cmap='Blues', xticklabels=[1,0], yticklabels=[1,0])\n",
    "plt.title('Confusion Matrix')\n",
    "plt.xlabel('Predicted')\n",
    "plt.ylabel('Actual')\n",
    "plt.show()"
   ]
  },
  {
   "cell_type": "code",
   "execution_count": 23,
   "id": "e744c8a6",
   "metadata": {},
   "outputs": [
    {
     "data": {
      "image/png": "[encoded data removed]",
      "text/plain": [
       "<Figure size 1500x1500 with 1 Axes>"
      ]
     },
     "metadata": {},
     "output_type": "display_data"
    }
   ],
   "source": [
    "fig, ax = plt.subplots(1, 1, figsize=(15, 15))\n",
    "\n",
    "fpr, tpr, _ = roc_curve(y_test, stacked_pred)\n",
    "    \n",
    "roc_auc = auc(fpr, tpr)\n",
    "\n",
    "ax.plot(fpr, tpr, lw=4, label='ROC curve (AUC = %0.2f)' % roc_auc)\n",
    "ax.plot([0, 1], [0, 1], color='red', lw=2, linestyle='--')\n",
    "ax.set_xlim([0.0, 1.0])\n",
    "ax.set_ylim([0.0, 1.05])\n",
    "ax.set_xlabel('False Positive Rate', fontsize=12, weight='bold')  \n",
    "ax.set_ylabel('True Positive Rate', fontsize=12, weight='bold')   \n",
    "ax.set_title(f'ROC of Voting',fontsize=20, weight='bold')  \n",
    "ax.legend(loc=\"lower right\", prop={'size': 12, 'weight': 'bold'}) \n",
    "plt.show()"
   ]
  },
  {
   "cell_type": "code",
   "execution_count": 24,
   "id": "ffe10617",
   "metadata": {},
   "outputs": [],
   "source": [
    "def check_result(prediction):\n",
    "    prediction = (prediction > 0.5).astype(int)\n",
    "    if isinstance(prediction, (np.ndarray, pd.Series)):\n",
    "        prediction = prediction.item()  # Hoặc sử dụng prediction[0] hoặc prediction.iloc[0]\n",
    "    if prediction==1:\n",
    "        return \"Y\"\n",
    "    else:\n",
    "        return \"N\""
   ]
  },
  {
   "cell_type": "code",
   "execution_count": 25,
   "id": "8e3eefa4",
   "metadata": {},
   "outputs": [
    {
     "name": "stdout",
     "output_type": "stream",
     "text": [
      "160/160 [==============================] - 0s 755us/step\n"
     ]
    },
    {
     "ename": "AxisError",
     "evalue": "axis 1 is out of bounds for array of dimension 1",
     "output_type": "error",
     "traceback": [
      "\u001b[1;31m---------------------------------------------------------------------------\u001b[0m",
      "\u001b[1;31mAxisError\u001b[0m                                 Traceback (most recent call last)",
      "Cell \u001b[1;32mIn[25], line 5\u001b[0m\n\u001b[0;32m      3\u001b[0m \u001b[38;5;28;01mfor\u001b[39;00m indx \u001b[38;5;129;01min\u001b[39;00m \u001b[38;5;28mrange\u001b[39m(\u001b[38;5;28mlen\u001b[39m(x_test)):\n\u001b[0;32m      4\u001b[0m     y_predict \u001b[38;5;241m=\u001b[39m stacked_model\u001b[38;5;241m.\u001b[39mpredict(stacked_input)\n\u001b[1;32m----> 5\u001b[0m     stacked_pred_labels \u001b[38;5;241m=\u001b[39m \u001b[43my_predict\u001b[49m\u001b[38;5;241;43m.\u001b[39;49m\u001b[43margmax\u001b[49m\u001b[43m(\u001b[49m\u001b[43maxis\u001b[49m\u001b[38;5;241;43m=\u001b[39;49m\u001b[38;5;241;43m1\u001b[39;49m\u001b[43m)\u001b[49m\n\u001b[0;32m      7\u001b[0m     \u001b[38;5;66;03m#print(y_predict[0][0])\u001b[39;00m\n\u001b[0;32m      8\u001b[0m     Y_check \u001b[38;5;241m=\u001b[39m check_result(y_test\u001b[38;5;241m.\u001b[39miloc[indx])\n",
      "\u001b[1;31mAxisError\u001b[0m: axis 1 is out of bounds for array of dimension 1"
     ]
    }
   ],
   "source": [
    "solandung=0\n",
    "hopdonggianlan=0\n",
    "for indx in range(len(x_test)):\n",
    "    y_predict = stacked_model.predict(stacked_input)\n",
    "    stacked_pred_labels = y_predict.argmax(axis=1)\n",
    "\n",
    "    #print(y_predict[0][0])\n",
    "    Y_check = check_result(y_test.iloc[indx])\n",
    "    print('True:', Y_check)\n",
    "    print('Predicted:', check_result(stacked_pred_labels[indx]))\n",
    "    print(\"----------------------------\")\n",
    "    if Y_check==check_result(stacked_pred_labels[indx]):\n",
    "        solandung+=1\n",
    "        if Y_check=='Y':\n",
    "            hopdonggianlan+=1\n",
    "    "
   ]
  },
  {
   "cell_type": "code",
   "execution_count": null,
   "id": "a3a65590",
   "metadata": {},
   "outputs": [
    {
     "name": "stdout",
     "output_type": "stream",
     "text": [
      "Số lần dự đoán đúng: 275 chiếm khoảng 83.33333333333334% tổng lần dự đoán\n",
      "Số hợp đồng gian lận trong lần kiểm tra: 75 chiếm khoảng 85.22727272727273% so với thực tế\n"
     ]
    }
   ],
   "source": [
    "print(f\"Số lần dự đoán đúng: {solandung} chiếm khoảng {(solandung/len(x_test))*100}% tổng lần dự đoán\")\n",
    "print(f\"Số hợp đồng gian lận trong lần kiểm tra: {hopdonggianlan} chiếm khoảng {(hopdonggianlan/len(y_test[y_test['fraud_reported']==1]))*100}% so với thực tế\")\n"
   ]
  },
  {
   "cell_type": "code",
   "execution_count": null,
   "id": "c31643d6",
   "metadata": {},
   "outputs": [],
   "source": []
  },
  {
   "cell_type": "code",
   "execution_count": null,
   "id": "33e3467b",
   "metadata": {},
   "outputs": [],
   "source": []
  }
 ],
 "metadata": {
  "kernelspec": {
   "display_name": "Python 3",
   "language": "python",
   "name": "python3"
  },
  "language_info": {
   "codemirror_mode": {
    "name": "ipython",
    "version": 3
   },
   "file_extension": ".py",
   "mimetype": "text/x-python",
   "name": "python",
   "nbconvert_exporter": "python",
   "pygments_lexer": "ipython3",
   "version": "3.8.19"
  }
 },
 "nbformat": 4,
 "nbformat_minor": 5
}
