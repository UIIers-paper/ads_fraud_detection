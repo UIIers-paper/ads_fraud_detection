{
 "cells": [
  {
   "cell_type": "code",
   "execution_count": 1,
   "id": "c1dd1c5b",
   "metadata": {},
   "outputs": [
    {
     "name": "stdout",
     "output_type": "stream",
     "text": [
      "c:\\Users\\Admin\\Data\\ads_fraud_detection\n",
      "c:/Users/Admin/Data/ads_fraud_detection\n"
     ]
    },
    {
     "data": {
      "text/html": [
       "        <script type=\"text/javascript\">\n",
       "        window.PlotlyConfig = {MathJaxConfig: 'local'};\n",
       "        if (window.MathJax && window.MathJax.Hub && window.MathJax.Hub.Config) {window.MathJax.Hub.Config({SVG: {font: \"STIX-Web\"}});}\n",
       "        if (typeof require !== 'undefined') {\n",
       "        require.undef(\"plotly\");\n",
       "        requirejs.config({\n",
       "            paths: {\n",
       "                'plotly': ['https://cdn.plot.ly/plotly-2.35.0.min']\n",
       "            }\n",
       "        });\n",
       "        require(['plotly'], function(Plotly) {\n",
       "            window._Plotly = Plotly;\n",
       "        });\n",
       "        }\n",
       "        </script>\n",
       "        "
      ]
     },
     "metadata": {},
     "output_type": "display_data"
    },
    {
     "data": {
      "text/html": [
       "        <script type=\"text/javascript\">\n",
       "        window.PlotlyConfig = {MathJaxConfig: 'local'};\n",
       "        if (window.MathJax && window.MathJax.Hub && window.MathJax.Hub.Config) {window.MathJax.Hub.Config({SVG: {font: \"STIX-Web\"}});}\n",
       "        if (typeof require !== 'undefined') {\n",
       "        require.undef(\"plotly\");\n",
       "        requirejs.config({\n",
       "            paths: {\n",
       "                'plotly': ['https://cdn.plot.ly/plotly-2.35.0.min']\n",
       "            }\n",
       "        });\n",
       "        require(['plotly'], function(Plotly) {\n",
       "            window._Plotly = Plotly;\n",
       "        });\n",
       "        }\n",
       "        </script>\n",
       "        "
      ]
     },
     "metadata": {},
     "output_type": "display_data"
    }
   ],
   "source": [
    "import sys,os\n",
    "__script_path=os.path.abspath(globals().get('__file__','.'))\n",
    "__script_dir = os.path.dirname(__script_path)\n",
    "root_dir = os.path.abspath(f'{__script_dir}/../..')\n",
    "print(root_dir)\n",
    "for lib in [root_dir][::-1]:\n",
    "    if lib in sys.path:\n",
    "        sys.path.remove(lib)\n",
    "    sys.path.insert(0,lib)\n",
    "from config.config import *\n",
    "from libs.common import *"
   ]
  },
  {
   "cell_type": "code",
   "execution_count": 2,
   "id": "622aee0d",
   "metadata": {},
   "outputs": [],
   "source": [
    "save_dir=f\"{exps_dir}/exp2\"\n",
    "if os.path.exists(save_dir) == False: \n",
    "  os.makedirs(save_dir, exist_ok=True)\n",
    "\n",
    "\n",
    "\n",
    "test_size=0.33\n",
    "seed=42"
   ]
  },
  {
   "cell_type": "code",
   "execution_count": 3,
   "id": "ee0c5839",
   "metadata": {},
   "outputs": [
    {
     "data": {
      "text/plain": [
       "{'LR': ['Age',\n",
       "  'AgeOfPolicyHolder',\n",
       "  'AgentType',\n",
       "  'BasePolicy',\n",
       "  'Fault',\n",
       "  'MaritalStatus',\n",
       "  'PoliceReportFiled',\n",
       "  'PolicyType',\n",
       "  'VehicleCategory',\n",
       "  'WitnessPresent'],\n",
       " 'LDA': ['AccidentArea',\n",
       "  'Age',\n",
       "  'AgeOfPolicyHolder',\n",
       "  'BasePolicy',\n",
       "  'Days_Policy_Claim',\n",
       "  'Fault',\n",
       "  'MaritalStatus',\n",
       "  'NumberOfCars',\n",
       "  'PoliceReportFiled',\n",
       "  'VehicleCategory'],\n",
       " 'DTC': ['Age',\n",
       "  'AgeOfVehicle',\n",
       "  'BasePolicy',\n",
       "  'Fault',\n",
       "  'Make',\n",
       "  'PastNumberOfClaims',\n",
       "  'PolicyNumber',\n",
       "  'RepNumber',\n",
       "  'week_claimed',\n",
       "  'week_incident'],\n",
       " 'RD': ['Age',\n",
       "  'AgeOfVehicle',\n",
       "  'BasePolicy',\n",
       "  'Fault',\n",
       "  'Make',\n",
       "  'PolicyNumber',\n",
       "  'PolicyType',\n",
       "  'VehicleCategory',\n",
       "  'week_claimed',\n",
       "  'week_incident'],\n",
       " 'KNC': ['DayOfWeek',\n",
       "  'AccidentArea',\n",
       "  'WeekOfMonthClaimed',\n",
       "  'MaritalStatus',\n",
       "  'Fault',\n",
       "  'PolicyType',\n",
       "  'VehicleCategory',\n",
       "  'DriverRating',\n",
       "  'AgeOfVehicle',\n",
       "  'AgeOfPolicyHolder',\n",
       "  'BasePolicy'],\n",
       " 'GNB': ['DayOfWeek',\n",
       "  'AccidentArea',\n",
       "  'WeekOfMonthClaimed',\n",
       "  'MaritalStatus',\n",
       "  'Fault',\n",
       "  'PolicyType',\n",
       "  'VehicleCategory',\n",
       "  'DriverRating',\n",
       "  'AgeOfVehicle',\n",
       "  'AgeOfPolicyHolder',\n",
       "  'BasePolicy'],\n",
       " 'NN': ['DayOfWeek',\n",
       "  'AccidentArea',\n",
       "  'WeekOfMonthClaimed',\n",
       "  'MaritalStatus',\n",
       "  'Fault',\n",
       "  'PolicyType',\n",
       "  'VehicleCategory',\n",
       "  'DriverRating',\n",
       "  'AgeOfVehicle',\n",
       "  'AgeOfPolicyHolder',\n",
       "  'BasePolicy'],\n",
       " 'BG': ['DayOfWeek',\n",
       "  'AccidentArea',\n",
       "  'WeekOfMonthClaimed',\n",
       "  'MaritalStatus',\n",
       "  'Fault',\n",
       "  'PolicyType',\n",
       "  'VehicleCategory',\n",
       "  'DriverRating',\n",
       "  'AgeOfVehicle',\n",
       "  'AgeOfPolicyHolder',\n",
       "  'BasePolicy'],\n",
       " 'NB': ['DayOfWeek',\n",
       "  'AccidentArea',\n",
       "  'WeekOfMonthClaimed',\n",
       "  'MaritalStatus',\n",
       "  'Fault',\n",
       "  'PolicyType',\n",
       "  'VehicleCategory',\n",
       "  'DriverRating',\n",
       "  'AgeOfVehicle',\n",
       "  'AgeOfPolicyHolder',\n",
       "  'BasePolicy'],\n",
       " 'SVM': ['DayOfWeek',\n",
       "  'AccidentArea',\n",
       "  'WeekOfMonthClaimed',\n",
       "  'MaritalStatus',\n",
       "  'Fault',\n",
       "  'PolicyType',\n",
       "  'VehicleCategory',\n",
       "  'DriverRating',\n",
       "  'AgeOfVehicle',\n",
       "  'AgeOfPolicyHolder',\n",
       "  'BasePolicy']}"
      ]
     },
     "execution_count": 3,
     "metadata": {},
     "output_type": "execute_result"
    }
   ],
   "source": [
    "feature_selection=dict(np.load(f'{save_dir}/feature_model_selection.npz',allow_pickle=True))['feature_model_selection']\n",
    "feature_selection = {key: value for key, value in feature_selection.item().items()}\n",
    "feature_selection"
   ]
  },
  {
   "cell_type": "markdown",
   "id": "79d162d6",
   "metadata": {},
   "source": [
    "* kiểm tra và tạo các thư mục (nếu chưa có)\n",
    "* tập test 33%"
   ]
  },
  {
   "cell_type": "markdown",
   "id": "5cf7e092",
   "metadata": {},
   "source": [
    "# 5. Xây dựng và đánh giá mô hình học sâu Neutual Network"
   ]
  },
  {
   "cell_type": "code",
   "execution_count": 4,
   "id": "d84bdb3c",
   "metadata": {},
   "outputs": [],
   "source": [
    "bg_model=joblib.load(f'{save_dir}/bg_model.joblib')\n",
    "rf_model=joblib.load(f'{save_dir}/rf_model.joblib')\n",
    "svm_model=joblib.load(f'{save_dir}/svm_model.joblib')"
   ]
  },
  {
   "cell_type": "code",
   "execution_count": 5,
   "id": "2e81211d",
   "metadata": {},
   "outputs": [
    {
     "data": {
      "text/plain": [
       "{0: 0.5317035512094699, 1: 8.385551948051948}"
      ]
     },
     "execution_count": 5,
     "metadata": {},
     "output_type": "execute_result"
    }
   ],
   "source": [
    "x_train=pd.read_excel(f'{save_dir}/x_train.xlsx')\n",
    "y_train=pd.read_excel(f'{save_dir}/y_train.xlsx')\n",
    "x_test=pd.read_excel(f'{save_dir}/x_test.xlsx')\n",
    "y_test=pd.read_excel(f'{save_dir}/y_test.xlsx')\n",
    "class_weights_dict=dict(np.load(f'{save_dir}/class_weights_dict.npz',allow_pickle=True))['class_weights_dict']\n",
    "class_weights_dict = {key: value for key, value in class_weights_dict.item().items()}\n",
    "class_weights_dict"
   ]
  },
  {
   "cell_type": "code",
   "execution_count": 6,
   "id": "9dd43638",
   "metadata": {},
   "outputs": [
    {
     "name": "stdout",
     "output_type": "stream",
     "text": [
      "(5089, 2) (19430, 2)\n"
     ]
    }
   ],
   "source": [
    "\n",
    "\n",
    "# Dữ liệu label đã được mã hóa\n",
    "def oneHot(arr):\n",
    "    labels = np.array(arr)\n",
    "    encoder = OneHotEncoder(sparse=False)\n",
    "    \n",
    "    labels_reshaped = labels.reshape(-1, 1)\n",
    "    \n",
    "    encoder.fit(labels_reshaped)\n",
    "    \n",
    "    onehot_labels = encoder.transform(labels_reshaped)\n",
    "    # onehot_labels=pd.DataFrame(onehot_labels)\n",
    "    return onehot_labels\n",
    "\n",
    "y_train_onehot=oneHot(y_train)\n",
    "y_test_onehot=oneHot(y_test)\n",
    "print(y_test_onehot.shape,y_train_onehot.shape)\n"
   ]
  },
  {
   "cell_type": "code",
   "execution_count": 7,
   "id": "9cf5d7b4",
   "metadata": {},
   "outputs": [
    {
     "name": "stdout",
     "output_type": "stream",
     "text": [
      "(5089, 2)\n"
     ]
    }
   ],
   "source": [
    "y_test_onehot.reshape(-1, 1)\n",
    "print(y_test_onehot.shape)"
   ]
  },
  {
   "cell_type": "code",
   "execution_count": 8,
   "id": "6dda6290",
   "metadata": {},
   "outputs": [
    {
     "data": {
      "text/plain": [
       "(5089, 34)"
      ]
     },
     "execution_count": 8,
     "metadata": {},
     "output_type": "execute_result"
    }
   ],
   "source": [
    "x_test.shape"
   ]
  },
  {
   "cell_type": "code",
   "execution_count": 9,
   "id": "f1c3ac7a",
   "metadata": {},
   "outputs": [
    {
     "data": {
      "text/plain": [
       "(19430, 34)"
      ]
     },
     "execution_count": 9,
     "metadata": {},
     "output_type": "execute_result"
    }
   ],
   "source": [
    "x_train.shape"
   ]
  },
  {
   "cell_type": "code",
   "execution_count": 10,
   "id": "848e48fb",
   "metadata": {},
   "outputs": [],
   "source": [
    "def f1_score(y_true, y_pred):\n",
    "    \"\"\"\n",
    "    Macro F1 score metric.\n",
    "    \"\"\"\n",
    "    y_pred = K.round(y_pred)    \n",
    "    true_positives = K.sum(K.round(K.clip(y_true * y_pred, 0, 1)), axis=0)\n",
    "    false_positives = K.sum(K.round(K.clip(y_pred - y_true, 0, 1)), axis=0)\n",
    "    false_negatives = K.sum(K.round(K.clip(y_true - y_pred, 0, 1)), axis=0)    \n",
    "    precision = true_positives / (true_positives + false_positives + K.epsilon())\n",
    "    recall = true_positives / (true_positives + false_negatives + K.epsilon())    \n",
    "    f1_scores = 2 * (precision * recall) / (precision + recall + K.epsilon())    \n",
    "    macro_f1_score = K.mean(f1_scores)\n",
    "    \n",
    "    return macro_f1_score"
   ]
  },
  {
   "cell_type": "code",
   "execution_count": 11,
   "id": "01f5fcdf",
   "metadata": {},
   "outputs": [
    {
     "name": "stdout",
     "output_type": "stream",
     "text": [
      "34\n"
     ]
    }
   ],
   "source": [
    "print(x_train.shape[1])"
   ]
  },
  {
   "cell_type": "markdown",
   "id": "cb6de984",
   "metadata": {},
   "source": [
    "#### * Xây dựng model:"
   ]
  },
  {
   "cell_type": "markdown",
   "id": "5ec895de",
   "metadata": {},
   "source": [
    "#### * Xây dựng Stacked_model:"
   ]
  },
  {
   "cell_type": "code",
   "execution_count": null,
   "id": "071a8a46",
   "metadata": {},
   "outputs": [],
   "source": []
  },
  {
   "cell_type": "code",
   "execution_count": 12,
   "id": "14004dd7",
   "metadata": {},
   "outputs": [],
   "source": [
    "\n",
    "\n",
    "learning_rate=0.1\n",
    "tabnet_params = {\n",
    "    \"decision_dim\": 16,\n",
    "    \"attention_dim\": 16,\n",
    "    \"n_steps\": 3,\n",
    "    \"n_shared_glus\": 2,\n",
    "    \"n_dependent_glus\": 2,\n",
    "    \"relaxation_factor\": 1.3,\n",
    "    \"epsilon\": 1e-15,\n",
    "    \"momentum\": 0.98,\n",
    "    \"mask_type\": \"softmax\", # can be 'sparsemax' or 'softmax'\n",
    "    \"lambda_sparse\": 1e-3, \n",
    "    \"virtual_batch_splits\": 8 #number of splits for ghost batch normalization, ideally should evenly divide the batch_size\n",
    "}\n",
    "\n",
    "\n",
    "\n",
    "### Classification\n",
    "model = TabNetClassifier(n_classes = 2, out_activation = 'softmax', **tabnet_params)\n",
    "# model = TabNetClassifier(n_classes = 2, out_activation = 'softmax', \n",
    "#     kernel_regularizer=l2(0.01), **tabnet_params)\n",
    "# model.compile(loss = 'categorical_crossentropy', optimizer = )\n",
    "# model.fit(x_train, y_train, epochs = 100, batch_size = 1024)\n",
    "model.compile(optimizer=tf.keras.optimizers.Adam(learning_rate), loss='categorical_crossentropy', metrics=['accuracy',f1_score])\n",
    "# model.compile(optimizer=Adam(lr=learning_rate), loss=f1_loss, metrics=['accuracy',,f1_score])\n",
    "# model.compile(optimizer=Adam(lr=learning_rate), loss=focal_loss, metrics=['accuracy',,f1_score])\n",
    "# model.compile(optimizer=Adam(lr=learning_rate), loss=dice_coef_9cat_loss, metrics=['accuracy',,f1_score])\n",
    "early_stopping = EarlyStopping(monitor='val_loss',\n",
    "    min_delta=0.00005,\n",
    "    patience=60,\n",
    "    verbose=1,\n",
    "    restore_best_weights=True,\n",
    ")\n",
    "\n",
    "model_checkpoint = ModelCheckpoint('best_model', monitor='val_loss', save_best_only=True, save_format='tf')\n",
    "\n",
    "\n",
    "lr_scheduler = ReduceLROnPlateau(\n",
    "    monitor='val_loss',\n",
    "    factor=0.5,\n",
    "    patience=20,\n",
    "    min_lr=0.000001,\n",
    "    verbose=1,\n",
    ")\n"
   ]
  },
  {
   "cell_type": "code",
   "execution_count": 13,
   "id": "b53234af",
   "metadata": {},
   "outputs": [
    {
     "data": {
      "text/plain": [
       "array([[1., 0.],\n",
       "       [1., 0.],\n",
       "       [1., 0.],\n",
       "       ...,\n",
       "       [0., 1.],\n",
       "       [0., 1.],\n",
       "       [0., 1.]])"
      ]
     },
     "execution_count": 13,
     "metadata": {},
     "output_type": "execute_result"
    }
   ],
   "source": [
    "y_train_onehot"
   ]
  },
  {
   "cell_type": "code",
   "execution_count": 14,
   "id": "567bba7a",
   "metadata": {},
   "outputs": [
    {
     "name": "stdout",
     "output_type": "stream",
     "text": [
      "Epoch 1/1200\n",
      "304/304 [==============================] - 59s 20ms/step - loss: 0.4313 - accuracy: 0.8040 - f1_score: 0.8018 - val_loss: 0.3601 - val_accuracy: 0.8129 - val_f1_score: 0.5570 - lr: 0.1000\n",
      "Epoch 2/1200\n",
      "304/304 [==============================] - 6s 20ms/step - loss: 0.3912 - accuracy: 0.8228 - f1_score: 0.8191 - val_loss: 0.3618 - val_accuracy: 0.8047 - val_f1_score: 0.5388 - lr: 0.1000\n",
      "Epoch 3/1200\n",
      "304/304 [==============================] - 6s 19ms/step - loss: 0.3772 - accuracy: 0.8312 - f1_score: 0.8290 - val_loss: 0.3682 - val_accuracy: 0.8068 - val_f1_score: 0.5469 - lr: 0.1000\n",
      "Epoch 4/1200\n",
      "304/304 [==============================] - 6s 20ms/step - loss: 0.3545 - accuracy: 0.8434 - f1_score: 0.8406 - val_loss: 0.3563 - val_accuracy: 0.8493 - val_f1_score: 0.5663 - lr: 0.1000\n",
      "Epoch 5/1200\n",
      "304/304 [==============================] - 6s 20ms/step - loss: 0.3592 - accuracy: 0.8374 - f1_score: 0.8348 - val_loss: 0.4136 - val_accuracy: 0.7732 - val_f1_score: 0.5383 - lr: 0.1000\n",
      "Epoch 6/1200\n",
      "304/304 [==============================] - 6s 21ms/step - loss: 0.3839 - accuracy: 0.8330 - f1_score: 0.8296 - val_loss: 0.4011 - val_accuracy: 0.8308 - val_f1_score: 0.5460 - lr: 0.1000\n",
      "Epoch 7/1200\n",
      "304/304 [==============================] - 6s 21ms/step - loss: 0.3838 - accuracy: 0.8269 - f1_score: 0.8104 - val_loss: 0.4542 - val_accuracy: 0.8748 - val_f1_score: 0.4534 - lr: 0.1000\n",
      "Epoch 8/1200\n",
      "304/304 [==============================] - 6s 20ms/step - loss: 0.3711 - accuracy: 0.8226 - f1_score: 0.7739 - val_loss: 0.4018 - val_accuracy: 0.8391 - val_f1_score: 0.4611 - lr: 0.1000\n",
      "Epoch 9/1200\n",
      "304/304 [==============================] - 6s 21ms/step - loss: 0.3573 - accuracy: 0.8389 - f1_score: 0.7904 - val_loss: 0.2930 - val_accuracy: 0.8784 - val_f1_score: 0.5558 - lr: 0.1000\n",
      "Epoch 10/1200\n",
      "304/304 [==============================] - 6s 20ms/step - loss: 0.3493 - accuracy: 0.8485 - f1_score: 0.8093 - val_loss: 0.4083 - val_accuracy: 0.8579 - val_f1_score: 0.4866 - lr: 0.1000\n",
      "Epoch 11/1200\n",
      "304/304 [==============================] - 6s 20ms/step - loss: 0.3383 - accuracy: 0.8459 - f1_score: 0.8380 - val_loss: 0.4053 - val_accuracy: 0.8224 - val_f1_score: 0.5265 - lr: 0.1000\n",
      "Epoch 12/1200\n",
      "304/304 [==============================] - 6s 20ms/step - loss: 0.3380 - accuracy: 0.8497 - f1_score: 0.8437 - val_loss: 0.3480 - val_accuracy: 0.8432 - val_f1_score: 0.5463 - lr: 0.1000\n",
      "Epoch 13/1200\n",
      "304/304 [==============================] - 6s 20ms/step - loss: 0.3265 - accuracy: 0.8575 - f1_score: 0.8539 - val_loss: 0.4234 - val_accuracy: 0.7907 - val_f1_score: 0.5368 - lr: 0.1000\n",
      "Epoch 14/1200\n",
      "304/304 [==============================] - 6s 20ms/step - loss: 0.3257 - accuracy: 0.8564 - f1_score: 0.8509 - val_loss: 0.3251 - val_accuracy: 0.8383 - val_f1_score: 0.5509 - lr: 0.1000\n",
      "Epoch 15/1200\n",
      "304/304 [==============================] - 6s 20ms/step - loss: 0.3222 - accuracy: 0.8583 - f1_score: 0.8538 - val_loss: 0.3045 - val_accuracy: 0.8408 - val_f1_score: 0.5448 - lr: 0.1000\n",
      "Epoch 16/1200\n",
      "304/304 [==============================] - 6s 21ms/step - loss: 0.3182 - accuracy: 0.8622 - f1_score: 0.8609 - val_loss: 0.3156 - val_accuracy: 0.8964 - val_f1_score: 0.5097 - lr: 0.1000\n",
      "Epoch 17/1200\n",
      "304/304 [==============================] - 6s 20ms/step - loss: 0.3177 - accuracy: 0.8674 - f1_score: 0.8591 - val_loss: 0.3503 - val_accuracy: 0.8343 - val_f1_score: 0.5570 - lr: 0.1000\n",
      "Epoch 18/1200\n",
      "304/304 [==============================] - 6s 19ms/step - loss: 0.3186 - accuracy: 0.8635 - f1_score: 0.8598 - val_loss: 0.3092 - val_accuracy: 0.8652 - val_f1_score: 0.5519 - lr: 0.1000\n",
      "Epoch 19/1200\n",
      "304/304 [==============================] - 6s 20ms/step - loss: 0.3042 - accuracy: 0.8717 - f1_score: 0.8691 - val_loss: 0.2851 - val_accuracy: 0.8680 - val_f1_score: 0.5471 - lr: 0.1000\n",
      "Epoch 20/1200\n",
      "304/304 [==============================] - 6s 20ms/step - loss: 0.3136 - accuracy: 0.8675 - f1_score: 0.8664 - val_loss: 0.2976 - val_accuracy: 0.8412 - val_f1_score: 0.5519 - lr: 0.1000\n",
      "Epoch 21/1200\n",
      "304/304 [==============================] - 6s 20ms/step - loss: 0.5387 - accuracy: 0.7607 - f1_score: 0.7544 - val_loss: 24.6264 - val_accuracy: 0.3865 - val_f1_score: 0.3288 - lr: 0.1000\n",
      "Epoch 22/1200\n",
      "304/304 [==============================] - 6s 21ms/step - loss: 0.5170 - accuracy: 0.7629 - f1_score: 0.7580 - val_loss: 0.5679 - val_accuracy: 0.7408 - val_f1_score: 0.5224 - lr: 0.1000\n",
      "Epoch 23/1200\n",
      "304/304 [==============================] - 6s 20ms/step - loss: 0.5056 - accuracy: 0.7662 - f1_score: 0.7612 - val_loss: 1.1176 - val_accuracy: 0.5850 - val_f1_score: 0.4616 - lr: 0.1000\n",
      "Epoch 24/1200\n",
      "304/304 [==============================] - 6s 20ms/step - loss: 0.5035 - accuracy: 0.7672 - f1_score: 0.7627 - val_loss: 0.7472 - val_accuracy: 0.7298 - val_f1_score: 0.5190 - lr: 0.1000\n",
      "Epoch 25/1200\n",
      "304/304 [==============================] - 6s 20ms/step - loss: 0.4933 - accuracy: 0.7691 - f1_score: 0.7649 - val_loss: 0.6649 - val_accuracy: 0.7310 - val_f1_score: 0.5197 - lr: 0.1000\n",
      "Epoch 26/1200\n",
      "304/304 [==============================] - 6s 20ms/step - loss: 0.4958 - accuracy: 0.7653 - f1_score: 0.7603 - val_loss: 0.9030 - val_accuracy: 0.5850 - val_f1_score: 0.4614 - lr: 0.1000\n",
      "Epoch 27/1200\n",
      "304/304 [==============================] - 6s 21ms/step - loss: 0.5052 - accuracy: 0.7616 - f1_score: 0.7571 - val_loss: 0.8344 - val_accuracy: 0.7119 - val_f1_score: 0.4985 - lr: 0.1000\n",
      "Epoch 28/1200\n",
      "304/304 [==============================] - 6s 21ms/step - loss: 0.4953 - accuracy: 0.7756 - f1_score: 0.7724 - val_loss: 0.4211 - val_accuracy: 0.8418 - val_f1_score: 0.5450 - lr: 0.1000\n",
      "Epoch 29/1200\n",
      "304/304 [==============================] - 6s 20ms/step - loss: 0.4973 - accuracy: 0.7775 - f1_score: 0.7743 - val_loss: 0.4947 - val_accuracy: 0.8511 - val_f1_score: 0.5446 - lr: 0.1000\n",
      "Epoch 30/1200\n",
      "304/304 [==============================] - 6s 20ms/step - loss: 0.5009 - accuracy: 0.7747 - f1_score: 0.7720 - val_loss: 0.3387 - val_accuracy: 0.8829 - val_f1_score: 0.5365 - lr: 0.1000\n",
      "Epoch 31/1200\n",
      "304/304 [==============================] - 6s 20ms/step - loss: 0.5012 - accuracy: 0.7748 - f1_score: 0.7719 - val_loss: 0.3808 - val_accuracy: 0.8601 - val_f1_score: 0.5445 - lr: 0.1000\n",
      "Epoch 32/1200\n",
      "304/304 [==============================] - 6s 21ms/step - loss: 0.4966 - accuracy: 0.7814 - f1_score: 0.7789 - val_loss: 1.7893 - val_accuracy: 0.5917 - val_f1_score: 0.4427 - lr: 0.1000\n",
      "Epoch 33/1200\n",
      "304/304 [==============================] - 6s 21ms/step - loss: 0.4946 - accuracy: 0.7795 - f1_score: 0.7764 - val_loss: 0.4326 - val_accuracy: 0.7764 - val_f1_score: 0.5325 - lr: 0.1000\n",
      "Epoch 34/1200\n",
      "304/304 [==============================] - 6s 19ms/step - loss: 0.4939 - accuracy: 0.7814 - f1_score: 0.7787 - val_loss: 0.5199 - val_accuracy: 0.7677 - val_f1_score: 0.5303 - lr: 0.1000\n",
      "Epoch 35/1200\n",
      "304/304 [==============================] - 6s 20ms/step - loss: 0.4839 - accuracy: 0.7865 - f1_score: 0.7844 - val_loss: 0.5435 - val_accuracy: 0.7644 - val_f1_score: 0.5289 - lr: 0.1000\n",
      "Epoch 36/1200\n",
      "304/304 [==============================] - 6s 20ms/step - loss: 0.4892 - accuracy: 0.7836 - f1_score: 0.7806 - val_loss: 0.5600 - val_accuracy: 0.7636 - val_f1_score: 0.5262 - lr: 0.1000\n",
      "Epoch 37/1200\n",
      "304/304 [==============================] - 6s 19ms/step - loss: 0.4791 - accuracy: 0.7897 - f1_score: 0.7870 - val_loss: 0.6542 - val_accuracy: 0.6642 - val_f1_score: 0.4847 - lr: 0.1000\n",
      "Epoch 38/1200\n",
      "304/304 [==============================] - 6s 20ms/step - loss: 0.4834 - accuracy: 0.7851 - f1_score: 0.7821 - val_loss: 0.5834 - val_accuracy: 0.7658 - val_f1_score: 0.5286 - lr: 0.1000\n",
      "Epoch 39/1200\n",
      "304/304 [==============================] - ETA: 0s - loss: 0.4805 - accuracy: 0.7869 - f1_score: 0.7839\n",
      "Epoch 39: ReduceLROnPlateau reducing learning rate to 0.05000000074505806.\n",
      "304/304 [==============================] - 6s 20ms/step - loss: 0.4805 - accuracy: 0.7869 - f1_score: 0.7839 - val_loss: 0.5074 - val_accuracy: 0.7673 - val_f1_score: 0.5275 - lr: 0.1000\n",
      "Epoch 40/1200\n",
      "304/304 [==============================] - 6s 20ms/step - loss: 0.4755 - accuracy: 0.7856 - f1_score: 0.7826 - val_loss: 0.5595 - val_accuracy: 0.7662 - val_f1_score: 0.5291 - lr: 0.0500\n",
      "Epoch 41/1200\n",
      "304/304 [==============================] - 6s 20ms/step - loss: 0.4710 - accuracy: 0.7897 - f1_score: 0.7864 - val_loss: 0.4895 - val_accuracy: 0.7597 - val_f1_score: 0.5252 - lr: 0.0500\n",
      "Epoch 42/1200\n",
      "304/304 [==============================] - 6s 20ms/step - loss: 0.4719 - accuracy: 0.7888 - f1_score: 0.7851 - val_loss: 0.5117 - val_accuracy: 0.7664 - val_f1_score: 0.5271 - lr: 0.0500\n",
      "Epoch 43/1200\n",
      "304/304 [==============================] - 6s 21ms/step - loss: 0.4728 - accuracy: 0.7876 - f1_score: 0.7844 - val_loss: 0.4689 - val_accuracy: 0.7701 - val_f1_score: 0.5287 - lr: 0.0500\n",
      "Epoch 44/1200\n",
      "304/304 [==============================] - 6s 20ms/step - loss: 0.4704 - accuracy: 0.7859 - f1_score: 0.7829 - val_loss: 0.5279 - val_accuracy: 0.7725 - val_f1_score: 0.5301 - lr: 0.0500\n",
      "Epoch 45/1200\n",
      "304/304 [==============================] - 6s 20ms/step - loss: 0.4668 - accuracy: 0.7889 - f1_score: 0.7864 - val_loss: 0.5749 - val_accuracy: 0.7656 - val_f1_score: 0.5264 - lr: 0.0500\n",
      "Epoch 46/1200\n",
      "304/304 [==============================] - 6s 19ms/step - loss: 0.4739 - accuracy: 0.7868 - f1_score: 0.7832 - val_loss: 0.5818 - val_accuracy: 0.7658 - val_f1_score: 0.5294 - lr: 0.0500\n",
      "Epoch 47/1200\n",
      "304/304 [==============================] - 6s 20ms/step - loss: 0.4708 - accuracy: 0.7894 - f1_score: 0.7860 - val_loss: 0.4929 - val_accuracy: 0.7626 - val_f1_score: 0.5283 - lr: 0.0500\n",
      "Epoch 48/1200\n",
      "304/304 [==============================] - 6s 20ms/step - loss: 0.4665 - accuracy: 0.7903 - f1_score: 0.7870 - val_loss: 0.4660 - val_accuracy: 0.7774 - val_f1_score: 0.5305 - lr: 0.0500\n",
      "Epoch 49/1200\n",
      "304/304 [==============================] - 6s 19ms/step - loss: 0.4657 - accuracy: 0.7923 - f1_score: 0.7890 - val_loss: 0.4975 - val_accuracy: 0.7711 - val_f1_score: 0.5286 - lr: 0.0500\n",
      "Epoch 50/1200\n",
      "304/304 [==============================] - 6s 20ms/step - loss: 0.4626 - accuracy: 0.7917 - f1_score: 0.7881 - val_loss: 0.4966 - val_accuracy: 0.7736 - val_f1_score: 0.5318 - lr: 0.0500\n",
      "Epoch 51/1200\n",
      "304/304 [==============================] - 6s 20ms/step - loss: 0.4676 - accuracy: 0.7847 - f1_score: 0.7815 - val_loss: 0.5165 - val_accuracy: 0.7210 - val_f1_score: 0.5123 - lr: 0.0500\n",
      "Epoch 52/1200\n",
      "304/304 [==============================] - 6s 20ms/step - loss: 0.4665 - accuracy: 0.7803 - f1_score: 0.7779 - val_loss: 0.5177 - val_accuracy: 0.7159 - val_f1_score: 0.5049 - lr: 0.0500\n",
      "Epoch 53/1200\n",
      "304/304 [==============================] - 6s 20ms/step - loss: 0.4704 - accuracy: 0.7787 - f1_score: 0.7763 - val_loss: 0.5218 - val_accuracy: 0.7575 - val_f1_score: 0.5253 - lr: 0.0500\n",
      "Epoch 54/1200\n",
      "304/304 [==============================] - 6s 19ms/step - loss: 0.4588 - accuracy: 0.7878 - f1_score: 0.7849 - val_loss: 0.5671 - val_accuracy: 0.7186 - val_f1_score: 0.5081 - lr: 0.0500\n",
      "Epoch 55/1200\n",
      "304/304 [==============================] - 6s 19ms/step - loss: 0.4607 - accuracy: 0.7852 - f1_score: 0.7830 - val_loss: 0.4953 - val_accuracy: 0.7829 - val_f1_score: 0.5348 - lr: 0.0500\n",
      "Epoch 56/1200\n",
      "304/304 [==============================] - 6s 20ms/step - loss: 0.4582 - accuracy: 0.7904 - f1_score: 0.7867 - val_loss: 0.5378 - val_accuracy: 0.7243 - val_f1_score: 0.5029 - lr: 0.0500\n",
      "Epoch 57/1200\n",
      "304/304 [==============================] - 6s 20ms/step - loss: 0.4532 - accuracy: 0.7914 - f1_score: 0.7885 - val_loss: 0.5835 - val_accuracy: 0.6793 - val_f1_score: 0.4942 - lr: 0.0500\n",
      "Epoch 58/1200\n",
      "304/304 [==============================] - 6s 20ms/step - loss: 0.4466 - accuracy: 0.7900 - f1_score: 0.7855 - val_loss: 0.4566 - val_accuracy: 0.7732 - val_f1_score: 0.5195 - lr: 0.0500\n",
      "Epoch 59/1200\n",
      "302/304 [============================>.] - ETA: 0s - loss: 0.4447 - accuracy: 0.7903 - f1_score: 0.7855\n",
      "Epoch 59: ReduceLROnPlateau reducing learning rate to 0.02500000037252903.\n",
      "304/304 [==============================] - 6s 19ms/step - loss: 0.4443 - accuracy: 0.7906 - f1_score: 0.7858 - val_loss: 0.4320 - val_accuracy: 0.8118 - val_f1_score: 0.5420 - lr: 0.0500\n",
      "Epoch 60/1200\n",
      "304/304 [==============================] - 6s 19ms/step - loss: 0.4361 - accuracy: 0.7953 - f1_score: 0.7922 - val_loss: 0.4978 - val_accuracy: 0.7577 - val_f1_score: 0.5234 - lr: 0.0250\n",
      "Epoch 61/1200\n",
      "304/304 [==============================] - 6s 20ms/step - loss: 0.4336 - accuracy: 0.7918 - f1_score: 0.7889 - val_loss: 0.4859 - val_accuracy: 0.8011 - val_f1_score: 0.5367 - lr: 0.0250\n",
      "Epoch 62/1200\n",
      "304/304 [==============================] - 6s 20ms/step - loss: 0.4289 - accuracy: 0.7958 - f1_score: 0.7922 - val_loss: 0.4226 - val_accuracy: 0.8121 - val_f1_score: 0.5428 - lr: 0.0250\n",
      "Epoch 63/1200\n",
      "304/304 [==============================] - 6s 20ms/step - loss: 0.4399 - accuracy: 0.7902 - f1_score: 0.7859 - val_loss: 0.8300 - val_accuracy: 0.6441 - val_f1_score: 0.4849 - lr: 0.0250\n",
      "Epoch 64/1200\n",
      "304/304 [==============================] - 6s 21ms/step - loss: 0.4608 - accuracy: 0.7674 - f1_score: 0.7581 - val_loss: 0.6493 - val_accuracy: 0.6302 - val_f1_score: 0.4793 - lr: 0.0250\n",
      "Epoch 65/1200\n",
      "304/304 [==============================] - 6s 19ms/step - loss: 0.4594 - accuracy: 0.7727 - f1_score: 0.7581 - val_loss: 0.5761 - val_accuracy: 0.6160 - val_f1_score: 0.4753 - lr: 0.0250\n",
      "Epoch 66/1200\n",
      "304/304 [==============================] - 6s 20ms/step - loss: 0.4604 - accuracy: 0.7728 - f1_score: 0.7561 - val_loss: 0.5457 - val_accuracy: 0.6734 - val_f1_score: 0.4788 - lr: 0.0250\n",
      "Epoch 67/1200\n",
      "304/304 [==============================] - 6s 20ms/step - loss: 0.4530 - accuracy: 0.7746 - f1_score: 0.7611 - val_loss: 0.5937 - val_accuracy: 0.6536 - val_f1_score: 0.4782 - lr: 0.0250\n",
      "Epoch 68/1200\n",
      "304/304 [==============================] - 6s 20ms/step - loss: 0.4510 - accuracy: 0.7794 - f1_score: 0.7660 - val_loss: 0.5293 - val_accuracy: 0.6962 - val_f1_score: 0.4909 - lr: 0.0250\n",
      "Epoch 69/1200\n",
      "304/304 [==============================] - 7s 22ms/step - loss: 0.4482 - accuracy: 0.7858 - f1_score: 0.7720 - val_loss: 0.4720 - val_accuracy: 0.6654 - val_f1_score: 0.4870 - lr: 0.0250\n",
      "Epoch 70/1200\n",
      "304/304 [==============================] - 5s 15ms/step - loss: 0.4479 - accuracy: 0.7794 - f1_score: 0.7663 - val_loss: 0.5427 - val_accuracy: 0.7003 - val_f1_score: 0.4867 - lr: 0.0250\n",
      "Epoch 71/1200\n",
      "304/304 [==============================] - 5s 15ms/step - loss: 0.4500 - accuracy: 0.7798 - f1_score: 0.7622 - val_loss: 0.4872 - val_accuracy: 0.6988 - val_f1_score: 0.4881 - lr: 0.0250\n",
      "Epoch 72/1200\n",
      "304/304 [==============================] - 5s 16ms/step - loss: 0.4539 - accuracy: 0.7897 - f1_score: 0.7557 - val_loss: 0.8027 - val_accuracy: 0.5484 - val_f1_score: 0.3780 - lr: 0.0250\n",
      "Epoch 73/1200\n",
      "304/304 [==============================] - 5s 16ms/step - loss: 0.4511 - accuracy: 0.7883 - f1_score: 0.7619 - val_loss: 0.5575 - val_accuracy: 0.6777 - val_f1_score: 0.4747 - lr: 0.0250\n",
      "Epoch 74/1200\n",
      "304/304 [==============================] - 5s 16ms/step - loss: 0.4443 - accuracy: 0.7922 - f1_score: 0.7804 - val_loss: 1.0146 - val_accuracy: 0.6211 - val_f1_score: 0.4610 - lr: 0.0250\n",
      "Epoch 75/1200\n",
      "304/304 [==============================] - 5s 16ms/step - loss: 0.4482 - accuracy: 0.7898 - f1_score: 0.7798 - val_loss: 0.5512 - val_accuracy: 0.6950 - val_f1_score: 0.5025 - lr: 0.0250\n",
      "Epoch 76/1200\n",
      "304/304 [==============================] - 5s 17ms/step - loss: 0.4705 - accuracy: 0.7830 - f1_score: 0.7779 - val_loss: 0.4744 - val_accuracy: 0.7367 - val_f1_score: 0.5199 - lr: 0.0250\n",
      "Epoch 77/1200\n",
      "304/304 [==============================] - 5s 16ms/step - loss: 0.4537 - accuracy: 0.7935 - f1_score: 0.7891 - val_loss: 0.5702 - val_accuracy: 0.7210 - val_f1_score: 0.5148 - lr: 0.0250\n",
      "Epoch 78/1200\n",
      "304/304 [==============================] - 5s 15ms/step - loss: 0.4556 - accuracy: 0.7948 - f1_score: 0.7893 - val_loss: 0.5550 - val_accuracy: 0.7218 - val_f1_score: 0.5108 - lr: 0.0250\n",
      "Epoch 79/1200\n",
      "302/304 [============================>.] - ETA: 0s - loss: 0.4527 - accuracy: 0.7973 - f1_score: 0.7925Restoring model weights from the end of the best epoch: 19.\n",
      "\n",
      "Epoch 79: ReduceLROnPlateau reducing learning rate to 0.012500000186264515.\n",
      "304/304 [==============================] - 5s 16ms/step - loss: 0.4526 - accuracy: 0.7974 - f1_score: 0.7927 - val_loss: 0.5251 - val_accuracy: 0.7088 - val_f1_score: 0.5120 - lr: 0.0250\n",
      "Epoch 79: early stopping\n"
     ]
    },
    {
     "data": {
      "text/plain": [
       "<keras.src.callbacks.History at 0x1b86bf941c0>"
      ]
     },
     "execution_count": 14,
     "metadata": {},
     "output_type": "execute_result"
    }
   ],
   "source": [
    "model.fit(x=x_train,y=y_train_onehot,\n",
    "          validation_data=(x_test,y_test_onehot),\n",
    "          batch_size=64,epochs= 1200, callbacks=[early_stopping,lr_scheduler])\n"
   ]
  },
  {
   "cell_type": "code",
   "execution_count": 15,
   "id": "dff75e76",
   "metadata": {},
   "outputs": [
    {
     "name": "stdout",
     "output_type": "stream",
     "text": [
      "Model: \"tab_net_classifier\"\n",
      "_________________________________________________________________\n",
      " Layer (type)                Output Shape              Param #   \n",
      "=================================================================\n",
      " tab_net_encoder (TabNetEnc  multiple                  26880     \n",
      " oder)                                                           \n",
      "                                                                 \n",
      " classifier (Dense)          multiple                  32        \n",
      "                                                                 \n",
      "=================================================================\n",
      "Total params: 26912 (105.12 KB)\n",
      "Trainable params: 24592 (96.06 KB)\n",
      "Non-trainable params: 2320 (9.06 KB)\n",
      "_________________________________________________________________\n"
     ]
    }
   ],
   "source": [
    "model.summary()"
   ]
  },
  {
   "cell_type": "markdown",
   "id": "0b2cb867",
   "metadata": {},
   "source": [
    "#### * Kết quả đánh giá mô hình:"
   ]
  },
  {
   "cell_type": "code",
   "execution_count": 16,
   "id": "07132b7e",
   "metadata": {},
   "outputs": [
    {
     "name": "stdout",
     "output_type": "stream",
     "text": [
      "Model: \"tab_net_classifier\"\n",
      "_________________________________________________________________\n",
      " Layer (type)                Output Shape              Param #   \n",
      "=================================================================\n",
      " tab_net_encoder (TabNetEnc  multiple                  26880     \n",
      " oder)                                                           \n",
      "                                                                 \n",
      " classifier (Dense)          multiple                  32        \n",
      "                                                                 \n",
      "=================================================================\n",
      "Total params: 26912 (105.12 KB)\n",
      "Trainable params: 24592 (96.06 KB)\n",
      "Non-trainable params: 2320 (9.06 KB)\n",
      "_________________________________________________________________\n"
     ]
    }
   ],
   "source": [
    "model.summary()"
   ]
  },
  {
   "cell_type": "code",
   "execution_count": 17,
   "id": "875136d2",
   "metadata": {},
   "outputs": [
    {
     "data": {
      "image/png": "[encoded data removed]",
      "text/plain": [
       "<Figure size 1500x800 with 2 Axes>"
      ]
     },
     "metadata": {},
     "output_type": "display_data"
    },
    {
     "data": {
      "text/plain": [
       "<Figure size 640x480 with 0 Axes>"
      ]
     },
     "metadata": {},
     "output_type": "display_data"
    }
   ],
   "source": [
    "history=model.history.history\n",
    "fig,axes=plt.subplots(1,2, figsize=(15,8))\n",
    "axes[0].plot(pd.DataFrame(history['val_accuracy']))\n",
    "axes[0].set_title('Training Process')\n",
    "axes[1].plot(pd.DataFrame(history))\n",
    "axes[1].set_title('Training Process')\n",
    "plt.show()\n",
    "plt.savefig('train.png')"
   ]
  },
  {
   "cell_type": "code",
   "execution_count": 18,
   "id": "b5a05cd8",
   "metadata": {},
   "outputs": [
    {
     "name": "stdout",
     "output_type": "stream",
     "text": [
      "160/160 [==============================] - 1s 1ms/step\n"
     ]
    },
    {
     "data": {
      "text/plain": [
       "0.8679504814305364"
      ]
     },
     "execution_count": 18,
     "metadata": {},
     "output_type": "execute_result"
    }
   ],
   "source": [
    "y_test_labels = np.argmax(y_test_onehot, axis=1)\n",
    "predictions = model.predict(x_test)\n",
    "predictions = np.argmax(predictions, axis=1)\n",
    "accuracy = accuracy_score(y_test_labels, predictions)\n",
    "accuracy\n"
   ]
  },
  {
   "cell_type": "code",
   "execution_count": 19,
   "id": "7f1d8560",
   "metadata": {},
   "outputs": [
    {
     "name": "stdout",
     "output_type": "stream",
     "text": [
      "Accuracy: 0.8679504814305364\n",
      "Classification Report:\n",
      "              precision    recall  f1-score   support\n",
      "\n",
      "           0       0.95      0.91      0.93      4782\n",
      "           1       0.14      0.23      0.17       307\n",
      "\n",
      "    accuracy                           0.87      5089\n",
      "   macro avg       0.54      0.57      0.55      5089\n",
      "weighted avg       0.90      0.87      0.88      5089\n",
      "\n",
      "Confusion Matrix:\n",
      "[[4347  435]\n",
      " [ 237   70]]\n"
     ]
    }
   ],
   "source": [
    "from sklearn.metrics import accuracy_score, classification_report, confusion_matrix\n",
    "import numpy as np\n",
    "\n",
    "y_test_labels = np.argmax(y_test_onehot, axis=1)\n",
    "\n",
    "accuracy = accuracy_score(y_test_labels, predictions)\n",
    "print(\"Accuracy:\", accuracy)\n",
    "print(\"Classification Report:\")\n",
    "print(classification_report(y_test_labels, predictions))\n",
    "\n",
    "print(\"Confusion Matrix:\")\n",
    "print(confusion_matrix(y_test_labels, predictions))\n"
   ]
  },
  {
   "cell_type": "code",
   "execution_count": 20,
   "id": "6f218b86",
   "metadata": {},
   "outputs": [
    {
     "data": {
      "image/png": "[encoded data removed]",
      "text/plain": [
       "<Figure size 800x600 with 2 Axes>"
      ]
     },
     "metadata": {},
     "output_type": "display_data"
    }
   ],
   "source": [
    "# Dự đoán\n",
    "\n",
    "\n",
    "# Tính ma trận nhầm lẫn\n",
    "cm = confusion_matrix(y_test, predictions,labels=[1,0])\n",
    "plt.figure(figsize=(8, 6))\n",
    "sns.heatmap(cm, annot=True, fmt='g', cmap='Blues', xticklabels=[1,0], yticklabels=[1,0])\n",
    "plt.title('Confusion Matrix')\n",
    "plt.xlabel('Predicted')\n",
    "plt.ylabel('Actual')\n",
    "plt.show()"
   ]
  },
  {
   "cell_type": "code",
   "execution_count": 21,
   "id": "e744c8a6",
   "metadata": {},
   "outputs": [
    {
     "ename": "NameError",
     "evalue": "name 'stacked_pred' is not defined",
     "output_type": "error",
     "traceback": [
      "\u001b[1;31m---------------------------------------------------------------------------\u001b[0m",
      "\u001b[1;31mNameError\u001b[0m                                 Traceback (most recent call last)",
      "Cell \u001b[1;32mIn[21], line 3\u001b[0m\n\u001b[0;32m      1\u001b[0m fig, ax \u001b[38;5;241m=\u001b[39m plt\u001b[38;5;241m.\u001b[39msubplots(\u001b[38;5;241m1\u001b[39m, \u001b[38;5;241m1\u001b[39m, figsize\u001b[38;5;241m=\u001b[39m(\u001b[38;5;241m15\u001b[39m, \u001b[38;5;241m15\u001b[39m))\n\u001b[1;32m----> 3\u001b[0m fpr, tpr, _ \u001b[38;5;241m=\u001b[39m roc_curve(y_test, \u001b[43mstacked_pred\u001b[49m)\n\u001b[0;32m      5\u001b[0m roc_auc \u001b[38;5;241m=\u001b[39m auc(fpr, tpr)\n\u001b[0;32m      7\u001b[0m ax\u001b[38;5;241m.\u001b[39mplot(fpr, tpr, lw\u001b[38;5;241m=\u001b[39m\u001b[38;5;241m4\u001b[39m, label\u001b[38;5;241m=\u001b[39m\u001b[38;5;124m'\u001b[39m\u001b[38;5;124mROC curve (AUC = \u001b[39m\u001b[38;5;132;01m%0.2f\u001b[39;00m\u001b[38;5;124m)\u001b[39m\u001b[38;5;124m'\u001b[39m \u001b[38;5;241m%\u001b[39m roc_auc)\n",
      "\u001b[1;31mNameError\u001b[0m: name 'stacked_pred' is not defined"
     ]
    },
    {
     "data": {
      "image/png": "[encoded data removed]",
      "text/plain": [
       "<Figure size 1500x1500 with 1 Axes>"
      ]
     },
     "metadata": {},
     "output_type": "display_data"
    }
   ],
   "source": [
    "# fig, ax = plt.subplots(1, 1, figsize=(15, 15))\n",
    "\n",
    "# fpr, tpr, _ = roc_curve(y_test, stacked_pred)\n",
    "    \n",
    "# roc_auc = auc(fpr, tpr)\n",
    "\n",
    "# ax.plot(fpr, tpr, lw=4, label='ROC curve (AUC = %0.2f)' % roc_auc)\n",
    "# ax.plot([0, 1], [0, 1], color='red', lw=2, linestyle='--')\n",
    "# ax.set_xlim([0.0, 1.0])\n",
    "# ax.set_ylim([0.0, 1.05])\n",
    "# ax.set_xlabel('False Positive Rate', fontsize=12, weight='bold')  \n",
    "# ax.set_ylabel('True Positive Rate', fontsize=12, weight='bold')   \n",
    "# ax.set_title(f'ROC of Voting',fontsize=20, weight='bold')  \n",
    "# ax.legend(loc=\"lower right\", prop={'size': 12, 'weight': 'bold'}) \n",
    "# plt.show()"
   ]
  },
  {
   "cell_type": "code",
   "execution_count": 24,
   "id": "ffe10617",
   "metadata": {},
   "outputs": [],
   "source": [
    "def check_result(prediction):\n",
    "    prediction = (prediction > 0.2).astype(int)\n",
    "    if isinstance(prediction, (np.ndarray, pd.Series)):\n",
    "        prediction = prediction.item()  # Hoặc sử dụng prediction[0] hoặc prediction.iloc[0]\n",
    "    if prediction==1:\n",
    "        return \"Y\"\n",
    "    else:\n",
    "        return \"N\""
   ]
  },
  {
   "cell_type": "code",
   "execution_count": 25,
   "id": "8e3eefa4",
   "metadata": {},
   "outputs": [
    {
     "name": "stdout",
     "output_type": "stream",
     "text": [
      "160/160 [==============================] - 0s 761us/step\n"
     ]
    },
    {
     "ename": "AxisError",
     "evalue": "axis 1 is out of bounds for array of dimension 1",
     "output_type": "error",
     "traceback": [
      "\u001b[1;31m---------------------------------------------------------------------------\u001b[0m",
      "\u001b[1;31mAxisError\u001b[0m                                 Traceback (most recent call last)",
      "Cell \u001b[1;32mIn[25], line 5\u001b[0m\n\u001b[0;32m      3\u001b[0m \u001b[38;5;28;01mfor\u001b[39;00m indx \u001b[38;5;129;01min\u001b[39;00m \u001b[38;5;28mrange\u001b[39m(\u001b[38;5;28mlen\u001b[39m(x_test)):\n\u001b[0;32m      4\u001b[0m     y_predict \u001b[38;5;241m=\u001b[39m stacked_model\u001b[38;5;241m.\u001b[39mpredict(stacked_input)\n\u001b[1;32m----> 5\u001b[0m     stacked_pred_labels \u001b[38;5;241m=\u001b[39m \u001b[43my_predict\u001b[49m\u001b[38;5;241;43m.\u001b[39;49m\u001b[43margmax\u001b[49m\u001b[43m(\u001b[49m\u001b[43maxis\u001b[49m\u001b[38;5;241;43m=\u001b[39;49m\u001b[38;5;241;43m1\u001b[39;49m\u001b[43m)\u001b[49m\n\u001b[0;32m      7\u001b[0m     \u001b[38;5;66;03m#print(y_predict[0][0])\u001b[39;00m\n\u001b[0;32m      8\u001b[0m     Y_check \u001b[38;5;241m=\u001b[39m check_result(y_test\u001b[38;5;241m.\u001b[39miloc[indx])\n",
      "\u001b[1;31mAxisError\u001b[0m: axis 1 is out of bounds for array of dimension 1"
     ]
    }
   ],
   "source": [
    "# solandung=0\n",
    "# hopdonggianlan=0\n",
    "# for indx in range(len(x_test)):\n",
    "#     y_predict = stacked_model.predict(stacked_input)\n",
    "#     stacked_pred_labels = y_predict.argmax(axis=1)\n",
    "\n",
    "#     #print(y_predict[0][0])\n",
    "#     Y_check = check_result(y_test.iloc[indx])\n",
    "#     print('True:', Y_check)\n",
    "#     print('Predicted:', check_result(stacked_pred_labels[indx]))\n",
    "#     print(\"----------------------------\")\n",
    "#     if Y_check==check_result(stacked_pred_labels[indx]):\n",
    "#         solandung+=1\n",
    "#         if Y_check=='Y':\n",
    "#             hopdonggianlan+=1\n",
    "    "
   ]
  },
  {
   "cell_type": "code",
   "execution_count": null,
   "id": "a3a65590",
   "metadata": {},
   "outputs": [
    {
     "name": "stdout",
     "output_type": "stream",
     "text": [
      "Số lần dự đoán đúng: 275 chiếm khoảng 83.33333333333334% tổng lần dự đoán\n",
      "Số hợp đồng gian lận trong lần kiểm tra: 75 chiếm khoảng 85.22727272727273% so với thực tế\n"
     ]
    }
   ],
   "source": [
    "print(f\"Số lần dự đoán đúng: {solandung} chiếm khoảng {(solandung/len(x_test))*100}% tổng lần dự đoán\")\n",
    "print(f\"Số hợp đồng gian lận trong lần kiểm tra: {hopdonggianlan} chiếm khoảng {(hopdonggianlan/len(y_test[y_test['fraud_reported']==1]))*100}% so với thực tế\")\n"
   ]
  },
  {
   "cell_type": "code",
   "execution_count": null,
   "id": "c31643d6",
   "metadata": {},
   "outputs": [],
   "source": []
  },
  {
   "cell_type": "code",
   "execution_count": null,
   "id": "33e3467b",
   "metadata": {},
   "outputs": [],
   "source": []
  }
 ],
 "metadata": {
  "kernelspec": {
   "display_name": "Python 3",
   "language": "python",
   "name": "python3"
  },
  "language_info": {
   "codemirror_mode": {
    "name": "ipython",
    "version": 3
   },
   "file_extension": ".py",
   "mimetype": "text/x-python",
   "name": "python",
   "nbconvert_exporter": "python",
   "pygments_lexer": "ipython3",
   "version": "3.8.19"
  }
 },
 "nbformat": 4,
 "nbformat_minor": 5
}
