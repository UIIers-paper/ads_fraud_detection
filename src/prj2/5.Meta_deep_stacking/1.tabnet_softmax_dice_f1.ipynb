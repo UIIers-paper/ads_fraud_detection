{
 "cells": [
  {
   "cell_type": "code",
   "execution_count": 1,
   "id": "c1dd1c5b",
   "metadata": {},
   "outputs": [
    {
     "name": "stdout",
     "output_type": "stream",
     "text": [
      "c:\\Users\\Admin\\Data\\ads_fraud_detection\n",
      "c:/Users/Admin/Data/ads_fraud_detection\n"
     ]
    },
    {
     "data": {
      "text/html": [
       "        <script type=\"text/javascript\">\n",
       "        window.PlotlyConfig = {MathJaxConfig: 'local'};\n",
       "        if (window.MathJax && window.MathJax.Hub && window.MathJax.Hub.Config) {window.MathJax.Hub.Config({SVG: {font: \"STIX-Web\"}});}\n",
       "        if (typeof require !== 'undefined') {\n",
       "        require.undef(\"plotly\");\n",
       "        requirejs.config({\n",
       "            paths: {\n",
       "                'plotly': ['https://cdn.plot.ly/plotly-2.35.0.min']\n",
       "            }\n",
       "        });\n",
       "        require(['plotly'], function(Plotly) {\n",
       "            window._Plotly = Plotly;\n",
       "        });\n",
       "        }\n",
       "        </script>\n",
       "        "
      ]
     },
     "metadata": {},
     "output_type": "display_data"
    },
    {
     "data": {
      "text/html": [
       "        <script type=\"text/javascript\">\n",
       "        window.PlotlyConfig = {MathJaxConfig: 'local'};\n",
       "        if (window.MathJax && window.MathJax.Hub && window.MathJax.Hub.Config) {window.MathJax.Hub.Config({SVG: {font: \"STIX-Web\"}});}\n",
       "        if (typeof require !== 'undefined') {\n",
       "        require.undef(\"plotly\");\n",
       "        requirejs.config({\n",
       "            paths: {\n",
       "                'plotly': ['https://cdn.plot.ly/plotly-2.35.0.min']\n",
       "            }\n",
       "        });\n",
       "        require(['plotly'], function(Plotly) {\n",
       "            window._Plotly = Plotly;\n",
       "        });\n",
       "        }\n",
       "        </script>\n",
       "        "
      ]
     },
     "metadata": {},
     "output_type": "display_data"
    }
   ],
   "source": [
    "import sys,os\n",
    "__script_path=os.path.abspath(globals().get('__file__','.'))\n",
    "__script_dir = os.path.dirname(__script_path)\n",
    "root_dir = os.path.abspath(f'{__script_dir}/../..')\n",
    "print(root_dir)\n",
    "for lib in [root_dir][::-1]:\n",
    "    if lib in sys.path:\n",
    "        sys.path.remove(lib)\n",
    "    sys.path.insert(0,lib)\n",
    "from config.config import *\n",
    "from libs.common import *"
   ]
  },
  {
   "cell_type": "code",
   "execution_count": 2,
   "id": "622aee0d",
   "metadata": {},
   "outputs": [],
   "source": [
    "save_dir=f\"{exps_dir}/exp2\"\n",
    "if os.path.exists(save_dir) == False: \n",
    "  os.makedirs(save_dir, exist_ok=True)\n",
    "\n",
    "\n",
    "\n",
    "test_size=0.33\n",
    "seed=42"
   ]
  },
  {
   "cell_type": "code",
   "execution_count": 3,
   "id": "ee0c5839",
   "metadata": {},
   "outputs": [
    {
     "data": {
      "text/plain": [
       "{'LR': ['Age',\n",
       "  'AgeOfPolicyHolder',\n",
       "  'AgentType',\n",
       "  'BasePolicy',\n",
       "  'Fault',\n",
       "  'MaritalStatus',\n",
       "  'PoliceReportFiled',\n",
       "  'PolicyType',\n",
       "  'VehicleCategory',\n",
       "  'WitnessPresent'],\n",
       " 'LDA': ['AccidentArea',\n",
       "  'Age',\n",
       "  'AgeOfPolicyHolder',\n",
       "  'BasePolicy',\n",
       "  'Days_Policy_Claim',\n",
       "  'Fault',\n",
       "  'MaritalStatus',\n",
       "  'NumberOfCars',\n",
       "  'PoliceReportFiled',\n",
       "  'VehicleCategory'],\n",
       " 'DTC': ['Age',\n",
       "  'AgeOfVehicle',\n",
       "  'BasePolicy',\n",
       "  'Fault',\n",
       "  'Make',\n",
       "  'PastNumberOfClaims',\n",
       "  'PolicyNumber',\n",
       "  'RepNumber',\n",
       "  'week_claimed',\n",
       "  'week_incident'],\n",
       " 'RD': ['Age',\n",
       "  'AgeOfVehicle',\n",
       "  'BasePolicy',\n",
       "  'Fault',\n",
       "  'Make',\n",
       "  'PolicyNumber',\n",
       "  'PolicyType',\n",
       "  'VehicleCategory',\n",
       "  'week_claimed',\n",
       "  'week_incident'],\n",
       " 'KNC': ['DayOfWeek',\n",
       "  'AccidentArea',\n",
       "  'WeekOfMonthClaimed',\n",
       "  'MaritalStatus',\n",
       "  'Fault',\n",
       "  'PolicyType',\n",
       "  'VehicleCategory',\n",
       "  'DriverRating',\n",
       "  'AgeOfVehicle',\n",
       "  'AgeOfPolicyHolder',\n",
       "  'BasePolicy'],\n",
       " 'GNB': ['DayOfWeek',\n",
       "  'AccidentArea',\n",
       "  'WeekOfMonthClaimed',\n",
       "  'MaritalStatus',\n",
       "  'Fault',\n",
       "  'PolicyType',\n",
       "  'VehicleCategory',\n",
       "  'DriverRating',\n",
       "  'AgeOfVehicle',\n",
       "  'AgeOfPolicyHolder',\n",
       "  'BasePolicy'],\n",
       " 'NN': ['DayOfWeek',\n",
       "  'AccidentArea',\n",
       "  'WeekOfMonthClaimed',\n",
       "  'MaritalStatus',\n",
       "  'Fault',\n",
       "  'PolicyType',\n",
       "  'VehicleCategory',\n",
       "  'DriverRating',\n",
       "  'AgeOfVehicle',\n",
       "  'AgeOfPolicyHolder',\n",
       "  'BasePolicy'],\n",
       " 'BG': ['DayOfWeek',\n",
       "  'AccidentArea',\n",
       "  'WeekOfMonthClaimed',\n",
       "  'MaritalStatus',\n",
       "  'Fault',\n",
       "  'PolicyType',\n",
       "  'VehicleCategory',\n",
       "  'DriverRating',\n",
       "  'AgeOfVehicle',\n",
       "  'AgeOfPolicyHolder',\n",
       "  'BasePolicy'],\n",
       " 'NB': ['DayOfWeek',\n",
       "  'AccidentArea',\n",
       "  'WeekOfMonthClaimed',\n",
       "  'MaritalStatus',\n",
       "  'Fault',\n",
       "  'PolicyType',\n",
       "  'VehicleCategory',\n",
       "  'DriverRating',\n",
       "  'AgeOfVehicle',\n",
       "  'AgeOfPolicyHolder',\n",
       "  'BasePolicy'],\n",
       " 'SVM': ['DayOfWeek',\n",
       "  'AccidentArea',\n",
       "  'WeekOfMonthClaimed',\n",
       "  'MaritalStatus',\n",
       "  'Fault',\n",
       "  'PolicyType',\n",
       "  'VehicleCategory',\n",
       "  'DriverRating',\n",
       "  'AgeOfVehicle',\n",
       "  'AgeOfPolicyHolder',\n",
       "  'BasePolicy']}"
      ]
     },
     "execution_count": 3,
     "metadata": {},
     "output_type": "execute_result"
    }
   ],
   "source": [
    "feature_selection=dict(np.load(f'{save_dir}/feature_model_selection.npz',allow_pickle=True))['feature_model_selection']\n",
    "feature_selection = {key: value for key, value in feature_selection.item().items()}\n",
    "feature_selection"
   ]
  },
  {
   "cell_type": "markdown",
   "id": "79d162d6",
   "metadata": {},
   "source": [
    "* kiểm tra và tạo các thư mục (nếu chưa có)\n",
    "* tập test 33%"
   ]
  },
  {
   "cell_type": "markdown",
   "id": "5cf7e092",
   "metadata": {},
   "source": [
    "# 5. Xây dựng và đánh giá mô hình học sâu Neutual Network"
   ]
  },
  {
   "cell_type": "code",
   "execution_count": 4,
   "id": "d84bdb3c",
   "metadata": {},
   "outputs": [],
   "source": [
    "bg_model=joblib.load(f'{save_dir}/bg_model.joblib')\n",
    "rf_model=joblib.load(f'{save_dir}/rf_model.joblib')\n",
    "svm_model=joblib.load(f'{save_dir}/svm_model.joblib')"
   ]
  },
  {
   "cell_type": "code",
   "execution_count": 5,
   "id": "2e81211d",
   "metadata": {},
   "outputs": [
    {
     "data": {
      "text/plain": [
       "{0: 0.5317035512094699, 1: 8.385551948051948}"
      ]
     },
     "execution_count": 5,
     "metadata": {},
     "output_type": "execute_result"
    }
   ],
   "source": [
    "x_train=pd.read_excel(f'{save_dir}/x_train.xlsx')\n",
    "y_train=pd.read_excel(f'{save_dir}/y_train.xlsx')\n",
    "x_test=pd.read_excel(f'{save_dir}/x_test.xlsx')\n",
    "y_test=pd.read_excel(f'{save_dir}/y_test.xlsx')\n",
    "class_weights_dict=dict(np.load(f'{save_dir}/class_weights_dict.npz',allow_pickle=True))['class_weights_dict']\n",
    "class_weights_dict = {key: value for key, value in class_weights_dict.item().items()}\n",
    "class_weights_dict"
   ]
  },
  {
   "cell_type": "code",
   "execution_count": 6,
   "id": "9dd43638",
   "metadata": {},
   "outputs": [
    {
     "name": "stdout",
     "output_type": "stream",
     "text": [
      "(5089, 2) (19430, 2)\n"
     ]
    }
   ],
   "source": [
    "\n",
    "\n",
    "# Dữ liệu label đã được mã hóa\n",
    "def oneHot(arr):\n",
    "    labels = np.array(arr)\n",
    "    encoder = OneHotEncoder(sparse=False)\n",
    "    \n",
    "    labels_reshaped = labels.reshape(-1, 1)\n",
    "    \n",
    "    encoder.fit(labels_reshaped)\n",
    "    \n",
    "    onehot_labels = encoder.transform(labels_reshaped)\n",
    "    # onehot_labels=pd.DataFrame(onehot_labels)\n",
    "    return onehot_labels\n",
    "\n",
    "y_train_onehot=oneHot(y_train)\n",
    "y_test_onehot=oneHot(y_test)\n",
    "print(y_test_onehot.shape,y_train_onehot.shape)\n"
   ]
  },
  {
   "cell_type": "code",
   "execution_count": 7,
   "id": "9cf5d7b4",
   "metadata": {},
   "outputs": [
    {
     "name": "stdout",
     "output_type": "stream",
     "text": [
      "(5089, 2)\n"
     ]
    }
   ],
   "source": [
    "y_test_onehot.reshape(-1, 1)\n",
    "print(y_test_onehot.shape)"
   ]
  },
  {
   "cell_type": "code",
   "execution_count": 8,
   "id": "6dda6290",
   "metadata": {},
   "outputs": [
    {
     "data": {
      "text/plain": [
       "(5089, 34)"
      ]
     },
     "execution_count": 8,
     "metadata": {},
     "output_type": "execute_result"
    }
   ],
   "source": [
    "x_test.shape"
   ]
  },
  {
   "cell_type": "code",
   "execution_count": 9,
   "id": "f1c3ac7a",
   "metadata": {},
   "outputs": [
    {
     "data": {
      "text/plain": [
       "(19430, 34)"
      ]
     },
     "execution_count": 9,
     "metadata": {},
     "output_type": "execute_result"
    }
   ],
   "source": [
    "x_train.shape"
   ]
  },
  {
   "cell_type": "code",
   "execution_count": 10,
   "id": "848e48fb",
   "metadata": {},
   "outputs": [],
   "source": [
    "def f1_score(y_true, y_pred):\n",
    "    \"\"\"\n",
    "    Macro F1 score metric.\n",
    "    \"\"\"\n",
    "    y_pred = K.round(y_pred)    \n",
    "    true_positives = K.sum(K.round(K.clip(y_true * y_pred, 0, 1)), axis=0)\n",
    "    false_positives = K.sum(K.round(K.clip(y_pred - y_true, 0, 1)), axis=0)\n",
    "    false_negatives = K.sum(K.round(K.clip(y_true - y_pred, 0, 1)), axis=0)    \n",
    "    precision = true_positives / (true_positives + false_positives + K.epsilon())\n",
    "    recall = true_positives / (true_positives + false_negatives + K.epsilon())    \n",
    "    f1_scores = 2 * (precision * recall) / (precision + recall + K.epsilon())    \n",
    "    macro_f1_score = K.mean(f1_scores)\n",
    "    \n",
    "    return macro_f1_score"
   ]
  },
  {
   "cell_type": "code",
   "execution_count": 11,
   "id": "cc8ab883",
   "metadata": {},
   "outputs": [],
   "source": [
    "def focal_loss(y_true, y_pred, alpha=0.25, gamma=2.0):\n",
    "    y_pred = tf.clip_by_value(y_pred, 1e-7, 1 - 1e-7)\n",
    "    pt = tf.where(tf.equal(y_true, 1), y_pred, 1 - y_pred)\n",
    "    loss = -tf.reduce_mean(alpha * tf.pow(1.0 - pt, gamma) * tf.math.log(pt))\n",
    "    return loss\n"
   ]
  },
  {
   "cell_type": "code",
   "execution_count": 12,
   "id": "dfe6c49a",
   "metadata": {},
   "outputs": [],
   "source": [
    "import numpy as np\n",
    "import tensorflow as tf\n",
    "from tensorflow.keras import backend as K\n",
    "\n",
    "def dice_coef(y_true, y_pred, smooth):\n",
    "    y_true_f = K.flatten(y_true)\n",
    "    y_pred_f = K.flatten(y_pred)\n",
    "    intersection = K.sum(y_true_f * y_pred_f)\n",
    "    dice = (2. * intersection + smooth) / (K.sum(y_true_f) + K.sum(y_pred_f) + smooth)\n",
    "    return dice\n",
    "\n",
    "def dice_coef_loss(y_true, y_pred, smooth=0.0001):\n",
    "    return 1 - dice_coef(y_true, y_pred, smooth)"
   ]
  },
  {
   "cell_type": "code",
   "execution_count": 13,
   "id": "01f5fcdf",
   "metadata": {},
   "outputs": [],
   "source": [
    "def dice_coef_9cat(y_true, y_pred, smooth=1e-7):\n",
    "    '''\n",
    "    Dice coefficient for 10 categories. Ignores background pixel label 0\n",
    "    Pass to model as metric during compile statement\n",
    "    '''\n",
    "    y_true_f = K.flatten(K.one_hot(K.cast(y_true, 'int32'), num_classes=10)[...,1:])\n",
    "    y_pred_f = K.flatten(y_pred[...,1:])\n",
    "    intersect = K.sum(y_true_f * y_pred_f, axis=-1)\n",
    "    denom = K.sum(y_true_f + y_pred_f, axis=-1)\n",
    "    return K.mean((2. * intersect / (denom + smooth)))\n",
    "\n",
    "def dice_coef_9cat_loss(y_true, y_pred):\n",
    "    '''\n",
    "    Dice loss to minimize. Pass to model as loss during compile statement\n",
    "    '''\n",
    "    return 1 - dice_coef_9cat(y_true, y_pred)"
   ]
  },
  {
   "cell_type": "markdown",
   "id": "cb6de984",
   "metadata": {},
   "source": [
    "#### * Xây dựng model:"
   ]
  },
  {
   "cell_type": "code",
   "execution_count": 14,
   "id": "732f9456",
   "metadata": {},
   "outputs": [],
   "source": [
    "\n",
    "early_stopping = EarlyStopping(monitor='f1_score',\n",
    "                                mode='max',\n",
    "    min_delta=0.00005,\n",
    "    patience=100,\n",
    "    verbose=1,\n",
    "    restore_best_weights=True,\n",
    ")\n",
    "\n",
    "lr_scheduler = ReduceLROnPlateau(\n",
    "    monitor='f1_score',\n",
    "    mode='max',\n",
    "    factor=0.5,\n",
    "    patience=10,\n",
    "    min_lr=0.000001,\n",
    "    verbose=1,\n",
    ")\n",
    "checkpoint_callback = ModelCheckpoint(\n",
    "    filepath='best_model.h5',  # Đường dẫn để lưu model\n",
    "    monitor='f1_score',  # Theo dõi val_loss\n",
    "    mode='max',\n",
    "    save_best_only=True,  # Lưu lại chỉ model có val_loss tốt nhất\n",
    "    verbose=1  # Hiển thị thông báo khi lưu model\n",
    ")\n",
    "\n"
   ]
  },
  {
   "cell_type": "markdown",
   "id": "5ec895de",
   "metadata": {},
   "source": [
    "#### * Xây dựng Stacked_model:"
   ]
  },
  {
   "cell_type": "code",
   "execution_count": null,
   "id": "071a8a46",
   "metadata": {},
   "outputs": [],
   "source": []
  },
  {
   "cell_type": "code",
   "execution_count": 15,
   "id": "14004dd7",
   "metadata": {},
   "outputs": [
    {
     "name": "stderr",
     "output_type": "stream",
     "text": [
      "WARNING:absl:`lr` is deprecated in Keras optimizer, please use `learning_rate` or use the legacy optimizer, e.g.,tf.keras.optimizers.legacy.Adam.\n"
     ]
    }
   ],
   "source": [
    "\n",
    "\n",
    "learning_rate=0.1\n",
    "tabnet_params = {\n",
    "    \"decision_dim\": 16,\n",
    "    \"attention_dim\": 16,\n",
    "    \"n_steps\": 3,\n",
    "    \"n_shared_glus\": 2,\n",
    "    \"n_dependent_glus\": 2,\n",
    "    \"relaxation_factor\": 1.3,\n",
    "    \"epsilon\": 1e-15,\n",
    "    \"momentum\": 0.98,\n",
    "    \"mask_type\": \"softmax\", # can be 'sparsemax' or 'softmax'\n",
    "    \"lambda_sparse\": 1e-3, \n",
    "    \"virtual_batch_splits\": 8 #number of splits for ghost batch normalization, ideally should evenly divide the batch_size\n",
    "}\n",
    "\n",
    "\n",
    "\n",
    "### Classification\n",
    "model = TabNetClassifier(n_classes = 2, out_activation = 'softmax', **tabnet_params)\n",
    "# model = TabNetClassifier(n_classes = 2, out_activation = 'softmax', \n",
    "#     kernel_regularizer=l2(0.01), **tabnet_params)\n",
    "# model.compile(loss = 'categorical_crossentropy', optimizer = )\n",
    "# model.fit(x_train, y_train, epochs = 100, batch_size = 1024)\n",
    "# model.compile(optimizer=tf.keras.optimizers.Adam(learning_rate), loss='categorical_crossentropy', metrics=['accuracy',f1_score])\n",
    "# model.compile(optimizer=Adam(lr=learning_rate), loss=f1_loss, metrics=['accuracy',,f1_score])\n",
    "# model.compile(optimizer=Adam(lr=learning_rate), loss=focal_loss, metrics=['accuracy',f1_score])\n",
    "model.compile(optimizer=Adam(lr=learning_rate), loss=dice_coef_loss, metrics=['accuracy',f1_score])\n",
    "early_stopping = EarlyStopping(monitor='val_f1_score',\n",
    "    min_delta=0.00005,\n",
    "    patience=60,\n",
    "    verbose=1,\n",
    "    restore_best_weights=True,\n",
    ")\n",
    "\n",
    "model_checkpoint = ModelCheckpoint('best_model', monitor='val_f1_score', save_best_only=True, save_format='tf')\n",
    "\n",
    "\n",
    "lr_scheduler = ReduceLROnPlateau(\n",
    "    monitor='val_f1_score',\n",
    "    factor=0.5,\n",
    "    patience=20,\n",
    "    min_lr=0.000001,\n",
    "    verbose=1,\n",
    ")\n"
   ]
  },
  {
   "cell_type": "code",
   "execution_count": 16,
   "id": "567bba7a",
   "metadata": {},
   "outputs": [
    {
     "name": "stdout",
     "output_type": "stream",
     "text": [
      "Epoch 1/1200\n",
      "304/304 [==============================] - 57s 21ms/step - loss: 0.2649 - accuracy: 0.7621 - f1_score: 0.7602 - val_loss: 0.2382 - val_accuracy: 0.7660 - val_f1_score: 0.5290 - lr: 0.0010\n",
      "Epoch 2/1200\n",
      "304/304 [==============================] - 7s 22ms/step - loss: 0.1841 - accuracy: 0.8261 - f1_score: 0.8247 - val_loss: 0.2172 - val_accuracy: 0.7870 - val_f1_score: 0.5440 - lr: 0.0010\n",
      "Epoch 3/1200\n",
      "304/304 [==============================] - 6s 20ms/step - loss: 0.1741 - accuracy: 0.8320 - f1_score: 0.8306 - val_loss: 0.2150 - val_accuracy: 0.7856 - val_f1_score: 0.5398 - lr: 0.0010\n",
      "Epoch 4/1200\n",
      "304/304 [==============================] - 6s 21ms/step - loss: 0.1638 - accuracy: 0.8418 - f1_score: 0.8404 - val_loss: 0.2125 - val_accuracy: 0.7890 - val_f1_score: 0.5395 - lr: 0.0010\n",
      "Epoch 5/1200\n",
      "304/304 [==============================] - 6s 21ms/step - loss: 0.1597 - accuracy: 0.8454 - f1_score: 0.8439 - val_loss: 0.2014 - val_accuracy: 0.8000 - val_f1_score: 0.5416 - lr: 0.0010\n",
      "Epoch 6/1200\n",
      "304/304 [==============================] - 6s 20ms/step - loss: 0.1510 - accuracy: 0.8538 - f1_score: 0.8527 - val_loss: 0.2059 - val_accuracy: 0.7966 - val_f1_score: 0.5365 - lr: 0.0010\n",
      "Epoch 7/1200\n",
      "304/304 [==============================] - 6s 21ms/step - loss: 0.1500 - accuracy: 0.8552 - f1_score: 0.8542 - val_loss: 0.1877 - val_accuracy: 0.8149 - val_f1_score: 0.5420 - lr: 0.0010\n",
      "Epoch 8/1200\n",
      "304/304 [==============================] - 6s 21ms/step - loss: 0.1502 - accuracy: 0.8545 - f1_score: 0.8531 - val_loss: 0.2087 - val_accuracy: 0.7929 - val_f1_score: 0.5400 - lr: 0.0010\n",
      "Epoch 9/1200\n",
      "304/304 [==============================] - 6s 20ms/step - loss: 0.1426 - accuracy: 0.8622 - f1_score: 0.8609 - val_loss: 0.1730 - val_accuracy: 0.8304 - val_f1_score: 0.5563 - lr: 0.0010\n",
      "Epoch 10/1200\n",
      "304/304 [==============================] - 6s 21ms/step - loss: 0.1414 - accuracy: 0.8633 - f1_score: 0.8619 - val_loss: 0.1670 - val_accuracy: 0.8355 - val_f1_score: 0.5594 - lr: 0.0010\n",
      "Epoch 11/1200\n",
      "304/304 [==============================] - 6s 21ms/step - loss: 0.1421 - accuracy: 0.8622 - f1_score: 0.8610 - val_loss: 0.1743 - val_accuracy: 0.8298 - val_f1_score: 0.5561 - lr: 0.0010\n",
      "Epoch 12/1200\n",
      "304/304 [==============================] - 6s 21ms/step - loss: 0.1400 - accuracy: 0.8644 - f1_score: 0.8631 - val_loss: 0.1791 - val_accuracy: 0.8233 - val_f1_score: 0.5469 - lr: 0.0010\n",
      "Epoch 13/1200\n",
      "304/304 [==============================] - 6s 21ms/step - loss: 0.1320 - accuracy: 0.8723 - f1_score: 0.8711 - val_loss: 0.1568 - val_accuracy: 0.8455 - val_f1_score: 0.5524 - lr: 0.0010\n",
      "Epoch 14/1200\n",
      "304/304 [==============================] - 6s 21ms/step - loss: 0.1332 - accuracy: 0.8710 - f1_score: 0.8697 - val_loss: 0.1682 - val_accuracy: 0.8340 - val_f1_score: 0.5390 - lr: 0.0010\n",
      "Epoch 15/1200\n",
      "304/304 [==============================] - 6s 21ms/step - loss: 0.1314 - accuracy: 0.8740 - f1_score: 0.8724 - val_loss: 0.1779 - val_accuracy: 0.8245 - val_f1_score: 0.5376 - lr: 0.0010\n",
      "Epoch 16/1200\n",
      "304/304 [==============================] - 6s 21ms/step - loss: 0.1338 - accuracy: 0.8711 - f1_score: 0.8697 - val_loss: 0.1443 - val_accuracy: 0.8587 - val_f1_score: 0.5539 - lr: 0.0010\n",
      "Epoch 17/1200\n",
      "304/304 [==============================] - 6s 21ms/step - loss: 0.1292 - accuracy: 0.8750 - f1_score: 0.8738 - val_loss: 0.1522 - val_accuracy: 0.8512 - val_f1_score: 0.5499 - lr: 0.0010\n",
      "Epoch 18/1200\n",
      "304/304 [==============================] - 7s 21ms/step - loss: 0.1286 - accuracy: 0.8760 - f1_score: 0.8748 - val_loss: 0.1522 - val_accuracy: 0.8499 - val_f1_score: 0.5484 - lr: 0.0010\n",
      "Epoch 19/1200\n",
      "304/304 [==============================] - 7s 22ms/step - loss: 0.1249 - accuracy: 0.8799 - f1_score: 0.8786 - val_loss: 0.1469 - val_accuracy: 0.8550 - val_f1_score: 0.5524 - lr: 0.0010\n",
      "Epoch 20/1200\n",
      "304/304 [==============================] - 7s 23ms/step - loss: 0.1260 - accuracy: 0.8778 - f1_score: 0.8764 - val_loss: 0.1583 - val_accuracy: 0.8467 - val_f1_score: 0.5533 - lr: 0.0010\n",
      "Epoch 21/1200\n",
      "301/304 [============================>.] - ETA: 0s - loss: 0.1202 - accuracy: 0.8841 - f1_score: 0.8831\n",
      "Epoch 21: ReduceLROnPlateau reducing learning rate to 0.0005000000237487257.\n",
      "304/304 [==============================] - 5s 17ms/step - loss: 0.1205 - accuracy: 0.8838 - f1_score: 0.8827 - val_loss: 0.1539 - val_accuracy: 0.8481 - val_f1_score: 0.5457 - lr: 0.0010\n",
      "Epoch 22/1200\n",
      "304/304 [==============================] - 5s 18ms/step - loss: 0.1188 - accuracy: 0.8850 - f1_score: 0.8838 - val_loss: 0.1486 - val_accuracy: 0.8544 - val_f1_score: 0.5551 - lr: 5.0000e-04\n",
      "Epoch 23/1200\n",
      "304/304 [==============================] - 7s 22ms/step - loss: 0.1186 - accuracy: 0.8863 - f1_score: 0.8854 - val_loss: 0.1502 - val_accuracy: 0.8538 - val_f1_score: 0.5518 - lr: 5.0000e-04\n",
      "Epoch 24/1200\n",
      "304/304 [==============================] - 6s 21ms/step - loss: 0.1148 - accuracy: 0.8896 - f1_score: 0.8883 - val_loss: 0.1472 - val_accuracy: 0.8562 - val_f1_score: 0.5564 - lr: 5.0000e-04\n",
      "Epoch 25/1200\n",
      "304/304 [==============================] - 7s 24ms/step - loss: 0.1129 - accuracy: 0.8913 - f1_score: 0.8901 - val_loss: 0.1442 - val_accuracy: 0.8581 - val_f1_score: 0.5469 - lr: 5.0000e-04\n",
      "Epoch 26/1200\n",
      "304/304 [==============================] - 7s 24ms/step - loss: 0.1131 - accuracy: 0.8903 - f1_score: 0.8890 - val_loss: 0.1412 - val_accuracy: 0.8624 - val_f1_score: 0.5528 - lr: 5.0000e-04\n",
      "Epoch 27/1200\n",
      "304/304 [==============================] - 7s 23ms/step - loss: 0.1148 - accuracy: 0.8892 - f1_score: 0.8879 - val_loss: 0.1332 - val_accuracy: 0.8703 - val_f1_score: 0.5603 - lr: 5.0000e-04\n",
      "Epoch 28/1200\n",
      "304/304 [==============================] - 7s 24ms/step - loss: 0.1123 - accuracy: 0.8921 - f1_score: 0.8908 - val_loss: 0.1430 - val_accuracy: 0.8603 - val_f1_score: 0.5542 - lr: 5.0000e-04\n",
      "Epoch 29/1200\n",
      "304/304 [==============================] - 7s 23ms/step - loss: 0.1076 - accuracy: 0.8967 - f1_score: 0.8957 - val_loss: 0.1303 - val_accuracy: 0.8725 - val_f1_score: 0.5615 - lr: 5.0000e-04\n",
      "Epoch 30/1200\n",
      "304/304 [==============================] - 7s 23ms/step - loss: 0.1100 - accuracy: 0.8936 - f1_score: 0.8924 - val_loss: 0.1423 - val_accuracy: 0.8609 - val_f1_score: 0.5575 - lr: 5.0000e-04\n",
      "Epoch 31/1200\n",
      "304/304 [==============================] - 7s 24ms/step - loss: 0.1076 - accuracy: 0.8963 - f1_score: 0.8950 - val_loss: 0.1277 - val_accuracy: 0.8754 - val_f1_score: 0.5520 - lr: 5.0000e-04\n",
      "Epoch 32/1200\n",
      "304/304 [==============================] - 7s 22ms/step - loss: 0.1080 - accuracy: 0.8954 - f1_score: 0.8943 - val_loss: 0.1277 - val_accuracy: 0.8758 - val_f1_score: 0.5531 - lr: 5.0000e-04\n",
      "Epoch 33/1200\n",
      "304/304 [==============================] - 6s 21ms/step - loss: 0.1073 - accuracy: 0.8965 - f1_score: 0.8954 - val_loss: 0.1401 - val_accuracy: 0.8630 - val_f1_score: 0.5521 - lr: 5.0000e-04\n",
      "Epoch 34/1200\n",
      "304/304 [==============================] - 7s 23ms/step - loss: 0.1039 - accuracy: 0.9001 - f1_score: 0.8988 - val_loss: 0.1379 - val_accuracy: 0.8652 - val_f1_score: 0.5526 - lr: 5.0000e-04\n",
      "Epoch 35/1200\n",
      "304/304 [==============================] - 7s 23ms/step - loss: 0.1067 - accuracy: 0.8969 - f1_score: 0.8957 - val_loss: 0.1396 - val_accuracy: 0.8636 - val_f1_score: 0.5592 - lr: 5.0000e-04\n",
      "Epoch 36/1200\n",
      "304/304 [==============================] - 7s 23ms/step - loss: 0.1048 - accuracy: 0.8992 - f1_score: 0.8981 - val_loss: 0.1300 - val_accuracy: 0.8725 - val_f1_score: 0.5595 - lr: 5.0000e-04\n",
      "Epoch 37/1200\n",
      "304/304 [==============================] - 7s 24ms/step - loss: 0.1039 - accuracy: 0.8997 - f1_score: 0.8987 - val_loss: 0.1194 - val_accuracy: 0.8829 - val_f1_score: 0.5543 - lr: 5.0000e-04\n",
      "Epoch 38/1200\n",
      "304/304 [==============================] - 6s 21ms/step - loss: 0.1063 - accuracy: 0.8973 - f1_score: 0.8961 - val_loss: 0.1355 - val_accuracy: 0.8672 - val_f1_score: 0.5527 - lr: 5.0000e-04\n",
      "Epoch 39/1200\n",
      "304/304 [==============================] - 7s 22ms/step - loss: 0.1026 - accuracy: 0.9016 - f1_score: 0.9005 - val_loss: 0.1319 - val_accuracy: 0.8713 - val_f1_score: 0.5509 - lr: 5.0000e-04\n",
      "Epoch 40/1200\n",
      "304/304 [==============================] - 7s 22ms/step - loss: 0.1022 - accuracy: 0.9024 - f1_score: 0.9014 - val_loss: 0.1250 - val_accuracy: 0.8780 - val_f1_score: 0.5530 - lr: 5.0000e-04\n",
      "Epoch 41/1200\n",
      "304/304 [==============================] - ETA: 0s - loss: 0.1050 - accuracy: 0.8994 - f1_score: 0.8983\n",
      "Epoch 41: ReduceLROnPlateau reducing learning rate to 0.0002500000118743628.\n",
      "304/304 [==============================] - 7s 22ms/step - loss: 0.1050 - accuracy: 0.8994 - f1_score: 0.8983 - val_loss: 0.1309 - val_accuracy: 0.8713 - val_f1_score: 0.5574 - lr: 5.0000e-04\n",
      "Epoch 42/1200\n",
      "304/304 [==============================] - 6s 20ms/step - loss: 0.1054 - accuracy: 0.8985 - f1_score: 0.8974 - val_loss: 0.1210 - val_accuracy: 0.8819 - val_f1_score: 0.5515 - lr: 2.5000e-04\n",
      "Epoch 43/1200\n",
      "304/304 [==============================] - 6s 21ms/step - loss: 0.0992 - accuracy: 0.9053 - f1_score: 0.9042 - val_loss: 0.1327 - val_accuracy: 0.8689 - val_f1_score: 0.5478 - lr: 2.5000e-04\n",
      "Epoch 44/1200\n",
      "304/304 [==============================] - 7s 22ms/step - loss: 0.1029 - accuracy: 0.9006 - f1_score: 0.8992 - val_loss: 0.1143 - val_accuracy: 0.8888 - val_f1_score: 0.5613 - lr: 2.5000e-04\n",
      "Epoch 45/1200\n",
      "304/304 [==============================] - 7s 23ms/step - loss: 0.0963 - accuracy: 0.9074 - f1_score: 0.9066 - val_loss: 0.1210 - val_accuracy: 0.8813 - val_f1_score: 0.5551 - lr: 2.5000e-04\n",
      "Epoch 46/1200\n",
      "304/304 [==============================] - 6s 21ms/step - loss: 0.0970 - accuracy: 0.9066 - f1_score: 0.9057 - val_loss: 0.1346 - val_accuracy: 0.8683 - val_f1_score: 0.5512 - lr: 2.5000e-04\n",
      "Epoch 47/1200\n",
      "304/304 [==============================] - 6s 20ms/step - loss: 0.0975 - accuracy: 0.9065 - f1_score: 0.9053 - val_loss: 0.1319 - val_accuracy: 0.8701 - val_f1_score: 0.5554 - lr: 2.5000e-04\n",
      "Epoch 48/1200\n",
      "304/304 [==============================] - 7s 22ms/step - loss: 0.0979 - accuracy: 0.9064 - f1_score: 0.9054 - val_loss: 0.1275 - val_accuracy: 0.8756 - val_f1_score: 0.5593 - lr: 2.5000e-04\n",
      "Epoch 49/1200\n",
      "304/304 [==============================] - 7s 24ms/step - loss: 0.0998 - accuracy: 0.9036 - f1_score: 0.9022 - val_loss: 0.1254 - val_accuracy: 0.8770 - val_f1_score: 0.5531 - lr: 2.5000e-04\n",
      "Epoch 50/1200\n",
      "304/304 [==============================] - 7s 23ms/step - loss: 0.0979 - accuracy: 0.9057 - f1_score: 0.9046 - val_loss: 0.1242 - val_accuracy: 0.8793 - val_f1_score: 0.5577 - lr: 2.5000e-04\n",
      "Epoch 51/1200\n",
      "304/304 [==============================] - 7s 23ms/step - loss: 0.0963 - accuracy: 0.9072 - f1_score: 0.9061 - val_loss: 0.1217 - val_accuracy: 0.8801 - val_f1_score: 0.5530 - lr: 2.5000e-04\n",
      "Epoch 52/1200\n",
      "304/304 [==============================] - 7s 22ms/step - loss: 0.0977 - accuracy: 0.9055 - f1_score: 0.9043 - val_loss: 0.1187 - val_accuracy: 0.8831 - val_f1_score: 0.5531 - lr: 2.5000e-04\n",
      "Epoch 53/1200\n",
      "304/304 [==============================] - 7s 24ms/step - loss: 0.0957 - accuracy: 0.9083 - f1_score: 0.9075 - val_loss: 0.1178 - val_accuracy: 0.8847 - val_f1_score: 0.5529 - lr: 2.5000e-04\n",
      "Epoch 54/1200\n",
      "304/304 [==============================] - 6s 21ms/step - loss: 0.0982 - accuracy: 0.9059 - f1_score: 0.9048 - val_loss: 0.1179 - val_accuracy: 0.8860 - val_f1_score: 0.5558 - lr: 2.5000e-04\n",
      "Epoch 55/1200\n",
      "304/304 [==============================] - 7s 23ms/step - loss: 0.0957 - accuracy: 0.9075 - f1_score: 0.9064 - val_loss: 0.1228 - val_accuracy: 0.8805 - val_f1_score: 0.5563 - lr: 2.5000e-04\n",
      "Epoch 56/1200\n",
      "304/304 [==============================] - 6s 21ms/step - loss: 0.0963 - accuracy: 0.9077 - f1_score: 0.9064 - val_loss: 0.1330 - val_accuracy: 0.8699 - val_f1_score: 0.5583 - lr: 2.5000e-04\n",
      "Epoch 57/1200\n",
      "304/304 [==============================] - 7s 23ms/step - loss: 0.0958 - accuracy: 0.9091 - f1_score: 0.9080 - val_loss: 0.1251 - val_accuracy: 0.8768 - val_f1_score: 0.5557 - lr: 2.5000e-04\n",
      "Epoch 58/1200\n",
      "304/304 [==============================] - 7s 23ms/step - loss: 0.0958 - accuracy: 0.9082 - f1_score: 0.9071 - val_loss: 0.1143 - val_accuracy: 0.8892 - val_f1_score: 0.5584 - lr: 2.5000e-04\n",
      "Epoch 59/1200\n",
      "304/304 [==============================] - 7s 23ms/step - loss: 0.0958 - accuracy: 0.9078 - f1_score: 0.9067 - val_loss: 0.1255 - val_accuracy: 0.8784 - val_f1_score: 0.5562 - lr: 2.5000e-04\n",
      "Epoch 60/1200\n",
      "304/304 [==============================] - 7s 22ms/step - loss: 0.0931 - accuracy: 0.9106 - f1_score: 0.9096 - val_loss: 0.1236 - val_accuracy: 0.8792 - val_f1_score: 0.5480 - lr: 2.5000e-04\n",
      "Epoch 61/1200\n",
      "302/304 [============================>.] - ETA: 0s - loss: 0.0948 - accuracy: 0.9089 - f1_score: 0.9079Restoring model weights from the end of the best epoch: 1.\n",
      "\n",
      "Epoch 61: ReduceLROnPlateau reducing learning rate to 0.0001250000059371814.\n",
      "304/304 [==============================] - 7s 22ms/step - loss: 0.0951 - accuracy: 0.9086 - f1_score: 0.9074 - val_loss: 0.1198 - val_accuracy: 0.8837 - val_f1_score: 0.5556 - lr: 2.5000e-04\n",
      "Epoch 61: early stopping\n"
     ]
    },
    {
     "data": {
      "text/plain": [
       "<keras.src.callbacks.History at 0x1a30b235190>"
      ]
     },
     "execution_count": 16,
     "metadata": {},
     "output_type": "execute_result"
    }
   ],
   "source": [
    "model.fit(x=x_train,y=y_train_onehot,\n",
    "          validation_data=(x_test,y_test_onehot),\n",
    "          batch_size=64,epochs= 1200, callbacks=[early_stopping,lr_scheduler])\n"
   ]
  },
  {
   "cell_type": "code",
   "execution_count": 17,
   "id": "dff75e76",
   "metadata": {},
   "outputs": [
    {
     "name": "stdout",
     "output_type": "stream",
     "text": [
      "Model: \"tab_net_classifier\"\n",
      "_________________________________________________________________\n",
      " Layer (type)                Output Shape              Param #   \n",
      "=================================================================\n",
      " tab_net_encoder (TabNetEnc  multiple                  26880     \n",
      " oder)                                                           \n",
      "                                                                 \n",
      " classifier (Dense)          multiple                  32        \n",
      "                                                                 \n",
      "=================================================================\n",
      "Total params: 26912 (105.12 KB)\n",
      "Trainable params: 24592 (96.06 KB)\n",
      "Non-trainable params: 2320 (9.06 KB)\n",
      "_________________________________________________________________\n"
     ]
    }
   ],
   "source": [
    "model.summary()"
   ]
  },
  {
   "cell_type": "markdown",
   "id": "0b2cb867",
   "metadata": {},
   "source": [
    "#### * Kết quả đánh giá mô hình:"
   ]
  },
  {
   "cell_type": "code",
   "execution_count": 18,
   "id": "07132b7e",
   "metadata": {},
   "outputs": [
    {
     "name": "stdout",
     "output_type": "stream",
     "text": [
      "Model: \"tab_net_classifier\"\n",
      "_________________________________________________________________\n",
      " Layer (type)                Output Shape              Param #   \n",
      "=================================================================\n",
      " tab_net_encoder (TabNetEnc  multiple                  26880     \n",
      " oder)                                                           \n",
      "                                                                 \n",
      " classifier (Dense)          multiple                  32        \n",
      "                                                                 \n",
      "=================================================================\n",
      "Total params: 26912 (105.12 KB)\n",
      "Trainable params: 24592 (96.06 KB)\n",
      "Non-trainable params: 2320 (9.06 KB)\n",
      "_________________________________________________________________\n"
     ]
    }
   ],
   "source": [
    "model.summary()"
   ]
  },
  {
   "cell_type": "code",
   "execution_count": 19,
   "id": "875136d2",
   "metadata": {},
   "outputs": [
    {
     "data": {
      "image/png": "[encoded data removed]",
      "text/plain": [
       "<Figure size 1500x800 with 2 Axes>"
      ]
     },
     "metadata": {},
     "output_type": "display_data"
    },
    {
     "data": {
      "text/plain": [
       "<Figure size 640x480 with 0 Axes>"
      ]
     },
     "metadata": {},
     "output_type": "display_data"
    }
   ],
   "source": [
    "history=model.history.history\n",
    "fig,axes=plt.subplots(1,2, figsize=(15,8))\n",
    "axes[0].plot(pd.DataFrame(history['val_accuracy']))\n",
    "axes[0].set_title('Training Process')\n",
    "axes[1].plot(pd.DataFrame(history))\n",
    "axes[1].set_title('Training Process')\n",
    "plt.show()\n",
    "plt.savefig('train.png')"
   ]
  },
  {
   "cell_type": "code",
   "execution_count": 20,
   "id": "b5a05cd8",
   "metadata": {},
   "outputs": [
    {
     "name": "stdout",
     "output_type": "stream",
     "text": [
      "160/160 [==============================] - 1s 2ms/step\n"
     ]
    },
    {
     "data": {
      "text/plain": [
       "0.765965808606799"
      ]
     },
     "execution_count": 20,
     "metadata": {},
     "output_type": "execute_result"
    }
   ],
   "source": [
    "y_test_labels = np.argmax(y_test_onehot, axis=1)\n",
    "predictions = model.predict(x_test)\n",
    "predictions = np.argmax(predictions, axis=1)\n",
    "accuracy = accuracy_score(y_test_labels, predictions)\n",
    "accuracy\n"
   ]
  },
  {
   "cell_type": "code",
   "execution_count": 21,
   "id": "7f1d8560",
   "metadata": {},
   "outputs": [
    {
     "name": "stdout",
     "output_type": "stream",
     "text": [
      "Accuracy: 0.765965808606799\n",
      "Classification Report:\n",
      "              precision    recall  f1-score   support\n",
      "\n",
      "           0       0.96      0.78      0.86      4782\n",
      "           1       0.13      0.50      0.20       307\n",
      "\n",
      "    accuracy                           0.77      5089\n",
      "   macro avg       0.54      0.64      0.53      5089\n",
      "weighted avg       0.91      0.77      0.82      5089\n",
      "\n",
      "Confusion Matrix:\n",
      "[[3746 1036]\n",
      " [ 155  152]]\n"
     ]
    }
   ],
   "source": [
    "from sklearn.metrics import accuracy_score, classification_report, confusion_matrix\n",
    "import numpy as np\n",
    "\n",
    "y_test_labels = np.argmax(y_test_onehot, axis=1)\n",
    "\n",
    "accuracy = accuracy_score(y_test_labels, predictions)\n",
    "print(\"Accuracy:\", accuracy)\n",
    "print(\"Classification Report:\")\n",
    "print(classification_report(y_test_labels, predictions))\n",
    "\n",
    "print(\"Confusion Matrix:\")\n",
    "print(confusion_matrix(y_test_labels, predictions))\n"
   ]
  },
  {
   "cell_type": "code",
   "execution_count": 22,
   "id": "6f218b86",
   "metadata": {},
   "outputs": [
    {
     "data": {
      "image/png": "[encoded data removed]",
      "text/plain": [
       "<Figure size 800x600 with 2 Axes>"
      ]
     },
     "metadata": {},
     "output_type": "display_data"
    }
   ],
   "source": [
    "# Dự đoán\n",
    "\n",
    "\n",
    "# Tính ma trận nhầm lẫn\n",
    "cm = confusion_matrix(y_test, predictions,labels=[1,0])\n",
    "plt.figure(figsize=(8, 6))\n",
    "sns.heatmap(cm, annot=True, fmt='g', cmap='Blues', xticklabels=[1,0], yticklabels=[1,0])\n",
    "plt.title('Confusion Matrix')\n",
    "plt.xlabel('Predicted')\n",
    "plt.ylabel('Actual')\n",
    "plt.show()"
   ]
  },
  {
   "cell_type": "code",
   "execution_count": 23,
   "id": "e744c8a6",
   "metadata": {},
   "outputs": [
    {
     "ename": "NameError",
     "evalue": "name 'stacked_pred' is not defined",
     "output_type": "error",
     "traceback": [
      "\u001b[1;31m---------------------------------------------------------------------------\u001b[0m",
      "\u001b[1;31mNameError\u001b[0m                                 Traceback (most recent call last)",
      "Cell \u001b[1;32mIn[23], line 3\u001b[0m\n\u001b[0;32m      1\u001b[0m fig, ax \u001b[38;5;241m=\u001b[39m plt\u001b[38;5;241m.\u001b[39msubplots(\u001b[38;5;241m1\u001b[39m, \u001b[38;5;241m1\u001b[39m, figsize\u001b[38;5;241m=\u001b[39m(\u001b[38;5;241m15\u001b[39m, \u001b[38;5;241m15\u001b[39m))\n\u001b[1;32m----> 3\u001b[0m fpr, tpr, _ \u001b[38;5;241m=\u001b[39m roc_curve(y_test, \u001b[43mstacked_pred\u001b[49m)\n\u001b[0;32m      5\u001b[0m roc_auc \u001b[38;5;241m=\u001b[39m auc(fpr, tpr)\n\u001b[0;32m      7\u001b[0m ax\u001b[38;5;241m.\u001b[39mplot(fpr, tpr, lw\u001b[38;5;241m=\u001b[39m\u001b[38;5;241m4\u001b[39m, label\u001b[38;5;241m=\u001b[39m\u001b[38;5;124m'\u001b[39m\u001b[38;5;124mROC curve (AUC = \u001b[39m\u001b[38;5;132;01m%0.2f\u001b[39;00m\u001b[38;5;124m)\u001b[39m\u001b[38;5;124m'\u001b[39m \u001b[38;5;241m%\u001b[39m roc_auc)\n",
      "\u001b[1;31mNameError\u001b[0m: name 'stacked_pred' is not defined"
     ]
    },
    {
     "data": {
      "image/png": "[encoded data removed]",
      "text/plain": [
       "<Figure size 1500x1500 with 1 Axes>"
      ]
     },
     "metadata": {},
     "output_type": "display_data"
    }
   ],
   "source": [
    "fig, ax = plt.subplots(1, 1, figsize=(15, 15))\n",
    "\n",
    "fpr, tpr, _ = roc_curve(y_test, stacked_pred)\n",
    "    \n",
    "roc_auc = auc(fpr, tpr)\n",
    "\n",
    "ax.plot(fpr, tpr, lw=4, label='ROC curve (AUC = %0.2f)' % roc_auc)\n",
    "ax.plot([0, 1], [0, 1], color='red', lw=2, linestyle='--')\n",
    "ax.set_xlim([0.0, 1.0])\n",
    "ax.set_ylim([0.0, 1.05])\n",
    "ax.set_xlabel('False Positive Rate', fontsize=12, weight='bold')  \n",
    "ax.set_ylabel('True Positive Rate', fontsize=12, weight='bold')   \n",
    "ax.set_title(f'ROC of Voting',fontsize=20, weight='bold')  \n",
    "ax.legend(loc=\"lower right\", prop={'size': 12, 'weight': 'bold'}) \n",
    "plt.show()"
   ]
  },
  {
   "cell_type": "code",
   "execution_count": 24,
   "id": "ffe10617",
   "metadata": {},
   "outputs": [],
   "source": [
    "def check_result(prediction):\n",
    "    prediction = (prediction > 0.2).astype(int)\n",
    "    if isinstance(prediction, (np.ndarray, pd.Series)):\n",
    "        prediction = prediction.item()  # Hoặc sử dụng prediction[0] hoặc prediction.iloc[0]\n",
    "    if prediction==1:\n",
    "        return \"Y\"\n",
    "    else:\n",
    "        return \"N\""
   ]
  },
  {
   "cell_type": "code",
   "execution_count": 25,
   "id": "8e3eefa4",
   "metadata": {},
   "outputs": [
    {
     "name": "stdout",
     "output_type": "stream",
     "text": [
      "160/160 [==============================] - 0s 761us/step\n"
     ]
    },
    {
     "ename": "AxisError",
     "evalue": "axis 1 is out of bounds for array of dimension 1",
     "output_type": "error",
     "traceback": [
      "\u001b[1;31m---------------------------------------------------------------------------\u001b[0m",
      "\u001b[1;31mAxisError\u001b[0m                                 Traceback (most recent call last)",
      "Cell \u001b[1;32mIn[25], line 5\u001b[0m\n\u001b[0;32m      3\u001b[0m \u001b[38;5;28;01mfor\u001b[39;00m indx \u001b[38;5;129;01min\u001b[39;00m \u001b[38;5;28mrange\u001b[39m(\u001b[38;5;28mlen\u001b[39m(x_test)):\n\u001b[0;32m      4\u001b[0m     y_predict \u001b[38;5;241m=\u001b[39m stacked_model\u001b[38;5;241m.\u001b[39mpredict(stacked_input)\n\u001b[1;32m----> 5\u001b[0m     stacked_pred_labels \u001b[38;5;241m=\u001b[39m \u001b[43my_predict\u001b[49m\u001b[38;5;241;43m.\u001b[39;49m\u001b[43margmax\u001b[49m\u001b[43m(\u001b[49m\u001b[43maxis\u001b[49m\u001b[38;5;241;43m=\u001b[39;49m\u001b[38;5;241;43m1\u001b[39;49m\u001b[43m)\u001b[49m\n\u001b[0;32m      7\u001b[0m     \u001b[38;5;66;03m#print(y_predict[0][0])\u001b[39;00m\n\u001b[0;32m      8\u001b[0m     Y_check \u001b[38;5;241m=\u001b[39m check_result(y_test\u001b[38;5;241m.\u001b[39miloc[indx])\n",
      "\u001b[1;31mAxisError\u001b[0m: axis 1 is out of bounds for array of dimension 1"
     ]
    }
   ],
   "source": [
    "# solandung=0\n",
    "# hopdonggianlan=0\n",
    "# for indx in range(len(x_test)):\n",
    "#     y_predict = stacked_model.predict(stacked_input)\n",
    "#     stacked_pred_labels = y_predict.argmax(axis=1)\n",
    "\n",
    "#     #print(y_predict[0][0])\n",
    "#     Y_check = check_result(y_test.iloc[indx])\n",
    "#     print('True:', Y_check)\n",
    "#     print('Predicted:', check_result(stacked_pred_labels[indx]))\n",
    "#     print(\"----------------------------\")\n",
    "#     if Y_check==check_result(stacked_pred_labels[indx]):\n",
    "#         solandung+=1\n",
    "#         if Y_check=='Y':\n",
    "#             hopdonggianlan+=1\n",
    "    "
   ]
  },
  {
   "cell_type": "code",
   "execution_count": null,
   "id": "a3a65590",
   "metadata": {},
   "outputs": [
    {
     "name": "stdout",
     "output_type": "stream",
     "text": [
      "Số lần dự đoán đúng: 275 chiếm khoảng 83.33333333333334% tổng lần dự đoán\n",
      "Số hợp đồng gian lận trong lần kiểm tra: 75 chiếm khoảng 85.22727272727273% so với thực tế\n"
     ]
    }
   ],
   "source": [
    "print(f\"Số lần dự đoán đúng: {solandung} chiếm khoảng {(solandung/len(x_test))*100}% tổng lần dự đoán\")\n",
    "print(f\"Số hợp đồng gian lận trong lần kiểm tra: {hopdonggianlan} chiếm khoảng {(hopdonggianlan/len(y_test[y_test['fraud_reported']==1]))*100}% so với thực tế\")\n"
   ]
  },
  {
   "cell_type": "code",
   "execution_count": null,
   "id": "c31643d6",
   "metadata": {},
   "outputs": [],
   "source": []
  },
  {
   "cell_type": "code",
   "execution_count": null,
   "id": "33e3467b",
   "metadata": {},
   "outputs": [],
   "source": []
  }
 ],
 "metadata": {
  "kernelspec": {
   "display_name": "Python 3",
   "language": "python",
   "name": "python3"
  },
  "language_info": {
   "codemirror_mode": {
    "name": "ipython",
    "version": 3
   },
   "file_extension": ".py",
   "mimetype": "text/x-python",
   "name": "python",
   "nbconvert_exporter": "python",
   "pygments_lexer": "ipython3",
   "version": "3.8.19"
  }
 },
 "nbformat": 4,
 "nbformat_minor": 5
}
