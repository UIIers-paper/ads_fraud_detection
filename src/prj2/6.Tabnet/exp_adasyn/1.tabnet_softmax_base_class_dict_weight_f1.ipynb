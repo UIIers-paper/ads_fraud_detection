{
 "cells": [
  {
   "cell_type": "code",
   "execution_count": 1,
   "id": "c1dd1c5b",
   "metadata": {},
   "outputs": [
    {
     "name": "stdout",
     "output_type": "stream",
     "text": [
      "c:\\Users\\Admin\\Data\\ads_fraud_detection\n",
      "c:/Users/Admin/Data/ads_fraud_detection\n"
     ]
    },
    {
     "data": {
      "text/html": [
       "        <script type=\"text/javascript\">\n",
       "        window.PlotlyConfig = {MathJaxConfig: 'local'};\n",
       "        if (window.MathJax && window.MathJax.Hub && window.MathJax.Hub.Config) {window.MathJax.Hub.Config({SVG: {font: \"STIX-Web\"}});}\n",
       "        if (typeof require !== 'undefined') {\n",
       "        require.undef(\"plotly\");\n",
       "        requirejs.config({\n",
       "            paths: {\n",
       "                'plotly': ['https://cdn.plot.ly/plotly-2.35.0.min']\n",
       "            }\n",
       "        });\n",
       "        require(['plotly'], function(Plotly) {\n",
       "            window._Plotly = Plotly;\n",
       "        });\n",
       "        }\n",
       "        </script>\n",
       "        "
      ]
     },
     "metadata": {},
     "output_type": "display_data"
    },
    {
     "data": {
      "text/html": [
       "        <script type=\"text/javascript\">\n",
       "        window.PlotlyConfig = {MathJaxConfig: 'local'};\n",
       "        if (window.MathJax && window.MathJax.Hub && window.MathJax.Hub.Config) {window.MathJax.Hub.Config({SVG: {font: \"STIX-Web\"}});}\n",
       "        if (typeof require !== 'undefined') {\n",
       "        require.undef(\"plotly\");\n",
       "        requirejs.config({\n",
       "            paths: {\n",
       "                'plotly': ['https://cdn.plot.ly/plotly-2.35.0.min']\n",
       "            }\n",
       "        });\n",
       "        require(['plotly'], function(Plotly) {\n",
       "            window._Plotly = Plotly;\n",
       "        });\n",
       "        }\n",
       "        </script>\n",
       "        "
      ]
     },
     "metadata": {},
     "output_type": "display_data"
    }
   ],
   "source": [
    "import sys,os\n",
    "__script_path=os.path.abspath(globals().get('__file__','.'))\n",
    "__script_dir = os.path.dirname(__script_path)\n",
    "root_dir = os.path.abspath(f'{__script_dir}/../../..')\n",
    "print(root_dir)\n",
    "for lib in [root_dir][::-1]:\n",
    "    if lib in sys.path:\n",
    "        sys.path.remove(lib)\n",
    "    sys.path.insert(0,lib)\n",
    "from config.config import *\n",
    "from libs.common import *"
   ]
  },
  {
   "cell_type": "code",
   "execution_count": 2,
   "id": "622aee0d",
   "metadata": {},
   "outputs": [],
   "source": [
    "save_dir=f\"{exps_dir}/exp2/exp_smote\"\n",
    "if os.path.exists(save_dir) == False: \n",
    "  os.makedirs(save_dir, exist_ok=True)\n",
    "\n",
    "\n",
    "\n",
    "test_size=0.33\n",
    "seed=42"
   ]
  },
  {
   "cell_type": "code",
   "execution_count": 3,
   "id": "ee0c5839",
   "metadata": {},
   "outputs": [],
   "source": [
    "# feature_selection=dict(np.load(f'{save_dir}/feature_model_selection.npz',allow_pickle=True))['feature_model_selection']\n",
    "# feature_selection = {key: value for key, value in feature_selection.item().items()}\n",
    "# feature_selection"
   ]
  },
  {
   "cell_type": "markdown",
   "id": "79d162d6",
   "metadata": {},
   "source": [
    "* kiểm tra và tạo các thư mục (nếu chưa có)\n",
    "* tập test 33%"
   ]
  },
  {
   "cell_type": "markdown",
   "id": "5cf7e092",
   "metadata": {},
   "source": [
    "# 5. Xây dựng và đánh giá mô hình học sâu Neutual Network"
   ]
  },
  {
   "cell_type": "code",
   "execution_count": 4,
   "id": "d84bdb3c",
   "metadata": {},
   "outputs": [],
   "source": [
    "# bg_model=joblib.load(f'{save_dir}/bg_model.joblib')\n",
    "# rf_model=joblib.load(f'{save_dir}/rf_model.joblib')\n",
    "# svm_model=joblib.load(f'{save_dir}/svm_model.joblib')"
   ]
  },
  {
   "cell_type": "code",
   "execution_count": 5,
   "id": "2e81211d",
   "metadata": {},
   "outputs": [
    {
     "data": {
      "text/plain": [
       "{0: 0.5317035512094699, 1: 8.385551948051948}"
      ]
     },
     "execution_count": 5,
     "metadata": {},
     "output_type": "execute_result"
    }
   ],
   "source": [
    "x_train=pd.read_excel(f'{save_dir}/x_train.xlsx')\n",
    "y_train=pd.read_excel(f'{save_dir}/y_train.xlsx')\n",
    "x_test=pd.read_excel(f'{save_dir}/x_test.xlsx')\n",
    "y_test=pd.read_excel(f'{save_dir}/y_test.xlsx')\n",
    "class_weights_dict=dict(np.load(f'{save_dir}/class_weights_dict.npz',allow_pickle=True))['class_weights_dict']\n",
    "class_weights_dict = {key: value for key, value in class_weights_dict.item().items()}\n",
    "class_weights_dict"
   ]
  },
  {
   "cell_type": "code",
   "execution_count": 6,
   "id": "9dd43638",
   "metadata": {},
   "outputs": [
    {
     "name": "stdout",
     "output_type": "stream",
     "text": [
      "(5089, 2) (19430, 2)\n"
     ]
    }
   ],
   "source": [
    "\n",
    "\n",
    "# Dữ liệu label đã được mã hóa\n",
    "def oneHot(arr):\n",
    "    labels = np.array(arr)\n",
    "    encoder = OneHotEncoder(sparse=False)\n",
    "    \n",
    "    labels_reshaped = labels.reshape(-1, 1)\n",
    "    \n",
    "    encoder.fit(labels_reshaped)\n",
    "    \n",
    "    onehot_labels = encoder.transform(labels_reshaped)\n",
    "    # onehot_labels=pd.DataFrame(onehot_labels)\n",
    "    return onehot_labels\n",
    "\n",
    "y_train_onehot=oneHot(y_train)\n",
    "y_test_onehot=oneHot(y_test)\n",
    "print(y_test_onehot.shape,y_train_onehot.shape)\n"
   ]
  },
  {
   "cell_type": "code",
   "execution_count": 7,
   "id": "9cf5d7b4",
   "metadata": {},
   "outputs": [
    {
     "name": "stdout",
     "output_type": "stream",
     "text": [
      "(5089, 2)\n"
     ]
    }
   ],
   "source": [
    "y_test_onehot.reshape(-1, 1)\n",
    "print(y_test_onehot.shape)"
   ]
  },
  {
   "cell_type": "code",
   "execution_count": 8,
   "id": "6dda6290",
   "metadata": {},
   "outputs": [
    {
     "data": {
      "text/plain": [
       "(5089, 34)"
      ]
     },
     "execution_count": 8,
     "metadata": {},
     "output_type": "execute_result"
    }
   ],
   "source": [
    "x_test.shape"
   ]
  },
  {
   "cell_type": "code",
   "execution_count": 9,
   "id": "f1c3ac7a",
   "metadata": {},
   "outputs": [
    {
     "data": {
      "text/plain": [
       "(19430, 34)"
      ]
     },
     "execution_count": 9,
     "metadata": {},
     "output_type": "execute_result"
    }
   ],
   "source": [
    "x_train.shape"
   ]
  },
  {
   "cell_type": "code",
   "execution_count": 10,
   "id": "848e48fb",
   "metadata": {},
   "outputs": [],
   "source": [
    "def f1_score(y_true, y_pred):\n",
    "    \"\"\"\n",
    "    Macro F1 score metric.\n",
    "    \"\"\"\n",
    "    y_pred = K.round(y_pred)    \n",
    "    true_positives = K.sum(K.round(K.clip(y_true * y_pred, 0, 1)), axis=0)\n",
    "    false_positives = K.sum(K.round(K.clip(y_pred - y_true, 0, 1)), axis=0)\n",
    "    false_negatives = K.sum(K.round(K.clip(y_true - y_pred, 0, 1)), axis=0)    \n",
    "    precision = true_positives / (true_positives + false_positives + K.epsilon())\n",
    "    recall = true_positives / (true_positives + false_negatives + K.epsilon())    \n",
    "    f1_scores = 2 * (precision * recall) / (precision + recall + K.epsilon())    \n",
    "    macro_f1_score = K.mean(f1_scores)\n",
    "    \n",
    "    return macro_f1_score"
   ]
  },
  {
   "cell_type": "code",
   "execution_count": 11,
   "id": "01f5fcdf",
   "metadata": {},
   "outputs": [
    {
     "name": "stdout",
     "output_type": "stream",
     "text": [
      "34\n"
     ]
    }
   ],
   "source": [
    "print(x_train.shape[1])"
   ]
  },
  {
   "cell_type": "markdown",
   "id": "cb6de984",
   "metadata": {},
   "source": [
    "#### * Xây dựng model:"
   ]
  },
  {
   "cell_type": "markdown",
   "id": "5ec895de",
   "metadata": {},
   "source": [
    "#### * Xây dựng Stacked_model:"
   ]
  },
  {
   "cell_type": "code",
   "execution_count": 12,
   "id": "071a8a46",
   "metadata": {},
   "outputs": [],
   "source": [
    "def f1_loss(y_true, y_pred):\n",
    "    y_true = tf.cast(y_true, tf.float32)\n",
    "    y_pred = tf.cast(y_pred, tf.float32)\n",
    "    \n",
    "    # Calculate true positives, predicted positives, and possible positives for each class\n",
    "    tp = tf.reduce_sum(y_true * y_pred, axis=0)\n",
    "    predicted_positives = tf.reduce_sum(y_pred, axis=0)\n",
    "    possible_positives = tf.reduce_sum(y_true, axis=0)\n",
    "    \n",
    "    # Calculate precision and recall for each class\n",
    "    precision = tp / (predicted_positives + tf.keras.backend.epsilon())\n",
    "    recall = tp / (possible_positives + tf.keras.backend.epsilon())\n",
    "    \n",
    "    # Calculate F1 score for each class\n",
    "    f1 = 2 * (precision * recall) / (precision + recall + tf.keras.backend.epsilon())\n",
    "    \n",
    "    # Calculate the macro F1 score\n",
    "    f1_macro = tf.reduce_mean(f1)\n",
    "    \n",
    "    # Return the F1 loss\n",
    "    return 1 - f1_macro"
   ]
  },
  {
   "cell_type": "code",
   "execution_count": 13,
   "id": "4a9ecb16",
   "metadata": {},
   "outputs": [],
   "source": [
    "def focal_loss(y_true, y_pred, alpha=0.25, gamma=2.0):\n",
    "    y_pred = tf.clip_by_value(y_pred, 1e-7, 1 - 1e-7)\n",
    "    pt = tf.where(tf.equal(y_true, 1), y_pred, 1 - y_pred)\n",
    "    loss = -tf.reduce_mean(alpha * tf.pow(1.0 - pt, gamma) * tf.math.log(pt))\n",
    "    return loss\n"
   ]
  },
  {
   "cell_type": "code",
   "execution_count": 14,
   "id": "14004dd7",
   "metadata": {},
   "outputs": [
    {
     "name": "stderr",
     "output_type": "stream",
     "text": [
      "WARNING:absl:`lr` is deprecated in Keras optimizer, please use `learning_rate` or use the legacy optimizer, e.g.,tf.keras.optimizers.legacy.Adam.\n"
     ]
    }
   ],
   "source": [
    "\n",
    "\n",
    "learning_rate=0.0001\n",
    "tabnet_params = {\n",
    "    \"decision_dim\": 16,\n",
    "    \"attention_dim\": 16,\n",
    "    \"n_steps\": 3,\n",
    "    \"n_shared_glus\": 2,\n",
    "    \"n_dependent_glus\": 2,\n",
    "    \"relaxation_factor\": 1.3,\n",
    "    \"epsilon\": 1e-15,\n",
    "    \"momentum\": 0.98,\n",
    "    \"mask_type\": \"softmax\", # can be 'sparsemax' or 'softmax'\n",
    "    \"lambda_sparse\": 1e-3, \n",
    "    \"virtual_batch_splits\": 8 #number of splits for ghost batch normalization, ideally should evenly divide the batch_size\n",
    "}\n",
    "\n",
    "\n",
    "\n",
    "### Classification\n",
    "model = TabNetClassifier(n_classes = 2, out_activation = 'softmax', **tabnet_params)\n",
    "# model = TabNetClassifier(n_classes = 2, out_activation = 'softmax', \n",
    "#     kernel_regularizer=l2(0.01), **tabnet_params)\n",
    "# model.compile(loss = 'categorical_crossentropy', optimizer = )\n",
    "# model.fit(x_train, y_train, epochs = 100, batch_size = 1024)\n",
    "# model.compile(optimizer=tf.keras.optimizers.Adam(learning_rate), loss='categorical_crossentropy', metrics=['accuracy',f1_score])\n",
    "model.compile(optimizer=Adam(lr=learning_rate), loss=f1_loss, metrics=['accuracy',f1_score])\n",
    "# model.compile(optimizer=Adam(lr=learning_rate), loss=focal_loss, metrics=['accuracy',f1_score])\n",
    "# model.compile(optimizer=Adam(lr=learning_rate), loss=dice_coef_9cat_loss, metrics=['accuracy',,f1_score])\n",
    "early_stopping = EarlyStopping(monitor='val_loss',\n",
    "    min_delta=0.00005,\n",
    "    patience=60,\n",
    "    verbose=1,\n",
    "    restore_best_weights=True,\n",
    ")\n",
    "\n",
    "model_checkpoint = ModelCheckpoint('best_model', monitor='val_loss', save_best_only=True, save_format='tf')\n",
    "\n",
    "\n",
    "lr_scheduler = ReduceLROnPlateau(\n",
    "    monitor='val_loss',\n",
    "    factor=0.5,\n",
    "    patience=20,\n",
    "    min_lr=0.000001,\n",
    "    verbose=1,\n",
    ")\n"
   ]
  },
  {
   "cell_type": "code",
   "execution_count": 15,
   "id": "b53234af",
   "metadata": {},
   "outputs": [
    {
     "data": {
      "text/plain": [
       "array([[1., 0.],\n",
       "       [1., 0.],\n",
       "       [1., 0.],\n",
       "       ...,\n",
       "       [0., 1.],\n",
       "       [0., 1.],\n",
       "       [0., 1.]])"
      ]
     },
     "execution_count": 15,
     "metadata": {},
     "output_type": "execute_result"
    }
   ],
   "source": [
    "y_train_onehot"
   ]
  },
  {
   "cell_type": "code",
   "execution_count": 16,
   "id": "ec8b8320",
   "metadata": {},
   "outputs": [
    {
     "data": {
      "text/plain": [
       "{0: 0.5317035512094699, 1: 8.385551948051948}"
      ]
     },
     "execution_count": 16,
     "metadata": {},
     "output_type": "execute_result"
    }
   ],
   "source": [
    "class_weights_dict"
   ]
  },
  {
   "cell_type": "code",
   "execution_count": 17,
   "id": "567bba7a",
   "metadata": {},
   "outputs": [
    {
     "name": "stdout",
     "output_type": "stream",
     "text": [
      "Epoch 1/1200\n",
      "304/304 [==============================] - 95s 29ms/step - loss: 1.2022 - accuracy: 0.7581 - f1_score: 0.7560 - val_loss: 0.4827 - val_accuracy: 0.7471 - val_f1_score: 0.5198 - lr: 0.0010\n",
      "Epoch 2/1200\n",
      "304/304 [==============================] - 7s 22ms/step - loss: 0.8341 - accuracy: 0.8225 - f1_score: 0.8209 - val_loss: 0.4670 - val_accuracy: 0.7781 - val_f1_score: 0.5389 - lr: 0.0010\n",
      "Epoch 3/1200\n",
      "304/304 [==============================] - 7s 23ms/step - loss: 0.7654 - accuracy: 0.8335 - f1_score: 0.8317 - val_loss: 0.4667 - val_accuracy: 0.7789 - val_f1_score: 0.5364 - lr: 0.0010\n",
      "Epoch 4/1200\n",
      "304/304 [==============================] - 7s 23ms/step - loss: 0.7219 - accuracy: 0.8434 - f1_score: 0.8422 - val_loss: 0.4656 - val_accuracy: 0.7793 - val_f1_score: 0.5336 - lr: 0.0010\n",
      "Epoch 5/1200\n",
      "304/304 [==============================] - 7s 23ms/step - loss: 0.7060 - accuracy: 0.8469 - f1_score: 0.8457 - val_loss: 0.4587 - val_accuracy: 0.8169 - val_f1_score: 0.5430 - lr: 0.0010\n",
      "Epoch 6/1200\n",
      "304/304 [==============================] - 7s 24ms/step - loss: 0.6845 - accuracy: 0.8504 - f1_score: 0.8492 - val_loss: 0.4622 - val_accuracy: 0.7958 - val_f1_score: 0.5399 - lr: 0.0010\n",
      "Epoch 7/1200\n",
      "304/304 [==============================] - 7s 23ms/step - loss: 0.6798 - accuracy: 0.8513 - f1_score: 0.8495 - val_loss: 0.4613 - val_accuracy: 0.7917 - val_f1_score: 0.5390 - lr: 0.0010\n",
      "Epoch 8/1200\n",
      "304/304 [==============================] - 7s 24ms/step - loss: 0.6434 - accuracy: 0.8595 - f1_score: 0.8581 - val_loss: 0.4664 - val_accuracy: 0.7868 - val_f1_score: 0.5353 - lr: 0.0010\n",
      "Epoch 9/1200\n",
      "304/304 [==============================] - 7s 24ms/step - loss: 0.6512 - accuracy: 0.8577 - f1_score: 0.8560 - val_loss: 0.4619 - val_accuracy: 0.8002 - val_f1_score: 0.5423 - lr: 0.0010\n",
      "Epoch 10/1200\n",
      "304/304 [==============================] - 7s 24ms/step - loss: 0.6326 - accuracy: 0.8613 - f1_score: 0.8601 - val_loss: 0.4643 - val_accuracy: 0.8143 - val_f1_score: 0.5382 - lr: 0.0010\n",
      "Epoch 11/1200\n",
      "304/304 [==============================] - 7s 24ms/step - loss: 0.6274 - accuracy: 0.8618 - f1_score: 0.8603 - val_loss: 0.4642 - val_accuracy: 0.7978 - val_f1_score: 0.5392 - lr: 0.0010\n",
      "Epoch 12/1200\n",
      "304/304 [==============================] - 7s 24ms/step - loss: 0.6094 - accuracy: 0.8668 - f1_score: 0.8654 - val_loss: 0.4593 - val_accuracy: 0.8167 - val_f1_score: 0.5423 - lr: 0.0010\n",
      "Epoch 13/1200\n",
      "304/304 [==============================] - 8s 25ms/step - loss: 0.6053 - accuracy: 0.8678 - f1_score: 0.8663 - val_loss: 0.4590 - val_accuracy: 0.8198 - val_f1_score: 0.5449 - lr: 0.0010\n",
      "Epoch 14/1200\n",
      "304/304 [==============================] - 8s 25ms/step - loss: 0.5917 - accuracy: 0.8709 - f1_score: 0.8695 - val_loss: 0.4574 - val_accuracy: 0.8143 - val_f1_score: 0.5477 - lr: 0.0010\n",
      "Epoch 15/1200\n",
      "304/304 [==============================] - 8s 25ms/step - loss: 0.5893 - accuracy: 0.8709 - f1_score: 0.8694 - val_loss: 0.4559 - val_accuracy: 0.8218 - val_f1_score: 0.5455 - lr: 0.0010\n",
      "Epoch 16/1200\n",
      "304/304 [==============================] - 8s 25ms/step - loss: 0.5848 - accuracy: 0.8723 - f1_score: 0.8710 - val_loss: 0.4543 - val_accuracy: 0.8365 - val_f1_score: 0.5482 - lr: 0.0010\n",
      "Epoch 17/1200\n",
      "304/304 [==============================] - 8s 26ms/step - loss: 0.5805 - accuracy: 0.8726 - f1_score: 0.8713 - val_loss: 0.4485 - val_accuracy: 0.8457 - val_f1_score: 0.5566 - lr: 0.0010\n",
      "Epoch 18/1200\n",
      "304/304 [==============================] - 8s 26ms/step - loss: 0.5749 - accuracy: 0.8727 - f1_score: 0.8715 - val_loss: 0.4511 - val_accuracy: 0.8373 - val_f1_score: 0.5511 - lr: 0.0010\n",
      "Epoch 19/1200\n",
      "304/304 [==============================] - 8s 26ms/step - loss: 0.5528 - accuracy: 0.8785 - f1_score: 0.8775 - val_loss: 0.4557 - val_accuracy: 0.8245 - val_f1_score: 0.5456 - lr: 0.0010\n",
      "Epoch 20/1200\n",
      "304/304 [==============================] - 8s 26ms/step - loss: 0.5701 - accuracy: 0.8742 - f1_score: 0.8728 - val_loss: 0.4503 - val_accuracy: 0.8436 - val_f1_score: 0.5525 - lr: 0.0010\n",
      "Epoch 21/1200\n",
      "304/304 [==============================] - 8s 26ms/step - loss: 0.5532 - accuracy: 0.8783 - f1_score: 0.8766 - val_loss: 0.4536 - val_accuracy: 0.8499 - val_f1_score: 0.5512 - lr: 0.0010\n",
      "Epoch 22/1200\n",
      "304/304 [==============================] - 8s 26ms/step - loss: 0.5135 - accuracy: 0.8884 - f1_score: 0.8870 - val_loss: 0.4387 - val_accuracy: 0.8479 - val_f1_score: 0.5645 - lr: 0.0010\n",
      "Epoch 23/1200\n",
      "304/304 [==============================] - 8s 26ms/step - loss: 0.5270 - accuracy: 0.8840 - f1_score: 0.8829 - val_loss: 0.4443 - val_accuracy: 0.8422 - val_f1_score: 0.5577 - lr: 0.0010\n",
      "Epoch 24/1200\n",
      "304/304 [==============================] - 8s 26ms/step - loss: 0.5116 - accuracy: 0.8879 - f1_score: 0.8867 - val_loss: 0.4492 - val_accuracy: 0.8473 - val_f1_score: 0.5537 - lr: 0.0010\n",
      "Epoch 25/1200\n",
      "304/304 [==============================] - 8s 26ms/step - loss: 0.5039 - accuracy: 0.8886 - f1_score: 0.8875 - val_loss: 0.4460 - val_accuracy: 0.8670 - val_f1_score: 0.5593 - lr: 0.0010\n",
      "Epoch 26/1200\n",
      "304/304 [==============================] - 8s 27ms/step - loss: 0.4971 - accuracy: 0.8909 - f1_score: 0.8898 - val_loss: 0.4472 - val_accuracy: 0.8593 - val_f1_score: 0.5543 - lr: 0.0010\n",
      "Epoch 27/1200\n",
      "304/304 [==============================] - 8s 27ms/step - loss: 0.4919 - accuracy: 0.8922 - f1_score: 0.8913 - val_loss: 0.4455 - val_accuracy: 0.8562 - val_f1_score: 0.5575 - lr: 0.0010\n",
      "Epoch 28/1200\n",
      "304/304 [==============================] - 8s 26ms/step - loss: 0.4961 - accuracy: 0.8911 - f1_score: 0.8900 - val_loss: 0.4507 - val_accuracy: 0.8530 - val_f1_score: 0.5554 - lr: 0.0010\n",
      "Epoch 29/1200\n",
      "304/304 [==============================] - 8s 27ms/step - loss: 0.4789 - accuracy: 0.8958 - f1_score: 0.8947 - val_loss: 0.4476 - val_accuracy: 0.8567 - val_f1_score: 0.5550 - lr: 0.0010\n",
      "Epoch 30/1200\n",
      "304/304 [==============================] - 8s 26ms/step - loss: 0.4813 - accuracy: 0.8951 - f1_score: 0.8939 - val_loss: 0.4517 - val_accuracy: 0.8446 - val_f1_score: 0.5538 - lr: 0.0010\n",
      "Epoch 31/1200\n",
      "304/304 [==============================] - 8s 26ms/step - loss: 0.4725 - accuracy: 0.8975 - f1_score: 0.8965 - val_loss: 0.4543 - val_accuracy: 0.8652 - val_f1_score: 0.5498 - lr: 0.0010\n",
      "Epoch 32/1200\n",
      "304/304 [==============================] - 8s 26ms/step - loss: 0.4669 - accuracy: 0.8975 - f1_score: 0.8965 - val_loss: 0.4483 - val_accuracy: 0.8595 - val_f1_score: 0.5519 - lr: 0.0010\n",
      "Epoch 33/1200\n",
      "304/304 [==============================] - 8s 27ms/step - loss: 0.4672 - accuracy: 0.8983 - f1_score: 0.8971 - val_loss: 0.4538 - val_accuracy: 0.8507 - val_f1_score: 0.5487 - lr: 0.0010\n",
      "Epoch 34/1200\n",
      "304/304 [==============================] - 8s 26ms/step - loss: 0.4796 - accuracy: 0.8948 - f1_score: 0.8936 - val_loss: 0.4508 - val_accuracy: 0.8475 - val_f1_score: 0.5517 - lr: 0.0010\n",
      "Epoch 35/1200\n",
      "304/304 [==============================] - 8s 27ms/step - loss: 0.4562 - accuracy: 0.9002 - f1_score: 0.8990 - val_loss: 0.4573 - val_accuracy: 0.8711 - val_f1_score: 0.5451 - lr: 0.0010\n",
      "Epoch 36/1200\n",
      "304/304 [==============================] - 8s 28ms/step - loss: 0.4598 - accuracy: 0.8998 - f1_score: 0.8985 - val_loss: 0.4502 - val_accuracy: 0.8656 - val_f1_score: 0.5542 - lr: 0.0010\n",
      "Epoch 37/1200\n",
      "304/304 [==============================] - 9s 28ms/step - loss: 0.4696 - accuracy: 0.8974 - f1_score: 0.8961 - val_loss: 0.4497 - val_accuracy: 0.8680 - val_f1_score: 0.5538 - lr: 0.0010\n",
      "Epoch 38/1200\n",
      "304/304 [==============================] - 9s 30ms/step - loss: 0.4673 - accuracy: 0.8980 - f1_score: 0.8969 - val_loss: 0.4513 - val_accuracy: 0.8681 - val_f1_score: 0.5513 - lr: 0.0010\n",
      "Epoch 39/1200\n",
      "304/304 [==============================] - 10s 31ms/step - loss: 0.4509 - accuracy: 0.9016 - f1_score: 0.9003 - val_loss: 0.4385 - val_accuracy: 0.8774 - val_f1_score: 0.5647 - lr: 0.0010\n",
      "Epoch 40/1200\n",
      "304/304 [==============================] - 9s 30ms/step - loss: 0.4500 - accuracy: 0.9014 - f1_score: 0.9002 - val_loss: 0.4453 - val_accuracy: 0.8666 - val_f1_score: 0.5602 - lr: 0.0010\n",
      "Epoch 41/1200\n",
      "304/304 [==============================] - 9s 31ms/step - loss: 0.4506 - accuracy: 0.9019 - f1_score: 0.9009 - val_loss: 0.4538 - val_accuracy: 0.8648 - val_f1_score: 0.5498 - lr: 0.0010\n",
      "Epoch 42/1200\n",
      "304/304 [==============================] - 10s 32ms/step - loss: 0.4405 - accuracy: 0.9033 - f1_score: 0.9023 - val_loss: 0.4467 - val_accuracy: 0.8776 - val_f1_score: 0.5578 - lr: 0.0010\n",
      "Epoch 43/1200\n",
      "304/304 [==============================] - 9s 31ms/step - loss: 0.4420 - accuracy: 0.9032 - f1_score: 0.9023 - val_loss: 0.4558 - val_accuracy: 0.8640 - val_f1_score: 0.5446 - lr: 0.0010\n",
      "Epoch 44/1200\n",
      "304/304 [==============================] - 9s 31ms/step - loss: 0.4429 - accuracy: 0.9028 - f1_score: 0.9014 - val_loss: 0.4414 - val_accuracy: 0.8705 - val_f1_score: 0.5639 - lr: 0.0010\n",
      "Epoch 45/1200\n",
      "304/304 [==============================] - 9s 30ms/step - loss: 0.4386 - accuracy: 0.9047 - f1_score: 0.9036 - val_loss: 0.4457 - val_accuracy: 0.8697 - val_f1_score: 0.5575 - lr: 0.0010\n",
      "Epoch 46/1200\n",
      "304/304 [==============================] - 9s 30ms/step - loss: 0.4158 - accuracy: 0.9095 - f1_score: 0.9086 - val_loss: 0.4464 - val_accuracy: 0.8719 - val_f1_score: 0.5581 - lr: 0.0010\n",
      "Epoch 47/1200\n",
      "304/304 [==============================] - 9s 29ms/step - loss: 0.4398 - accuracy: 0.9045 - f1_score: 0.9033 - val_loss: 0.4578 - val_accuracy: 0.8819 - val_f1_score: 0.5456 - lr: 0.0010\n",
      "Epoch 48/1200\n",
      "304/304 [==============================] - 9s 30ms/step - loss: 0.4313 - accuracy: 0.9055 - f1_score: 0.9043 - val_loss: 0.4546 - val_accuracy: 0.8711 - val_f1_score: 0.5503 - lr: 0.0010\n",
      "Epoch 49/1200\n",
      "304/304 [==============================] - 9s 31ms/step - loss: 0.4265 - accuracy: 0.9065 - f1_score: 0.9054 - val_loss: 0.4423 - val_accuracy: 0.8801 - val_f1_score: 0.5608 - lr: 0.0010\n",
      "Epoch 50/1200\n",
      "304/304 [==============================] - 10s 33ms/step - loss: 0.4151 - accuracy: 0.9095 - f1_score: 0.9083 - val_loss: 0.4525 - val_accuracy: 0.8782 - val_f1_score: 0.5527 - lr: 0.0010\n",
      "Epoch 51/1200\n",
      "304/304 [==============================] - 10s 32ms/step - loss: 0.4162 - accuracy: 0.9094 - f1_score: 0.9083 - val_loss: 0.4520 - val_accuracy: 0.8699 - val_f1_score: 0.5514 - lr: 0.0010\n",
      "Epoch 52/1200\n",
      "304/304 [==============================] - 10s 32ms/step - loss: 0.4301 - accuracy: 0.9059 - f1_score: 0.9049 - val_loss: 0.4593 - val_accuracy: 0.8843 - val_f1_score: 0.5392 - lr: 0.0010\n",
      "Epoch 53/1200\n",
      "304/304 [==============================] - 10s 32ms/step - loss: 0.4309 - accuracy: 0.9048 - f1_score: 0.9036 - val_loss: 0.4567 - val_accuracy: 0.8723 - val_f1_score: 0.5460 - lr: 0.0010\n",
      "Epoch 54/1200\n",
      "304/304 [==============================] - 10s 33ms/step - loss: 0.4314 - accuracy: 0.9063 - f1_score: 0.9050 - val_loss: 0.4487 - val_accuracy: 0.8823 - val_f1_score: 0.5541 - lr: 0.0010\n",
      "Epoch 55/1200\n",
      "304/304 [==============================] - 10s 33ms/step - loss: 0.4114 - accuracy: 0.9094 - f1_score: 0.9084 - val_loss: 0.4540 - val_accuracy: 0.8719 - val_f1_score: 0.5494 - lr: 0.0010\n",
      "Epoch 56/1200\n",
      "304/304 [==============================] - 10s 33ms/step - loss: 0.3977 - accuracy: 0.9128 - f1_score: 0.9117 - val_loss: 0.4582 - val_accuracy: 0.8817 - val_f1_score: 0.5431 - lr: 0.0010\n",
      "Epoch 57/1200\n",
      "304/304 [==============================] - 9s 31ms/step - loss: 0.3968 - accuracy: 0.9125 - f1_score: 0.9115 - val_loss: 0.4564 - val_accuracy: 0.8554 - val_f1_score: 0.5469 - lr: 0.0010\n",
      "Epoch 58/1200\n",
      "304/304 [==============================] - 10s 34ms/step - loss: 0.4065 - accuracy: 0.9111 - f1_score: 0.9100 - val_loss: 0.4534 - val_accuracy: 0.8843 - val_f1_score: 0.5504 - lr: 0.0010\n",
      "Epoch 59/1200\n",
      "304/304 [==============================] - ETA: 0s - loss: 0.4123 - accuracy: 0.9097 - f1_score: 0.9086\n",
      "Epoch 59: ReduceLROnPlateau reducing learning rate to 0.0005000000237487257.\n",
      "304/304 [==============================] - 11s 35ms/step - loss: 0.4123 - accuracy: 0.9097 - f1_score: 0.9086 - val_loss: 0.4640 - val_accuracy: 0.8654 - val_f1_score: 0.5384 - lr: 0.0010\n",
      "Epoch 60/1200\n",
      "304/304 [==============================] - 10s 33ms/step - loss: 0.3978 - accuracy: 0.9131 - f1_score: 0.9120 - val_loss: 0.4579 - val_accuracy: 0.8786 - val_f1_score: 0.5472 - lr: 5.0000e-04\n",
      "Epoch 61/1200\n",
      "304/304 [==============================] - 10s 33ms/step - loss: 0.3912 - accuracy: 0.9146 - f1_score: 0.9135 - val_loss: 0.4568 - val_accuracy: 0.8786 - val_f1_score: 0.5484 - lr: 5.0000e-04\n",
      "Epoch 62/1200\n",
      "304/304 [==============================] - 10s 34ms/step - loss: 0.3803 - accuracy: 0.9170 - f1_score: 0.9159 - val_loss: 0.4595 - val_accuracy: 0.8813 - val_f1_score: 0.5435 - lr: 5.0000e-04\n",
      "Epoch 63/1200\n",
      "304/304 [==============================] - 10s 33ms/step - loss: 0.3860 - accuracy: 0.9159 - f1_score: 0.9150 - val_loss: 0.4526 - val_accuracy: 0.8764 - val_f1_score: 0.5505 - lr: 5.0000e-04\n",
      "Epoch 64/1200\n",
      "304/304 [==============================] - 10s 33ms/step - loss: 0.3788 - accuracy: 0.9174 - f1_score: 0.9163 - val_loss: 0.4533 - val_accuracy: 0.8850 - val_f1_score: 0.5509 - lr: 5.0000e-04\n",
      "Epoch 65/1200\n",
      "304/304 [==============================] - 10s 34ms/step - loss: 0.3796 - accuracy: 0.9168 - f1_score: 0.9161 - val_loss: 0.4578 - val_accuracy: 0.8839 - val_f1_score: 0.5462 - lr: 5.0000e-04\n",
      "Epoch 66/1200\n",
      "304/304 [==============================] - 11s 37ms/step - loss: 0.3820 - accuracy: 0.9167 - f1_score: 0.9157 - val_loss: 0.4507 - val_accuracy: 0.8831 - val_f1_score: 0.5521 - lr: 5.0000e-04\n",
      "Epoch 67/1200\n",
      "304/304 [==============================] - 10s 33ms/step - loss: 0.3853 - accuracy: 0.9153 - f1_score: 0.9144 - val_loss: 0.4504 - val_accuracy: 0.8872 - val_f1_score: 0.5551 - lr: 5.0000e-04\n",
      "Epoch 68/1200\n",
      "304/304 [==============================] - 10s 34ms/step - loss: 0.3629 - accuracy: 0.9213 - f1_score: 0.9203 - val_loss: 0.4556 - val_accuracy: 0.8770 - val_f1_score: 0.5461 - lr: 5.0000e-04\n",
      "Epoch 69/1200\n",
      "304/304 [==============================] - 10s 34ms/step - loss: 0.3641 - accuracy: 0.9205 - f1_score: 0.9195 - val_loss: 0.4550 - val_accuracy: 0.8833 - val_f1_score: 0.5495 - lr: 5.0000e-04\n",
      "Epoch 70/1200\n",
      "304/304 [==============================] - 10s 33ms/step - loss: 0.3700 - accuracy: 0.9201 - f1_score: 0.9191 - val_loss: 0.4667 - val_accuracy: 0.8933 - val_f1_score: 0.5378 - lr: 5.0000e-04\n",
      "Epoch 71/1200\n",
      "304/304 [==============================] - 11s 35ms/step - loss: 0.3609 - accuracy: 0.9219 - f1_score: 0.9209 - val_loss: 0.4586 - val_accuracy: 0.8852 - val_f1_score: 0.5455 - lr: 5.0000e-04\n",
      "Epoch 72/1200\n",
      "304/304 [==============================] - 10s 32ms/step - loss: 0.3580 - accuracy: 0.9216 - f1_score: 0.9206 - val_loss: 0.4539 - val_accuracy: 0.8748 - val_f1_score: 0.5490 - lr: 5.0000e-04\n",
      "Epoch 73/1200\n",
      "304/304 [==============================] - 10s 33ms/step - loss: 0.3639 - accuracy: 0.9204 - f1_score: 0.9192 - val_loss: 0.4578 - val_accuracy: 0.8839 - val_f1_score: 0.5482 - lr: 5.0000e-04\n",
      "Epoch 74/1200\n",
      "304/304 [==============================] - 10s 34ms/step - loss: 0.3632 - accuracy: 0.9216 - f1_score: 0.9206 - val_loss: 0.4579 - val_accuracy: 0.8813 - val_f1_score: 0.5445 - lr: 5.0000e-04\n",
      "Epoch 75/1200\n",
      "304/304 [==============================] - 9s 31ms/step - loss: 0.3594 - accuracy: 0.9206 - f1_score: 0.9197 - val_loss: 0.4578 - val_accuracy: 0.8959 - val_f1_score: 0.5475 - lr: 5.0000e-04\n",
      "Epoch 76/1200\n",
      "304/304 [==============================] - 11s 35ms/step - loss: 0.3593 - accuracy: 0.9213 - f1_score: 0.9204 - val_loss: 0.4512 - val_accuracy: 0.8750 - val_f1_score: 0.5526 - lr: 5.0000e-04\n",
      "Epoch 77/1200\n",
      "304/304 [==============================] - 10s 34ms/step - loss: 0.3571 - accuracy: 0.9227 - f1_score: 0.9219 - val_loss: 0.4571 - val_accuracy: 0.8795 - val_f1_score: 0.5460 - lr: 5.0000e-04\n",
      "Epoch 78/1200\n",
      "304/304 [==============================] - 11s 35ms/step - loss: 0.3504 - accuracy: 0.9238 - f1_score: 0.9228 - val_loss: 0.4502 - val_accuracy: 0.8837 - val_f1_score: 0.5534 - lr: 5.0000e-04\n",
      "Epoch 79/1200\n",
      "304/304 [==============================] - ETA: 0s - loss: 0.3653 - accuracy: 0.9214 - f1_score: 0.9203\n",
      "Epoch 79: ReduceLROnPlateau reducing learning rate to 0.0002500000118743628.\n",
      "304/304 [==============================] - 10s 33ms/step - loss: 0.3653 - accuracy: 0.9214 - f1_score: 0.9203 - val_loss: 0.4479 - val_accuracy: 0.8831 - val_f1_score: 0.5563 - lr: 5.0000e-04\n",
      "Epoch 80/1200\n",
      "304/304 [==============================] - 10s 34ms/step - loss: 0.3550 - accuracy: 0.9223 - f1_score: 0.9211 - val_loss: 0.4539 - val_accuracy: 0.8833 - val_f1_score: 0.5501 - lr: 2.5000e-04\n",
      "Epoch 81/1200\n",
      "304/304 [==============================] - 11s 35ms/step - loss: 0.3497 - accuracy: 0.9240 - f1_score: 0.9231 - val_loss: 0.4518 - val_accuracy: 0.8833 - val_f1_score: 0.5514 - lr: 2.5000e-04\n",
      "Epoch 82/1200\n",
      "304/304 [==============================] - 11s 36ms/step - loss: 0.3379 - accuracy: 0.9258 - f1_score: 0.9249 - val_loss: 0.4523 - val_accuracy: 0.8766 - val_f1_score: 0.5515 - lr: 2.5000e-04\n",
      "Epoch 83/1200\n",
      "304/304 [==============================] - 10s 34ms/step - loss: 0.3449 - accuracy: 0.9244 - f1_score: 0.9236 - val_loss: 0.4557 - val_accuracy: 0.8907 - val_f1_score: 0.5484 - lr: 2.5000e-04\n",
      "Epoch 84/1200\n",
      "304/304 [==============================] - 10s 33ms/step - loss: 0.3427 - accuracy: 0.9253 - f1_score: 0.9243 - val_loss: 0.4558 - val_accuracy: 0.8884 - val_f1_score: 0.5479 - lr: 2.5000e-04\n",
      "Epoch 85/1200\n",
      "304/304 [==============================] - 12s 39ms/step - loss: 0.3360 - accuracy: 0.9278 - f1_score: 0.9267 - val_loss: 0.4534 - val_accuracy: 0.8833 - val_f1_score: 0.5481 - lr: 2.5000e-04\n",
      "Epoch 86/1200\n",
      "304/304 [==============================] - 11s 38ms/step - loss: 0.3362 - accuracy: 0.9266 - f1_score: 0.9255 - val_loss: 0.4517 - val_accuracy: 0.8872 - val_f1_score: 0.5490 - lr: 2.5000e-04\n",
      "Epoch 87/1200\n",
      "304/304 [==============================] - 11s 37ms/step - loss: 0.3433 - accuracy: 0.9250 - f1_score: 0.9240 - val_loss: 0.4479 - val_accuracy: 0.8829 - val_f1_score: 0.5571 - lr: 2.5000e-04\n",
      "Epoch 88/1200\n",
      "304/304 [==============================] - 11s 37ms/step - loss: 0.3464 - accuracy: 0.9237 - f1_score: 0.9227 - val_loss: 0.4519 - val_accuracy: 0.8860 - val_f1_score: 0.5481 - lr: 2.5000e-04\n",
      "Epoch 89/1200\n",
      "304/304 [==============================] - 12s 41ms/step - loss: 0.3259 - accuracy: 0.9291 - f1_score: 0.9283 - val_loss: 0.4536 - val_accuracy: 0.8961 - val_f1_score: 0.5492 - lr: 2.5000e-04\n",
      "Epoch 90/1200\n",
      "304/304 [==============================] - 12s 38ms/step - loss: 0.3411 - accuracy: 0.9266 - f1_score: 0.9256 - val_loss: 0.4524 - val_accuracy: 0.8913 - val_f1_score: 0.5533 - lr: 2.5000e-04\n",
      "Epoch 91/1200\n",
      "304/304 [==============================] - 11s 35ms/step - loss: 0.3384 - accuracy: 0.9266 - f1_score: 0.9255 - val_loss: 0.4541 - val_accuracy: 0.8947 - val_f1_score: 0.5489 - lr: 2.5000e-04\n",
      "Epoch 92/1200\n",
      "304/304 [==============================] - 11s 37ms/step - loss: 0.3347 - accuracy: 0.9277 - f1_score: 0.9269 - val_loss: 0.4525 - val_accuracy: 0.8831 - val_f1_score: 0.5509 - lr: 2.5000e-04\n",
      "Epoch 93/1200\n",
      "304/304 [==============================] - 12s 39ms/step - loss: 0.3476 - accuracy: 0.9232 - f1_score: 0.9222 - val_loss: 0.4486 - val_accuracy: 0.8923 - val_f1_score: 0.5554 - lr: 2.5000e-04\n",
      "Epoch 94/1200\n",
      "304/304 [==============================] - 11s 35ms/step - loss: 0.3259 - accuracy: 0.9292 - f1_score: 0.9282 - val_loss: 0.4509 - val_accuracy: 0.8839 - val_f1_score: 0.5504 - lr: 2.5000e-04\n",
      "Epoch 95/1200\n",
      "304/304 [==============================] - 11s 36ms/step - loss: 0.3343 - accuracy: 0.9270 - f1_score: 0.9260 - val_loss: 0.4508 - val_accuracy: 0.8882 - val_f1_score: 0.5549 - lr: 2.5000e-04\n",
      "Epoch 96/1200\n",
      "304/304 [==============================] - 10s 34ms/step - loss: 0.3307 - accuracy: 0.9282 - f1_score: 0.9270 - val_loss: 0.4581 - val_accuracy: 0.8964 - val_f1_score: 0.5425 - lr: 2.5000e-04\n",
      "Epoch 97/1200\n",
      "304/304 [==============================] - 11s 36ms/step - loss: 0.3360 - accuracy: 0.9260 - f1_score: 0.9251 - val_loss: 0.4525 - val_accuracy: 0.8860 - val_f1_score: 0.5537 - lr: 2.5000e-04\n",
      "Epoch 98/1200\n",
      "304/304 [==============================] - 11s 36ms/step - loss: 0.3382 - accuracy: 0.9257 - f1_score: 0.9245 - val_loss: 0.4529 - val_accuracy: 0.8902 - val_f1_score: 0.5509 - lr: 2.5000e-04\n",
      "Epoch 99/1200\n",
      "304/304 [==============================] - ETA: 0s - loss: 0.3358 - accuracy: 0.9274 - f1_score: 0.9263Restoring model weights from the end of the best epoch: 39.\n",
      "\n",
      "Epoch 99: ReduceLROnPlateau reducing learning rate to 0.0001250000059371814.\n",
      "304/304 [==============================] - 12s 38ms/step - loss: 0.3358 - accuracy: 0.9274 - f1_score: 0.9263 - val_loss: 0.4507 - val_accuracy: 0.8939 - val_f1_score: 0.5514 - lr: 2.5000e-04\n",
      "Epoch 99: early stopping\n"
     ]
    },
    {
     "data": {
      "text/plain": [
       "<keras.src.callbacks.History at 0x180d38e55b0>"
      ]
     },
     "execution_count": 17,
     "metadata": {},
     "output_type": "execute_result"
    }
   ],
   "source": [
    "model.fit(x=x_train,y=y_train_onehot,\n",
    "          validation_data=(x_test,y_test_onehot),\n",
    "          batch_size=64,epochs= 1200,class_weight=class_weights_dict, callbacks=[early_stopping,lr_scheduler])\n"
   ]
  },
  {
   "cell_type": "code",
   "execution_count": 18,
   "id": "dff75e76",
   "metadata": {},
   "outputs": [
    {
     "name": "stdout",
     "output_type": "stream",
     "text": [
      "Model: \"tab_net_classifier\"\n",
      "_________________________________________________________________\n",
      " Layer (type)                Output Shape              Param #   \n",
      "=================================================================\n",
      " tab_net_encoder (TabNetEnc  multiple                  26880     \n",
      " oder)                                                           \n",
      "                                                                 \n",
      " classifier (Dense)          multiple                  32        \n",
      "                                                                 \n",
      "=================================================================\n",
      "Total params: 26912 (105.12 KB)\n",
      "Trainable params: 24592 (96.06 KB)\n",
      "Non-trainable params: 2320 (9.06 KB)\n",
      "_________________________________________________________________\n"
     ]
    }
   ],
   "source": [
    "model.summary()"
   ]
  },
  {
   "cell_type": "markdown",
   "id": "0b2cb867",
   "metadata": {},
   "source": [
    "#### * Kết quả đánh giá mô hình:"
   ]
  },
  {
   "cell_type": "code",
   "execution_count": 19,
   "id": "07132b7e",
   "metadata": {},
   "outputs": [
    {
     "name": "stdout",
     "output_type": "stream",
     "text": [
      "Model: \"tab_net_classifier\"\n",
      "_________________________________________________________________\n",
      " Layer (type)                Output Shape              Param #   \n",
      "=================================================================\n",
      " tab_net_encoder (TabNetEnc  multiple                  26880     \n",
      " oder)                                                           \n",
      "                                                                 \n",
      " classifier (Dense)          multiple                  32        \n",
      "                                                                 \n",
      "=================================================================\n",
      "Total params: 26912 (105.12 KB)\n",
      "Trainable params: 24592 (96.06 KB)\n",
      "Non-trainable params: 2320 (9.06 KB)\n",
      "_________________________________________________________________\n"
     ]
    }
   ],
   "source": [
    "model.summary()"
   ]
  },
  {
   "cell_type": "code",
   "execution_count": 20,
   "id": "875136d2",
   "metadata": {},
   "outputs": [],
   "source": [
    "history=model.history.history\n",
    "fig,axes=plt.subplots(1,2, figsize=(15,8))\n",
    "axes[0].plot(pd.DataFrame(history['val_accuracy']))\n",
    "axes[0].set_title('Training Process')\n",
    "axes[1].plot(pd.DataFrame(history))\n",
    "axes[1].set_title('Training Process')\n",
    "plt.show()\n",
    "plt.savefig('train.png')"
   ]
  },
  {
   "cell_type": "code",
   "execution_count": 21,
   "id": "b5a05cd8",
   "metadata": {},
   "outputs": [
    {
     "name": "stdout",
     "output_type": "stream",
     "text": [
      "160/160 [==============================] - 1s 2ms/step\n"
     ]
    },
    {
     "data": {
      "text/plain": [
       "0.8687364904696404"
      ]
     },
     "execution_count": 21,
     "metadata": {},
     "output_type": "execute_result"
    }
   ],
   "source": [
    "y_test_labels = np.argmax(y_test_onehot, axis=1)\n",
    "predictions = model.predict(x_test)\n",
    "predictions = np.argmax(predictions, axis=1)\n",
    "accuracy = accuracy_score(y_test_labels, predictions)\n",
    "accuracy\n"
   ]
  },
  {
   "cell_type": "code",
   "execution_count": 22,
   "id": "7f1d8560",
   "metadata": {},
   "outputs": [
    {
     "name": "stdout",
     "output_type": "stream",
     "text": [
      "Accuracy: 0.8687364904696404\n",
      "Classification Report:\n",
      "              precision    recall  f1-score   support\n",
      "\n",
      "           0       0.95      0.91      0.93      4782\n",
      "           1       0.17      0.30      0.21       307\n",
      "\n",
      "    accuracy                           0.87      5089\n",
      "   macro avg       0.56      0.60      0.57      5089\n",
      "weighted avg       0.91      0.87      0.89      5089\n",
      "\n",
      "Confusion Matrix:\n",
      "[[4330  452]\n",
      " [ 216   91]]\n"
     ]
    }
   ],
   "source": [
    "from sklearn.metrics import accuracy_score, classification_report, confusion_matrix\n",
    "import numpy as np\n",
    "\n",
    "y_test_labels = np.argmax(y_test_onehot, axis=1)\n",
    "\n",
    "accuracy = accuracy_score(y_test_labels, predictions)\n",
    "print(\"Accuracy:\", accuracy)\n",
    "print(\"Classification Report:\")\n",
    "print(classification_report(y_test_labels, predictions))\n",
    "\n",
    "print(\"Confusion Matrix:\")\n",
    "print(confusion_matrix(y_test_labels, predictions))\n"
   ]
  },
  {
   "cell_type": "code",
   "execution_count": 23,
   "id": "6f218b86",
   "metadata": {},
   "outputs": [
    {
     "data": {
      "image/png": "[encoded data removed]",
      "text/plain": [
       "<Figure size 800x600 with 2 Axes>"
      ]
     },
     "metadata": {},
     "output_type": "display_data"
    }
   ],
   "source": [
    "# Dự đoán\n",
    "\n",
    "\n",
    "# Tính ma trận nhầm lẫn\n",
    "cm = confusion_matrix(y_test, predictions,labels=[1,0])\n",
    "plt.figure(figsize=(8, 6))\n",
    "sns.heatmap(cm, annot=True, fmt='g', cmap='Blues', xticklabels=[1,0], yticklabels=[1,0])\n",
    "plt.title('Confusion Matrix')\n",
    "plt.xlabel('Predicted')\n",
    "plt.ylabel('Actual')\n",
    "plt.show()"
   ]
  },
  {
   "cell_type": "code",
   "execution_count": 24,
   "id": "e744c8a6",
   "metadata": {},
   "outputs": [
    {
     "data": {
      "image/png": "[encoded data removed]",
      "text/plain": [
       "<Figure size 1500x1500 with 1 Axes>"
      ]
     },
     "metadata": {},
     "output_type": "display_data"
    }
   ],
   "source": [
    "fig, ax = plt.subplots(1, 1, figsize=(15, 15))\n",
    "\n",
    "fpr, tpr, _ = roc_curve(y_test, predictions)\n",
    "    \n",
    "roc_auc = auc(fpr, tpr)\n",
    "\n",
    "ax.plot(fpr, tpr, lw=4, color='blue', label='ROC curve (AUC = %0.2f)' % roc_auc)\n",
    "ax.plot([0, 1], [0, 1], color='red', lw=2, linestyle='--')\n",
    "ax.set_xlim([0.0, 1.0])\n",
    "ax.set_ylim([0.0, 1.05])\n",
    "ax.set_xlabel('False Positive Rate', fontsize=12, weight='bold')  \n",
    "ax.set_ylabel('True Positive Rate', fontsize=12, weight='bold')   \n",
    "ax.set_title(f'ROC of Voting',fontsize=20, weight='bold')  \n",
    "ax.legend(loc=\"lower right\", prop={'size': 12, 'weight': 'bold'}) \n",
    "plt.show()"
   ]
  },
  {
   "cell_type": "code",
   "execution_count": 25,
   "id": "ffe10617",
   "metadata": {},
   "outputs": [],
   "source": [
    "def check_result(prediction):\n",
    "    prediction = (prediction > 0.2).astype(int)\n",
    "    if isinstance(prediction, (np.ndarray, pd.Series)):\n",
    "        prediction = prediction.item()  # Hoặc sử dụng prediction[0] hoặc prediction.iloc[0]\n",
    "    if prediction==1:\n",
    "        return \"Y\"\n",
    "    else:\n",
    "        return \"N\""
   ]
  },
  {
   "cell_type": "code",
   "execution_count": 26,
   "id": "8e3eefa4",
   "metadata": {},
   "outputs": [],
   "source": [
    "# solandung=0\n",
    "# hopdonggianlan=0\n",
    "# for indx in range(len(x_test)):\n",
    "#     y_predict = stacked_model.predict(stacked_input)\n",
    "#     stacked_pred_labels = y_predict.argmax(axis=1)\n",
    "\n",
    "#     #print(y_predict[0][0])\n",
    "#     Y_check = check_result(y_test.iloc[indx])\n",
    "#     print('True:', Y_check)\n",
    "#     print('Predicted:', check_result(stacked_pred_labels[indx]))\n",
    "#     print(\"----------------------------\")\n",
    "#     if Y_check==check_result(stacked_pred_labels[indx]):\n",
    "#         solandung+=1\n",
    "#         if Y_check=='Y':\n",
    "#             hopdonggianlan+=1\n",
    "    "
   ]
  },
  {
   "cell_type": "code",
   "execution_count": 27,
   "id": "a3a65590",
   "metadata": {},
   "outputs": [
    {
     "ename": "NameError",
     "evalue": "name 'solandung' is not defined",
     "output_type": "error",
     "traceback": [
      "\u001b[1;31m---------------------------------------------------------------------------\u001b[0m",
      "\u001b[1;31mNameError\u001b[0m                                 Traceback (most recent call last)",
      "Cell \u001b[1;32mIn[27], line 1\u001b[0m\n\u001b[1;32m----> 1\u001b[0m \u001b[38;5;28mprint\u001b[39m(\u001b[38;5;124mf\u001b[39m\u001b[38;5;124m\"\u001b[39m\u001b[38;5;124mSố lần dự đoán đúng: \u001b[39m\u001b[38;5;132;01m{\u001b[39;00msolandung\u001b[38;5;132;01m}\u001b[39;00m\u001b[38;5;124m chiếm khoảng \u001b[39m\u001b[38;5;132;01m{\u001b[39;00m(solandung\u001b[38;5;241m/\u001b[39m\u001b[38;5;28mlen\u001b[39m(x_test))\u001b[38;5;241m*\u001b[39m\u001b[38;5;241m100\u001b[39m\u001b[38;5;132;01m}\u001b[39;00m\u001b[38;5;124m% tổng lần dự đoán\u001b[39m\u001b[38;5;124m\"\u001b[39m)\n\u001b[0;32m      2\u001b[0m \u001b[38;5;28mprint\u001b[39m(\u001b[38;5;124mf\u001b[39m\u001b[38;5;124m\"\u001b[39m\u001b[38;5;124mSố hợp đồng gian lận trong lần kiểm tra: \u001b[39m\u001b[38;5;132;01m{\u001b[39;00mhopdonggianlan\u001b[38;5;132;01m}\u001b[39;00m\u001b[38;5;124m chiếm khoảng \u001b[39m\u001b[38;5;132;01m{\u001b[39;00m(hopdonggianlan\u001b[38;5;241m/\u001b[39m\u001b[38;5;28mlen\u001b[39m(y_test[y_test[\u001b[38;5;124m'\u001b[39m\u001b[38;5;124mfraud_reported\u001b[39m\u001b[38;5;124m'\u001b[39m]\u001b[38;5;241m==\u001b[39m\u001b[38;5;241m1\u001b[39m]))\u001b[38;5;241m*\u001b[39m\u001b[38;5;241m100\u001b[39m\u001b[38;5;132;01m}\u001b[39;00m\u001b[38;5;124m% so với thực tế\u001b[39m\u001b[38;5;124m\"\u001b[39m)\n",
      "\u001b[1;31mNameError\u001b[0m: name 'solandung' is not defined"
     ]
    }
   ],
   "source": [
    "print(f\"Số lần dự đoán đúng: {solandung} chiếm khoảng {(solandung/len(x_test))*100}% tổng lần dự đoán\")\n",
    "print(f\"Số hợp đồng gian lận trong lần kiểm tra: {hopdonggianlan} chiếm khoảng {(hopdonggianlan/len(y_test[y_test['fraud_reported']==1]))*100}% so với thực tế\")\n"
   ]
  },
  {
   "cell_type": "code",
   "execution_count": null,
   "id": "c31643d6",
   "metadata": {},
   "outputs": [],
   "source": []
  },
  {
   "cell_type": "code",
   "execution_count": null,
   "id": "33e3467b",
   "metadata": {},
   "outputs": [],
   "source": []
  }
 ],
 "metadata": {
  "kernelspec": {
   "display_name": "Python 3",
   "language": "python",
   "name": "python3"
  },
  "language_info": {
   "codemirror_mode": {
    "name": "ipython",
    "version": 3
   },
   "file_extension": ".py",
   "mimetype": "text/x-python",
   "name": "python",
   "nbconvert_exporter": "python",
   "pygments_lexer": "ipython3",
   "version": "3.8.19"
  }
 },
 "nbformat": 4,
 "nbformat_minor": 5
}
